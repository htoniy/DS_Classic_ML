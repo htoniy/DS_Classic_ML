{
 "cells": [
  {
   "cell_type": "markdown",
   "id": "08ae3777",
   "metadata": {},
   "source": [
    "# Описание проекта "
   ]
  },
  {
   "cell_type": "markdown",
   "id": "133df7ee",
   "metadata": {},
   "source": [
    "В проекте разработана модель, которая способна определить рыночную стоимость автомобиля на основании данных о технических характеристиках, комплектации и ценах других автомобилей на 2016 год.\n",
    "\n",
    "В проекте проанализирован ряд ML моделей. Среди них выбрана лучшая по критериям: \n",
    "\n",
    "- качество предсказания;\n",
    "- время обучения модели;\n",
    "- время предсказания модели.\n"
   ]
  },
  {
   "cell_type": "markdown",
   "id": "dcde7b6d",
   "metadata": {},
   "source": [
    "![](https://autovista24.autovistagroup.com/wp-content/uploads/sites/5/2023/02/GettyImages-1335040295-1024x695.jpg)"
   ]
  },
  {
   "cell_type": "markdown",
   "id": "e46e24bb",
   "metadata": {},
   "source": [
    "# Импорт данных "
   ]
  },
  {
   "cell_type": "code",
   "execution_count": 61,
   "id": "f5212ea9",
   "metadata": {},
   "outputs": [],
   "source": [
    "import pandas as pd\n",
    "import numpy as np\n",
    "import matplotlib.pyplot as plt\n",
    "\n",
    "from sklearn.model_selection import train_test_split\n",
    "from sklearn.metrics import mean_squared_error\n",
    "from sklearn.linear_model import LinearRegression\n",
    "from sklearn.svm import LinearSVR\n",
    "from sklearn.ensemble import VotingRegressor\n",
    "from sklearn.datasets import make_regression\n",
    "from sklearn.preprocessing import StandardScaler, OrdinalEncoder, OneHotEncoder\n",
    "from sklearn.compose import ColumnTransformer\n",
    "from sklearn.model_selection import GridSearchCV\n",
    "\n",
    "import catboost as cb\n",
    "\n",
    "#conda install -c conda-forge lightgbm\n",
    "import lightgbm as lgb\n",
    "\n",
    "# pip install phik\n",
    "import phik\n",
    "from phik.report import plot_correlation_matrix\n",
    "from phik import report\n",
    "\n",
    "import matplotlib as mpl\n",
    "import matplotlib.pyplot as plt\n",
    "\n",
    "import warnings\n",
    "warnings.filterwarnings(\"ignore\")\n",
    "\n",
    "import sys\n",
    "import time\n",
    "import warnings\n",
    "warnings.filterwarnings(\"ignore\", category=UserWarning, module=\"lightgbm\")\n"
   ]
  },
  {
   "cell_type": "code",
   "execution_count": 2,
   "id": "a9f29da8",
   "metadata": {
    "scrolled": true
   },
   "outputs": [],
   "source": [
    "cars = pd.read_csv('./autos.csv')"
   ]
  },
  {
   "cell_type": "markdown",
   "id": "df4fec16",
   "metadata": {},
   "source": [
    "**Описание данных:**\n",
    "\n",
    "Признаки:\n",
    "\n",
    "- DateCrawled — дата скачивания анкеты из базы\n",
    "- VehicleType — тип автомобильного кузова\n",
    "- RegistrationYear — год регистрации автомобиля\n",
    "- Gearbox — тип коробки передач\n",
    "- Power — мощность (л. с.)\n",
    "- Model — модель автомобиля\n",
    "- Kilometer — пробег (км)\n",
    "- RegistrationMonth — месяц регистрации автомобиля\n",
    "- FuelType — тип топлива\n",
    "- Brand — марка автомобиля\n",
    "- Repaired — была машина в ремонте или нет\n",
    "- DateCreated — дата создания анкеты\n",
    "- NumberOfPictures — количество фотографий автомобиля\n",
    "- PostalCode — почтовый индекс владельца анкеты (пользователя)\n",
    "- LastSeen — дата последней активности пользователя\n",
    "\n",
    "Целевой признак:\n",
    "- Price — цена (евро)"
   ]
  },
  {
   "cell_type": "markdown",
   "id": "d970bca1",
   "metadata": {},
   "source": [
    "# Разведочный анализ"
   ]
  },
  {
   "cell_type": "markdown",
   "id": "a747e9b7",
   "metadata": {},
   "source": [
    "Общий анализ данных."
   ]
  },
  {
   "cell_type": "code",
   "execution_count": 3,
   "id": "2e1f90a0",
   "metadata": {
    "scrolled": true
   },
   "outputs": [
    {
     "name": "stdout",
     "output_type": "stream",
     "text": [
      "<class 'pandas.core.frame.DataFrame'>\n",
      "RangeIndex: 354369 entries, 0 to 354368\n",
      "Data columns (total 16 columns):\n",
      " #   Column             Non-Null Count   Dtype \n",
      "---  ------             --------------   ----- \n",
      " 0   DateCrawled        354369 non-null  object\n",
      " 1   Price              354369 non-null  int64 \n",
      " 2   VehicleType        316879 non-null  object\n",
      " 3   RegistrationYear   354369 non-null  int64 \n",
      " 4   Gearbox            334536 non-null  object\n",
      " 5   Power              354369 non-null  int64 \n",
      " 6   Model              334664 non-null  object\n",
      " 7   Kilometer          354369 non-null  int64 \n",
      " 8   RegistrationMonth  354369 non-null  int64 \n",
      " 9   FuelType           321474 non-null  object\n",
      " 10  Brand              354369 non-null  object\n",
      " 11  Repaired           283215 non-null  object\n",
      " 12  DateCreated        354369 non-null  object\n",
      " 13  NumberOfPictures   354369 non-null  int64 \n",
      " 14  PostalCode         354369 non-null  int64 \n",
      " 15  LastSeen           354369 non-null  object\n",
      "dtypes: int64(7), object(9)\n",
      "memory usage: 43.3+ MB\n"
     ]
    }
   ],
   "source": [
    "cars.info()"
   ]
  },
  {
   "cell_type": "markdown",
   "id": "3ee31f72",
   "metadata": {},
   "source": [
    "Определение данных с пропусками."
   ]
  },
  {
   "cell_type": "code",
   "execution_count": 4,
   "id": "888fe1fe",
   "metadata": {},
   "outputs": [
    {
     "name": "stdout",
     "output_type": "stream",
     "text": [
      "Пропуски наблюдаются в следующих признаках: ['VehicleType', 'Gearbox', 'Model', 'FuelType', 'Repaired']\n"
     ]
    }
   ],
   "source": [
    "# Список признаков с пропусками.\n",
    "features_isna = []\n",
    "for i in cars.columns:\n",
    "    if cars[i].isna().sum() > 0:\n",
    "        features_isna.append(i)\n",
    "    \n",
    "print(f'Пропуски наблюдаются в следующих признаках: {features_isna}')"
   ]
  },
  {
   "cell_type": "code",
   "execution_count": 5,
   "id": "8303837f",
   "metadata": {
    "scrolled": false
   },
   "outputs": [
    {
     "name": "stdout",
     "output_type": "stream",
     "text": [
      "Общее количество пропусков: 181077\n",
      "Доля пропусков в данных VehicleType составляет: 21 %\n",
      "Доля пропусков в данных Gearbox составляет: 11 %\n",
      "Доля пропусков в данных Model составляет: 11 %\n",
      "Доля пропусков в данных FuelType составляет: 18 %\n",
      "Доля пропусков в данных Repaired составляет: 39 %\n"
     ]
    }
   ],
   "source": [
    "# Определение количества пропусков.\n",
    "isna_count = 0\n",
    "for i in features_isna:\n",
    "    isna_count += cars[i].isna().sum()\n",
    "print(f'Общее количество пропусков: {isna_count}')\n",
    "\n",
    "# Определение долей пропусков.\n",
    "for i in features_isna:\n",
    "    i_ratio = cars[i].isna().sum() / isna_count\n",
    "    print(f'Доля пропусков в данных {i} составляет: {int(i_ratio.round(2) * 100)} %')"
   ]
  },
  {
   "cell_type": "markdown",
   "id": "6d631cee",
   "metadata": {},
   "source": [
    "**Вывод:**\n",
    "\n",
    "В данных о починке автомобиля содержится большее количесто пропусков. Меньше всего пропусков допущено в данных о моделе и типе коробки передач."
   ]
  },
  {
   "cell_type": "markdown",
   "id": "2bb67700",
   "metadata": {},
   "source": [
    "## VehicleType"
   ]
  },
  {
   "cell_type": "markdown",
   "id": "4ebdc6ef",
   "metadata": {},
   "source": [
    "Анализ уникальных значения параметра."
   ]
  },
  {
   "cell_type": "code",
   "execution_count": 6,
   "id": "84ad65a7",
   "metadata": {
    "scrolled": true
   },
   "outputs": [
    {
     "data": {
      "text/plain": [
       "array([nan, 'coupe', 'suv', 'small', 'sedan', 'convertible', 'bus',\n",
       "       'wagon', 'other'], dtype=object)"
      ]
     },
     "execution_count": 6,
     "metadata": {},
     "output_type": "execute_result"
    }
   ],
   "source": [
    "cars['VehicleType'].unique()"
   ]
  },
  {
   "cell_type": "markdown",
   "id": "0c4d5fd8",
   "metadata": {},
   "source": [
    "Заполнение пропусков nan значением 'no_info'."
   ]
  },
  {
   "cell_type": "code",
   "execution_count": 7,
   "id": "35167a57",
   "metadata": {
    "scrolled": false
   },
   "outputs": [
    {
     "data": {
      "text/plain": [
       "array(['no_info', 'coupe', 'suv', 'small', 'sedan', 'convertible', 'bus',\n",
       "       'wagon', 'other'], dtype=object)"
      ]
     },
     "execution_count": 7,
     "metadata": {},
     "output_type": "execute_result"
    }
   ],
   "source": [
    "cars['VehicleType'] = cars['VehicleType'].fillna('no_info')\n",
    "cars['VehicleType'].unique()"
   ]
  },
  {
   "cell_type": "markdown",
   "id": "601ecaab",
   "metadata": {},
   "source": [
    "**Пропуски заполнены. Анамалии отсутствуют.**"
   ]
  },
  {
   "cell_type": "markdown",
   "id": "4acaa4dc",
   "metadata": {},
   "source": [
    "## Model"
   ]
  },
  {
   "cell_type": "markdown",
   "id": "8b7b5bf3",
   "metadata": {},
   "source": [
    "Анализ уникальных значения параметра."
   ]
  },
  {
   "cell_type": "code",
   "execution_count": 8,
   "id": "2bfb5bd0",
   "metadata": {
    "scrolled": false
   },
   "outputs": [
    {
     "data": {
      "text/plain": [
       "array(['golf', nan, 'grand', 'fabia', '3er', '2_reihe', 'other', 'c_max',\n",
       "       '3_reihe', 'passat', 'navara', 'ka', 'polo', 'twingo', 'a_klasse',\n",
       "       'scirocco', '5er', 'meriva', 'arosa', 'c4', 'civic', 'transporter',\n",
       "       'punto', 'e_klasse', 'clio', 'kadett', 'kangoo', 'corsa', 'one',\n",
       "       'fortwo', '1er', 'b_klasse', 'signum', 'astra', 'a8', 'jetta',\n",
       "       'fiesta', 'c_klasse', 'micra', 'vito', 'sprinter', '156', 'escort',\n",
       "       'forester', 'xc_reihe', 'scenic', 'a4', 'a1', 'insignia', 'combo',\n",
       "       'focus', 'tt', 'a6', 'jazz', 'omega', 'slk', '7er', '80', '147',\n",
       "       '100', 'z_reihe', 'sportage', 'sorento', 'v40', 'ibiza', 'mustang',\n",
       "       'eos', 'touran', 'getz', 'a3', 'almera', 'megane', 'lupo', 'r19',\n",
       "       'zafira', 'caddy', 'mondeo', 'cordoba', 'colt', 'impreza',\n",
       "       'vectra', 'berlingo', 'tiguan', 'i_reihe', 'espace', 'sharan',\n",
       "       '6_reihe', 'panda', 'up', 'seicento', 'ceed', '5_reihe', 'yeti',\n",
       "       'octavia', 'mii', 'rx_reihe', '6er', 'modus', 'fox', 'matiz',\n",
       "       'beetle', 'c1', 'rio', 'touareg', 'logan', 'spider', 'cuore',\n",
       "       's_max', 'a2', 'galaxy', 'c3', 'viano', 's_klasse', '1_reihe',\n",
       "       'avensis', 'roomster', 'sl', 'kaefer', 'santa', 'cooper', 'leon',\n",
       "       '4_reihe', 'a5', '500', 'laguna', 'ptcruiser', 'clk', 'primera',\n",
       "       'x_reihe', 'exeo', '159', 'transit', 'juke', 'qashqai', 'carisma',\n",
       "       'accord', 'corolla', 'lanos', 'phaeton', 'verso', 'swift', 'rav',\n",
       "       'picanto', 'boxster', 'kalos', 'superb', 'stilo', 'alhambra',\n",
       "       'mx_reihe', 'roadster', 'ypsilon', 'cayenne', 'galant', 'justy',\n",
       "       '90', 'sirion', 'crossfire', 'agila', 'duster', 'cr_reihe', 'v50',\n",
       "       'c_reihe', 'v_klasse', 'm_klasse', 'yaris', 'c5', 'aygo', 'cc',\n",
       "       'carnival', 'fusion', '911', 'bora', 'forfour', 'm_reihe', 'cl',\n",
       "       'tigra', '300c', 'spark', 'v70', 'kuga', 'x_type', 'ducato',\n",
       "       's_type', 'x_trail', 'toledo', 'altea', 'voyager', 'calibra',\n",
       "       'bravo', 'antara', 'tucson', 'citigo', 'jimny', 'wrangler',\n",
       "       'lybra', 'q7', 'lancer', 'captiva', 'c2', 'discovery',\n",
       "       'freelander', 'sandero', 'note', '900', 'cherokee', 'clubman',\n",
       "       'samara', 'defender', '601', 'cx_reihe', 'legacy', 'pajero',\n",
       "       'auris', 'niva', 's60', 'nubira', 'vivaro', 'g_klasse', 'lodgy',\n",
       "       '850', 'range_rover', 'q3', 'serie_2', 'glk', 'charade', 'croma',\n",
       "       'outlander', 'doblo', 'musa', 'move', '9000', 'v60', '145', 'aveo',\n",
       "       '200', 'b_max', 'range_rover_sport', 'terios', 'rangerover', 'q5',\n",
       "       'range_rover_evoque', 'materia', 'delta', 'gl', 'kalina', 'amarok',\n",
       "       'elefantino', 'i3', 'kappa', 'serie_3', 'serie_1'], dtype=object)"
      ]
     },
     "execution_count": 8,
     "metadata": {},
     "output_type": "execute_result"
    }
   ],
   "source": [
    "cars['Model'].unique()"
   ]
  },
  {
   "cell_type": "markdown",
   "id": "82ca0c1c",
   "metadata": {},
   "source": [
    "Т.к. в признаках используется значения 'other' для обозначения неизвестных моделей автотранспорта, то заполним все пропуски nan значением 'other'."
   ]
  },
  {
   "cell_type": "code",
   "execution_count": 9,
   "id": "398a9ebf",
   "metadata": {},
   "outputs": [],
   "source": [
    "cars['Model'] = cars['Model'].fillna('no_info')"
   ]
  },
  {
   "cell_type": "markdown",
   "id": "68746887",
   "metadata": {},
   "source": [
    "**Пропуски заполнены. Неадекватные значения отсутствуют.**"
   ]
  },
  {
   "cell_type": "markdown",
   "id": "4d4684b1",
   "metadata": {},
   "source": [
    "## Gearbox "
   ]
  },
  {
   "cell_type": "markdown",
   "id": "03c4841b",
   "metadata": {},
   "source": [
    "В матрице корреляций 𝜙k параметр Gearbox максимально коррелирует с параметром Model. Заполним пропуски в параметре Gearbox наиболее частыми значениями для каждого класса из Model."
   ]
  },
  {
   "cell_type": "code",
   "execution_count": 10,
   "id": "e4f77bca",
   "metadata": {},
   "outputs": [
    {
     "data": {
      "text/plain": [
       "array(['manual', 'auto', nan], dtype=object)"
      ]
     },
     "execution_count": 10,
     "metadata": {},
     "output_type": "execute_result"
    }
   ],
   "source": [
    "cars['Gearbox'].unique()"
   ]
  },
  {
   "cell_type": "code",
   "execution_count": 11,
   "id": "f1d95ba9",
   "metadata": {},
   "outputs": [],
   "source": [
    "model_unique = cars['Model'].unique()\n",
    "# Цикл, заполняющий пропуски в данных. \n",
    "# Для каждой модели авто определяется наиболее распространенный тип трансмисси, которым заполняются пропуски.\n",
    "for i in model_unique:\n",
    "    frequency = cars.loc[cars['Model'] == i].groupby('Gearbox')['Model'].count().reset_index()\n",
    "    frequency = frequency.sort_values(by='Model', ascending=False).reset_index(drop = True)['Gearbox'][0]\n",
    "    cars['Gearbox'] = cars['Gearbox'].fillna(frequency)"
   ]
  },
  {
   "cell_type": "code",
   "execution_count": 12,
   "id": "69e5c9ad",
   "metadata": {},
   "outputs": [
    {
     "data": {
      "text/plain": [
       "array(['manual', 'auto'], dtype=object)"
      ]
     },
     "execution_count": 12,
     "metadata": {},
     "output_type": "execute_result"
    }
   ],
   "source": [
    "cars['Gearbox'].unique()"
   ]
  },
  {
   "cell_type": "markdown",
   "id": "8cc9aeed",
   "metadata": {},
   "source": [
    "**Пропуски заполнены. Неадекватные значения отсутствют.**"
   ]
  },
  {
   "cell_type": "markdown",
   "id": "ba69da60",
   "metadata": {},
   "source": [
    "## FuelType"
   ]
  },
  {
   "cell_type": "markdown",
   "id": "13667acb",
   "metadata": {},
   "source": [
    "В матрице корреляций 𝜙k параметр FuelType максимально коррелирует с параметром Model.Заполнение пропусков в параметре FuelType осуществляется наиболее частыми значениями для каждого класса из Model.\n",
    "\n",
    "Также классы 'petrol' и 'gasoline' объеденены в один ('petrol') т.к. имеют один смысл."
   ]
  },
  {
   "cell_type": "code",
   "execution_count": 13,
   "id": "35ac8866",
   "metadata": {
    "scrolled": true
   },
   "outputs": [
    {
     "data": {
      "text/plain": [
       "array(['petrol', 'gasoline', nan, 'lpg', 'other', 'hybrid', 'cng',\n",
       "       'electric'], dtype=object)"
      ]
     },
     "execution_count": 13,
     "metadata": {},
     "output_type": "execute_result"
    }
   ],
   "source": [
    "cars['FuelType'].unique()"
   ]
  },
  {
   "cell_type": "code",
   "execution_count": 14,
   "id": "81d8a979",
   "metadata": {},
   "outputs": [],
   "source": [
    "# Объединение классов  'petrol' и 'gasoline'.\n",
    "cars['FuelType'] = cars['FuelType'].replace('gasoline', 'petrol')"
   ]
  },
  {
   "cell_type": "code",
   "execution_count": 15,
   "id": "368e6521",
   "metadata": {},
   "outputs": [],
   "source": [
    "# Цикл, заполняющий пропуски в данных. \n",
    "# Для каждой модели авто определяется наиболее распространенный тип топлива, которым заполняются пропуски.\n",
    "for i in model_unique:\n",
    "    frequency = cars.loc[cars['Model'] == i].groupby('FuelType')['Model'].count().reset_index()\n",
    "    frequency = frequency.sort_values(by='Model', ascending=False).reset_index(drop = True)['FuelType'][0]\n",
    "    cars['FuelType'] = cars['FuelType'].fillna(frequency)"
   ]
  },
  {
   "cell_type": "code",
   "execution_count": 16,
   "id": "bee1572d",
   "metadata": {},
   "outputs": [
    {
     "data": {
      "text/plain": [
       "array(['petrol', 'lpg', 'other', 'hybrid', 'cng', 'electric'],\n",
       "      dtype=object)"
      ]
     },
     "execution_count": 16,
     "metadata": {},
     "output_type": "execute_result"
    }
   ],
   "source": [
    "cars['FuelType'].unique()"
   ]
  },
  {
   "cell_type": "markdown",
   "id": "a831aa85",
   "metadata": {},
   "source": [
    "**Пропуски заполнены.**"
   ]
  },
  {
   "cell_type": "markdown",
   "id": "ee9e54b9",
   "metadata": {},
   "source": [
    "## Repaired"
   ]
  },
  {
   "cell_type": "markdown",
   "id": "212a714c",
   "metadata": {},
   "source": [
    "Параметр Repaired не зависит ни от каких параметров в исходном датафрейме. Правильным решение будет заполнить все пропуски датафрейма отметкой 'no_info'."
   ]
  },
  {
   "cell_type": "code",
   "execution_count": 17,
   "id": "46cb3c62",
   "metadata": {
    "scrolled": false
   },
   "outputs": [
    {
     "data": {
      "text/plain": [
       "0         NaN\n",
       "1         yes\n",
       "2         NaN\n",
       "3          no\n",
       "4          no\n",
       "         ... \n",
       "354364    yes\n",
       "354365    NaN\n",
       "354366     no\n",
       "354367     no\n",
       "354368    NaN\n",
       "Name: Repaired, Length: 354369, dtype: object"
      ]
     },
     "execution_count": 17,
     "metadata": {},
     "output_type": "execute_result"
    }
   ],
   "source": [
    "cars['Repaired']"
   ]
  },
  {
   "cell_type": "code",
   "execution_count": 18,
   "id": "0339d6f0",
   "metadata": {},
   "outputs": [],
   "source": [
    "cars['Repaired'] = cars['Repaired'].fillna('no_info')"
   ]
  },
  {
   "cell_type": "markdown",
   "id": "b4c8f8c8",
   "metadata": {},
   "source": [
    "## DateCrawled / LastSeen / DateCreated"
   ]
  },
  {
   "cell_type": "markdown",
   "id": "fa38cb0d",
   "metadata": {},
   "source": [
    "Замена формата даты и времени."
   ]
  },
  {
   "cell_type": "code",
   "execution_count": 19,
   "id": "45778c1c",
   "metadata": {},
   "outputs": [
    {
     "name": "stdout",
     "output_type": "stream",
     "text": [
      "<class 'pandas.core.frame.DataFrame'>\n",
      "RangeIndex: 354369 entries, 0 to 354368\n",
      "Data columns (total 16 columns):\n",
      " #   Column             Non-Null Count   Dtype         \n",
      "---  ------             --------------   -----         \n",
      " 0   DateCrawled        354369 non-null  datetime64[ns]\n",
      " 1   Price              354369 non-null  int64         \n",
      " 2   VehicleType        354369 non-null  object        \n",
      " 3   RegistrationYear   354369 non-null  int64         \n",
      " 4   Gearbox            354369 non-null  object        \n",
      " 5   Power              354369 non-null  int64         \n",
      " 6   Model              354369 non-null  object        \n",
      " 7   Kilometer          354369 non-null  int64         \n",
      " 8   RegistrationMonth  354369 non-null  int64         \n",
      " 9   FuelType           354369 non-null  object        \n",
      " 10  Brand              354369 non-null  object        \n",
      " 11  Repaired           354369 non-null  object        \n",
      " 12  DateCreated        354369 non-null  datetime64[ns]\n",
      " 13  NumberOfPictures   354369 non-null  int64         \n",
      " 14  PostalCode         354369 non-null  int64         \n",
      " 15  LastSeen           354369 non-null  datetime64[ns]\n",
      "dtypes: datetime64[ns](3), int64(7), object(6)\n",
      "memory usage: 43.3+ MB\n"
     ]
    }
   ],
   "source": [
    "cars['DateCrawled'] = pd.to_datetime(cars['DateCrawled'],format='%Y.%m.%d %H:%M:%S').round('D')\n",
    "cars['LastSeen']=pd.to_datetime(cars['LastSeen'],format='%Y.%m.%d %H:%M:%S').round('D')\n",
    "cars['DateCreated']=pd.to_datetime(cars['DateCreated'],format='%Y.%m.%d %H:%M:%S').round('D')\n",
    "cars.info()"
   ]
  },
  {
   "cell_type": "markdown",
   "id": "fe5370ff",
   "metadata": {},
   "source": [
    "## RegistrationYear"
   ]
  },
  {
   "cell_type": "code",
   "execution_count": 20,
   "id": "46892e97",
   "metadata": {
    "scrolled": false
   },
   "outputs": [
    {
     "data": {
      "text/plain": [
       "array([1993, 2011, 2004, 2001, 2008, 1995, 1980, 2014, 1998, 2005, 1910,\n",
       "       2016, 2007, 2009, 2002, 2018, 1997, 1990, 2017, 1981, 2003, 1994,\n",
       "       1991, 1984, 2006, 1999, 2012, 2010, 2000, 1992, 2013, 1996, 1985,\n",
       "       1989, 2015, 1982, 1976, 1983, 1973, 1111, 1969, 1971, 1987, 1986,\n",
       "       1988, 1970, 1965, 1945, 1925, 1974, 1979, 1955, 1978, 1972, 1968,\n",
       "       1977, 1961, 1960, 1966, 1975, 1963, 1964, 5000, 1954, 1958, 1967,\n",
       "       1959, 9999, 1956, 3200, 1000, 1941, 8888, 1500, 2200, 4100, 1962,\n",
       "       1929, 1957, 1940, 3000, 2066, 1949, 2019, 1937, 1951, 1800, 1953,\n",
       "       1234, 8000, 5300, 9000, 2900, 6000, 5900, 5911, 1933, 1400, 1950,\n",
       "       4000, 1948, 1952, 1200, 8500, 1932, 1255, 3700, 3800, 4800, 1942,\n",
       "       7000, 1935, 1936, 6500, 1923, 2290, 2500, 1930, 1001, 9450, 1944,\n",
       "       1943, 1934, 1938, 1688, 2800, 1253, 1928, 1919, 5555, 5600, 1600,\n",
       "       2222, 1039, 9996, 1300, 8455, 1931, 1915, 4500, 1920, 1602, 7800,\n",
       "       9229, 1947, 1927, 7100, 8200, 1946, 7500, 3500])"
      ]
     },
     "execution_count": 20,
     "metadata": {},
     "output_type": "execute_result"
    }
   ],
   "source": [
    "cars['RegistrationYear'].unique()"
   ]
  },
  {
   "cell_type": "code",
   "execution_count": 21,
   "id": "efd57d7e",
   "metadata": {
    "scrolled": true
   },
   "outputs": [
    {
     "data": {
      "text/plain": [
       "<AxesSubplot:xlabel='Price', ylabel='RegistrationYear'>"
      ]
     },
     "execution_count": 21,
     "metadata": {},
     "output_type": "execute_result"
    },
    {
     "data": {
      "image/png": "[encoded data removed]",
      "text/plain": [
       "<Figure size 1440x720 with 1 Axes>"
      ]
     },
     "metadata": {
      "needs_background": "light"
     },
     "output_type": "display_data"
    }
   ],
   "source": [
    "#График распределения стоимостей в зависимости от года.\n",
    "cars.plot(kind = 'scatter', y = 'RegistrationYear', x = 'Price', grid = True, legend=True, figsize = (20,10))"
   ]
  },
  {
   "cell_type": "markdown",
   "id": "3fac2358",
   "metadata": {},
   "source": [
    "Обучающий датасет выгружен на момент 2016 года. Соответственно верхняя граница данного параметра равна 2016.\n",
    "Для определения нижней границы строится график распределения стоимости в зависимости от года."
   ]
  },
  {
   "cell_type": "code",
   "execution_count": 22,
   "id": "282c7296",
   "metadata": {},
   "outputs": [],
   "source": [
    "#Замена годов регистрации превывшающих 2016 год на медианное значение.\n",
    "cars.loc[cars['RegistrationYear'] > 2016, 'RegistrationYear'] = cars['RegistrationYear'].mean()"
   ]
  },
  {
   "cell_type": "markdown",
   "id": "efb2b973",
   "metadata": {},
   "source": [
    "Нижний порого определяется в несколько приближений. \n",
    "1 шаг. Замена данных выходящих за 1 процентиль на медианное значение."
   ]
  },
  {
   "cell_type": "code",
   "execution_count": 23,
   "id": "db155f85",
   "metadata": {
    "scrolled": true
   },
   "outputs": [
    {
     "data": {
      "text/plain": [
       "count    354369.000000\n",
       "mean       2002.401241\n",
       "std          13.663192\n",
       "min        1000.000000\n",
       "25%        1999.000000\n",
       "50%        2003.000000\n",
       "75%        2007.000000\n",
       "max        2016.000000\n",
       "Name: RegistrationYear, dtype: float64"
      ]
     },
     "execution_count": 23,
     "metadata": {},
     "output_type": "execute_result"
    }
   ],
   "source": [
    "# Определение процентилей.\n",
    "cars['RegistrationYear'].describe()"
   ]
  },
  {
   "cell_type": "code",
   "execution_count": 24,
   "id": "2429cf6d",
   "metadata": {},
   "outputs": [],
   "source": [
    "# Замена годов регистрации ниже 1999 года на медианное значение.\n",
    "cars.loc[cars['RegistrationYear'] < 1999, 'RegistrationYear'] = cars['RegistrationYear'].mean()"
   ]
  },
  {
   "cell_type": "code",
   "execution_count": 25,
   "id": "929e1c01",
   "metadata": {
    "scrolled": true
   },
   "outputs": [
    {
     "data": {
      "text/plain": [
       "array([2002, 2011, 2004, 2001, 2008, 2014, 2005, 2016, 2007, 2009, 2003,\n",
       "       2006, 1999, 2012, 2010, 2000, 2013, 2015])"
      ]
     },
     "execution_count": 25,
     "metadata": {},
     "output_type": "execute_result"
    }
   ],
   "source": [
    "cars['RegistrationYear']=cars['RegistrationYear'].astype(int)\n",
    "cars['RegistrationYear'].unique()"
   ]
  },
  {
   "cell_type": "markdown",
   "id": "caeaae3e",
   "metadata": {},
   "source": [
    "**Даты регистрации приведены к адекватному вивду**"
   ]
  },
  {
   "cell_type": "markdown",
   "id": "74a6c019",
   "metadata": {},
   "source": [
    "## RegistrationMonth"
   ]
  },
  {
   "cell_type": "code",
   "execution_count": 26,
   "id": "7405558e",
   "metadata": {
    "scrolled": true
   },
   "outputs": [],
   "source": [
    "cars['RegistrationMonth'].astype('int').unique()\n",
    "cars['RegistrationMonth'] = cars['RegistrationMonth'].astype(int)"
   ]
  },
  {
   "cell_type": "markdown",
   "id": "37463771",
   "metadata": {},
   "source": [
    "Удаление некорректных значений."
   ]
  },
  {
   "cell_type": "code",
   "execution_count": 27,
   "id": "159862d3",
   "metadata": {
    "scrolled": true
   },
   "outputs": [
    {
     "data": {
      "text/plain": [
       "array([ 5,  8,  6,  7, 10, 12, 11,  2,  3,  1,  4,  9])"
      ]
     },
     "execution_count": 27,
     "metadata": {},
     "output_type": "execute_result"
    }
   ],
   "source": [
    "cars.loc[cars['RegistrationMonth']>12, 'RegistrationMonth'] = int(cars['RegistrationMonth'].mean())\n",
    "cars.loc[cars['RegistrationMonth']<1, 'RegistrationMonth'] = int(cars['RegistrationMonth'].mean())\n",
    "cars['RegistrationMonth'] = cars['RegistrationMonth'].astype(int)\n",
    "cars['RegistrationMonth'].unique()"
   ]
  },
  {
   "cell_type": "markdown",
   "id": "71006d2a",
   "metadata": {},
   "source": [
    "## Power "
   ]
  },
  {
   "cell_type": "markdown",
   "id": "d0a20f94",
   "metadata": {},
   "source": [
    "Оценка распределения параметра Power."
   ]
  },
  {
   "cell_type": "code",
   "execution_count": 28,
   "id": "842d73a3",
   "metadata": {
    "scrolled": false
   },
   "outputs": [
    {
     "data": {
      "text/plain": [
       "Text(0, 0.5, 'Кол-во авто')"
      ]
     },
     "execution_count": 28,
     "metadata": {},
     "output_type": "execute_result"
    },
    {
     "data": {
      "image/png": "[encoded data removed]",
      "text/plain": [
       "<Figure size 432x288 with 1 Axes>"
      ]
     },
     "metadata": {
      "needs_background": "light"
     },
     "output_type": "display_data"
    }
   ],
   "source": [
    "plt.hist(cars['Power'], \n",
    "         bins=10,\n",
    "         color = 'powderblue',\n",
    "         edgecolor='darkslategray',\n",
    "         linewidth = 1,\n",
    ")\n",
    "plt.title(\"Распределение пробега авто\")\n",
    "plt.xlabel(\"л.с.\")\n",
    "plt.ylabel(\"Кол-во авто\")"
   ]
  },
  {
   "cell_type": "markdown",
   "id": "fb2a4ffe",
   "metadata": {},
   "source": [
    "Свыше 700 л.с. могут находится либо мощыне транспортные средствва не относящиеся к легковвым авто либо спорткары. Данные значения искажают данные. Поэтому в последующей модели не учитываются."
   ]
  },
  {
   "cell_type": "code",
   "execution_count": 29,
   "id": "283c887b",
   "metadata": {
    "scrolled": true
   },
   "outputs": [
    {
     "data": {
      "text/plain": [
       "DateCrawled          354\n",
       "Price                354\n",
       "VehicleType          354\n",
       "RegistrationYear     354\n",
       "Gearbox              354\n",
       "Power                354\n",
       "Model                354\n",
       "Kilometer            354\n",
       "RegistrationMonth    354\n",
       "FuelType             354\n",
       "Brand                354\n",
       "Repaired             354\n",
       "DateCreated          354\n",
       "NumberOfPictures     354\n",
       "PostalCode           354\n",
       "LastSeen             354\n",
       "dtype: int64"
      ]
     },
     "execution_count": 29,
     "metadata": {},
     "output_type": "execute_result"
    }
   ],
   "source": [
    "#Определение кол-ва значений в 4 квартиле.\n",
    "cars[cars['Power'] > 700].count()"
   ]
  },
  {
   "cell_type": "code",
   "execution_count": 30,
   "id": "e323bc17",
   "metadata": {
    "scrolled": true
   },
   "outputs": [
    {
     "data": {
      "text/plain": [
       "DateCrawled          354\n",
       "Price                354\n",
       "VehicleType          354\n",
       "RegistrationYear     354\n",
       "Gearbox              354\n",
       "Power                354\n",
       "Model                354\n",
       "Kilometer            354\n",
       "RegistrationMonth    354\n",
       "FuelType             354\n",
       "Brand                354\n",
       "Repaired             354\n",
       "DateCreated          354\n",
       "NumberOfPictures     354\n",
       "PostalCode           354\n",
       "LastSeen             354\n",
       "dtype: int64"
      ]
     },
     "execution_count": 30,
     "metadata": {},
     "output_type": "execute_result"
    }
   ],
   "source": [
    "cars[cars['Power'] > 700].count()"
   ]
  },
  {
   "cell_type": "markdown",
   "id": "85431da5",
   "metadata": {},
   "source": [
    "Удалим строки, где значение л.с. превышает 700."
   ]
  },
  {
   "cell_type": "code",
   "execution_count": 31,
   "id": "ab879944",
   "metadata": {},
   "outputs": [],
   "source": [
    "cars = cars[cars['Power'] <= 700] "
   ]
  },
  {
   "cell_type": "markdown",
   "id": "620d2230",
   "metadata": {},
   "source": [
    "## NumberOfPictures"
   ]
  },
  {
   "cell_type": "code",
   "execution_count": 32,
   "id": "b55f4e64",
   "metadata": {
    "scrolled": false
   },
   "outputs": [
    {
     "data": {
      "text/plain": [
       "0    354015\n",
       "Name: NumberOfPictures, dtype: int64"
      ]
     },
     "execution_count": 32,
     "metadata": {},
     "output_type": "execute_result"
    }
   ],
   "source": [
    "cars['NumberOfPictures'].value_counts()"
   ]
  },
  {
   "cell_type": "markdown",
   "id": "44b8da3c",
   "metadata": {},
   "source": [
    "**Параметр имеет неадекватные значения и может быть удален**"
   ]
  },
  {
   "cell_type": "code",
   "execution_count": 33,
   "id": "e4ae8629",
   "metadata": {},
   "outputs": [],
   "source": [
    "cars = cars.drop('NumberOfPictures', axis = 1)"
   ]
  },
  {
   "cell_type": "markdown",
   "id": "8aca703a",
   "metadata": {},
   "source": [
    "## Kilometer"
   ]
  },
  {
   "cell_type": "code",
   "execution_count": 34,
   "id": "23bac917",
   "metadata": {
    "scrolled": true
   },
   "outputs": [
    {
     "data": {
      "text/plain": [
       "array([150000, 125000,  90000,  40000,  30000,  70000,   5000, 100000,\n",
       "        60000,  20000,  80000,  50000,  10000])"
      ]
     },
     "execution_count": 34,
     "metadata": {},
     "output_type": "execute_result"
    }
   ],
   "source": [
    "#Анализ значений параметра.\n",
    "cars['Kilometer'].unique()"
   ]
  },
  {
   "cell_type": "code",
   "execution_count": 35,
   "id": "b7a72fcb",
   "metadata": {
    "scrolled": true
   },
   "outputs": [
    {
     "data": {
      "image/png": "[encoded data removed]",
      "text/plain": [
       "<Figure size 432x288 with 1 Axes>"
      ]
     },
     "metadata": {
      "needs_background": "light"
     },
     "output_type": "display_data"
    }
   ],
   "source": [
    "# Подготовка данныx для столбчатой диаграммы\n",
    "kilometer_values = cars.groupby('Kilometer')['Price'].count()\n",
    "kilometer_values = cars.groupby('Kilometer')['Price'].count()\n",
    "kilometer_values.plot(kind='bar', color='powderblue', edgecolor='darkslategray')\n",
    "plt.title(\"Распределение пробега авто\")\n",
    "plt.xlabel(\"Километраж\")\n",
    "plt.ylabel(\"Количество авто\")\n",
    "plt.show()"
   ]
  },
  {
   "cell_type": "markdown",
   "id": "5bbf77a9",
   "metadata": {},
   "source": [
    "**Вывод:**\n",
    "- Пробег авто не имеет очевидных выбросов.\n",
    "- Параметр по смыслу похож на категориальный и показывает в каком диапазоне находится пробег машины."
   ]
  },
  {
   "cell_type": "markdown",
   "id": "55053004",
   "metadata": {},
   "source": [
    "## PostalCode"
   ]
  },
  {
   "cell_type": "code",
   "execution_count": 36,
   "id": "4d4566c6",
   "metadata": {
    "scrolled": true
   },
   "outputs": [
    {
     "data": {
      "text/plain": [
       "count    354015.000000\n",
       "mean      50514.035504\n",
       "std       25783.437938\n",
       "min        1067.000000\n",
       "25%       30165.000000\n",
       "50%       49413.000000\n",
       "75%       71083.000000\n",
       "max       99998.000000\n",
       "Name: PostalCode, dtype: float64"
      ]
     },
     "execution_count": 36,
     "metadata": {},
     "output_type": "execute_result"
    }
   ],
   "source": [
    "cars['PostalCode'].describe()"
   ]
  },
  {
   "cell_type": "code",
   "execution_count": 37,
   "id": "cb83b7dd",
   "metadata": {
    "scrolled": false
   },
   "outputs": [
    {
     "data": {
      "text/plain": [
       "Text(0, 0.5, 'Кол-во авто')"
      ]
     },
     "execution_count": 37,
     "metadata": {},
     "output_type": "execute_result"
    },
    {
     "data": {
      "image/png": "[encoded data removed]",
      "text/plain": [
       "<Figure size 432x288 with 1 Axes>"
      ]
     },
     "metadata": {
      "needs_background": "light"
     },
     "output_type": "display_data"
    }
   ],
   "source": [
    "plt.hist(cars['PostalCode'], \n",
    "         bins=8,\n",
    "         color = 'powderblue',\n",
    "         edgecolor='darkslategray',\n",
    "         linewidth = 1,\n",
    ")\n",
    "plt.title(\"Распределение почтоввых индексов\")\n",
    "plt.xlabel(\"Индекс\")\n",
    "plt.ylabel(\"Кол-во авто\")"
   ]
  },
  {
   "cell_type": "markdown",
   "id": "76d6c5e4",
   "metadata": {},
   "source": [
    "**Аномалии в данных отсутствуют.**"
   ]
  },
  {
   "cell_type": "markdown",
   "id": "74a261c9",
   "metadata": {},
   "source": [
    "## Price"
   ]
  },
  {
   "cell_type": "markdown",
   "id": "01b0bfa9",
   "metadata": {},
   "source": [
    "Анализ распределения цен стоимостей авто."
   ]
  },
  {
   "cell_type": "code",
   "execution_count": 38,
   "id": "c4e3acb2",
   "metadata": {
    "scrolled": false
   },
   "outputs": [
    {
     "data": {
      "text/plain": [
       "Text(0, 0.5, 'Кол-во авто')"
      ]
     },
     "execution_count": 38,
     "metadata": {},
     "output_type": "execute_result"
    },
    {
     "data": {
      "image/png": "[encoded data removed]",
      "text/plain": [
       "<Figure size 432x288 with 1 Axes>"
      ]
     },
     "metadata": {
      "needs_background": "light"
     },
     "output_type": "display_data"
    }
   ],
   "source": [
    "plt.hist(cars['Price'], \n",
    "         bins=100,\n",
    "         color = 'powderblue',\n",
    "         edgecolor='darkslategray',\n",
    "         linewidth = 1,\n",
    ")\n",
    "plt.title(\"Распределение цены автомобилей\")\n",
    "plt.xlabel(\"Стоимость авто\")\n",
    "plt.ylabel(\"Кол-во авто\")\n",
    "\n"
   ]
  },
  {
   "cell_type": "markdown",
   "id": "ff0531e4",
   "metadata": {},
   "source": [
    "Из графика видно, что очень большое количество авто имеют нулевую стоимость. \n",
    "Это выглядит неправдоподобно. Поэтому для точной работы модели устанавливается нижняя граница стоимости авто в  100 евро. Строки, в которых цена ниже данной границы - удаляются."
   ]
  },
  {
   "cell_type": "code",
   "execution_count": 39,
   "id": "303ff03e",
   "metadata": {
    "scrolled": false
   },
   "outputs": [
    {
     "data": {
      "text/plain": [
       "count    354015.000000\n",
       "mean       4418.144242\n",
       "std        4514.917529\n",
       "min           0.000000\n",
       "25%        1050.000000\n",
       "50%        2700.000000\n",
       "75%        6400.000000\n",
       "max       20000.000000\n",
       "Name: Price, dtype: float64"
      ]
     },
     "execution_count": 39,
     "metadata": {},
     "output_type": "execute_result"
    }
   ],
   "source": [
    "# Определение процентилей.\n",
    "cars['Price'].describe()"
   ]
  },
  {
   "cell_type": "markdown",
   "id": "88ae28b0",
   "metadata": {},
   "source": [
    "Удаление данных, в которых цена авто меньше, чем 100 "
   ]
  },
  {
   "cell_type": "code",
   "execution_count": 40,
   "id": "c63d66d6",
   "metadata": {},
   "outputs": [],
   "source": [
    "cars = cars[cars['Price'] > 100]"
   ]
  },
  {
   "cell_type": "code",
   "execution_count": 41,
   "id": "a11415cf",
   "metadata": {},
   "outputs": [
    {
     "data": {
      "text/plain": [
       "Text(0, 0.5, 'Кол-во авто')"
      ]
     },
     "execution_count": 41,
     "metadata": {},
     "output_type": "execute_result"
    },
    {
     "data": {
      "image/png": "[encoded data removed]",
      "text/plain": [
       "<Figure size 432x288 with 1 Axes>"
      ]
     },
     "metadata": {
      "needs_background": "light"
     },
     "output_type": "display_data"
    }
   ],
   "source": [
    "plt.hist(cars['Price'], \n",
    "         bins=500,\n",
    "         color = 'powderblue',\n",
    "         edgecolor='darkslategray',\n",
    "         linewidth = 1,\n",
    ")\n",
    "plt.title(\"Распределение цены автомобилей\")\n",
    "plt.xlabel(\"Стоимость авто\")\n",
    "plt.ylabel(\"Кол-во авто\")\n",
    "\n"
   ]
  },
  {
   "cell_type": "markdown",
   "id": "f9cfa152",
   "metadata": {},
   "source": [
    "## Анализ на наличие дубликатов"
   ]
  },
  {
   "cell_type": "code",
   "execution_count": 42,
   "id": "56838dc2",
   "metadata": {
    "scrolled": true
   },
   "outputs": [
    {
     "name": "stdout",
     "output_type": "stream",
     "text": [
      "Количество дубликатов в датасете: 6750\n"
     ]
    }
   ],
   "source": [
    "print(f'Количество дубликатов в датасете: {cars.duplicated().sum()}')"
   ]
  },
  {
   "cell_type": "code",
   "execution_count": 43,
   "id": "3f6c2f98",
   "metadata": {},
   "outputs": [
    {
     "name": "stdout",
     "output_type": "stream",
     "text": [
      "Количество дубликатов после удаления: 0\n"
     ]
    }
   ],
   "source": [
    "cars.drop_duplicates(inplace=True)\n",
    "cars = cars.reset_index(drop=True)\n",
    "print('Количество дубликатов после удаления:', cars.duplicated().sum())\n"
   ]
  },
  {
   "cell_type": "markdown",
   "id": "19b51473",
   "metadata": {},
   "source": [
    "## Проверка на мультиколлинеарность"
   ]
  },
  {
   "cell_type": "markdown",
   "id": "9487ad5a",
   "metadata": {},
   "source": [
    "Анализ взаимосвязи признаков между собой и с целевым признаком. "
   ]
  },
  {
   "cell_type": "code",
   "execution_count": 44,
   "id": "7858cde2",
   "metadata": {},
   "outputs": [
    {
     "name": "stdout",
     "output_type": "stream",
     "text": [
      "interval columns not set, guessing: ['Price', 'RegistrationYear', 'Power', 'Kilometer', 'RegistrationMonth', 'PostalCode']\n",
      "CPU times: user 3.49 s, sys: 729 ms, total: 4.22 s\n",
      "Wall time: 7.8 s\n"
     ]
    },
    {
     "data": {
      "text/html": [
       "<div>\n",
       "<style scoped>\n",
       "    .dataframe tbody tr th:only-of-type {\n",
       "        vertical-align: middle;\n",
       "    }\n",
       "\n",
       "    .dataframe tbody tr th {\n",
       "        vertical-align: top;\n",
       "    }\n",
       "\n",
       "    .dataframe thead th {\n",
       "        text-align: right;\n",
       "    }\n",
       "</style>\n",
       "<table border=\"1\" class=\"dataframe\">\n",
       "  <thead>\n",
       "    <tr style=\"text-align: right;\">\n",
       "      <th></th>\n",
       "      <th>DateCrawled</th>\n",
       "      <th>Price</th>\n",
       "      <th>VehicleType</th>\n",
       "      <th>RegistrationYear</th>\n",
       "      <th>Gearbox</th>\n",
       "      <th>Power</th>\n",
       "      <th>Model</th>\n",
       "      <th>Kilometer</th>\n",
       "      <th>RegistrationMonth</th>\n",
       "      <th>FuelType</th>\n",
       "      <th>Brand</th>\n",
       "      <th>Repaired</th>\n",
       "      <th>DateCreated</th>\n",
       "      <th>PostalCode</th>\n",
       "      <th>LastSeen</th>\n",
       "    </tr>\n",
       "  </thead>\n",
       "  <tbody>\n",
       "    <tr>\n",
       "      <th>DateCrawled</th>\n",
       "      <td>1.000000</td>\n",
       "      <td>0.034191</td>\n",
       "      <td>0.036951</td>\n",
       "      <td>0.020382</td>\n",
       "      <td>0.007918</td>\n",
       "      <td>0.018688</td>\n",
       "      <td>0.060169</td>\n",
       "      <td>0.023623</td>\n",
       "      <td>0.024025</td>\n",
       "      <td>0.010394</td>\n",
       "      <td>0.022588</td>\n",
       "      <td>0.034204</td>\n",
       "      <td>0.994462</td>\n",
       "      <td>0.075746</td>\n",
       "      <td>0.827596</td>\n",
       "    </tr>\n",
       "    <tr>\n",
       "      <th>Price</th>\n",
       "      <td>0.034191</td>\n",
       "      <td>1.000000</td>\n",
       "      <td>0.277576</td>\n",
       "      <td>0.680910</td>\n",
       "      <td>0.332300</td>\n",
       "      <td>0.492895</td>\n",
       "      <td>0.572985</td>\n",
       "      <td>0.313285</td>\n",
       "      <td>0.146217</td>\n",
       "      <td>0.045511</td>\n",
       "      <td>0.362022</td>\n",
       "      <td>0.348547</td>\n",
       "      <td>0.058688</td>\n",
       "      <td>0.092667</td>\n",
       "      <td>0.168217</td>\n",
       "    </tr>\n",
       "    <tr>\n",
       "      <th>VehicleType</th>\n",
       "      <td>0.036951</td>\n",
       "      <td>0.277576</td>\n",
       "      <td>1.000000</td>\n",
       "      <td>0.421467</td>\n",
       "      <td>0.216247</td>\n",
       "      <td>0.417580</td>\n",
       "      <td>0.892843</td>\n",
       "      <td>0.243335</td>\n",
       "      <td>0.173317</td>\n",
       "      <td>0.086200</td>\n",
       "      <td>0.581053</td>\n",
       "      <td>0.423295</td>\n",
       "      <td>0.050390</td>\n",
       "      <td>0.067826</td>\n",
       "      <td>0.079665</td>\n",
       "    </tr>\n",
       "    <tr>\n",
       "      <th>RegistrationYear</th>\n",
       "      <td>0.020382</td>\n",
       "      <td>0.680910</td>\n",
       "      <td>0.421467</td>\n",
       "      <td>1.000000</td>\n",
       "      <td>0.121963</td>\n",
       "      <td>0.263924</td>\n",
       "      <td>0.552247</td>\n",
       "      <td>0.471109</td>\n",
       "      <td>0.156067</td>\n",
       "      <td>0.059251</td>\n",
       "      <td>0.273656</td>\n",
       "      <td>0.278413</td>\n",
       "      <td>0.043000</td>\n",
       "      <td>0.077949</td>\n",
       "      <td>0.101311</td>\n",
       "    </tr>\n",
       "    <tr>\n",
       "      <th>Gearbox</th>\n",
       "      <td>0.007918</td>\n",
       "      <td>0.332300</td>\n",
       "      <td>0.216247</td>\n",
       "      <td>0.121963</td>\n",
       "      <td>1.000000</td>\n",
       "      <td>0.548750</td>\n",
       "      <td>0.609835</td>\n",
       "      <td>0.016891</td>\n",
       "      <td>0.068173</td>\n",
       "      <td>0.102716</td>\n",
       "      <td>0.498809</td>\n",
       "      <td>0.035187</td>\n",
       "      <td>0.019773</td>\n",
       "      <td>0.089914</td>\n",
       "      <td>0.037686</td>\n",
       "    </tr>\n",
       "    <tr>\n",
       "      <th>Power</th>\n",
       "      <td>0.018688</td>\n",
       "      <td>0.492895</td>\n",
       "      <td>0.417580</td>\n",
       "      <td>0.263924</td>\n",
       "      <td>0.548750</td>\n",
       "      <td>1.000000</td>\n",
       "      <td>0.721314</td>\n",
       "      <td>0.065024</td>\n",
       "      <td>0.143750</td>\n",
       "      <td>0.083203</td>\n",
       "      <td>0.525576</td>\n",
       "      <td>0.242587</td>\n",
       "      <td>0.027012</td>\n",
       "      <td>0.096263</td>\n",
       "      <td>0.075913</td>\n",
       "    </tr>\n",
       "    <tr>\n",
       "      <th>Model</th>\n",
       "      <td>0.060169</td>\n",
       "      <td>0.572985</td>\n",
       "      <td>0.892843</td>\n",
       "      <td>0.552247</td>\n",
       "      <td>0.609835</td>\n",
       "      <td>0.721314</td>\n",
       "      <td>1.000000</td>\n",
       "      <td>0.436471</td>\n",
       "      <td>0.171448</td>\n",
       "      <td>0.338062</td>\n",
       "      <td>0.997827</td>\n",
       "      <td>0.300179</td>\n",
       "      <td>0.251594</td>\n",
       "      <td>0.212914</td>\n",
       "      <td>0.101742</td>\n",
       "    </tr>\n",
       "    <tr>\n",
       "      <th>Kilometer</th>\n",
       "      <td>0.023623</td>\n",
       "      <td>0.313285</td>\n",
       "      <td>0.243335</td>\n",
       "      <td>0.471109</td>\n",
       "      <td>0.016891</td>\n",
       "      <td>0.065024</td>\n",
       "      <td>0.436471</td>\n",
       "      <td>1.000000</td>\n",
       "      <td>0.044373</td>\n",
       "      <td>0.078788</td>\n",
       "      <td>0.275164</td>\n",
       "      <td>0.225449</td>\n",
       "      <td>0.054143</td>\n",
       "      <td>0.037544</td>\n",
       "      <td>0.082657</td>\n",
       "    </tr>\n",
       "    <tr>\n",
       "      <th>RegistrationMonth</th>\n",
       "      <td>0.024025</td>\n",
       "      <td>0.146217</td>\n",
       "      <td>0.173317</td>\n",
       "      <td>0.156067</td>\n",
       "      <td>0.068173</td>\n",
       "      <td>0.143750</td>\n",
       "      <td>0.171448</td>\n",
       "      <td>0.044373</td>\n",
       "      <td>1.000000</td>\n",
       "      <td>0.014082</td>\n",
       "      <td>0.088080</td>\n",
       "      <td>0.261722</td>\n",
       "      <td>0.036366</td>\n",
       "      <td>0.042501</td>\n",
       "      <td>0.022862</td>\n",
       "    </tr>\n",
       "    <tr>\n",
       "      <th>FuelType</th>\n",
       "      <td>0.010394</td>\n",
       "      <td>0.045511</td>\n",
       "      <td>0.086200</td>\n",
       "      <td>0.059251</td>\n",
       "      <td>0.102716</td>\n",
       "      <td>0.083203</td>\n",
       "      <td>0.338062</td>\n",
       "      <td>0.078788</td>\n",
       "      <td>0.014082</td>\n",
       "      <td>1.000000</td>\n",
       "      <td>0.232860</td>\n",
       "      <td>0.036884</td>\n",
       "      <td>0.000000</td>\n",
       "      <td>0.045527</td>\n",
       "      <td>0.013592</td>\n",
       "    </tr>\n",
       "    <tr>\n",
       "      <th>Brand</th>\n",
       "      <td>0.022588</td>\n",
       "      <td>0.362022</td>\n",
       "      <td>0.581053</td>\n",
       "      <td>0.273656</td>\n",
       "      <td>0.498809</td>\n",
       "      <td>0.525576</td>\n",
       "      <td>0.997827</td>\n",
       "      <td>0.275164</td>\n",
       "      <td>0.088080</td>\n",
       "      <td>0.232860</td>\n",
       "      <td>1.000000</td>\n",
       "      <td>0.146642</td>\n",
       "      <td>0.105078</td>\n",
       "      <td>0.179963</td>\n",
       "      <td>0.051756</td>\n",
       "    </tr>\n",
       "    <tr>\n",
       "      <th>Repaired</th>\n",
       "      <td>0.034204</td>\n",
       "      <td>0.348547</td>\n",
       "      <td>0.423295</td>\n",
       "      <td>0.278413</td>\n",
       "      <td>0.035187</td>\n",
       "      <td>0.242587</td>\n",
       "      <td>0.300179</td>\n",
       "      <td>0.225449</td>\n",
       "      <td>0.261722</td>\n",
       "      <td>0.036884</td>\n",
       "      <td>0.146642</td>\n",
       "      <td>1.000000</td>\n",
       "      <td>0.035461</td>\n",
       "      <td>0.062316</td>\n",
       "      <td>0.111905</td>\n",
       "    </tr>\n",
       "    <tr>\n",
       "      <th>DateCreated</th>\n",
       "      <td>0.994462</td>\n",
       "      <td>0.058688</td>\n",
       "      <td>0.050390</td>\n",
       "      <td>0.043000</td>\n",
       "      <td>0.019773</td>\n",
       "      <td>0.027012</td>\n",
       "      <td>0.251594</td>\n",
       "      <td>0.054143</td>\n",
       "      <td>0.036366</td>\n",
       "      <td>0.000000</td>\n",
       "      <td>0.105078</td>\n",
       "      <td>0.035461</td>\n",
       "      <td>1.000000</td>\n",
       "      <td>0.106320</td>\n",
       "      <td>0.778868</td>\n",
       "    </tr>\n",
       "    <tr>\n",
       "      <th>PostalCode</th>\n",
       "      <td>0.075746</td>\n",
       "      <td>0.092667</td>\n",
       "      <td>0.067826</td>\n",
       "      <td>0.077949</td>\n",
       "      <td>0.089914</td>\n",
       "      <td>0.096263</td>\n",
       "      <td>0.212914</td>\n",
       "      <td>0.037544</td>\n",
       "      <td>0.042501</td>\n",
       "      <td>0.045527</td>\n",
       "      <td>0.179963</td>\n",
       "      <td>0.062316</td>\n",
       "      <td>0.106320</td>\n",
       "      <td>1.000000</td>\n",
       "      <td>0.066040</td>\n",
       "    </tr>\n",
       "    <tr>\n",
       "      <th>LastSeen</th>\n",
       "      <td>0.827596</td>\n",
       "      <td>0.168217</td>\n",
       "      <td>0.079665</td>\n",
       "      <td>0.101311</td>\n",
       "      <td>0.037686</td>\n",
       "      <td>0.075913</td>\n",
       "      <td>0.101742</td>\n",
       "      <td>0.082657</td>\n",
       "      <td>0.022862</td>\n",
       "      <td>0.013592</td>\n",
       "      <td>0.051756</td>\n",
       "      <td>0.111905</td>\n",
       "      <td>0.778868</td>\n",
       "      <td>0.066040</td>\n",
       "      <td>1.000000</td>\n",
       "    </tr>\n",
       "  </tbody>\n",
       "</table>\n",
       "</div>"
      ],
      "text/plain": [
       "                   DateCrawled     Price  VehicleType  RegistrationYear  \\\n",
       "DateCrawled           1.000000  0.034191     0.036951          0.020382   \n",
       "Price                 0.034191  1.000000     0.277576          0.680910   \n",
       "VehicleType           0.036951  0.277576     1.000000          0.421467   \n",
       "RegistrationYear      0.020382  0.680910     0.421467          1.000000   \n",
       "Gearbox               0.007918  0.332300     0.216247          0.121963   \n",
       "Power                 0.018688  0.492895     0.417580          0.263924   \n",
       "Model                 0.060169  0.572985     0.892843          0.552247   \n",
       "Kilometer             0.023623  0.313285     0.243335          0.471109   \n",
       "RegistrationMonth     0.024025  0.146217     0.173317          0.156067   \n",
       "FuelType              0.010394  0.045511     0.086200          0.059251   \n",
       "Brand                 0.022588  0.362022     0.581053          0.273656   \n",
       "Repaired              0.034204  0.348547     0.423295          0.278413   \n",
       "DateCreated           0.994462  0.058688     0.050390          0.043000   \n",
       "PostalCode            0.075746  0.092667     0.067826          0.077949   \n",
       "LastSeen              0.827596  0.168217     0.079665          0.101311   \n",
       "\n",
       "                    Gearbox     Power     Model  Kilometer  RegistrationMonth  \\\n",
       "DateCrawled        0.007918  0.018688  0.060169   0.023623           0.024025   \n",
       "Price              0.332300  0.492895  0.572985   0.313285           0.146217   \n",
       "VehicleType        0.216247  0.417580  0.892843   0.243335           0.173317   \n",
       "RegistrationYear   0.121963  0.263924  0.552247   0.471109           0.156067   \n",
       "Gearbox            1.000000  0.548750  0.609835   0.016891           0.068173   \n",
       "Power              0.548750  1.000000  0.721314   0.065024           0.143750   \n",
       "Model              0.609835  0.721314  1.000000   0.436471           0.171448   \n",
       "Kilometer          0.016891  0.065024  0.436471   1.000000           0.044373   \n",
       "RegistrationMonth  0.068173  0.143750  0.171448   0.044373           1.000000   \n",
       "FuelType           0.102716  0.083203  0.338062   0.078788           0.014082   \n",
       "Brand              0.498809  0.525576  0.997827   0.275164           0.088080   \n",
       "Repaired           0.035187  0.242587  0.300179   0.225449           0.261722   \n",
       "DateCreated        0.019773  0.027012  0.251594   0.054143           0.036366   \n",
       "PostalCode         0.089914  0.096263  0.212914   0.037544           0.042501   \n",
       "LastSeen           0.037686  0.075913  0.101742   0.082657           0.022862   \n",
       "\n",
       "                   FuelType     Brand  Repaired  DateCreated  PostalCode  \\\n",
       "DateCrawled        0.010394  0.022588  0.034204     0.994462    0.075746   \n",
       "Price              0.045511  0.362022  0.348547     0.058688    0.092667   \n",
       "VehicleType        0.086200  0.581053  0.423295     0.050390    0.067826   \n",
       "RegistrationYear   0.059251  0.273656  0.278413     0.043000    0.077949   \n",
       "Gearbox            0.102716  0.498809  0.035187     0.019773    0.089914   \n",
       "Power              0.083203  0.525576  0.242587     0.027012    0.096263   \n",
       "Model              0.338062  0.997827  0.300179     0.251594    0.212914   \n",
       "Kilometer          0.078788  0.275164  0.225449     0.054143    0.037544   \n",
       "RegistrationMonth  0.014082  0.088080  0.261722     0.036366    0.042501   \n",
       "FuelType           1.000000  0.232860  0.036884     0.000000    0.045527   \n",
       "Brand              0.232860  1.000000  0.146642     0.105078    0.179963   \n",
       "Repaired           0.036884  0.146642  1.000000     0.035461    0.062316   \n",
       "DateCreated        0.000000  0.105078  0.035461     1.000000    0.106320   \n",
       "PostalCode         0.045527  0.179963  0.062316     0.106320    1.000000   \n",
       "LastSeen           0.013592  0.051756  0.111905     0.778868    0.066040   \n",
       "\n",
       "                   LastSeen  \n",
       "DateCrawled        0.827596  \n",
       "Price              0.168217  \n",
       "VehicleType        0.079665  \n",
       "RegistrationYear   0.101311  \n",
       "Gearbox            0.037686  \n",
       "Power              0.075913  \n",
       "Model              0.101742  \n",
       "Kilometer          0.082657  \n",
       "RegistrationMonth  0.022862  \n",
       "FuelType           0.013592  \n",
       "Brand              0.051756  \n",
       "Repaired           0.111905  \n",
       "DateCreated        0.778868  \n",
       "PostalCode         0.066040  \n",
       "LastSeen           1.000000  "
      ]
     },
     "execution_count": 44,
     "metadata": {},
     "output_type": "execute_result"
    }
   ],
   "source": [
    "%%time\n",
    "#Матрица корреляции / Correlation matrix\n",
    "phik_cars = cars.phik_matrix()\n",
    "phik_cars\n"
   ]
  },
  {
   "cell_type": "code",
   "execution_count": 45,
   "id": "11fd722f",
   "metadata": {
    "scrolled": true
   },
   "outputs": [
    {
     "data": {
      "image/png": "[encoded data removed]",
      "text/plain": [
       "<Figure size 720x720 with 2 Axes>"
      ]
     },
     "metadata": {
      "needs_background": "light"
     },
     "output_type": "display_data"
    }
   ],
   "source": [
    "#Визуализация матрицы 𝜙k / 𝜙k matrix visualisation\n",
    "\n",
    "plot_correlation_matrix(phik_cars.values, \n",
    "                        x_labels=phik_cars.columns, \n",
    "                        y_labels=phik_cars.index, \n",
    "                        vmin=0, vmax=1, color_map=\"Purples\", \n",
    "                        title=r\"features_correlation $\\phi_K$\", \n",
    "                        fontsize_factor=1.1, \n",
    "                        figsize=(10, 10))\n",
    "plt.tight_layout()"
   ]
  },
  {
   "cell_type": "code",
   "execution_count": 46,
   "id": "8f8c39f0",
   "metadata": {},
   "outputs": [],
   "source": [
    "#Список признаков, не коррелирующих с целевым:\n",
    "\n",
    "features_non_corr = ['DateCrawled', 'RegistrationMonth', 'DateCreated', 'PostalCode', 'LastSeen']\n",
    "\n",
    "#Features remooving\n",
    "cars = cars.drop(features_non_corr, axis=1)"
   ]
  },
  {
   "cell_type": "code",
   "execution_count": 47,
   "id": "e6b0a1bb",
   "metadata": {},
   "outputs": [
    {
     "name": "stdout",
     "output_type": "stream",
     "text": [
      "Количество дубликатов в датасете: 48186\n"
     ]
    }
   ],
   "source": [
    "print(f'Количество дубликатов в датасете: {cars.duplicated().sum()}')"
   ]
  },
  {
   "cell_type": "code",
   "execution_count": 48,
   "id": "f3a08f99",
   "metadata": {},
   "outputs": [
    {
     "name": "stdout",
     "output_type": "stream",
     "text": [
      "Количество дубликатов после удаления: 0\n"
     ]
    }
   ],
   "source": [
    "#Duplicates deleting\n",
    "cars.drop_duplicates(inplace=True)\n",
    "cars = cars.reset_index(drop=True)\n",
    "print('Количество дубликатов после удаления:', cars.duplicated().sum())"
   ]
  },
  {
   "cell_type": "markdown",
   "id": "8526ad1e",
   "metadata": {},
   "source": [
    "## Вывод:\n",
    "\n",
    "В рамках разведочного анализа вывполнены следующие действия:\n",
    "- Обнаружены вывбросы и аномалии в значениях. Произведена их очистка.\n",
    "- Заполнены пропуски в данных.\n",
    "- Удалены признаки не коррелирующие с целевым.\n"
   ]
  },
  {
   "cell_type": "markdown",
   "id": "586edd85",
   "metadata": {},
   "source": [
    "## Вывод"
   ]
  },
  {
   "cell_type": "markdown",
   "id": "c23a0ecc",
   "metadata": {},
   "source": [
    "На этапе заверешения предобработки данных были выполнены следующие шаги:\n",
    "1) Пропуски заполнены;\n",
    "\n",
    "2) Форматы данных исправлены;\n",
    "\n",
    "3) Выбросы устранены;\n",
    "\n",
    "4) Корреляция признаков проанализирована.\n"
   ]
  },
  {
   "cell_type": "markdown",
   "id": "ec51f4ac",
   "metadata": {},
   "source": [
    "# Подбор  ML модели"
   ]
  },
  {
   "cell_type": "markdown",
   "id": "fcbca885",
   "metadata": {},
   "source": [
    "## Подготовка выборок."
   ]
  },
  {
   "cell_type": "markdown",
   "id": "c4567b7d",
   "metadata": {},
   "source": [
    "Определение целевого признака и набора фичей."
   ]
  },
  {
   "cell_type": "code",
   "execution_count": 49,
   "id": "653949a0",
   "metadata": {},
   "outputs": [],
   "source": [
    "X = cars.drop('Price', axis=1)\n",
    "y = cars['Price']"
   ]
  },
  {
   "cell_type": "markdown",
   "id": "da4bdc27",
   "metadata": {},
   "source": [
    "Разбиение на тренировочную, валидационную, и тестовую выборки."
   ]
  },
  {
   "cell_type": "code",
   "execution_count": 50,
   "id": "24a90ba8",
   "metadata": {},
   "outputs": [],
   "source": [
    "# Получение тренировочной выборки.\n",
    "X_train, X_valid_test, y_train, y_valid_test = train_test_split(\n",
    "    X, y, test_size = 0.4, random_state = 12345)\n",
    "\n",
    "# Разбиение на валидационную и тестовую выборки.\n",
    "X_test, X_valid, y_test, y_valid = train_test_split(\n",
    "    X_valid_test, y_valid_test, test_size = 0.2, random_state = 12345)"
   ]
  },
  {
   "cell_type": "markdown",
   "id": "7779a091",
   "metadata": {},
   "source": [
    "Определение категориальных признаков."
   ]
  },
  {
   "cell_type": "code",
   "execution_count": 51,
   "id": "273e73ad",
   "metadata": {
    "scrolled": false
   },
   "outputs": [
    {
     "data": {
      "text/plain": [
       "['VehicleType', 'Gearbox', 'Model', 'FuelType', 'Brand', 'Repaired']"
      ]
     },
     "execution_count": 51,
     "metadata": {},
     "output_type": "execute_result"
    }
   ],
   "source": [
    "cat_features = list(X.select_dtypes(include = 'object').columns)\n",
    "cat_features"
   ]
  },
  {
   "cell_type": "code",
   "execution_count": 52,
   "id": "420b8b85",
   "metadata": {},
   "outputs": [],
   "source": [
    "#Creation of a DataFrame to compare all model changes and control all modifications.\n",
    "data = {'ML type':[],\n",
    "        'change description':[],\n",
    "        'RMSE':[],\n",
    "        'learning_time':[],\n",
    "        'prediction_time':[]\n",
    "       }\n",
    "experiment = pd.DataFrame(data)"
   ]
  },
  {
   "cell_type": "markdown",
   "id": "5f535662",
   "metadata": {},
   "source": [
    "## LightGBM"
   ]
  },
  {
   "cell_type": "markdown",
   "id": "4e22cb48",
   "metadata": {},
   "source": [
    "LightGBM умеет работать с категориальными переменными. Это значит, что нет необходимости применять кодирование. Для корректной работы модели необходимо привести категориальные признаки к типу category. "
   ]
  },
  {
   "cell_type": "code",
   "execution_count": 53,
   "id": "52d16ff8",
   "metadata": {
    "scrolled": true
   },
   "outputs": [
    {
     "data": {
      "text/plain": [
       "['VehicleType',\n",
       " 'RegistrationYear',\n",
       " 'Gearbox',\n",
       " 'Power',\n",
       " 'Model',\n",
       " 'Kilometer',\n",
       " 'FuelType',\n",
       " 'Brand',\n",
       " 'Repaired']"
      ]
     },
     "execution_count": 53,
     "metadata": {},
     "output_type": "execute_result"
    }
   ],
   "source": [
    "gbm_features = list(X_train.columns)\n",
    "gbm_features"
   ]
  },
  {
   "cell_type": "code",
   "execution_count": 54,
   "id": "786d800f",
   "metadata": {},
   "outputs": [],
   "source": [
    "X_train_gbm = X_train.copy()"
   ]
  },
  {
   "cell_type": "markdown",
   "id": "de7795cc",
   "metadata": {},
   "source": [
    "Приведение всех категориальных признаков к типу category."
   ]
  },
  {
   "cell_type": "code",
   "execution_count": 55,
   "id": "5c999547",
   "metadata": {
    "scrolled": false
   },
   "outputs": [
    {
     "name": "stdout",
     "output_type": "stream",
     "text": [
      "<class 'pandas.core.frame.DataFrame'>\n",
      "Int64Index: 170859 entries, 219660 to 217570\n",
      "Data columns (total 9 columns):\n",
      " #   Column            Non-Null Count   Dtype   \n",
      "---  ------            --------------   -----   \n",
      " 0   VehicleType       170859 non-null  category\n",
      " 1   RegistrationYear  170859 non-null  int64   \n",
      " 2   Gearbox           170859 non-null  category\n",
      " 3   Power             170859 non-null  int64   \n",
      " 4   Model             170859 non-null  category\n",
      " 5   Kilometer         170859 non-null  int64   \n",
      " 6   FuelType          170859 non-null  category\n",
      " 7   Brand             170859 non-null  category\n",
      " 8   Repaired          170859 non-null  category\n",
      "dtypes: category(6), int64(3)\n",
      "memory usage: 6.4 MB\n"
     ]
    }
   ],
   "source": [
    "for cat in cat_features:\n",
    "    X_train_gbm[cat] = X_train_gbm[cat].astype('category')\n",
    "X_train_gbm.info()  "
   ]
  },
  {
   "cell_type": "markdown",
   "id": "9721f453",
   "metadata": {},
   "source": [
    "Счетчик времени работы модели  LightGBM"
   ]
  },
  {
   "cell_type": "code",
   "execution_count": 56,
   "id": "9bf46e7a",
   "metadata": {},
   "outputs": [],
   "source": [
    "LightGBM_time_train = 0\n",
    "LightGBM_time_predict = 0"
   ]
  },
  {
   "cell_type": "markdown",
   "id": "8ca4f6c0",
   "metadata": {},
   "source": [
    "**Подбор гиперпараметров GreedSearch.**"
   ]
  },
  {
   "cell_type": "code",
   "execution_count": 57,
   "id": "a07ddcfa",
   "metadata": {},
   "outputs": [],
   "source": [
    "param_grid = {\n",
    "    'learning_rate': [0.01, 0.1, 0.2],\n",
    "    'n_estimators': [100, 500, 1000],\n",
    "    'max_depth': [3, 5, 7]\n",
    "}"
   ]
  },
  {
   "cell_type": "code",
   "execution_count": 58,
   "id": "cb1c144f",
   "metadata": {},
   "outputs": [],
   "source": [
    "# Инициализация модели\n",
    "lgb_model = lgb.LGBMRegressor()"
   ]
  },
  {
   "cell_type": "code",
   "execution_count": 62,
   "id": "9c325c03",
   "metadata": {
    "scrolled": true
   },
   "outputs": [
    {
     "name": "stdout",
     "output_type": "stream",
     "text": [
      "[LightGBM] [Warning] Accuracy may be bad since you didn't explicitly set num_leaves OR 2^max_depth > num_leaves. (num_leaves=31).\n",
      "[LightGBM] [Warning] Accuracy may be bad since you didn't explicitly set num_leaves OR 2^max_depth > num_leaves. (num_leaves=31).\n",
      "[LightGBM] [Warning] Accuracy may be bad since you didn't explicitly set num_leaves OR 2^max_depth > num_leaves. (num_leaves=31).\n",
      "[LightGBM] [Warning] Accuracy may be bad since you didn't explicitly set num_leaves OR 2^max_depth > num_leaves. (num_leaves=31).\n",
      "[LightGBM] [Warning] Accuracy may be bad since you didn't explicitly set num_leaves OR 2^max_depth > num_leaves. (num_leaves=31).\n",
      "[LightGBM] [Warning] Accuracy may be bad since you didn't explicitly set num_leaves OR 2^max_depth > num_leaves. (num_leaves=31).\n",
      "[LightGBM] [Warning] Accuracy may be bad since you didn't explicitly set num_leaves OR 2^max_depth > num_leaves. (num_leaves=31).\n",
      "[LightGBM] [Warning] Accuracy may be bad since you didn't explicitly set num_leaves OR 2^max_depth > num_leaves. (num_leaves=31).\n",
      "[LightGBM] [Warning] Accuracy may be bad since you didn't explicitly set num_leaves OR 2^max_depth > num_leaves. (num_leaves=31).\n",
      "[LightGBM] [Warning] Accuracy may be bad since you didn't explicitly set num_leaves OR 2^max_depth > num_leaves. (num_leaves=31).\n",
      "[LightGBM] [Warning] Accuracy may be bad since you didn't explicitly set num_leaves OR 2^max_depth > num_leaves. (num_leaves=31).\n",
      "[LightGBM] [Warning] Accuracy may be bad since you didn't explicitly set num_leaves OR 2^max_depth > num_leaves. (num_leaves=31).\n",
      "[LightGBM] [Warning] Accuracy may be bad since you didn't explicitly set num_leaves OR 2^max_depth > num_leaves. (num_leaves=31).\n",
      "[LightGBM] [Warning] Accuracy may be bad since you didn't explicitly set num_leaves OR 2^max_depth > num_leaves. (num_leaves=31).\n",
      "[LightGBM] [Warning] Accuracy may be bad since you didn't explicitly set num_leaves OR 2^max_depth > num_leaves. (num_leaves=31).\n",
      "[LightGBM] [Warning] Accuracy may be bad since you didn't explicitly set num_leaves OR 2^max_depth > num_leaves. (num_leaves=31).\n",
      "[LightGBM] [Warning] Accuracy may be bad since you didn't explicitly set num_leaves OR 2^max_depth > num_leaves. (num_leaves=31).\n",
      "[LightGBM] [Warning] Accuracy may be bad since you didn't explicitly set num_leaves OR 2^max_depth > num_leaves. (num_leaves=31).\n",
      "[LightGBM] [Warning] Accuracy may be bad since you didn't explicitly set num_leaves OR 2^max_depth > num_leaves. (num_leaves=31).\n",
      "[LightGBM] [Warning] Accuracy may be bad since you didn't explicitly set num_leaves OR 2^max_depth > num_leaves. (num_leaves=31).\n",
      "[LightGBM] [Warning] Accuracy may be bad since you didn't explicitly set num_leaves OR 2^max_depth > num_leaves. (num_leaves=31).\n",
      "[LightGBM] [Warning] Accuracy may be bad since you didn't explicitly set num_leaves OR 2^max_depth > num_leaves. (num_leaves=31).\n",
      "[LightGBM] [Warning] Accuracy may be bad since you didn't explicitly set num_leaves OR 2^max_depth > num_leaves. (num_leaves=31).\n",
      "[LightGBM] [Warning] Accuracy may be bad since you didn't explicitly set num_leaves OR 2^max_depth > num_leaves. (num_leaves=31).\n",
      "[LightGBM] [Warning] Accuracy may be bad since you didn't explicitly set num_leaves OR 2^max_depth > num_leaves. (num_leaves=31).\n",
      "[LightGBM] [Warning] Accuracy may be bad since you didn't explicitly set num_leaves OR 2^max_depth > num_leaves. (num_leaves=31).\n",
      "[LightGBM] [Warning] Accuracy may be bad since you didn't explicitly set num_leaves OR 2^max_depth > num_leaves. (num_leaves=31).\n",
      "[LightGBM] [Warning] Accuracy may be bad since you didn't explicitly set num_leaves OR 2^max_depth > num_leaves. (num_leaves=31).\n",
      "[LightGBM] [Warning] Accuracy may be bad since you didn't explicitly set num_leaves OR 2^max_depth > num_leaves. (num_leaves=31).\n",
      "[LightGBM] [Warning] Accuracy may be bad since you didn't explicitly set num_leaves OR 2^max_depth > num_leaves. (num_leaves=31).\n",
      "[LightGBM] [Warning] Accuracy may be bad since you didn't explicitly set num_leaves OR 2^max_depth > num_leaves. (num_leaves=31).\n",
      "[LightGBM] [Warning] Accuracy may be bad since you didn't explicitly set num_leaves OR 2^max_depth > num_leaves. (num_leaves=31).\n",
      "[LightGBM] [Warning] Accuracy may be bad since you didn't explicitly set num_leaves OR 2^max_depth > num_leaves. (num_leaves=31).\n",
      "[LightGBM] [Warning] Accuracy may be bad since you didn't explicitly set num_leaves OR 2^max_depth > num_leaves. (num_leaves=31).\n",
      "[LightGBM] [Warning] Accuracy may be bad since you didn't explicitly set num_leaves OR 2^max_depth > num_leaves. (num_leaves=31).\n",
      "[LightGBM] [Warning] Accuracy may be bad since you didn't explicitly set num_leaves OR 2^max_depth > num_leaves. (num_leaves=31).\n",
      "[LightGBM] [Warning] Accuracy may be bad since you didn't explicitly set num_leaves OR 2^max_depth > num_leaves. (num_leaves=31).\n",
      "[LightGBM] [Warning] Accuracy may be bad since you didn't explicitly set num_leaves OR 2^max_depth > num_leaves. (num_leaves=31).\n",
      "[LightGBM] [Warning] Accuracy may be bad since you didn't explicitly set num_leaves OR 2^max_depth > num_leaves. (num_leaves=31).\n",
      "[LightGBM] [Warning] Accuracy may be bad since you didn't explicitly set num_leaves OR 2^max_depth > num_leaves. (num_leaves=31).\n",
      "[LightGBM] [Warning] Accuracy may be bad since you didn't explicitly set num_leaves OR 2^max_depth > num_leaves. (num_leaves=31).\n",
      "[LightGBM] [Warning] Accuracy may be bad since you didn't explicitly set num_leaves OR 2^max_depth > num_leaves. (num_leaves=31).\n",
      "[LightGBM] [Warning] Accuracy may be bad since you didn't explicitly set num_leaves OR 2^max_depth > num_leaves. (num_leaves=31).\n",
      "[LightGBM] [Warning] Accuracy may be bad since you didn't explicitly set num_leaves OR 2^max_depth > num_leaves. (num_leaves=31).\n",
      "[LightGBM] [Warning] Accuracy may be bad since you didn't explicitly set num_leaves OR 2^max_depth > num_leaves. (num_leaves=31).\n",
      "[LightGBM] [Warning] Accuracy may be bad since you didn't explicitly set num_leaves OR 2^max_depth > num_leaves. (num_leaves=31).\n",
      "[LightGBM] [Warning] Accuracy may be bad since you didn't explicitly set num_leaves OR 2^max_depth > num_leaves. (num_leaves=31).\n",
      "[LightGBM] [Warning] Accuracy may be bad since you didn't explicitly set num_leaves OR 2^max_depth > num_leaves. (num_leaves=31).\n",
      "[LightGBM] [Warning] Accuracy may be bad since you didn't explicitly set num_leaves OR 2^max_depth > num_leaves. (num_leaves=31).\n",
      "[LightGBM] [Warning] Accuracy may be bad since you didn't explicitly set num_leaves OR 2^max_depth > num_leaves. (num_leaves=31).\n",
      "[LightGBM] [Warning] Accuracy may be bad since you didn't explicitly set num_leaves OR 2^max_depth > num_leaves. (num_leaves=31).\n",
      "[LightGBM] [Warning] Accuracy may be bad since you didn't explicitly set num_leaves OR 2^max_depth > num_leaves. (num_leaves=31).\n",
      "[LightGBM] [Warning] Accuracy may be bad since you didn't explicitly set num_leaves OR 2^max_depth > num_leaves. (num_leaves=31).\n",
      "[LightGBM] [Warning] Accuracy may be bad since you didn't explicitly set num_leaves OR 2^max_depth > num_leaves. (num_leaves=31).\n",
      "[LightGBM] [Warning] Accuracy may be bad since you didn't explicitly set num_leaves OR 2^max_depth > num_leaves. (num_leaves=31).\n",
      "Лучшие параметры: {'learning_rate': 0.1, 'max_depth': 7, 'n_estimators': 1000}\n"
     ]
    }
   ],
   "source": [
    "\n",
    "# Создание объекта GridSearchCV\n",
    "grid_search = GridSearchCV(estimator=lgb_model, \n",
    "                           param_grid=param_grid, \n",
    "                           cv=3, \n",
    "                           scoring='neg_mean_squared_error', \n",
    "                           verbose=0\n",
    "                          )\n",
    "\n",
    "# Обучение на тренировочных данных\n",
    "grid_search.fit(X_train_gbm, y_train)\n",
    "\n",
    "# Вывод лучших параметров\n",
    "print(\"Лучшие параметры:\", grid_search.best_params_)\n",
    "\n",
    "# Лучшие гиперпараметры\n",
    "best_lgb_parameters = grid_search.best_params_"
   ]
  },
  {
   "cell_type": "markdown",
   "id": "aebdc456",
   "metadata": {},
   "source": [
    "**Обучение модели.**"
   ]
  },
  {
   "cell_type": "code",
   "execution_count": 63,
   "id": "bf688d8c",
   "metadata": {
    "scrolled": true
   },
   "outputs": [
    {
     "name": "stdout",
     "output_type": "stream",
     "text": [
      "[LightGBM] [Warning] Accuracy may be bad since you didn't explicitly set num_leaves OR 2^max_depth > num_leaves. (num_leaves=31).\n",
      "[LightGBM] [Warning] Auto-choosing row-wise multi-threading, the overhead of testing was 0.006085 seconds.\n",
      "You can set `force_row_wise=true` to remove the overhead.\n",
      "And if memory is not enough, you can set `force_col_wise=true`.\n",
      "[LightGBM] [Info] Total Bins 583\n",
      "[LightGBM] [Info] Number of data points in the train set: 170859, number of used features: 9\n",
      "[LightGBM] [Info] Start training from score 4785.598359\n",
      "[LightGBM] [Warning] No further splits with positive gain, best gain: -inf\n",
      "[LightGBM] [Warning] No further splits with positive gain, best gain: -inf\n",
      "[LightGBM] [Warning] No further splits with positive gain, best gain: -inf\n",
      "[LightGBM] [Warning] No further splits with positive gain, best gain: -inf\n",
      "[LightGBM] [Warning] No further splits with positive gain, best gain: -inf\n",
      "[LightGBM] [Warning] No further splits with positive gain, best gain: -inf\n",
      "[LightGBM] [Warning] No further splits with positive gain, best gain: -inf\n",
      "[LightGBM] [Warning] No further splits with positive gain, best gain: -inf\n",
      "[LightGBM] [Warning] No further splits with positive gain, best gain: -inf\n",
      "[LightGBM] [Warning] No further splits with positive gain, best gain: -inf\n",
      "[LightGBM] [Warning] No further splits with positive gain, best gain: -inf\n",
      "[LightGBM] [Warning] No further splits with positive gain, best gain: -inf\n",
      "[LightGBM] [Warning] No further splits with positive gain, best gain: -inf\n",
      "[LightGBM] [Warning] No further splits with positive gain, best gain: -inf\n",
      "[LightGBM] [Warning] No further splits with positive gain, best gain: -inf\n",
      "[LightGBM] [Warning] No further splits with positive gain, best gain: -inf\n",
      "[LightGBM] [Warning] No further splits with positive gain, best gain: -inf\n",
      "[LightGBM] [Warning] No further splits with positive gain, best gain: -inf\n",
      "[LightGBM] [Warning] No further splits with positive gain, best gain: -inf\n",
      "[LightGBM] [Warning] No further splits with positive gain, best gain: -inf\n",
      "[LightGBM] [Warning] No further splits with positive gain, best gain: -inf\n",
      "[LightGBM] [Warning] No further splits with positive gain, best gain: -inf\n",
      "[LightGBM] [Warning] No further splits with positive gain, best gain: -inf\n",
      "[LightGBM] [Warning] No further splits with positive gain, best gain: -inf\n",
      "[LightGBM] [Warning] No further splits with positive gain, best gain: -inf\n",
      "[LightGBM] [Warning] No further splits with positive gain, best gain: -inf\n",
      "[LightGBM] [Warning] No further splits with positive gain, best gain: -inf\n",
      "[LightGBM] [Warning] No further splits with positive gain, best gain: -inf\n",
      "[LightGBM] [Warning] No further splits with positive gain, best gain: -inf\n",
      "[LightGBM] [Warning] No further splits with positive gain, best gain: -inf\n",
      "[LightGBM] [Warning] No further splits with positive gain, best gain: -inf\n",
      "[LightGBM] [Warning] No further splits with positive gain, best gain: -inf\n",
      "CPU times: user 30.8 s, sys: 1.18 s, total: 32 s\n",
      "Wall time: 5.2 s\n"
     ]
    }
   ],
   "source": [
    "%%time\n",
    "start_gbm_train = time.time()\n",
    "# формирование сета данных для модели\n",
    "\n",
    "train_data = lgb.Dataset ( X_train_gbm , label = y_train , feature_name = gbm_features ,\n",
    "                           categorical_feature = cat_features\n",
    "                           )\n",
    "\n",
    "# обучение модели\n",
    "\n",
    "num_round = 10000\n",
    "lgb_model = lgb.train(best_lgb_parameters, train_data, num_round)\n",
    "end_gbm_train = time.time()\n",
    "\n",
    "#Cumulative ML work time\n",
    "LightGBM_time_train += end_gbm_train - start_gbm_train"
   ]
  },
  {
   "cell_type": "code",
   "execution_count": 64,
   "id": "1dee84ce",
   "metadata": {},
   "outputs": [
    {
     "name": "stdout",
     "output_type": "stream",
     "text": [
      "RMSE модели на базе библиотеки LGBM 1742.825798758418\n",
      "CPU times: user 2.21 s, sys: 12.9 ms, total: 2.23 s\n",
      "Wall time: 353 ms\n"
     ]
    }
   ],
   "source": [
    "%%time\n",
    "\n",
    "X_test_gbm = X_valid.copy()\n",
    "start_gbm_predict = time.time()\n",
    "\n",
    "for cat in cat_features:\n",
    "    X_test_gbm[cat] = X_test_gbm[cat].astype('category')\n",
    "\n",
    "\n",
    "\n",
    "ypred = lgb_model.predict(X_test_gbm)\n",
    "gbm_rmse = mean_squared_error(y_valid, ypred) ** 0.5\n",
    "\n",
    "end_gbm_predict = time.time()\n",
    "LightGBM_time_predict += end_gbm_predict - start_gbm_predict\n",
    "\n",
    "print(f'RMSE модели на базе библиотеки LGBM {gbm_rmse}')"
   ]
  },
  {
   "cell_type": "markdown",
   "id": "207ad465",
   "metadata": {},
   "source": [
    "Добавление результатов в сводную таблицу."
   ]
  },
  {
   "cell_type": "code",
   "execution_count": 65,
   "id": "40ef837f",
   "metadata": {},
   "outputs": [],
   "source": [
    "new_result = {'ML type': 'LightGBM',\n",
    "        'change description':'LightGBM comparison',\n",
    "        'RMSE':gbm_rmse.round(2),\n",
    "        'learning_time':LightGBM_time_train,\n",
    "        'prediction_time':LightGBM_time_predict\n",
    "       }"
   ]
  },
  {
   "cell_type": "code",
   "execution_count": 66,
   "id": "60cc5fc3",
   "metadata": {
    "scrolled": true
   },
   "outputs": [
    {
     "data": {
      "text/html": [
       "<div>\n",
       "<style scoped>\n",
       "    .dataframe tbody tr th:only-of-type {\n",
       "        vertical-align: middle;\n",
       "    }\n",
       "\n",
       "    .dataframe tbody tr th {\n",
       "        vertical-align: top;\n",
       "    }\n",
       "\n",
       "    .dataframe thead th {\n",
       "        text-align: right;\n",
       "    }\n",
       "</style>\n",
       "<table border=\"1\" class=\"dataframe\">\n",
       "  <thead>\n",
       "    <tr style=\"text-align: right;\">\n",
       "      <th></th>\n",
       "      <th>ML type</th>\n",
       "      <th>change description</th>\n",
       "      <th>RMSE</th>\n",
       "      <th>learning_time</th>\n",
       "      <th>prediction_time</th>\n",
       "    </tr>\n",
       "  </thead>\n",
       "  <tbody>\n",
       "    <tr>\n",
       "      <th>0</th>\n",
       "      <td>LightGBM</td>\n",
       "      <td>LightGBM comparison</td>\n",
       "      <td>1742.83</td>\n",
       "      <td>5.203573</td>\n",
       "      <td>0.352361</td>\n",
       "    </tr>\n",
       "  </tbody>\n",
       "</table>\n",
       "</div>"
      ],
      "text/plain": [
       "    ML type   change description     RMSE  learning_time  prediction_time\n",
       "0  LightGBM  LightGBM comparison  1742.83       5.203573         0.352361"
      ]
     },
     "execution_count": 66,
     "metadata": {},
     "output_type": "execute_result"
    }
   ],
   "source": [
    "experiment = experiment.append(new_result, ignore_index=True)\n",
    "experiment"
   ]
  },
  {
   "cell_type": "markdown",
   "id": "08578a1a",
   "metadata": {},
   "source": [
    "**Вывод:**\n",
    "\n",
    " - Из сводной таблицы видно, что модель LightGBM ускоряет обучение модели почти в 8 раз по сравнению с базовой моделью. Скорость предсказания модели увеличивается незначительно, а метрика RMSE увеличивается приблизительно на 100."
   ]
  },
  {
   "cell_type": "markdown",
   "id": "4daa774f",
   "metadata": {},
   "source": [
    "## CatBoost"
   ]
  },
  {
   "cell_type": "markdown",
   "id": "9f9ac204",
   "metadata": {},
   "source": [
    "**Подбор гиперпараметров.**"
   ]
  },
  {
   "cell_type": "code",
   "execution_count": 67,
   "id": "19d0622b",
   "metadata": {
    "scrolled": true
   },
   "outputs": [],
   "source": [
    "param_grid = {\n",
    "    'iterations' : range(100, 1000, 100),\n",
    "    'depth' : range(1, 10, 2),\n",
    "    'learning_rate': [0.01, 0.1, 0.2]\n",
    "}"
   ]
  },
  {
   "cell_type": "code",
   "execution_count": 68,
   "id": "f77845e9",
   "metadata": {},
   "outputs": [],
   "source": [
    "# Инициализация модели\n",
    "cbr_model = cb.CatBoostRegressor()"
   ]
  },
  {
   "cell_type": "code",
   "execution_count": 69,
   "id": "5b5c662d",
   "metadata": {},
   "outputs": [],
   "source": [
    "# Создание объекта GridSearchCV\n",
    "grid_search = GridSearchCV(estimator=cbr_model, \n",
    "                           param_grid=param_grid, \n",
    "                           cv=3, \n",
    "                           scoring='neg_mean_squared_error', \n",
    "                           verbose=1\n",
    "                          )"
   ]
  },
  {
   "cell_type": "code",
   "execution_count": 70,
   "id": "0f5c20c6",
   "metadata": {},
   "outputs": [
    {
     "name": "stdout",
     "output_type": "stream",
     "text": [
      "Fitting 3 folds for each of 135 candidates, totalling 405 fits\n"
     ]
    },
    {
     "data": {
      "text/plain": [
       "GridSearchCV(cv=3,\n",
       "             estimator=<catboost.core.CatBoostRegressor object at 0x7fc88e6b8130>,\n",
       "             param_grid={'depth': range(1, 10, 2),\n",
       "                         'iterations': range(100, 1000, 100),\n",
       "                         'learning_rate': [0.01, 0.1, 0.2]},\n",
       "             scoring='neg_mean_squared_error', verbose=1)"
      ]
     },
     "execution_count": 70,
     "metadata": {},
     "output_type": "execute_result"
    }
   ],
   "source": [
    "# Обучение на тренировочных данных\n",
    "grid_search.fit(X_train, y_train, cat_features = cat_features, verbose=0)"
   ]
  },
  {
   "cell_type": "code",
   "execution_count": 71,
   "id": "b30c6e51",
   "metadata": {},
   "outputs": [
    {
     "name": "stdout",
     "output_type": "stream",
     "text": [
      "Лучшие параметры: {'depth': 9, 'iterations': 900, 'learning_rate': 0.1}\n"
     ]
    }
   ],
   "source": [
    "# Вывод лучших параметров\n",
    "print(\"Лучшие параметры:\", grid_search.best_params_)\n",
    "\n",
    "# Лучшие гиперпараметры\n",
    "best_cbr_parameters = grid_search.best_params_"
   ]
  },
  {
   "cell_type": "markdown",
   "id": "cb23c9c5",
   "metadata": {},
   "source": [
    "**Обучение модели.**"
   ]
  },
  {
   "cell_type": "code",
   "execution_count": 72,
   "id": "37ff327f",
   "metadata": {},
   "outputs": [],
   "source": [
    "#Счетчи к времени работы модели в секундах.\n",
    "CBR_time_fit = 0\n",
    "CBR_time_predict = 0"
   ]
  },
  {
   "cell_type": "code",
   "execution_count": 73,
   "id": "f6a72c52",
   "metadata": {},
   "outputs": [
    {
     "data": {
      "application/vnd.jupyter.widget-view+json": {
       "model_id": "3d5bb43f1a7449a7aac7929261a8396a",
       "version_major": 2,
       "version_minor": 0
      },
      "text/plain": [
       "MetricVisualizer(layout=Layout(align_self='stretch', height='500px'))"
      ]
     },
     "metadata": {},
     "output_type": "display_data"
    },
    {
     "name": "stdout",
     "output_type": "stream",
     "text": [
      "CPU times: user 14min 41s, sys: 11.3 s, total: 14min 53s\n",
      "Wall time: 2min 30s\n"
     ]
    }
   ],
   "source": [
    "%%time\n",
    "\n",
    "start_cbr_fit = time.time()\n",
    "\n",
    "cbr = cb.CatBoostRegressor(depth = 9, \n",
    "                           iterations = 900,\n",
    "                           learning_rate = 0.1,\n",
    "                            boosting_type='Ordered',\n",
    "                            loss_function='RMSE',\n",
    "                            eval_metric = 'R2'\n",
    "                          )\n",
    "cbr.fit(X_train,y_train, \n",
    "        cat_features = cat_features, \n",
    "        verbose=False,\n",
    "        plot=True)\n",
    "\n",
    "end_cbr_fit = time.time()\n",
    "CBR_time_fit = end_cbr_fit - start_cbr_fit\n"
   ]
  },
  {
   "cell_type": "code",
   "execution_count": 74,
   "id": "0ab5f935",
   "metadata": {},
   "outputs": [
    {
     "name": "stdout",
     "output_type": "stream",
     "text": [
      "Метрика RMSE = 1787.66\n",
      "\n",
      "________________________________\n",
      "\n",
      "CPU times: user 514 ms, sys: 16.8 ms, total: 531 ms\n",
      "Wall time: 126 ms\n"
     ]
    }
   ],
   "source": [
    "%%time\n",
    "start_cbr_predict = time.time()\n",
    "# Определение метрики RMSE\n",
    "cbr.predict\n",
    "rmse = np.sqrt(mean_squared_error(y_valid, cbr.predict(X_valid)))\n",
    "\n",
    "end_cbr_predict = time.time()\n",
    "CBR_time_predict = end_cbr_predict - start_cbr_predict\n",
    "print(f'Метрика RMSE = {rmse.round(2)}')\n",
    "print()\n",
    "print('________________________________')\n",
    "print()"
   ]
  },
  {
   "cell_type": "code",
   "execution_count": 75,
   "id": "9377aaa4",
   "metadata": {},
   "outputs": [],
   "source": [
    "new_result = {'ML type': 'CatBoost',\n",
    "        'change description':'CatBoost comparison',\n",
    "        'RMSE':rmse.round(2),\n",
    "        'learning_time':CBR_time_fit,\n",
    "        'prediction_time':CBR_time_predict\n",
    "       }"
   ]
  },
  {
   "cell_type": "code",
   "execution_count": 76,
   "id": "a9890330",
   "metadata": {
    "scrolled": true
   },
   "outputs": [
    {
     "data": {
      "text/html": [
       "<div>\n",
       "<style scoped>\n",
       "    .dataframe tbody tr th:only-of-type {\n",
       "        vertical-align: middle;\n",
       "    }\n",
       "\n",
       "    .dataframe tbody tr th {\n",
       "        vertical-align: top;\n",
       "    }\n",
       "\n",
       "    .dataframe thead th {\n",
       "        text-align: right;\n",
       "    }\n",
       "</style>\n",
       "<table border=\"1\" class=\"dataframe\">\n",
       "  <thead>\n",
       "    <tr style=\"text-align: right;\">\n",
       "      <th></th>\n",
       "      <th>ML type</th>\n",
       "      <th>change description</th>\n",
       "      <th>RMSE</th>\n",
       "      <th>learning_time</th>\n",
       "      <th>prediction_time</th>\n",
       "    </tr>\n",
       "  </thead>\n",
       "  <tbody>\n",
       "    <tr>\n",
       "      <th>0</th>\n",
       "      <td>LightGBM</td>\n",
       "      <td>LightGBM comparison</td>\n",
       "      <td>1742.83</td>\n",
       "      <td>5.203573</td>\n",
       "      <td>0.352361</td>\n",
       "    </tr>\n",
       "    <tr>\n",
       "      <th>1</th>\n",
       "      <td>CatBoost</td>\n",
       "      <td>CatBoost comparison</td>\n",
       "      <td>1787.66</td>\n",
       "      <td>150.685185</td>\n",
       "      <td>0.125602</td>\n",
       "    </tr>\n",
       "  </tbody>\n",
       "</table>\n",
       "</div>"
      ],
      "text/plain": [
       "    ML type   change description     RMSE  learning_time  prediction_time\n",
       "0  LightGBM  LightGBM comparison  1742.83       5.203573         0.352361\n",
       "1  CatBoost  CatBoost comparison  1787.66     150.685185         0.125602"
      ]
     },
     "execution_count": 76,
     "metadata": {},
     "output_type": "execute_result"
    }
   ],
   "source": [
    "experiment = experiment.append(new_result, ignore_index=True)\n",
    "experiment"
   ]
  },
  {
   "cell_type": "markdown",
   "id": "202f63e4",
   "metadata": {},
   "source": [
    "**Вывод:**\n",
    "\n",
    " - Из сводной таблицы видно, что модель CatBoost с подобранными гиперпараметрами получает метрику RMSE незначительно хуже чем LightGBM, однако время работы больше почти в 60 раз."
   ]
  },
  {
   "cell_type": "markdown",
   "id": "69bc22b5",
   "metadata": {},
   "source": [
    "## LinearRegression and SVR ensemble"
   ]
  },
  {
   "cell_type": "markdown",
   "id": "47965876",
   "metadata": {},
   "source": [
    "Обучение ансамбля моделей на базе линейной регрессии и опорных векторов. \n",
    "- Кодирование категориальных признаков методом OHE;\n",
    "- Стандартизация количественных признаков."
   ]
  },
  {
   "cell_type": "code",
   "execution_count": 77,
   "id": "204de09b",
   "metadata": {
    "scrolled": false
   },
   "outputs": [
    {
     "data": {
      "text/plain": [
       "['RegistrationYear', 'Kilometer', 'Power']"
      ]
     },
     "execution_count": 77,
     "metadata": {},
     "output_type": "execute_result"
    }
   ],
   "source": [
    "num_features = list(set(X_train.columns) - set(cat_features))\n",
    "num_features"
   ]
  },
  {
   "cell_type": "code",
   "execution_count": 78,
   "id": "351e24de",
   "metadata": {},
   "outputs": [],
   "source": [
    "#Счетчик времени, затраченного на модель.\n",
    "ensemble_time_fit = 0\n",
    "ensemble_time_predict = 0"
   ]
  },
  {
   "cell_type": "markdown",
   "id": "c1795349",
   "metadata": {},
   "source": [
    "Построение пайплайна."
   ]
  },
  {
   "cell_type": "code",
   "execution_count": 79,
   "id": "d2c74997",
   "metadata": {},
   "outputs": [],
   "source": [
    "#Стандартизация признаков.\n",
    "numeric_transformer = StandardScaler()\n",
    "#Зашифровка катигориальных признаков методом OHE.\n",
    "categorical_transformer = OneHotEncoder() #np.nan\n",
    "\n",
    "preprocessor = ColumnTransformer (\n",
    "    transformers = [\n",
    "        ('num' , numeric_transformer , num_features) ,\n",
    "        ('cat' , categorical_transformer , cat_features) ]\n",
    "    )"
   ]
  },
  {
   "cell_type": "code",
   "execution_count": 80,
   "id": "7a49b6ae",
   "metadata": {},
   "outputs": [
    {
     "name": "stdout",
     "output_type": "stream",
     "text": [
      "CPU times: user 376 ms, sys: 53.9 ms, total: 430 ms\n",
      "Wall time: 433 ms\n"
     ]
    }
   ],
   "source": [
    "%%time\n",
    "ensemble_start = time.time()\n",
    "\n",
    "X_train_reg = preprocessor.fit_transform(X_train)\n",
    "X_valid_reg  = preprocessor.transform(X_valid)\n",
    "\n",
    "ensemble_end = time.time()\n",
    "ensemble_time = ensemble_end - ensemble_start\n"
   ]
  },
  {
   "cell_type": "code",
   "execution_count": 81,
   "id": "65bfc80d",
   "metadata": {},
   "outputs": [
    {
     "data": {
      "text/plain": [
       "((170859, 314), (22782, 314))"
      ]
     },
     "execution_count": 81,
     "metadata": {},
     "output_type": "execute_result"
    }
   ],
   "source": [
    "#Feature value analysis,\n",
    "X_train_reg.shape, X_valid_reg.shape"
   ]
  },
  {
   "cell_type": "code",
   "execution_count": 82,
   "id": "72b06ac6",
   "metadata": {},
   "outputs": [
    {
     "data": {
      "text/html": [
       "<div>\n",
       "<style scoped>\n",
       "    .dataframe tbody tr th:only-of-type {\n",
       "        vertical-align: middle;\n",
       "    }\n",
       "\n",
       "    .dataframe tbody tr th {\n",
       "        vertical-align: top;\n",
       "    }\n",
       "\n",
       "    .dataframe thead th {\n",
       "        text-align: right;\n",
       "    }\n",
       "</style>\n",
       "<table border=\"1\" class=\"dataframe\">\n",
       "  <thead>\n",
       "    <tr style=\"text-align: right;\">\n",
       "      <th></th>\n",
       "      <th>VehicleType</th>\n",
       "      <th>RegistrationYear</th>\n",
       "      <th>Gearbox</th>\n",
       "      <th>Power</th>\n",
       "      <th>Model</th>\n",
       "      <th>Kilometer</th>\n",
       "      <th>FuelType</th>\n",
       "      <th>Brand</th>\n",
       "      <th>Repaired</th>\n",
       "    </tr>\n",
       "  </thead>\n",
       "  <tbody>\n",
       "    <tr>\n",
       "      <th>219660</th>\n",
       "      <td>wagon</td>\n",
       "      <td>2002</td>\n",
       "      <td>manual</td>\n",
       "      <td>107</td>\n",
       "      <td>3_reihe</td>\n",
       "      <td>150000</td>\n",
       "      <td>petrol</td>\n",
       "      <td>peugeot</td>\n",
       "      <td>no</td>\n",
       "    </tr>\n",
       "    <tr>\n",
       "      <th>252540</th>\n",
       "      <td>sedan</td>\n",
       "      <td>2011</td>\n",
       "      <td>auto</td>\n",
       "      <td>190</td>\n",
       "      <td>a4</td>\n",
       "      <td>150000</td>\n",
       "      <td>petrol</td>\n",
       "      <td>audi</td>\n",
       "      <td>no</td>\n",
       "    </tr>\n",
       "    <tr>\n",
       "      <th>138622</th>\n",
       "      <td>coupe</td>\n",
       "      <td>1999</td>\n",
       "      <td>manual</td>\n",
       "      <td>150</td>\n",
       "      <td>3er</td>\n",
       "      <td>150000</td>\n",
       "      <td>petrol</td>\n",
       "      <td>bmw</td>\n",
       "      <td>no</td>\n",
       "    </tr>\n",
       "    <tr>\n",
       "      <th>9310</th>\n",
       "      <td>convertible</td>\n",
       "      <td>2001</td>\n",
       "      <td>auto</td>\n",
       "      <td>203</td>\n",
       "      <td>other</td>\n",
       "      <td>150000</td>\n",
       "      <td>petrol</td>\n",
       "      <td>chrysler</td>\n",
       "      <td>no_info</td>\n",
       "    </tr>\n",
       "    <tr>\n",
       "      <th>3689</th>\n",
       "      <td>sedan</td>\n",
       "      <td>1999</td>\n",
       "      <td>auto</td>\n",
       "      <td>102</td>\n",
       "      <td>e_klasse</td>\n",
       "      <td>40000</td>\n",
       "      <td>petrol</td>\n",
       "      <td>mercedes_benz</td>\n",
       "      <td>no</td>\n",
       "    </tr>\n",
       "    <tr>\n",
       "      <th>...</th>\n",
       "      <td>...</td>\n",
       "      <td>...</td>\n",
       "      <td>...</td>\n",
       "      <td>...</td>\n",
       "      <td>...</td>\n",
       "      <td>...</td>\n",
       "      <td>...</td>\n",
       "      <td>...</td>\n",
       "      <td>...</td>\n",
       "    </tr>\n",
       "    <tr>\n",
       "      <th>158838</th>\n",
       "      <td>bus</td>\n",
       "      <td>2001</td>\n",
       "      <td>manual</td>\n",
       "      <td>131</td>\n",
       "      <td>other</td>\n",
       "      <td>150000</td>\n",
       "      <td>petrol</td>\n",
       "      <td>volkswagen</td>\n",
       "      <td>no</td>\n",
       "    </tr>\n",
       "    <tr>\n",
       "      <th>47873</th>\n",
       "      <td>sedan</td>\n",
       "      <td>2001</td>\n",
       "      <td>manual</td>\n",
       "      <td>98</td>\n",
       "      <td>3_reihe</td>\n",
       "      <td>150000</td>\n",
       "      <td>petrol</td>\n",
       "      <td>mazda</td>\n",
       "      <td>no</td>\n",
       "    </tr>\n",
       "    <tr>\n",
       "      <th>86398</th>\n",
       "      <td>coupe</td>\n",
       "      <td>2000</td>\n",
       "      <td>manual</td>\n",
       "      <td>133</td>\n",
       "      <td>other</td>\n",
       "      <td>150000</td>\n",
       "      <td>petrol</td>\n",
       "      <td>honda</td>\n",
       "      <td>no</td>\n",
       "    </tr>\n",
       "    <tr>\n",
       "      <th>77285</th>\n",
       "      <td>sedan</td>\n",
       "      <td>2002</td>\n",
       "      <td>auto</td>\n",
       "      <td>109</td>\n",
       "      <td>no_info</td>\n",
       "      <td>150000</td>\n",
       "      <td>petrol</td>\n",
       "      <td>peugeot</td>\n",
       "      <td>no</td>\n",
       "    </tr>\n",
       "    <tr>\n",
       "      <th>217570</th>\n",
       "      <td>small</td>\n",
       "      <td>2003</td>\n",
       "      <td>manual</td>\n",
       "      <td>0</td>\n",
       "      <td>lupo</td>\n",
       "      <td>150000</td>\n",
       "      <td>petrol</td>\n",
       "      <td>volkswagen</td>\n",
       "      <td>no_info</td>\n",
       "    </tr>\n",
       "  </tbody>\n",
       "</table>\n",
       "<p>170859 rows × 9 columns</p>\n",
       "</div>"
      ],
      "text/plain": [
       "        VehicleType  RegistrationYear Gearbox  Power     Model  Kilometer  \\\n",
       "219660        wagon              2002  manual    107   3_reihe     150000   \n",
       "252540        sedan              2011    auto    190        a4     150000   \n",
       "138622        coupe              1999  manual    150       3er     150000   \n",
       "9310    convertible              2001    auto    203     other     150000   \n",
       "3689          sedan              1999    auto    102  e_klasse      40000   \n",
       "...             ...               ...     ...    ...       ...        ...   \n",
       "158838          bus              2001  manual    131     other     150000   \n",
       "47873         sedan              2001  manual     98   3_reihe     150000   \n",
       "86398         coupe              2000  manual    133     other     150000   \n",
       "77285         sedan              2002    auto    109   no_info     150000   \n",
       "217570        small              2003  manual      0      lupo     150000   \n",
       "\n",
       "       FuelType          Brand Repaired  \n",
       "219660   petrol        peugeot       no  \n",
       "252540   petrol           audi       no  \n",
       "138622   petrol            bmw       no  \n",
       "9310     petrol       chrysler  no_info  \n",
       "3689     petrol  mercedes_benz       no  \n",
       "...         ...            ...      ...  \n",
       "158838   petrol     volkswagen       no  \n",
       "47873    petrol          mazda       no  \n",
       "86398    petrol          honda       no  \n",
       "77285    petrol        peugeot       no  \n",
       "217570   petrol     volkswagen  no_info  \n",
       "\n",
       "[170859 rows x 9 columns]"
      ]
     },
     "execution_count": 82,
     "metadata": {},
     "output_type": "execute_result"
    }
   ],
   "source": [
    "X_train"
   ]
  },
  {
   "cell_type": "markdown",
   "id": "6a17d5c8",
   "metadata": {},
   "source": [
    "**Подбор гиперпараметров.**"
   ]
  },
  {
   "cell_type": "code",
   "execution_count": 83,
   "id": "788e4892",
   "metadata": {},
   "outputs": [],
   "source": [
    "param_grid = {\n",
    "    'C': [0.1, 1.0, 10.0],  # Регуляризационный параметр C\n",
    "    'epsilon': [0.1, 0.5, 1.0],  # Параметр epsilon\n",
    "    'loss': ['epsilon_insensitive', 'squared_epsilon_insensitive']\n",
    "}"
   ]
  },
  {
   "cell_type": "code",
   "execution_count": 84,
   "id": "9bf13ffb",
   "metadata": {},
   "outputs": [],
   "source": [
    "# Экземпляр модели LinearSVR\n",
    "svr_reg = LinearSVR(random_state=42)"
   ]
  },
  {
   "cell_type": "code",
   "execution_count": 85,
   "id": "380fd420",
   "metadata": {},
   "outputs": [
    {
     "name": "stdout",
     "output_type": "stream",
     "text": [
      "Fitting 3 folds for each of 18 candidates, totalling 54 fits\n"
     ]
    },
    {
     "data": {
      "text/plain": [
       "GridSearchCV(cv=3, estimator=LinearSVR(random_state=42),\n",
       "             param_grid={'C': [0.1, 1.0, 10.0], 'epsilon': [0.1, 0.5, 1.0],\n",
       "                         'loss': ['epsilon_insensitive',\n",
       "                                  'squared_epsilon_insensitive']},\n",
       "             scoring='neg_mean_squared_error', verbose=1)"
      ]
     },
     "execution_count": 85,
     "metadata": {},
     "output_type": "execute_result"
    }
   ],
   "source": [
    "# Инициализация объекта GridSearchCV для поиска лучших параметров\n",
    "grid_search_svr = GridSearchCV(estimator=svr_reg, \n",
    "                               param_grid=param_grid, \n",
    "                               cv=3, \n",
    "                               scoring='neg_mean_squared_error', \n",
    "                               verbose=1)\n",
    "\n",
    "# Обучите модель на тренировочных данных\n",
    "grid_search_svr.fit(X_train_reg, y_train)"
   ]
  },
  {
   "cell_type": "code",
   "execution_count": 86,
   "id": "6c6b2c7a",
   "metadata": {},
   "outputs": [
    {
     "name": "stdout",
     "output_type": "stream",
     "text": [
      "Лучшие параметры для LinearSVR: {'C': 1.0, 'epsilon': 0.1, 'loss': 'squared_epsilon_insensitive'}\n"
     ]
    }
   ],
   "source": [
    "# Выведиение лучших результатов\n",
    "print(\"Лучшие параметры для LinearSVR:\", grid_search_svr.best_params_)\n",
    "\n",
    "# Лучшие гиперпараметры\n",
    "best_svr_parameters = grid_search.best_params_"
   ]
  },
  {
   "cell_type": "markdown",
   "id": "7fefa403",
   "metadata": {},
   "source": [
    "**Обучение модели.**"
   ]
  },
  {
   "cell_type": "code",
   "execution_count": 87,
   "id": "93a86398",
   "metadata": {},
   "outputs": [
    {
     "name": "stdout",
     "output_type": "stream",
     "text": [
      "CPU times: user 11 s, sys: 123 ms, total: 11.2 s\n",
      "Wall time: 2.9 s\n"
     ]
    }
   ],
   "source": [
    "%%time\n",
    "voting_start_fit = time.time()\n",
    "\n",
    "lin_reg = LinearRegression()\n",
    "\n",
    "svr_reg = LinearSVR(epsilon = 0.1, random_state=42)\n",
    "voting_reg = VotingRegressor(\n",
    "    estimators=[('lr', lin_reg), ('svr', svr_reg)])\n",
    "\n",
    "voting_reg.fit(X_train_reg, y_train)\n",
    "\n",
    "voting_end_fit = time.time()\n",
    "ensemble_time_fit += voting_end_fit - voting_start_fit"
   ]
  },
  {
   "cell_type": "code",
   "execution_count": 88,
   "id": "7abf9542",
   "metadata": {
    "scrolled": false
   },
   "outputs": [
    {
     "name": "stdout",
     "output_type": "stream",
     "text": [
      "RMSE модели на базе библиотеки Sklearn - ансамбль 2722.0280030720915\n",
      "CPU times: user 3.66 ms, sys: 3.49 ms, total: 7.15 ms\n",
      "Wall time: 5.31 ms\n"
     ]
    }
   ],
   "source": [
    "%%time\n",
    "voting_start_predict = time.time()\n",
    "\n",
    "vot_pred = voting_reg.predict(X_valid_reg)\n",
    "vot_rmse = mean_squared_error(y_valid, vot_pred) ** 0.5\n",
    "\n",
    "voting_end_predict = time.time()\n",
    "ensemble_time_predict += voting_end_predict - voting_start_predict\n",
    "\n",
    "print(f'RMSE модели на базе библиотеки Sklearn - ансамбль {vot_rmse}')"
   ]
  },
  {
   "cell_type": "code",
   "execution_count": 89,
   "id": "a24eafb5",
   "metadata": {},
   "outputs": [],
   "source": [
    "\n",
    "new_result = {'ML type': 'LinearRegression and SVR ensemble',\n",
    "        'change description':'LinearRegression and SVR ensemble comparison',\n",
    "        'RMSE':vot_rmse.round(2),\n",
    "        'learning_time':ensemble_time_fit,\n",
    "        'prediction_time':ensemble_time_predict\n",
    "       }"
   ]
  },
  {
   "cell_type": "code",
   "execution_count": 90,
   "id": "1c64949f",
   "metadata": {},
   "outputs": [
    {
     "data": {
      "text/html": [
       "<div>\n",
       "<style scoped>\n",
       "    .dataframe tbody tr th:only-of-type {\n",
       "        vertical-align: middle;\n",
       "    }\n",
       "\n",
       "    .dataframe tbody tr th {\n",
       "        vertical-align: top;\n",
       "    }\n",
       "\n",
       "    .dataframe thead th {\n",
       "        text-align: right;\n",
       "    }\n",
       "</style>\n",
       "<table border=\"1\" class=\"dataframe\">\n",
       "  <thead>\n",
       "    <tr style=\"text-align: right;\">\n",
       "      <th></th>\n",
       "      <th>ML type</th>\n",
       "      <th>change description</th>\n",
       "      <th>RMSE</th>\n",
       "      <th>learning_time</th>\n",
       "      <th>prediction_time</th>\n",
       "    </tr>\n",
       "  </thead>\n",
       "  <tbody>\n",
       "    <tr>\n",
       "      <th>0</th>\n",
       "      <td>LightGBM</td>\n",
       "      <td>LightGBM comparison</td>\n",
       "      <td>1742.83</td>\n",
       "      <td>5.203573</td>\n",
       "      <td>0.352361</td>\n",
       "    </tr>\n",
       "    <tr>\n",
       "      <th>1</th>\n",
       "      <td>CatBoost</td>\n",
       "      <td>CatBoost comparison</td>\n",
       "      <td>1787.66</td>\n",
       "      <td>150.685185</td>\n",
       "      <td>0.125602</td>\n",
       "    </tr>\n",
       "    <tr>\n",
       "      <th>2</th>\n",
       "      <td>LinearRegression and SVR ensemble</td>\n",
       "      <td>LinearRegression and SVR ensemble comparison</td>\n",
       "      <td>2722.03</td>\n",
       "      <td>2.904679</td>\n",
       "      <td>0.005138</td>\n",
       "    </tr>\n",
       "  </tbody>\n",
       "</table>\n",
       "</div>"
      ],
      "text/plain": [
       "                             ML type  \\\n",
       "0                           LightGBM   \n",
       "1                           CatBoost   \n",
       "2  LinearRegression and SVR ensemble   \n",
       "\n",
       "                             change description     RMSE  learning_time  \\\n",
       "0                           LightGBM comparison  1742.83       5.203573   \n",
       "1                           CatBoost comparison  1787.66     150.685185   \n",
       "2  LinearRegression and SVR ensemble comparison  2722.03       2.904679   \n",
       "\n",
       "   prediction_time  \n",
       "0         0.352361  \n",
       "1         0.125602  \n",
       "2         0.005138  "
      ]
     },
     "execution_count": 90,
     "metadata": {},
     "output_type": "execute_result"
    }
   ],
   "source": [
    "experiment = experiment.append(new_result, ignore_index=True)\n",
    "experiment"
   ]
  },
  {
   "cell_type": "markdown",
   "id": "09fbbef5",
   "metadata": {},
   "source": [
    "**Вывод:**\n",
    "\n",
    " - Из сводной таблицы видно, что ансамбль моделей LinearRegression и SVR с подобранными гиперпараметрами получает метрику RMSE хуже чем LightGBM в полтора раза. Однако время обучения равно 2 с, а время предсказания меньше на два порядка."
   ]
  },
  {
   "cell_type": "markdown",
   "id": "d9cc2a2e",
   "metadata": {},
   "source": [
    "# Проверка результатов на тестовой выборке."
   ]
  },
  {
   "cell_type": "markdown",
   "id": "bb747a92",
   "metadata": {},
   "source": [
    "Исходя из метрики RMSE времени обучения модели и времени, за которое она делает предсказание, определено, что лучшей моделю для определения стоимости автомобиля является LightGBM.\n",
    "\n",
    "Для проверки работоспособности модели производится определение метрики RMSE и ввремени работы модели на тестовой моделе."
   ]
  },
  {
   "cell_type": "code",
   "execution_count": 91,
   "id": "7e92ab61",
   "metadata": {},
   "outputs": [],
   "source": [
    "LightGBM_time_train = 0\n",
    "LightGBM_time_predict = 0"
   ]
  },
  {
   "cell_type": "code",
   "execution_count": 92,
   "id": "a20ae143",
   "metadata": {},
   "outputs": [
    {
     "name": "stdout",
     "output_type": "stream",
     "text": [
      "[LightGBM] [Warning] Accuracy may be bad since you didn't explicitly set num_leaves OR 2^max_depth > num_leaves. (num_leaves=31).\n",
      "[LightGBM] [Warning] Accuracy may be bad since you didn't explicitly set num_leaves OR 2^max_depth > num_leaves. (num_leaves=31).\n",
      "[LightGBM] [Warning] Auto-choosing row-wise multi-threading, the overhead of testing was 0.004127 seconds.\n",
      "You can set `force_row_wise=true` to remove the overhead.\n",
      "And if memory is not enough, you can set `force_col_wise=true`.\n",
      "[LightGBM] [Info] Total Bins 583\n",
      "[LightGBM] [Info] Number of data points in the train set: 170859, number of used features: 9\n",
      "[LightGBM] [Info] Start training from score 4785.598359\n",
      "[LightGBM] [Warning] No further splits with positive gain, best gain: -inf\n",
      "[LightGBM] [Warning] No further splits with positive gain, best gain: -inf\n",
      "[LightGBM] [Warning] No further splits with positive gain, best gain: -inf\n",
      "[LightGBM] [Warning] No further splits with positive gain, best gain: -inf\n",
      "[LightGBM] [Warning] No further splits with positive gain, best gain: -inf\n",
      "[LightGBM] [Warning] No further splits with positive gain, best gain: -inf\n",
      "[LightGBM] [Warning] No further splits with positive gain, best gain: -inf\n",
      "[LightGBM] [Warning] No further splits with positive gain, best gain: -inf\n",
      "[LightGBM] [Warning] No further splits with positive gain, best gain: -inf\n",
      "[LightGBM] [Warning] No further splits with positive gain, best gain: -inf\n",
      "[LightGBM] [Warning] No further splits with positive gain, best gain: -inf\n",
      "[LightGBM] [Warning] No further splits with positive gain, best gain: -inf\n",
      "[LightGBM] [Warning] No further splits with positive gain, best gain: -inf\n",
      "[LightGBM] [Warning] No further splits with positive gain, best gain: -inf\n",
      "[LightGBM] [Warning] No further splits with positive gain, best gain: -inf\n",
      "[LightGBM] [Warning] No further splits with positive gain, best gain: -inf\n",
      "[LightGBM] [Warning] No further splits with positive gain, best gain: -inf\n",
      "[LightGBM] [Warning] No further splits with positive gain, best gain: -inf\n",
      "[LightGBM] [Warning] No further splits with positive gain, best gain: -inf\n",
      "[LightGBM] [Warning] No further splits with positive gain, best gain: -inf\n",
      "[LightGBM] [Warning] No further splits with positive gain, best gain: -inf\n",
      "[LightGBM] [Warning] No further splits with positive gain, best gain: -inf\n",
      "[LightGBM] [Warning] No further splits with positive gain, best gain: -inf\n",
      "[LightGBM] [Warning] No further splits with positive gain, best gain: -inf\n",
      "[LightGBM] [Warning] No further splits with positive gain, best gain: -inf\n",
      "[LightGBM] [Warning] No further splits with positive gain, best gain: -inf\n",
      "[LightGBM] [Warning] No further splits with positive gain, best gain: -inf\n",
      "[LightGBM] [Warning] No further splits with positive gain, best gain: -inf\n",
      "[LightGBM] [Warning] No further splits with positive gain, best gain: -inf\n",
      "[LightGBM] [Warning] No further splits with positive gain, best gain: -inf\n",
      "[LightGBM] [Warning] No further splits with positive gain, best gain: -inf\n",
      "[LightGBM] [Warning] No further splits with positive gain, best gain: -inf\n",
      "CPU times: user 30.2 s, sys: 980 ms, total: 31.2 s\n",
      "Wall time: 4.63 s\n"
     ]
    }
   ],
   "source": [
    "%%time\n",
    "#Обучение модели\n",
    "start_gbm_train = time.time()\n",
    "# формирование сета данных для модели\n",
    "\n",
    "train_data = lgb.Dataset ( X_train_gbm , label = y_train , feature_name = gbm_features ,\n",
    "                           categorical_feature = cat_features\n",
    "                           )\n",
    "\n",
    "# обучение модели\n",
    "\n",
    "num_round = 10000\n",
    "lgb_model = lgb.train(best_lgb_parameters, train_data, num_round)\n",
    "end_gbm_train = time.time()\n",
    "\n",
    "#Cumulative ML work time\n",
    "LightGBM_time_train += end_gbm_train - start_gbm_train"
   ]
  },
  {
   "cell_type": "code",
   "execution_count": 93,
   "id": "2fd50fd9",
   "metadata": {},
   "outputs": [
    {
     "name": "stdout",
     "output_type": "stream",
     "text": [
      "RMSE модели на базе библиотеки LGBM 1753.4597195361134\n",
      "CPU times: user 8.78 s, sys: 65.1 ms, total: 8.85 s\n",
      "Wall time: 1.36 s\n"
     ]
    }
   ],
   "source": [
    "%%time\n",
    "#Предсказание на тестовой вывборке.\n",
    "X_test_gbm = X_test.copy()\n",
    "start_gbm_predict = time.time()\n",
    "\n",
    "for cat in cat_features:\n",
    "    X_test_gbm[cat] = X_test_gbm[cat].astype('category')\n",
    "\n",
    "\n",
    "\n",
    "ypred = lgb_model.predict(X_test_gbm)\n",
    "gbm_rmse = mean_squared_error(y_test, ypred) ** 0.5\n",
    "\n",
    "end_gbm_predict = time.time()\n",
    "LightGBM_time_predict += end_gbm_predict - start_gbm_predict\n",
    "\n",
    "print(f'RMSE модели на базе библиотеки LGBM {gbm_rmse}')"
   ]
  },
  {
   "cell_type": "code",
   "execution_count": 94,
   "id": "7a47eb91",
   "metadata": {},
   "outputs": [],
   "source": [
    "new_result = {'ML type': 'LightGBM',\n",
    "        'change description':'LightGBM comparison test sample',\n",
    "        'RMSE':gbm_rmse.round(2),\n",
    "        'learning_time':LightGBM_time_train,\n",
    "        'prediction_time':LightGBM_time_predict\n",
    "       }"
   ]
  },
  {
   "cell_type": "code",
   "execution_count": 95,
   "id": "6615717f",
   "metadata": {
    "scrolled": true
   },
   "outputs": [
    {
     "data": {
      "text/html": [
       "<div>\n",
       "<style scoped>\n",
       "    .dataframe tbody tr th:only-of-type {\n",
       "        vertical-align: middle;\n",
       "    }\n",
       "\n",
       "    .dataframe tbody tr th {\n",
       "        vertical-align: top;\n",
       "    }\n",
       "\n",
       "    .dataframe thead th {\n",
       "        text-align: right;\n",
       "    }\n",
       "</style>\n",
       "<table border=\"1\" class=\"dataframe\">\n",
       "  <thead>\n",
       "    <tr style=\"text-align: right;\">\n",
       "      <th></th>\n",
       "      <th>ML type</th>\n",
       "      <th>change description</th>\n",
       "      <th>RMSE</th>\n",
       "      <th>learning_time</th>\n",
       "      <th>prediction_time</th>\n",
       "    </tr>\n",
       "  </thead>\n",
       "  <tbody>\n",
       "    <tr>\n",
       "      <th>0</th>\n",
       "      <td>LightGBM</td>\n",
       "      <td>LightGBM comparison</td>\n",
       "      <td>1742.83</td>\n",
       "      <td>5.203573</td>\n",
       "      <td>0.352361</td>\n",
       "    </tr>\n",
       "    <tr>\n",
       "      <th>1</th>\n",
       "      <td>CatBoost</td>\n",
       "      <td>CatBoost comparison</td>\n",
       "      <td>1787.66</td>\n",
       "      <td>150.685185</td>\n",
       "      <td>0.125602</td>\n",
       "    </tr>\n",
       "    <tr>\n",
       "      <th>2</th>\n",
       "      <td>LinearRegression and SVR ensemble</td>\n",
       "      <td>LinearRegression and SVR ensemble comparison</td>\n",
       "      <td>2722.03</td>\n",
       "      <td>2.904679</td>\n",
       "      <td>0.005138</td>\n",
       "    </tr>\n",
       "    <tr>\n",
       "      <th>3</th>\n",
       "      <td>LightGBM</td>\n",
       "      <td>LightGBM comparison test sample</td>\n",
       "      <td>1753.46</td>\n",
       "      <td>4.634211</td>\n",
       "      <td>1.341656</td>\n",
       "    </tr>\n",
       "  </tbody>\n",
       "</table>\n",
       "</div>"
      ],
      "text/plain": [
       "                             ML type  \\\n",
       "0                           LightGBM   \n",
       "1                           CatBoost   \n",
       "2  LinearRegression and SVR ensemble   \n",
       "3                           LightGBM   \n",
       "\n",
       "                             change description     RMSE  learning_time  \\\n",
       "0                           LightGBM comparison  1742.83       5.203573   \n",
       "1                           CatBoost comparison  1787.66     150.685185   \n",
       "2  LinearRegression and SVR ensemble comparison  2722.03       2.904679   \n",
       "3               LightGBM comparison test sample  1753.46       4.634211   \n",
       "\n",
       "   prediction_time  \n",
       "0         0.352361  \n",
       "1         0.125602  \n",
       "2         0.005138  \n",
       "3         1.341656  "
      ]
     },
     "execution_count": 95,
     "metadata": {},
     "output_type": "execute_result"
    }
   ],
   "source": [
    "experiment = experiment.append(new_result, ignore_index=True)\n",
    "experiment"
   ]
  },
  {
   "cell_type": "markdown",
   "id": "c6852a85",
   "metadata": {},
   "source": [
    "**Вывод:**\n",
    "Результаты на тестоввой выборке сопоставимы с результатами на валидационной  части метрики Однако время обучения и предсазания значительно уеличены. "
   ]
  },
  {
   "cell_type": "markdown",
   "id": "0e75ecce",
   "metadata": {},
   "source": [
    "# Вывод."
   ]
  },
  {
   "cell_type": "markdown",
   "id": "dcafb9ed",
   "metadata": {},
   "source": [
    "В рамках проекта была разработана система предсказания стоимости автомобиля, позволяющая определять цену на основании технических параметровв авто.\n",
    "\n",
    "Преокт состоит из следующих этапов:\n",
    "\n",
    "- Предобработка данных;\n",
    "- Проверка важности признаков и подбор гиперпараметров;\n",
    "- Разработка модели предсказания стоимости LightGBM;\n",
    "- Разработка модели предсказания стоимости CatBoost;\n",
    "- Разработка ансамбля моделей предсказания стоимости LinearRegression и SVR.\n",
    "\n",
    "\n",
    "**Критерии определения наилучшей модели:**\n",
    "- качество предсказания;\n",
    "- время обучения модели;\n",
    "- время предсказания модели.\n",
    "\n",
    "**Определение модели определения стоимости авто.**\n",
    "Для оценки наилучшей рекомендательной системы впроекте представлена сводная таблица с результатами основных вех исследования. Из трех рассмотренных ML моделей заметно выделяется LightGBM. Данная модель является лучше всех аналогов и по времени работы и по метрике RMSE.\n",
    "\n",
    "**Параметры работы модели LightGBM.**\n",
    "- RMSE = 1749.27;\n",
    "- Время обучения  = 5 c.\n",
    "- Время предсказания = 1.4 с.\n",
    "\n",
    "**Описание гиперпараметров модели LightGBM.**\n",
    "- learning_rate - скорость обучения модели.\n",
    "- n_estimators - количество итераций градиентного бустинга.\n",
    "- objective - целевая функция RMSE(целевая метрика).\n",
    "\n",
    "**В проекте применены следующие инструменты:**\n",
    "- LightGBM; \n",
    "- CatBoost;\n",
    "- LinearRegression и SVR ensemble;\n",
    "- Pandas;\n",
    "- Numpy.\n",
    "\n"
   ]
  }
 ],
 "metadata": {
  "ExecuteTimeLog": [
   {
    "duration": 7620,
    "start_time": "2023-10-12T08:24:17.423Z"
   },
   {
    "duration": 0,
    "start_time": "2023-10-12T08:24:25.047Z"
   },
   {
    "duration": 0,
    "start_time": "2023-10-12T08:24:25.048Z"
   },
   {
    "duration": 0,
    "start_time": "2023-10-12T08:24:25.049Z"
   },
   {
    "duration": 0,
    "start_time": "2023-10-12T08:24:25.051Z"
   },
   {
    "duration": 0,
    "start_time": "2023-10-12T08:24:25.052Z"
   },
   {
    "duration": 0,
    "start_time": "2023-10-12T08:24:25.053Z"
   },
   {
    "duration": 0,
    "start_time": "2023-10-12T08:24:25.054Z"
   },
   {
    "duration": 0,
    "start_time": "2023-10-12T08:24:25.054Z"
   },
   {
    "duration": 0,
    "start_time": "2023-10-12T08:24:25.055Z"
   },
   {
    "duration": 0,
    "start_time": "2023-10-12T08:24:25.056Z"
   },
   {
    "duration": 0,
    "start_time": "2023-10-12T08:24:25.057Z"
   },
   {
    "duration": 0,
    "start_time": "2023-10-12T08:24:25.058Z"
   },
   {
    "duration": 0,
    "start_time": "2023-10-12T08:24:25.059Z"
   },
   {
    "duration": 0,
    "start_time": "2023-10-12T08:24:25.060Z"
   },
   {
    "duration": 0,
    "start_time": "2023-10-12T08:24:25.061Z"
   },
   {
    "duration": 0,
    "start_time": "2023-10-12T08:24:25.062Z"
   },
   {
    "duration": 0,
    "start_time": "2023-10-12T08:24:25.063Z"
   },
   {
    "duration": 0,
    "start_time": "2023-10-12T08:24:25.064Z"
   },
   {
    "duration": 0,
    "start_time": "2023-10-12T08:24:25.066Z"
   },
   {
    "duration": 0,
    "start_time": "2023-10-12T08:24:25.068Z"
   },
   {
    "duration": 0,
    "start_time": "2023-10-12T08:24:25.068Z"
   },
   {
    "duration": 0,
    "start_time": "2023-10-12T08:24:25.069Z"
   },
   {
    "duration": 0,
    "start_time": "2023-10-12T08:24:25.070Z"
   },
   {
    "duration": 0,
    "start_time": "2023-10-12T08:24:25.072Z"
   },
   {
    "duration": 0,
    "start_time": "2023-10-12T08:24:25.107Z"
   },
   {
    "duration": 0,
    "start_time": "2023-10-12T08:24:25.108Z"
   },
   {
    "duration": 0,
    "start_time": "2023-10-12T08:24:25.109Z"
   },
   {
    "duration": 0,
    "start_time": "2023-10-12T08:24:25.110Z"
   },
   {
    "duration": 0,
    "start_time": "2023-10-12T08:24:25.111Z"
   },
   {
    "duration": 0,
    "start_time": "2023-10-12T08:24:25.113Z"
   },
   {
    "duration": 0,
    "start_time": "2023-10-12T08:24:25.113Z"
   },
   {
    "duration": 0,
    "start_time": "2023-10-12T08:24:25.114Z"
   },
   {
    "duration": 0,
    "start_time": "2023-10-12T08:24:25.115Z"
   },
   {
    "duration": 0,
    "start_time": "2023-10-12T08:24:25.116Z"
   },
   {
    "duration": 0,
    "start_time": "2023-10-12T08:24:25.117Z"
   },
   {
    "duration": 0,
    "start_time": "2023-10-12T08:24:25.119Z"
   },
   {
    "duration": 0,
    "start_time": "2023-10-12T08:24:25.120Z"
   },
   {
    "duration": 0,
    "start_time": "2023-10-12T08:24:25.122Z"
   },
   {
    "duration": 0,
    "start_time": "2023-10-12T08:24:25.123Z"
   },
   {
    "duration": 0,
    "start_time": "2023-10-12T08:24:25.124Z"
   },
   {
    "duration": 0,
    "start_time": "2023-10-12T08:24:25.125Z"
   },
   {
    "duration": 0,
    "start_time": "2023-10-12T08:24:25.127Z"
   },
   {
    "duration": 0,
    "start_time": "2023-10-12T08:24:25.128Z"
   },
   {
    "duration": 0,
    "start_time": "2023-10-12T08:24:25.128Z"
   },
   {
    "duration": 0,
    "start_time": "2023-10-12T08:24:25.129Z"
   },
   {
    "duration": 0,
    "start_time": "2023-10-12T08:24:25.131Z"
   },
   {
    "duration": 1,
    "start_time": "2023-10-12T08:24:25.131Z"
   },
   {
    "duration": 0,
    "start_time": "2023-10-12T08:24:25.133Z"
   },
   {
    "duration": 1,
    "start_time": "2023-10-12T08:24:25.133Z"
   },
   {
    "duration": 0,
    "start_time": "2023-10-12T08:24:25.135Z"
   },
   {
    "duration": 0,
    "start_time": "2023-10-12T08:24:25.136Z"
   },
   {
    "duration": 0,
    "start_time": "2023-10-12T08:24:25.137Z"
   },
   {
    "duration": 0,
    "start_time": "2023-10-12T08:24:25.138Z"
   },
   {
    "duration": 0,
    "start_time": "2023-10-12T08:24:25.139Z"
   },
   {
    "duration": 0,
    "start_time": "2023-10-12T08:24:25.140Z"
   },
   {
    "duration": 0,
    "start_time": "2023-10-12T08:24:25.141Z"
   },
   {
    "duration": 0,
    "start_time": "2023-10-12T08:24:25.142Z"
   },
   {
    "duration": 0,
    "start_time": "2023-10-12T08:24:25.144Z"
   },
   {
    "duration": 0,
    "start_time": "2023-10-12T08:24:25.207Z"
   },
   {
    "duration": 0,
    "start_time": "2023-10-12T08:24:25.208Z"
   },
   {
    "duration": 9,
    "start_time": "2023-10-12T08:24:32.063Z"
   }
  ],
  "hide_input": false,
  "kernelspec": {
   "display_name": "Python 3 (ipykernel)",
   "language": "python",
   "name": "python3"
  },
  "language_info": {
   "codemirror_mode": {
    "name": "ipython",
    "version": 3
   },
   "file_extension": ".py",
   "mimetype": "text/x-python",
   "name": "python",
   "nbconvert_exporter": "python",
   "pygments_lexer": "ipython3",
   "version": "3.9.12"
  },
  "toc": {
   "base_numbering": 1,
   "nav_menu": {},
   "number_sections": true,
   "sideBar": true,
   "skip_h1_title": false,
   "title_cell": "Table of Contents",
   "title_sidebar": "Contents",
   "toc_cell": false,
   "toc_position": {
    "height": "807px",
    "left": "27px",
    "top": "135px",
    "width": "336px"
   },
   "toc_section_display": true,
   "toc_window_display": true
  }
 },
 "nbformat": 4,
 "nbformat_minor": 5
}
