{
 "cells": [
  {
   "cell_type": "markdown",
   "id": "85d205de",
   "metadata": {},
   "source": [
    "# Описание проекта."
   ]
  },
  {
   "cell_type": "markdown",
   "id": "7dbb7ba8",
   "metadata": {},
   "source": [
    "**Цель проекта** - создать систему, которая могла бы оценить риск ДТП по выбранному маршруту движения. \n",
    "\n",
    "**Описание проекта**: Под риском понимается вероятность ДТП с любым повреждением транспортного средства. Как только водитель забронировал автомобиль, сел за руль и выбрал маршрут, система должна оценить уровень риска. Если уровень риска высок, водитель увидит предупреждение и рекомендации по маршруту.\n",
    "Идея создания такой системы находится в стадии предварительного обсуждения и проработки. Чёткого алгоритма работы и подобных решений на рынке ещё не существует. Текущая задача — понять, возможно ли предсказывать ДТП, опираясь на статистические данные одного из регионов.\n",
    "\n",
    "**Идея решения задачи от заказчика:** \n",
    "- Создать модель предсказания ДТП (целевое значение — at_fault (виновник) в таблице parties)\n",
    "- Для модели выбрать тип виновника — только машина (car).\n",
    "- Выбрать случаи, когда ДТП привело к любым повреждениям транспортного средства, кроме типа SCRATCH (царапина).\n",
    "- Для моделирования ограничиться данными за 2012 год — они самые свежие.\n",
    "- Обязательное условие — учесть фактор возраста автомобиля.\n",
    "- На основе модели исследовать основные факторы ДТП.\n",
    "\n",
    "**Понять, помогут ли результаты моделирования и анализ важности факторов, ответить на вопросы:** \n",
    "- Возможно ли создать адекватную системы оценки водительского риска при выдаче авто?\n",
    "- Какие ещё факторы нужно учесть?\n",
    "- Нужно ли оборудовать автомобиль какими-либо датчиками или камерой?\n",
    "\n",
    "**Дополнительные идеи для улучшения качества работы системы от разработчика:**\n",
    "- Внедрение в модель системы анализа движения автомобиля."
   ]
  },
  {
   "cell_type": "markdown",
   "id": "75500904",
   "metadata": {},
   "source": [
    "**ЗАДАЧА.**\n",
    "В момент посадки в авто определить вероятность с которой автомобиль попадет в ДТП. По вине водителя. Если вероятность высока, система должна выдать предупреждение."
   ]
  },
  {
   "cell_type": "markdown",
   "id": "e1f0ffc2",
   "metadata": {},
   "source": [
    "# Описание данных."
   ]
  },
  {
   "cell_type": "markdown",
   "id": "ab14417d",
   "metadata": {},
   "source": [
    "![Схема БД.](https://raw.githubusercontent.com/htoniy/-Data-Science.-Deep-learning/main/02%20Оценка%20рисков%20ДТП%20по%20выбранному%20маршруту%20движения/DB%20scheme/DB_scheme.png)"
   ]
  },
  {
   "cell_type": "markdown",
   "id": "7f06d282",
   "metadata": {},
   "source": [
    "**Краткое описание таблиц:**\n",
    "\n",
    "        1) collisions — общая информация о ДТП. \n",
    "        Имеет уникальный case_id. Эта таблица описывает общую информацию о ДТП. Например, где оно произошло и \n",
    "        когда.\n",
    "        2) parties — информация об участниках ДТП.\n",
    "        Имеет неуникальный case_id, который сопоставляется с соответствующим ДТП в таблице collisions. Каждая\n",
    "        строка здесь описывает одну из сторон, участвующих в ДТП. Если столкнулись две машины, в этой таблице \n",
    "        должно быть две строки с совпадением case_id. Если нужен уникальный идентификатор, это case_id and \n",
    "        party_number.\n",
    "        2) vehicles — информация о пострадавших машинах.\n",
    "        Имеет неуникальные case_id и неуникальные party_number, которые сопоставляются с таблицей collisions и \n",
    "        таблицей parties. Если нужен уникальный идентификатор, это case_id and party_number."
   ]
  },
  {
   "cell_type": "markdown",
   "id": "eb5a8d3c",
   "metadata": {},
   "source": [
    "**<p align=\"center\"> collisions (информация о происшествиях) </p>**\n",
    "\n",
    "| Описание                                | Обозначение в таблице             | Подробнее                                                                                          |\n",
    "|-----------------------------------------|----------------------------------|---------------------------------------------------------------------------------------------------|\n",
    "| Идентификационный номер в базе данных   | CASE_ID                          | Уникальный номер для зарегистрированного происшествия в таблице происшествий.                      |\n",
    "| Дата происшествия                        | COLLISION_DATE                   | Формат год/месяц/день                                                                            |\n",
    "| Время происшествия                       | COLLISION_TIME                   | Формат: 24-часовой                                                                              |\n",
    "| Является ли место происшествие перекрёстком | INTERSECTION                   | Y — Intersection (перекрёсток) N — Not Intersection (не перекрёсток) -- — Not stated (Не указано) |\n",
    "| Погода                                   | WEATHER_1                        | A — Clear (Ясно) B — Cloudy (Облачно) C — Raining (Дождь) D — Snowing (Снегопад) E — Fog (Туман) F — Other (Другое) G — Wind (Ветер) - — Not Stated (Не указано) |\n",
    "| Серьёзность происшествия                 | COLLISION_DAMAGE                 | 1 — FATAL ТС (Не подлежит восстановлению) 2 — SEVERE DAMAGE (Серьёзный ремонт, большая часть под замену/Серьёзное повреждение капитального строения) 3 — MIDDLE DAMAGE (Средний ремонт, машина в целом на ходу/Строение в целом устояло) 4 — SMALL DAMAGE (Отдельный элемент кузова под замену/покраску) 0 – SCRATCH (Царапина) |\n",
    "| Основной фактор аварии                   | PRIMARY_COLL_FACTOR               | A — Code Violation (Нарушение правил ПДД) B — Other Improper Driving (Другое неправильное вождение) C — Other Than Driver (Кроме водителя) D — Unknown (Неизвестно) E — Fell Asleep (Заснул) - — Not Stated (Не указано) |\n",
    "| Состояние дороги                         | ROAD_SURFACE                     | A — Dry (Сухая) B — Wet (Мокрая) C — Snowy or Icy (Заснеженная или обледенелая) D — Slippery (Muddy, Oily, etc.) (Скользкая, грязная, маслянистая и т. д.) - — Not Stated (Не указано) |\n",
    "| Освещение                               | LIGHTING                         | A — Daylight (Дневной свет) B — Dusk-Dawn (Сумерки-Рассвет) C — Dark-Street Lights (Темно-Уличные фонари) D — Dark-No Street Lights (Темно-Нет уличных фонарей) E — Dark-Street Lights Not Functioning (Темно-Уличные фонари не работают) - — Not Stated (Не указано) |\n",
    "| Номер географических районов, где произошло ДТП | COUNTY_CITY_LOCATION         | число                                                                                            |\n",
    "| Названия географических районов, где произошло ДТП | COUNTY_LOCATION            | список разных названий, категориальный тип данных                                                    |\n",
    "| Направление движения                    | DIRECTION                        | N — North (Север) E — East (Восток) S — South (Юг) W — West (Запад) - or blank — Not State (Не указано) на перекрёстке |\n",
    "| Расстояние от главной дороги (метры)    | DISTANCE                         | число                                                                                            |\n",
    "| Тип дороги                              | LOCATION_TYPE                    | H — Highway (Шоссе) I — Intersection (Перекрёсток) R — Ramp (or Collector) (Рампа) - or blank — Not State Highway (Не указано)\n",
    "| Количество участников                   | PARTY_COUNT                      | Число                                                                                             |"
   ]
  },
  {
   "cell_type": "markdown",
   "id": "c9c7e8cf",
   "metadata": {},
   "source": [
    "| Описание                                | Обозначение в таблице             | Подробнее                                                                                          |\n",
    "|-----------------------------------------|----------------------------------|---------------------------------------------------------------------------------------------------|\n",
    "| Количество участников                   | PARTY_COUNT                      | Число                                                                                             |\n",
    "| Категория нарушения                     | PCF_VIOLATION_CATEGORY            | 01 — Driving or Bicycling Under the Influence of Alcohol or Drug (Вождение или езда на велосипеде в состоянии алкогольного или наркотического опьянения) |\n",
    "|                                         |                                  | 02 — Impeding Traffic (Препятствие движению транспорта)                                          |\n",
    "|                                         |                                  | 03 — Unsafe Speed (Превышение скорости)                                                         |\n",
    "|                                         |                                  | 04 — Following Too Closely (Опасное сближение)                                                 |\n",
    "|                                         |                                  | 05 — Wrong Side of Road (Неправильная сторона дороги)                                          |\n",
    "|                                         |                                  | 06 — Improper Passing (Неправильное движение)                                                  |\n",
    "|                                         |                                  | 07 — Unsafe Lane Change (Небезопасная смена полосы движения)                                    |\n",
    "|                                         |                                  | 08 — Improper Turning (Неправильный поворот)                                                   |\n",
    "|                                         |                                  | 09 — Automobile Right of Way (Автомобильное право проезда)                                      |\n",
    "|                                         |                                  | 10 — Pedestrian Right of Way (Пешеходное право проезда)                                         |\n",
    "|                                         |                                  | 11 — Pedestrian Violation (Нарушение пешеходами)                                              |\n",
    "|                                         |                                  | 12 — Traffic Signals and Signs (Дорожные сигналы и знаки)                                       |\n",
    "|                                         |                                  | 13 — Hazardous Parking (Неправильная парковка)                                                 |\n",
    "|                                         |                                  | 14 — Lights (Освещение)                                                                         |\n",
    "|                                         |                                  | 15 — Brakes (Тормоза)                                                                           |\n",
    "|                                         |                                  | 16 — Other Equipment (Другое оборудование)                                                     |\n",
    "|                                         |                                  | 17 — Other Hazardous Violation (Другие нарушения)                                              |\n",
    "|                                         |                                  | 18 — Other Than Driver (or Pedestrian) (Кроме водителя или пешехода)                           |\n",
    "|                                         |                                  | 19 — Speeding (Скорость)                                                                        |\n",
    "|                                         |                                  | 20 — Pedestrian dui (Нарушение пешехода)                                                       |\n",
    "|                                         |                                  | 21 — Unsafe Starting or Backing (Опасный старт)                                                 |\n",
    "|                                         |                                  | 22 — Other Improper Driving (Другое неправильное вождение)                                      |\n",
    "|                                         |                                  | 23 — Pedestrian or “Other” Under the Influence of Alcohol or Drug (Пешеход или «Другой» в состоянии алкогольного или наркотического опьянения) |\n",
    "|                                         |                                  | 24 — Fell Asleep (Заснул)                                                                       |\n",
    "|                                         |                                  | 00 — Unknown (Неизвестно)                                                                       |\n",
    "|                                         |                                  | - — Not Stated (Не указано)                                                                    |\n",
    "| Тип аварии                              | TYPE_OF_COLLISION                 | A — Head-On (Лоб в лоб)                                                                         |\n",
    "|                                         |                                  | B — Sideswipe (Сторона)                                                                         |\n",
    "|                                         |                                  | C — Rear End (Столкновение задней частью)                                                     |\n",
    "|                                         |                                  | D — Broadside (Боковой удар)                                                                    |\n",
    "|                                         |                                  | E — Hit Object (Удар объекта)                                                                   |\n",
    "|                                         |                                  | F — Overturned (Опрокинутый)                                                                    |\n",
    "|                                         |                                  | G — Vehicle (транспортное средство/ Пешеход)                                                  |\n",
    "|                                         |                                  | H — Other (Другое)                                                                              |\n",
    "|                                         |                                  | - — Not Stated (Не указано)                                                                    |\n",
    "| Дополнительные участники ДТП            | MOTOR_VEHICLE_INVOLVED_WITH        | Other motor vehicle (Другой автомобиль)                                                        |\n",
    "|                                         |                                  | Fixed object (Неподвижный объект)                                                               |\n",
    "|                                         |                                  | Parked motor vehicle (Припаркованный автомобиль)                                              |\n",
    "|                                         |                                  | Pedestrian (Пешеход)                                                                            |\n",
    "|                                         |                                  | Bicycle (Велосипедист)                                                                          |\n",
    "|                                         |                                  | Non-collision (Не столкновение)                                                                |\n",
    "|                                         |                                  | Other object (Другой объект)                                                                    |\n",
    "|                                         |                                  | Motor vehicle on other roadway (Автомобиль на другой проезжей)                                 |\n",
    "|                                         |                                  | Animal (Животное)                                                                              |\n",
    "|                                         |                                  | Train (Поезд)                                                                                  |\n",
    "| Дорожное состояние                       | ROAD_CONDITION_1                  | A — Holes, Deep Ruts (Ямы, глубокая колея)                                                      |\n",
    "|                                         |                                  | B — Loose Material on Roadway (Сыпучий материал на проезжей части)                             |\n",
    "|                                         |                                  | C — Obstruction on Roadway (Препятствие на проезжей части)                                     |\n",
    "|                                         |                                  | D — Construction or Repair Zone (Зона строительства или ремонта)                                |\n",
    "|                                         |                                  | E — Reduced Roadway Width (Уменьшенная ширина проезжей части)                                  |\n",
    "|                                         |                                  | F — Flooded (Затоплено)                                                                         |\n",
    "|                                         |                                  | G — Other (Другое)                                                                              |\n",
    "|                                         |                                  | H — No Unusual Condition (Нет ничего необычного\n",
    "|                                         |                                  | - — Not Stated (Не указано)"
   ]
  },
  {
   "cell_type": "markdown",
   "id": "469a2cb2",
   "metadata": {},
   "source": [
    "**<p align=\"center\"> Parties (описание участников происшествия) </p>**\n",
    " \n",
    " | Описание                                | Обозначение в таблице         | Подробнее                                                                   |\n",
    "|-----------------------------------------|------------------------------|------------------------------------------------------------------------------|\n",
    "| Идентификационный номер в базе данных   | CASE_ID                      | Уникальный номер для зарегистрированного происшествия в таблице происшествий. |\n",
    "| Номер участника происшествия            | PARTY_NUMBER                 | От 1 до N — по числу участников происшествия                                 |\n",
    "| Тип участника происшествия             | PARTY_TYPE                   | 1 — Car (Авто) 2 — Road bumper (Дорожные знаки) 3 — Building (Строения) 4 — Road signs (Отбойник) 5 — Other (Другое) 6 — Operator (Оператор) - — Not Stated (Не указано) |\n",
    "| Виновность участника                    | AT_FAULT                     | 0/1                                                                          |\n",
    "| Сумма страховки (тыс. $)               | INSURANCE_PREMIUM            | число                                                                        |\n",
    "| Состояние участника: физическое или с учётом принятых лекарств | PARTY_DRUG_PHYSICAL   | E — Under Drug Influence (Под воздействием лекарств) F — Impairment — Physical (Ухудшение состояния) G — Impairment Unknown (Не известно) H — Not Applicable (Не оценивался) I — Sleepy/Fatigued (Сонный/Усталый) - — Not Stated (Не указано) |\n",
    "| Трезвость участника                    | PARTY_SOBRIETY               | A — Had Not Been Drinking (Не пил) B — Had Been Drinking, Under Influence (Был пьян, под влиянием) C — Had Been Drinking, Not Under Influence (Был пьян, не под влиянием) D — Had Been Drinking, Impairment Unknown (Был пьян, ухудшение неизвестно) G — Impairment Unknown (Неизвестно ухудшение) H — Not Applicable (Не оценивался) - — Not Stated (Не указано) |\n",
    "| Наличие телефона в автомобиле          | CELLPHONE_IN_USE             | 0/1                                                                          |\n",
    "\n",
    "\n",
    "\n",
    "\n"
   ]
  },
  {
   "cell_type": "markdown",
   "id": "efbf831d",
   "metadata": {},
   "source": [
    "**<p align=\"center\"> Vehicles (Описание автомобиля)</p>**\n",
    "\n",
    "| Описание                                | Обозначение в таблице    | Подробнее                                                                   |\n",
    "|-----------------------------------------|-------------------------|------------------------------------------------------------------------------|\n",
    "| Индекс текущей таблицы                   | ID                      | Номер в таблице                                                              |\n",
    "| Идентификационный номер в базе данных    | CASE_ID                 | Уникальный номер для зарегистрированного происшествия в таблице происшествий. |\n",
    "| Тип кузова                               | VEHICLE_TYPE            | MINIVAN COUPE SEDAN HATCHBACK OTHER                                           |\n",
    "| Тип КПП                                  | VEHICLE_TRANSMISSION   | auto (Автоматическая) manual (Ручная) - — Not Stated (Не указано)             |\n",
    "| Возраст автомобиля (в годах)            | VEHICLE_AGE             | число                                                                        |\n",
    "\n"
   ]
  },
  {
   "cell_type": "markdown",
   "id": "6c4f0791",
   "metadata": {},
   "source": [
    "# Импорт данных."
   ]
  },
  {
   "cell_type": "code",
   "execution_count": 1,
   "id": "bfbd4a2a",
   "metadata": {},
   "outputs": [],
   "source": [
    "import pandas as pd\n",
    "import numpy as np\n",
    "import random\n",
    "import copy\n",
    "import itertools\n",
    "import math\n",
    "\n",
    "import matplotlib.pyplot as plt\n",
    "from matplotlib.lines import Line2D\n",
    "\n",
    "#conda install -c conda-forge psycopg2-binary\n",
    "#conda install -c anaconda sqlalchemy\n",
    "from sqlalchemy import create_engine \n",
    "\n",
    "import tqdm\n",
    "\n",
    "#pip install phik\n",
    "import phik\n",
    "from phik.report import plot_correlation_matrix\n",
    "\n",
    "from sklearn.model_selection import train_test_split\n",
    "from sklearn.metrics import f1_score\n",
    "from sklearn.model_selection import GridSearchCV\n",
    "from sklearn.metrics import f1_score\n",
    "from sklearn.pipeline import Pipeline\n",
    "from sklearn.compose import ColumnTransformer\n",
    "from sklearn.preprocessing import OneHotEncoder, StandardScaler, MinMaxScaler\n",
    "from sklearn.metrics import confusion_matrix\n",
    "from sklearn.utils.class_weight import compute_class_weight\n",
    "\n",
    "import catboost as cb\n",
    "from catboost import CatBoostClassifier, Pool\n",
    "\n",
    "\n",
    "#conda install -c conda-forge lightgbm\n",
    "import lightgbm as lgb\n",
    "\n",
    "import torch \n",
    "import torch.nn as nn\n",
    "from torch.utils.data import DataLoader, TensorDataset\n"
   ]
  },
  {
   "cell_type": "markdown",
   "id": "bbc295c4",
   "metadata": {},
   "source": [
    "# Подключение к БД."
   ]
  },
  {
   "cell_type": "markdown",
   "id": "8f7599f6",
   "metadata": {},
   "source": [
    "Конфигурация для подключения к базе данных."
   ]
  },
  {
   "cell_type": "code",
   "execution_count": 2,
   "id": "9856da9c",
   "metadata": {},
   "outputs": [],
   "source": [
    "db_config = {\n",
    "'user': 'praktikum_student', # имя пользователя,\n",
    "'pwd': 'Sdf4$2;d-d30pp', # пароль,\n",
    "'host': 'rc1b-wcoijxj3yxfsf3fs.mdb.yandexcloud.net',\n",
    "'port': 6432, # порт подключения,\n",
    "'db': 'data-science-vehicle-db' # название базы данных,\n",
    "} "
   ]
  },
  {
   "cell_type": "code",
   "execution_count": 3,
   "id": "174b8ab1",
   "metadata": {},
   "outputs": [],
   "source": [
    "connection_string = 'postgresql://{}:{}@{}:{}/{}'.format(\n",
    "    db_config['user'],\n",
    "    db_config['pwd'],\n",
    "    db_config['host'],\n",
    "    db_config['port'],\n",
    "    db_config['db'],\n",
    ")"
   ]
  },
  {
   "cell_type": "code",
   "execution_count": 4,
   "id": "0a516ac1",
   "metadata": {
    "scrolled": true
   },
   "outputs": [],
   "source": [
    "engine = create_engine(connection_string)"
   ]
  },
  {
   "cell_type": "markdown",
   "id": "006fbb9f",
   "metadata": {},
   "source": [
    "# Первичное исследование таблиц."
   ]
  },
  {
   "cell_type": "markdown",
   "id": "44611ff7",
   "metadata": {},
   "source": [
    "## Проверка кол-ва таблиц в БД."
   ]
  },
  {
   "cell_type": "code",
   "execution_count": 5,
   "id": "17309a77",
   "metadata": {
    "scrolled": true
   },
   "outputs": [
    {
     "data": {
      "text/html": [
       "<div>\n",
       "<style scoped>\n",
       "    .dataframe tbody tr th:only-of-type {\n",
       "        vertical-align: middle;\n",
       "    }\n",
       "\n",
       "    .dataframe tbody tr th {\n",
       "        vertical-align: top;\n",
       "    }\n",
       "\n",
       "    .dataframe thead th {\n",
       "        text-align: right;\n",
       "    }\n",
       "</style>\n",
       "<table border=\"1\" class=\"dataframe\">\n",
       "  <thead>\n",
       "    <tr style=\"text-align: right;\">\n",
       "      <th></th>\n",
       "      <th>table_name</th>\n",
       "    </tr>\n",
       "  </thead>\n",
       "  <tbody>\n",
       "    <tr>\n",
       "      <th>0</th>\n",
       "      <td>case_ids</td>\n",
       "    </tr>\n",
       "    <tr>\n",
       "      <th>1</th>\n",
       "      <td>collisions</td>\n",
       "    </tr>\n",
       "    <tr>\n",
       "      <th>2</th>\n",
       "      <td>parties</td>\n",
       "    </tr>\n",
       "    <tr>\n",
       "      <th>3</th>\n",
       "      <td>vehicles</td>\n",
       "    </tr>\n",
       "  </tbody>\n",
       "</table>\n",
       "</div>"
      ],
      "text/plain": [
       "   table_name\n",
       "0    case_ids\n",
       "1  collisions\n",
       "2     parties\n",
       "3    vehicles"
      ]
     },
     "execution_count": 5,
     "metadata": {},
     "output_type": "execute_result"
    }
   ],
   "source": [
    "query = '''\n",
    "SELECT table_name \n",
    "FROM information_schema.tables \n",
    "WHERE table_schema = 'public';\n",
    "'''\n",
    "\n",
    "tables = pd.read_sql_query(query, con=engine) \n",
    "tables"
   ]
  },
  {
   "cell_type": "markdown",
   "id": "d8775bd1",
   "metadata": {},
   "source": [
    "К базе данных не приложено описание таблицы 'case_ids'. Ниже приводится ее краткое исследование и описание."
   ]
  },
  {
   "cell_type": "code",
   "execution_count": 6,
   "id": "a8ff0ebd",
   "metadata": {},
   "outputs": [],
   "source": [
    "query = '''\n",
    "SELECT * \n",
    "FROM case_ids;\n",
    "'''\n",
    "\n",
    "case_ids_df = pd.read_sql_query(query, con=engine) "
   ]
  },
  {
   "cell_type": "code",
   "execution_count": 7,
   "id": "e5e58475",
   "metadata": {
    "scrolled": true
   },
   "outputs": [
    {
     "name": "stdout",
     "output_type": "stream",
     "text": [
      "<class 'pandas.core.frame.DataFrame'>\n",
      "RangeIndex: 1400000 entries, 0 to 1399999\n",
      "Data columns (total 2 columns):\n",
      " #   Column   Non-Null Count    Dtype \n",
      "---  ------   --------------    ----- \n",
      " 0   case_id  1400000 non-null  object\n",
      " 1   db_year  1400000 non-null  object\n",
      "dtypes: object(2)\n",
      "memory usage: 21.4+ MB\n"
     ]
    }
   ],
   "source": [
    "case_ids_df.info()"
   ]
  },
  {
   "cell_type": "code",
   "execution_count": 8,
   "id": "9b58676a",
   "metadata": {
    "scrolled": false
   },
   "outputs": [
    {
     "data": {
      "text/html": [
       "<div>\n",
       "<style scoped>\n",
       "    .dataframe tbody tr th:only-of-type {\n",
       "        vertical-align: middle;\n",
       "    }\n",
       "\n",
       "    .dataframe tbody tr th {\n",
       "        vertical-align: top;\n",
       "    }\n",
       "\n",
       "    .dataframe thead th {\n",
       "        text-align: right;\n",
       "    }\n",
       "</style>\n",
       "<table border=\"1\" class=\"dataframe\">\n",
       "  <thead>\n",
       "    <tr style=\"text-align: right;\">\n",
       "      <th></th>\n",
       "      <th>case_id</th>\n",
       "      <th>db_year</th>\n",
       "    </tr>\n",
       "  </thead>\n",
       "  <tbody>\n",
       "    <tr>\n",
       "      <th>count</th>\n",
       "      <td>1400000</td>\n",
       "      <td>1400000</td>\n",
       "    </tr>\n",
       "    <tr>\n",
       "      <th>unique</th>\n",
       "      <td>1400000</td>\n",
       "      <td>1</td>\n",
       "    </tr>\n",
       "    <tr>\n",
       "      <th>top</th>\n",
       "      <td>0081715</td>\n",
       "      <td>2021</td>\n",
       "    </tr>\n",
       "    <tr>\n",
       "      <th>freq</th>\n",
       "      <td>1</td>\n",
       "      <td>1400000</td>\n",
       "    </tr>\n",
       "  </tbody>\n",
       "</table>\n",
       "</div>"
      ],
      "text/plain": [
       "        case_id  db_year\n",
       "count   1400000  1400000\n",
       "unique  1400000        1\n",
       "top     0081715     2021\n",
       "freq          1  1400000"
      ]
     },
     "execution_count": 8,
     "metadata": {},
     "output_type": "execute_result"
    }
   ],
   "source": [
    "case_ids_df.describe()"
   ]
  },
  {
   "cell_type": "code",
   "execution_count": 9,
   "id": "bb306e5a",
   "metadata": {},
   "outputs": [
    {
     "data": {
      "text/html": [
       "<div>\n",
       "<style scoped>\n",
       "    .dataframe tbody tr th:only-of-type {\n",
       "        vertical-align: middle;\n",
       "    }\n",
       "\n",
       "    .dataframe tbody tr th {\n",
       "        vertical-align: top;\n",
       "    }\n",
       "\n",
       "    .dataframe thead th {\n",
       "        text-align: right;\n",
       "    }\n",
       "</style>\n",
       "<table border=\"1\" class=\"dataframe\">\n",
       "  <thead>\n",
       "    <tr style=\"text-align: right;\">\n",
       "      <th></th>\n",
       "      <th>case_id</th>\n",
       "      <th>db_year</th>\n",
       "    </tr>\n",
       "  </thead>\n",
       "  <tbody>\n",
       "    <tr>\n",
       "      <th>0</th>\n",
       "      <td>0081715</td>\n",
       "      <td>2021</td>\n",
       "    </tr>\n",
       "    <tr>\n",
       "      <th>1</th>\n",
       "      <td>0726202</td>\n",
       "      <td>2021</td>\n",
       "    </tr>\n",
       "    <tr>\n",
       "      <th>2</th>\n",
       "      <td>3858022</td>\n",
       "      <td>2021</td>\n",
       "    </tr>\n",
       "    <tr>\n",
       "      <th>3</th>\n",
       "      <td>3899441</td>\n",
       "      <td>2021</td>\n",
       "    </tr>\n",
       "    <tr>\n",
       "      <th>4</th>\n",
       "      <td>3899442</td>\n",
       "      <td>2021</td>\n",
       "    </tr>\n",
       "  </tbody>\n",
       "</table>\n",
       "</div>"
      ],
      "text/plain": [
       "   case_id db_year\n",
       "0  0081715    2021\n",
       "1  0726202    2021\n",
       "2  3858022    2021\n",
       "3  3899441    2021\n",
       "4  3899442    2021"
      ]
     },
     "execution_count": 9,
     "metadata": {},
     "output_type": "execute_result"
    }
   ],
   "source": [
    "case_ids_df.head()"
   ]
  },
  {
   "cell_type": "markdown",
   "id": "a4276ea3",
   "metadata": {},
   "source": [
    "**Вывод:**\n",
    "\n",
    "Бзаа данных состоит из 4 таблиц. Описание  данных по 3 таблицам представлены в разделе 2 настоящего проека. Таблица 'case_ids' не описана со стороны заказчика. Из анализа - она представляет собой данные за 2021 год с уникальнми номерами для зарегистрированноых происшествий в таблице происшествий. (Дальше эта таблица использоваться не будет)."
   ]
  },
  {
   "cell_type": "markdown",
   "id": "ed86e117",
   "metadata": {},
   "source": [
    "## карткий анализ данных для каждой таблицы."
   ]
  },
  {
   "cell_type": "code",
   "execution_count": 10,
   "id": "b32326bd",
   "metadata": {
    "scrolled": false
   },
   "outputs": [
    {
     "name": "stdout",
     "output_type": "stream",
     "text": [
      "\n",
      "___________________________________________\n",
      "Description for table case_ids:\n",
      "  column_name data_type\n",
      "0     case_id      text\n",
      "1     db_year      text\n",
      "\n",
      "___________________________________________\n",
      "\n",
      "___________________________________________\n",
      "Description for table collisions:\n",
      "                    column_name               data_type\n",
      "0                   party_count                 integer\n",
      "1                  intersection                 integer\n",
      "2                      distance                    real\n",
      "3                collision_date                    date\n",
      "4                collision_time  time without time zone\n",
      "5                 location_type                    text\n",
      "6              collision_damage                    text\n",
      "7                       case_id                    text\n",
      "8        pcf_violation_category                    text\n",
      "9             type_of_collision                    text\n",
      "10  motor_vehicle_involved_with                    text\n",
      "11                 road_surface                    text\n",
      "12             road_condition_1                    text\n",
      "13                     lighting                    text\n",
      "14               control_device                    text\n",
      "15     primary_collision_factor                    text\n",
      "16         county_city_location                    text\n",
      "17              county_location                    text\n",
      "18                    direction                    text\n",
      "19                    weather_1                    text\n",
      "\n",
      "___________________________________________\n",
      "\n",
      "___________________________________________\n",
      "Description for table parties:\n",
      "           column_name data_type\n",
      "0     cellphone_in_use   integer\n",
      "1         party_number   integer\n",
      "2             at_fault   integer\n",
      "3    insurance_premium   integer\n",
      "4                   id   integer\n",
      "5              case_id      text\n",
      "6  party_drug_physical      text\n",
      "7           party_type      text\n",
      "8       party_sobriety      text\n",
      "\n",
      "___________________________________________\n",
      "\n",
      "___________________________________________\n",
      "Description for table vehicles:\n",
      "            column_name data_type\n",
      "0                    id   integer\n",
      "1          party_number   integer\n",
      "2           vehicle_age   integer\n",
      "3               case_id      text\n",
      "4          vehicle_type      text\n",
      "5  vehicle_transmission      text\n",
      "\n",
      "___________________________________________\n"
     ]
    }
   ],
   "source": [
    "for table in tables['table_name']:\n",
    "    print()\n",
    "    print('___________________________________________')\n",
    "\n",
    "    query = f'''\n",
    "    SELECT column_name, data_type\n",
    "    FROM information_schema.columns\n",
    "    WHERE table_name = '{table}';\n",
    "    '''\n",
    "    result = pd.read_sql_query(query, con=engine)\n",
    "    print(f\"Description for table {table}:\\n{result}\\n\")\n",
    "    print('___________________________________________')\n"
   ]
  },
  {
   "cell_type": "code",
   "execution_count": 11,
   "id": "3c75e3db",
   "metadata": {
    "scrolled": true
   },
   "outputs": [
    {
     "name": "stdout",
     "output_type": "stream",
     "text": [
      "Number of rows in case_ids: 1400000\n",
      "\n",
      "Number of rows in collisions: 1400000\n",
      "\n",
      "Number of rows in parties: 2752408\n",
      "\n",
      "Number of rows in vehicles: 1021234\n",
      "\n"
     ]
    }
   ],
   "source": [
    "# Подсчет строк в каждой таблице.\n",
    "for table in tables['table_name']:\n",
    "    query = f'''\n",
    "    SELECT COUNT(*) \n",
    "    FROM {table};\n",
    "    '''\n",
    "    result = pd.read_sql_query(query, con=engine)\n",
    "    print(f\"Number of rows in {table}: {result.iloc[0, 0]}\\n\")"
   ]
  },
  {
   "cell_type": "markdown",
   "id": "c4d9b78c",
   "metadata": {},
   "source": [
    "## Вывод."
   ]
  },
  {
   "cell_type": "markdown",
   "id": "41ab6de3",
   "metadata": {},
   "source": [
    "- База данных состоит из 4 таблиц. Все данные в таблицах описаны.\n",
    "- Больше всего записей находится в таблице 'parties'. Здесь количество данных примерно в 2.7 раза больше, чем кол-во записей в 'vehicles'. Вторая таблица имеет наименьшее кол-во записей. По количеству строк между ними находсятся таблицы 'collisions' и 'parties'. Они имеют одинаковое кол-во записей.\n",
    "- Все таблицы связаны между собой по ключу 'case_id'."
   ]
  },
  {
   "cell_type": "markdown",
   "id": "456b17ef",
   "metadata": {},
   "source": [
    "# Проверка статистического анализа факторов ДТП."
   ]
  },
  {
   "cell_type": "markdown",
   "id": "4ae42ce1",
   "metadata": {},
   "source": [
    "## Выявление наиболее аварийных месяцев."
   ]
  },
  {
   "cell_type": "markdown",
   "id": "f2588830",
   "metadata": {},
   "source": [
    "Выполняется SQL запрос в БД для выгрузки информации по всем авариям по всем месяцам за весь промежуток времени."
   ]
  },
  {
   "cell_type": "code",
   "execution_count": 12,
   "id": "f2050e47",
   "metadata": {
    "scrolled": false
   },
   "outputs": [
    {
     "data": {
      "text/html": [
       "<div>\n",
       "<style scoped>\n",
       "    .dataframe tbody tr th:only-of-type {\n",
       "        vertical-align: middle;\n",
       "    }\n",
       "\n",
       "    .dataframe tbody tr th {\n",
       "        vertical-align: top;\n",
       "    }\n",
       "\n",
       "    .dataframe thead th {\n",
       "        text-align: right;\n",
       "    }\n",
       "</style>\n",
       "<table border=\"1\" class=\"dataframe\">\n",
       "  <thead>\n",
       "    <tr style=\"text-align: right;\">\n",
       "      <th></th>\n",
       "      <th>collision_month</th>\n",
       "      <th>collisions_number</th>\n",
       "    </tr>\n",
       "  </thead>\n",
       "  <tbody>\n",
       "    <tr>\n",
       "      <th>0</th>\n",
       "      <td>1.0</td>\n",
       "      <td>132044</td>\n",
       "    </tr>\n",
       "    <tr>\n",
       "      <th>1</th>\n",
       "      <td>2.0</td>\n",
       "      <td>128858</td>\n",
       "    </tr>\n",
       "    <tr>\n",
       "      <th>2</th>\n",
       "      <td>3.0</td>\n",
       "      <td>139581</td>\n",
       "    </tr>\n",
       "    <tr>\n",
       "      <th>3</th>\n",
       "      <td>4.0</td>\n",
       "      <td>130180</td>\n",
       "    </tr>\n",
       "    <tr>\n",
       "      <th>4</th>\n",
       "      <td>5.0</td>\n",
       "      <td>130316</td>\n",
       "    </tr>\n",
       "    <tr>\n",
       "      <th>5</th>\n",
       "      <td>6.0</td>\n",
       "      <td>102594</td>\n",
       "    </tr>\n",
       "    <tr>\n",
       "      <th>6</th>\n",
       "      <td>7.0</td>\n",
       "      <td>102227</td>\n",
       "    </tr>\n",
       "    <tr>\n",
       "      <th>7</th>\n",
       "      <td>8.0</td>\n",
       "      <td>104089</td>\n",
       "    </tr>\n",
       "    <tr>\n",
       "      <th>8</th>\n",
       "      <td>9.0</td>\n",
       "      <td>105159</td>\n",
       "    </tr>\n",
       "    <tr>\n",
       "      <th>9</th>\n",
       "      <td>10.0</td>\n",
       "      <td>112237</td>\n",
       "    </tr>\n",
       "    <tr>\n",
       "      <th>10</th>\n",
       "      <td>11.0</td>\n",
       "      <td>104770</td>\n",
       "    </tr>\n",
       "    <tr>\n",
       "      <th>11</th>\n",
       "      <td>12.0</td>\n",
       "      <td>107945</td>\n",
       "    </tr>\n",
       "  </tbody>\n",
       "</table>\n",
       "</div>"
      ],
      "text/plain": [
       "    collision_month  collisions_number\n",
       "0               1.0             132044\n",
       "1               2.0             128858\n",
       "2               3.0             139581\n",
       "3               4.0             130180\n",
       "4               5.0             130316\n",
       "5               6.0             102594\n",
       "6               7.0             102227\n",
       "7               8.0             104089\n",
       "8               9.0             105159\n",
       "9              10.0             112237\n",
       "10             11.0             104770\n",
       "11             12.0             107945"
      ]
     },
     "execution_count": 12,
     "metadata": {},
     "output_type": "execute_result"
    }
   ],
   "source": [
    "query = '''\n",
    "SELECT\n",
    "    EXTRACT(MONTH FROM collision_date) AS collision_month,\n",
    "    COUNT(*) AS collisions_number\n",
    "FROM collisions\n",
    "GROUP BY collision_month\n",
    "'''\n",
    "\n",
    "col_month_df = pd.read_sql_query(query, con=engine)\n",
    "col_month_df"
   ]
  },
  {
   "cell_type": "code",
   "execution_count": 13,
   "id": "421f898b",
   "metadata": {},
   "outputs": [
    {
     "data": {
      "image/png": "[encoded data removed]",
      "text/plain": [
       "<Figure size 1440x576 with 1 Axes>"
      ]
     },
     "metadata": {},
     "output_type": "display_data"
    }
   ],
   "source": [
    "labels = col_month_df['collision_month']\n",
    "sizes = col_month_df['collisions_number']\n",
    "fig, ax = plt.subplots(figsize=(20, 8))\n",
    "ax.pie(sizes, labels = labels, autopct='%1.2f%%')\n",
    "\n",
    "ax.set_title('Диаграмма распределения аварий по месяцам', fontsize=15)\n",
    "ax.legend(loc='upper left', bbox_to_anchor=(1.0, 1.0))\n",
    "\n",
    "plt.show()"
   ]
  },
  {
   "cell_type": "markdown",
   "id": "e6b0e864",
   "metadata": {},
   "source": [
    "**Больше** всего аварий происходит в марте. 9.97% от всего кол-ва.\n",
    "\n",
    "**Меньше** всего аварий случается в июле. 7.3% от всего кол-ва."
   ]
  },
  {
   "cell_type": "markdown",
   "id": "4f451dcc",
   "metadata": {},
   "source": [
    "## Аналитические задачи для понимания данных."
   ]
  },
  {
   "cell_type": "markdown",
   "id": "780c3800",
   "metadata": {},
   "source": [
    "**В рамках проекта необходимо поставить 6 задач для изучения даных. Затем провести исследование по 2 из них.**"
   ]
  },
  {
   "cell_type": "markdown",
   "id": "92d4bdd0",
   "metadata": {},
   "source": [
    "- Найти самые частые причины ДТП. (parties)\n",
    "\n",
    "- Провести анализ серьёзности повреждений транспортного средства, исходя из состояния дороги в момент ДТП (связать collisions и parties);\n",
    "\n",
    "- Изучить как зависит серьезность повреждений от возраста авто. ('type of collision' и 'vehicle age');\n",
    "\n",
    "- Проанализировать связь погодных условий и количества участников ДТП. ('party_number' из таблицы parties и 'weather1');\n",
    "\n",
    "- Провести исследование как стоимость страховки свзана с серьезностью повреждений. ('COLLISION_DAMAGE' и 'INSURANCE_PREMIUM');\n",
    "\n",
    "- Проверить как виновность участника связана с погодными условиями ('AT_FAULT' и 'weather1').\n",
    "\n"
   ]
  },
  {
   "cell_type": "markdown",
   "id": "25c158e9",
   "metadata": {},
   "source": [
    "### Взаимосвязь виновности участника ДТП и погодных условий."
   ]
  },
  {
   "cell_type": "markdown",
   "id": "949a02f6",
   "metadata": {},
   "source": [
    "Для решения задачи из БД загружаются данные из двх таблиц. Collisions и parties."
   ]
  },
  {
   "cell_type": "code",
   "execution_count": 14,
   "id": "96cbd63c",
   "metadata": {},
   "outputs": [],
   "source": [
    "query = '''\n",
    "SELECT\n",
    "    t1.weather_1,\n",
    "    SUM(t2.at_fault) AS guilty,\n",
    "    COUNT(t2.at_fault) AS total\n",
    "    \n",
    "FROM collisions AS t1\n",
    "LEFT JOIN parties AS t2 USING(case_id)\n",
    "GROUP BY t1.weather_1\n",
    "'''\n",
    "\n",
    "weather_guilty_df = pd.read_sql_query(query, con=engine)"
   ]
  },
  {
   "cell_type": "code",
   "execution_count": 15,
   "id": "7d1aca41",
   "metadata": {
    "scrolled": true
   },
   "outputs": [
    {
     "data": {
      "text/html": [
       "<div>\n",
       "<style scoped>\n",
       "    .dataframe tbody tr th:only-of-type {\n",
       "        vertical-align: middle;\n",
       "    }\n",
       "\n",
       "    .dataframe tbody tr th {\n",
       "        vertical-align: top;\n",
       "    }\n",
       "\n",
       "    .dataframe thead th {\n",
       "        text-align: right;\n",
       "    }\n",
       "</style>\n",
       "<table border=\"1\" class=\"dataframe\">\n",
       "  <thead>\n",
       "    <tr style=\"text-align: right;\">\n",
       "      <th></th>\n",
       "      <th>weather_1</th>\n",
       "      <th>guilty</th>\n",
       "      <th>total</th>\n",
       "      <th>not_guilty</th>\n",
       "    </tr>\n",
       "  </thead>\n",
       "  <tbody>\n",
       "    <tr>\n",
       "      <th>0</th>\n",
       "      <td>clear</td>\n",
       "      <td>1030212</td>\n",
       "      <td>2228413</td>\n",
       "      <td>1198201</td>\n",
       "    </tr>\n",
       "    <tr>\n",
       "      <th>1</th>\n",
       "      <td>cloudy</td>\n",
       "      <td>189351</td>\n",
       "      <td>385479</td>\n",
       "      <td>196128</td>\n",
       "    </tr>\n",
       "    <tr>\n",
       "      <th>2</th>\n",
       "      <td>fog</td>\n",
       "      <td>5711</td>\n",
       "      <td>10779</td>\n",
       "      <td>5068</td>\n",
       "    </tr>\n",
       "    <tr>\n",
       "      <th>3</th>\n",
       "      <td>other</td>\n",
       "      <td>1143</td>\n",
       "      <td>2646</td>\n",
       "      <td>1503</td>\n",
       "    </tr>\n",
       "    <tr>\n",
       "      <th>4</th>\n",
       "      <td>raining</td>\n",
       "      <td>54058</td>\n",
       "      <td>105861</td>\n",
       "      <td>51803</td>\n",
       "    </tr>\n",
       "    <tr>\n",
       "      <th>5</th>\n",
       "      <td>snowing</td>\n",
       "      <td>2400</td>\n",
       "      <td>4341</td>\n",
       "      <td>1941</td>\n",
       "    </tr>\n",
       "    <tr>\n",
       "      <th>6</th>\n",
       "      <td>wind</td>\n",
       "      <td>339</td>\n",
       "      <td>799</td>\n",
       "      <td>460</td>\n",
       "    </tr>\n",
       "    <tr>\n",
       "      <th>7</th>\n",
       "      <td>None</td>\n",
       "      <td>4913</td>\n",
       "      <td>14090</td>\n",
       "      <td>9177</td>\n",
       "    </tr>\n",
       "  </tbody>\n",
       "</table>\n",
       "</div>"
      ],
      "text/plain": [
       "  weather_1   guilty    total  not_guilty\n",
       "0     clear  1030212  2228413     1198201\n",
       "1    cloudy   189351   385479      196128\n",
       "2       fog     5711    10779        5068\n",
       "3     other     1143     2646        1503\n",
       "4   raining    54058   105861       51803\n",
       "5   snowing     2400     4341        1941\n",
       "6      wind      339      799         460\n",
       "7      None     4913    14090        9177"
      ]
     },
     "execution_count": 15,
     "metadata": {},
     "output_type": "execute_result"
    }
   ],
   "source": [
    "weather_guilty_df['not_guilty'] = weather_guilty_df['total'] - weather_guilty_df['guilty']\n",
    "weather_guilty_df"
   ]
  },
  {
   "cell_type": "code",
   "execution_count": 16,
   "id": "e563202f",
   "metadata": {
    "scrolled": false
   },
   "outputs": [
    {
     "data": {
      "text/html": [
       "<div>\n",
       "<style scoped>\n",
       "    .dataframe tbody tr th:only-of-type {\n",
       "        vertical-align: middle;\n",
       "    }\n",
       "\n",
       "    .dataframe tbody tr th {\n",
       "        vertical-align: top;\n",
       "    }\n",
       "\n",
       "    .dataframe thead th {\n",
       "        text-align: right;\n",
       "    }\n",
       "</style>\n",
       "<table border=\"1\" class=\"dataframe\">\n",
       "  <thead>\n",
       "    <tr style=\"text-align: right;\">\n",
       "      <th></th>\n",
       "      <th>weather_1</th>\n",
       "      <th>guilty</th>\n",
       "      <th>total</th>\n",
       "      <th>not_guilty</th>\n",
       "    </tr>\n",
       "  </thead>\n",
       "  <tbody>\n",
       "    <tr>\n",
       "      <th>0</th>\n",
       "      <td>clear</td>\n",
       "      <td>1030212</td>\n",
       "      <td>2228413</td>\n",
       "      <td>1198201</td>\n",
       "    </tr>\n",
       "    <tr>\n",
       "      <th>1</th>\n",
       "      <td>cloudy</td>\n",
       "      <td>189351</td>\n",
       "      <td>385479</td>\n",
       "      <td>196128</td>\n",
       "    </tr>\n",
       "    <tr>\n",
       "      <th>2</th>\n",
       "      <td>fog</td>\n",
       "      <td>5711</td>\n",
       "      <td>10779</td>\n",
       "      <td>5068</td>\n",
       "    </tr>\n",
       "    <tr>\n",
       "      <th>3</th>\n",
       "      <td>other</td>\n",
       "      <td>1143</td>\n",
       "      <td>2646</td>\n",
       "      <td>1503</td>\n",
       "    </tr>\n",
       "    <tr>\n",
       "      <th>4</th>\n",
       "      <td>raining</td>\n",
       "      <td>54058</td>\n",
       "      <td>105861</td>\n",
       "      <td>51803</td>\n",
       "    </tr>\n",
       "    <tr>\n",
       "      <th>5</th>\n",
       "      <td>snowing</td>\n",
       "      <td>2400</td>\n",
       "      <td>4341</td>\n",
       "      <td>1941</td>\n",
       "    </tr>\n",
       "    <tr>\n",
       "      <th>6</th>\n",
       "      <td>wind</td>\n",
       "      <td>339</td>\n",
       "      <td>799</td>\n",
       "      <td>460</td>\n",
       "    </tr>\n",
       "    <tr>\n",
       "      <th>7</th>\n",
       "      <td>other</td>\n",
       "      <td>4913</td>\n",
       "      <td>14090</td>\n",
       "      <td>9177</td>\n",
       "    </tr>\n",
       "  </tbody>\n",
       "</table>\n",
       "</div>"
      ],
      "text/plain": [
       "  weather_1   guilty    total  not_guilty\n",
       "0     clear  1030212  2228413     1198201\n",
       "1    cloudy   189351   385479      196128\n",
       "2       fog     5711    10779        5068\n",
       "3     other     1143     2646        1503\n",
       "4   raining    54058   105861       51803\n",
       "5   snowing     2400     4341        1941\n",
       "6      wind      339      799         460\n",
       "7     other     4913    14090        9177"
      ]
     },
     "execution_count": 16,
     "metadata": {},
     "output_type": "execute_result"
    }
   ],
   "source": [
    "#Замена пропуска в наименовании погодных условий:\n",
    "weather_guilty_df['weather_1'] = weather_guilty_df['weather_1'].fillna('other')\n",
    "weather_guilty_df"
   ]
  },
  {
   "cell_type": "code",
   "execution_count": 17,
   "id": "0d087e9c",
   "metadata": {},
   "outputs": [],
   "source": [
    "#Т.к. общее кол-во аварий в зависимости от погодных условий имеет разные порядковые диапазоны, то заменим\n",
    "#их количественные значения на относительные.\n",
    "\n",
    "weather_guilty_df['guilty'] = weather_guilty_df['guilty'] / weather_guilty_df['total']\n",
    "weather_guilty_df['not_guilty'] = weather_guilty_df['not_guilty'] / weather_guilty_df['total']"
   ]
  },
  {
   "cell_type": "code",
   "execution_count": 18,
   "id": "48971c94",
   "metadata": {
    "scrolled": false
   },
   "outputs": [
    {
     "data": {
      "image/png": "[encoded data removed]",
      "text/plain": [
       "<Figure size 1440x648 with 1 Axes>"
      ]
     },
     "metadata": {
      "needs_background": "light"
     },
     "output_type": "display_data"
    }
   ],
   "source": [
    "fig, ax = plt.subplots(figsize=(20, 9))\n",
    "ax.bar(weather_guilty_df['weather_1'], weather_guilty_df['guilty'], color='powderblue', edgecolor='darkslategray') \n",
    "ax.bar(weather_guilty_df['weather_1'], weather_guilty_df['not_guilty'], color='orange', edgecolor='black', width = 0.2)\n",
    "ax.tick_params(axis='both', labelsize=15)\n",
    "\n",
    "ax.set_xlabel('weather type', fontsize=20)\n",
    "ax.set_ylabel('accident count', fontsize=20)\n",
    "ax.set_title('«Взаимосвязь виновности участника ДТП и погодных условий', fontsize=25)\n",
    "ax.grid(True)\n",
    "\n",
    "# Создание объектов Line2D для легенды\n",
    "guilty_legend = Line2D([0], [0], color='powderblue', linewidth=8, label='Виновен')\n",
    "not_guilty_legend = Line2D([0], [0], color='orange', linewidth=8, label='Не виновен')\n",
    "ax.legend(handles=[guilty_legend, not_guilty_legend], fontsize=20)  # Добавление легенды\n",
    "\n",
    "plt.show()"
   ]
  },
  {
   "cell_type": "markdown",
   "id": "570b1e12",
   "metadata": {},
   "source": [
    "**Вывод.** \n",
    "\n",
    "Из графика видно, что виновность водителей в ДТП чаще всего больше 50% только в случае выпадения осадков (туман, дождь, снег). "
   ]
  },
  {
   "cell_type": "markdown",
   "id": "901f295d",
   "metadata": {},
   "source": [
    "###  Взаимосвязь стоимости страховки и серьезности повреждений."
   ]
  },
  {
   "cell_type": "markdown",
   "id": "2c993e19",
   "metadata": {},
   "source": [
    "К таблице parties присоединяется таблица collisions. Т.к. в parties case_id - не уникальное значение. И может быть одинаково для участников 1го ДТП."
   ]
  },
  {
   "cell_type": "code",
   "execution_count": 19,
   "id": "27ca4b9d",
   "metadata": {
    "scrolled": true
   },
   "outputs": [
    {
     "data": {
      "text/html": [
       "<div>\n",
       "<style scoped>\n",
       "    .dataframe tbody tr th:only-of-type {\n",
       "        vertical-align: middle;\n",
       "    }\n",
       "\n",
       "    .dataframe tbody tr th {\n",
       "        vertical-align: top;\n",
       "    }\n",
       "\n",
       "    .dataframe thead th {\n",
       "        text-align: right;\n",
       "    }\n",
       "</style>\n",
       "<table border=\"1\" class=\"dataframe\">\n",
       "  <thead>\n",
       "    <tr style=\"text-align: right;\">\n",
       "      <th></th>\n",
       "      <th>case_id</th>\n",
       "      <th>collision_damage</th>\n",
       "      <th>insurance_premium</th>\n",
       "    </tr>\n",
       "  </thead>\n",
       "  <tbody>\n",
       "    <tr>\n",
       "      <th>0</th>\n",
       "      <td>3982918</td>\n",
       "      <td>scratch</td>\n",
       "      <td>59.0</td>\n",
       "    </tr>\n",
       "    <tr>\n",
       "      <th>1</th>\n",
       "      <td>4000753</td>\n",
       "      <td>small damage</td>\n",
       "      <td>NaN</td>\n",
       "    </tr>\n",
       "    <tr>\n",
       "      <th>2</th>\n",
       "      <td>4014984</td>\n",
       "      <td>fatal</td>\n",
       "      <td>63.0</td>\n",
       "    </tr>\n",
       "    <tr>\n",
       "      <th>3</th>\n",
       "      <td>4018996</td>\n",
       "      <td>middle damage</td>\n",
       "      <td>58.0</td>\n",
       "    </tr>\n",
       "    <tr>\n",
       "      <th>4</th>\n",
       "      <td>4021220</td>\n",
       "      <td>small damage</td>\n",
       "      <td>NaN</td>\n",
       "    </tr>\n",
       "    <tr>\n",
       "      <th>...</th>\n",
       "      <td>...</td>\n",
       "      <td>...</td>\n",
       "      <td>...</td>\n",
       "    </tr>\n",
       "    <tr>\n",
       "      <th>2752403</th>\n",
       "      <td>5456544</td>\n",
       "      <td>small damage</td>\n",
       "      <td>29.0</td>\n",
       "    </tr>\n",
       "    <tr>\n",
       "      <th>2752404</th>\n",
       "      <td>5456579</td>\n",
       "      <td>severe damage</td>\n",
       "      <td>26.0</td>\n",
       "    </tr>\n",
       "    <tr>\n",
       "      <th>2752405</th>\n",
       "      <td>5456610</td>\n",
       "      <td>small damage</td>\n",
       "      <td>20.0</td>\n",
       "    </tr>\n",
       "    <tr>\n",
       "      <th>2752406</th>\n",
       "      <td>5456619</td>\n",
       "      <td>middle damage</td>\n",
       "      <td>30.0</td>\n",
       "    </tr>\n",
       "    <tr>\n",
       "      <th>2752407</th>\n",
       "      <td>5456619</td>\n",
       "      <td>middle damage</td>\n",
       "      <td>33.0</td>\n",
       "    </tr>\n",
       "  </tbody>\n",
       "</table>\n",
       "<p>2752408 rows × 3 columns</p>\n",
       "</div>"
      ],
      "text/plain": [
       "         case_id collision_damage  insurance_premium\n",
       "0        3982918          scratch               59.0\n",
       "1        4000753     small damage                NaN\n",
       "2        4014984            fatal               63.0\n",
       "3        4018996    middle damage               58.0\n",
       "4        4021220     small damage                NaN\n",
       "...          ...              ...                ...\n",
       "2752403  5456544     small damage               29.0\n",
       "2752404  5456579    severe damage               26.0\n",
       "2752405  5456610     small damage               20.0\n",
       "2752406  5456619    middle damage               30.0\n",
       "2752407  5456619    middle damage               33.0\n",
       "\n",
       "[2752408 rows x 3 columns]"
      ]
     },
     "execution_count": 19,
     "metadata": {},
     "output_type": "execute_result"
    }
   ],
   "source": [
    "query = '''\n",
    "SELECT\n",
    "    t1.case_id,\n",
    "    t1.collision_damage,\n",
    "    t2.insurance_premium \n",
    "    \n",
    "FROM collisions AS t1\n",
    "RIGHT JOIN parties AS t2 USING(case_id)\n",
    "'''\n",
    "\n",
    "damage_insuarance_df = pd.read_sql_query(query, con=engine)\n",
    "damage_insuarance_df"
   ]
  },
  {
   "cell_type": "markdown",
   "id": "906871a8",
   "metadata": {},
   "source": [
    "Анализ на неявные дубликаты."
   ]
  },
  {
   "cell_type": "code",
   "execution_count": 20,
   "id": "0ec7314a",
   "metadata": {
    "scrolled": true
   },
   "outputs": [
    {
     "data": {
      "text/plain": [
       "array(['scratch', 'small damage', 'fatal', 'middle damage',\n",
       "       'severe damage'], dtype=object)"
      ]
     },
     "execution_count": 20,
     "metadata": {},
     "output_type": "execute_result"
    }
   ],
   "source": [
    "damage_insuarance_df['collision_damage'].unique()"
   ]
  },
  {
   "cell_type": "code",
   "execution_count": 21,
   "id": "1366206a",
   "metadata": {},
   "outputs": [
    {
     "name": "stdout",
     "output_type": "stream",
     "text": [
      "В данных признака case_id пропусков нет.\n",
      "В данных признака collision_damage пропусков нет.\n",
      "В данных признака insurance_premium присутствует 405402 пропусков\n"
     ]
    }
   ],
   "source": [
    "for i in damage_insuarance_df.columns:\n",
    "    isna_sum = damage_insuarance_df[i].isna().sum()\n",
    "    if isna_sum > 0:\n",
    "        print(f'В данных признака {i} присутствует {isna_sum} пропусков')\n",
    "    else:\n",
    "        print(f'В данных признака {i} пропусков нет.')"
   ]
  },
  {
   "cell_type": "markdown",
   "id": "a2d0faeb",
   "metadata": {},
   "source": [
    "В примерно 15% данных о стоимости страховки нет информации. Заменим пропуски на 0 для отображения на графике."
   ]
  },
  {
   "cell_type": "code",
   "execution_count": 22,
   "id": "7e604f47",
   "metadata": {},
   "outputs": [],
   "source": [
    "damage_insuarance_df['insurance_premium'] = damage_insuarance_df['insurance_premium'].fillna(0)"
   ]
  },
  {
   "cell_type": "code",
   "execution_count": 23,
   "id": "ab8777f7",
   "metadata": {
    "scrolled": false
   },
   "outputs": [
    {
     "data": {
      "image/png": "[encoded data removed]",
      "text/plain": [
       "<Figure size 1800x720 with 5 Axes>"
      ]
     },
     "metadata": {
      "needs_background": "light"
     },
     "output_type": "display_data"
    }
   ],
   "source": [
    "num_columns = 5\n",
    "num_rows = 1\n",
    "\n",
    "fig, axes = plt.subplots(num_rows, num_columns, figsize=(25, 10))\n",
    "# Уникальные классы повреждений.\n",
    "damages_unique = damage_insuarance_df['collision_damage'].unique()\n",
    "\n",
    "for i, ax in enumerate(axes.flatten()):\n",
    "    filtered_df = damage_insuarance_df[damage_insuarance_df['collision_damage'] == damages_unique[i]]\n",
    "    if i < len(damages_unique):\n",
    "        # Гистограмма для текущей класса повреждений\n",
    "        filtered_df['insurance_premium'].hist(bins=20,\n",
    "                                            color='powderblue',\n",
    "                                            edgecolor='darkslategray',\n",
    "                                            linewidth=1,\n",
    "                                            ax=ax)\n",
    "    ax.set_title(f'Цена страховки для {damages_unique[i]}',  fontsize=13)\n",
    "    ax.tick_params(axis='both', labelsize=11)\n",
    "    ax.set_xlabel('insurance coast', fontsize=13)\n",
    "    \n",
    "plt.show()\n"
   ]
  },
  {
   "cell_type": "markdown",
   "id": "a2c0a3c3",
   "metadata": {},
   "source": [
    "**Вывод:**\n",
    "\n",
    "Из графиков распределения видно что для каждого типа повреждений авто стоимости страховок имеют примерно одинаковое распределение.\n",
    "\n",
    "Стоит обратить анимание, что замена пропусков на 0 в данных, проведенная выше, выбивается из нормального распределения. Заполнение пропусков лучше производить на медианные значения.\n",
    "\n",
    "Также графики распределения показывают, что в независимости от типа повреждения, большее количество выплат приходится на сумму в примерно 20.000."
   ]
  },
  {
   "cell_type": "markdown",
   "id": "52bc8545",
   "metadata": {},
   "source": [
    "# Разработка моделей ML для оценки водительского риска."
   ]
  },
  {
   "cell_type": "markdown",
   "id": "f0e5b034",
   "metadata": {},
   "source": [
    "В качестве моделей для оценки водительского риска в проекте применяются следующие модели:\n",
    "- CatBoost;\n",
    "- LightGBM;\n",
    "- Нейронная сеть."
   ]
  },
  {
   "cell_type": "markdown",
   "id": "c3460e00",
   "metadata": {},
   "source": [
    "Для построения первых дыух моделей не используется нормализация данных и кодирование признаков. \n",
    "Эти две опирации применяются только к моделе с нейронной стеью."
   ]
  },
  {
   "cell_type": "markdown",
   "id": "546d7262",
   "metadata": {},
   "source": [
    "## Критерии для выбора данных."
   ]
  },
  {
   "cell_type": "markdown",
   "id": "8b2253b1",
   "metadata": {},
   "source": [
    "- Тип виновника — только машина (car).\n",
    "- ДТП привело к любым значимым повреждениям автомобиля любого из участников — все, кроме типа SCRATCH (царапина).\n",
    "- Для моделирования используются данные только за 2012 год.\n",
    "- Обязательное условие — учесть фактор возраста автомобиля."
   ]
  },
  {
   "cell_type": "markdown",
   "id": "4c3ba727",
   "metadata": {},
   "source": [
    "Чтобы разработать модель для оценки водительского риска необходимо сформировать датаст из БД на основании вышеперечисленных критериев. Однако только этих критериев недостаточно. Так как не все признаки будут информативны для разрабатываемой модели. Ниже приведена таблица с пояснением, подходят ли признаки для формирования модели или нет.\n",
    "\n",
    "Помимо признаков, которые войдут в датасет или не войдут, промаркированы признаки, которые могут быть использованы для дополнительного анализа. Они будут внесены в датасет. И будут использоваться в построении модели ML, которая будет вызодить за рамки поставленной задачи."
   ]
  },
  {
   "cell_type": "markdown",
   "id": "4ce9f554",
   "metadata": {},
   "source": [
    "| Наименование признака    | Внесение данных в df | Обоснование |\n",
    "|--------------------------|------------------------|--------------------------------------------|\n",
    "| COLLISION_DATE           | Вносятся              | Данные необходимы для фильтрации и определения даты использования автомобиля. |\n",
    "| COLLISION_TIME           | Вносятся              | Данные необходимы для определения времени начала использования автомобиля. |\n",
    "| INTERSECTION             | Не вносятся           | До момента аварии данные не могут быть получены. |\n",
    "| WEATHER_1                | Вносятся              | Данные очевидно влияют на вероятность ДТП. |\n",
    "| COLLISION_DAMAGE         | Не вносятся           | До момента аварии данные не могут быть получены. |\n",
    "| PRIMARY_COLL_FACTOR      | Не вносятся           | До момента аварии данные не могут быть получены. |\n",
    "| ROAD_SURFACE             | Вносятся              | Состояние дороги влияет на определение вероятности аварии. |\n",
    "| LIGHT                    | Вносятся              | Освещенность влияет на определение вероятности аварии. |\n",
    "| DIRECTION                | Вносится              | Направление движения может влиять на вероятность ДТП|\n",
    "| COUNTY_CITY_LOCATION     | Вносятся              | Предполагается, что авария и район посадки находятся в одном месте. |\n",
    "| COUNTY_LOCATION          | Вносятся              | Предполагается, что авария и район посадки находятся в одном месте. |\n",
    "| DISTANCE                 | Вносятся для дополнительного анализа           | При движении данный параметр может влить на вероятность ДТП. |\n",
    "| LOCATION_TYPE            | Вносятся           | Данные могут пригодиться для построения маршрута, но не требуются для анализа. |\n",
    "| PARTY_COUNT            | Не вносятся           | До момента аварии данные не могут быть получены.  |\n",
    "| PCF_VIOLATION_CATEGORY            | Вносятся для дополнительного анализа           |Данные могут быть использованы при движении авто.|\n",
    "| TYPE_OF_COLLISION            | Не вносятся           | До момента аварии данные не могут быть получены.  |\n",
    "| MOTOR_VEHICLE_INVOLVED_WITH            | Не вносятся           | До момента аварии данные не могут быть получены.  |\n",
    "| ROAD_CONDITION_1            | Вносятся           | Состояние дороги может влиять на вероятность ДТП. |\n",
    "| PARTY_NUMBER             | Не вносятся           | До момента аварии данные не могут быть получены. |\n",
    "| PARTY_TYPE               | Не вносятся          | До момента аварии данные не могут быть получены. |\n",
    "| AT_FAULT                 | Вносятся              | Это целевой признак. |\n",
    "| INSURANCE_PREMIUM        | Вносится              | Стоимость страховки может влиять на манеру вождения водителя. |\n",
    "| PARTY_DRUG_PHYSICAL      | Вносится              | Общее состояние водителя может влиять на вероятность ДТП. |\n",
    "| PARTY_SOBRIETY           | Вносится              | Количество алкоголя в крови водителя может влиять на вероятность ДТП. |\n",
    "| CELLPHONE_IN_USE         | Вносится              | Телефон и, как следствие, телефонные звонки могут влиять на вероятность ДТП. |\n",
    "| VEHICLE_AGE              | Вносится              | По условию задачи. |\n",
    "| VEHICLE_TYPE             | Не вносятся           | Влияние на вероятность ДТП мало. |\n"
   ]
  },
  {
   "cell_type": "markdown",
   "id": "7b3503a5",
   "metadata": {},
   "source": [
    "## Выгрузка датафрейма из БД."
   ]
  },
  {
   "cell_type": "markdown",
   "id": "908106ed",
   "metadata": {},
   "source": [
    "В датасет выгружаются признаки с учетом параметров для дополнительного анализа."
   ]
  },
  {
   "cell_type": "code",
   "execution_count": 24,
   "id": "473aba79",
   "metadata": {
    "scrolled": true
   },
   "outputs": [
    {
     "name": "stdout",
     "output_type": "stream",
     "text": [
      "CPU times: user 579 ms, sys: 172 ms, total: 751 ms\n",
      "Wall time: 12.2 s\n"
     ]
    },
    {
     "data": {
      "text/html": [
       "<div>\n",
       "<style scoped>\n",
       "    .dataframe tbody tr th:only-of-type {\n",
       "        vertical-align: middle;\n",
       "    }\n",
       "\n",
       "    .dataframe tbody tr th {\n",
       "        vertical-align: top;\n",
       "    }\n",
       "\n",
       "    .dataframe thead th {\n",
       "        text-align: right;\n",
       "    }\n",
       "</style>\n",
       "<table border=\"1\" class=\"dataframe\">\n",
       "  <thead>\n",
       "    <tr style=\"text-align: right;\">\n",
       "      <th></th>\n",
       "      <th>id</th>\n",
       "      <th>case_id</th>\n",
       "      <th>at_fault</th>\n",
       "      <th>insurance_premium</th>\n",
       "      <th>party_sobriety</th>\n",
       "      <th>party_drug_physical</th>\n",
       "      <th>cellphone_in_use</th>\n",
       "      <th>party_number</th>\n",
       "      <th>county_city_location</th>\n",
       "      <th>county_location</th>\n",
       "      <th>...</th>\n",
       "      <th>motor_vehicle_involved_with</th>\n",
       "      <th>road_surface</th>\n",
       "      <th>road_condition_1</th>\n",
       "      <th>lighting</th>\n",
       "      <th>control_device</th>\n",
       "      <th>col_month</th>\n",
       "      <th>day_of_week</th>\n",
       "      <th>hour</th>\n",
       "      <th>vehicle_age</th>\n",
       "      <th>party_number</th>\n",
       "    </tr>\n",
       "  </thead>\n",
       "  <tbody>\n",
       "    <tr>\n",
       "      <th>0</th>\n",
       "      <td>2659603</td>\n",
       "      <td>5600885</td>\n",
       "      <td>1</td>\n",
       "      <td>43.0</td>\n",
       "      <td>had not been drinking</td>\n",
       "      <td>None</td>\n",
       "      <td>0.0</td>\n",
       "      <td>1</td>\n",
       "      <td>3607</td>\n",
       "      <td>san bernardino</td>\n",
       "      <td>...</td>\n",
       "      <td>other motor vehicle</td>\n",
       "      <td>dry</td>\n",
       "      <td>normal</td>\n",
       "      <td>dark with street lights</td>\n",
       "      <td>none</td>\n",
       "      <td>4.0</td>\n",
       "      <td>4.0</td>\n",
       "      <td>22.0</td>\n",
       "      <td>8.0</td>\n",
       "      <td>1</td>\n",
       "    </tr>\n",
       "    <tr>\n",
       "      <th>1</th>\n",
       "      <td>2395824</td>\n",
       "      <td>5449062</td>\n",
       "      <td>0</td>\n",
       "      <td>54.0</td>\n",
       "      <td>had not been drinking</td>\n",
       "      <td>None</td>\n",
       "      <td>0.0</td>\n",
       "      <td>2</td>\n",
       "      <td>0708</td>\n",
       "      <td>contra costa</td>\n",
       "      <td>...</td>\n",
       "      <td>other motor vehicle</td>\n",
       "      <td>dry</td>\n",
       "      <td>normal</td>\n",
       "      <td>dark with street lights</td>\n",
       "      <td>functioning</td>\n",
       "      <td>1.0</td>\n",
       "      <td>0.0</td>\n",
       "      <td>2.0</td>\n",
       "      <td>10.0</td>\n",
       "      <td>2</td>\n",
       "    </tr>\n",
       "    <tr>\n",
       "      <th>2</th>\n",
       "      <td>2672839</td>\n",
       "      <td>5608728</td>\n",
       "      <td>0</td>\n",
       "      <td>41.0</td>\n",
       "      <td>had not been drinking</td>\n",
       "      <td>None</td>\n",
       "      <td>0.0</td>\n",
       "      <td>1</td>\n",
       "      <td>0109</td>\n",
       "      <td>alameda</td>\n",
       "      <td>...</td>\n",
       "      <td>other motor vehicle</td>\n",
       "      <td>dry</td>\n",
       "      <td>normal</td>\n",
       "      <td>dusk or dawn</td>\n",
       "      <td>none</td>\n",
       "      <td>3.0</td>\n",
       "      <td>5.0</td>\n",
       "      <td>18.0</td>\n",
       "      <td>5.0</td>\n",
       "      <td>1</td>\n",
       "    </tr>\n",
       "    <tr>\n",
       "      <th>3</th>\n",
       "      <td>2673091</td>\n",
       "      <td>5608860</td>\n",
       "      <td>0</td>\n",
       "      <td>28.0</td>\n",
       "      <td>had not been drinking</td>\n",
       "      <td>None</td>\n",
       "      <td>0.0</td>\n",
       "      <td>2</td>\n",
       "      <td>4303</td>\n",
       "      <td>santa clara</td>\n",
       "      <td>...</td>\n",
       "      <td>other motor vehicle</td>\n",
       "      <td>dry</td>\n",
       "      <td>normal</td>\n",
       "      <td>daylight</td>\n",
       "      <td>none</td>\n",
       "      <td>4.0</td>\n",
       "      <td>3.0</td>\n",
       "      <td>11.0</td>\n",
       "      <td>0.0</td>\n",
       "      <td>2</td>\n",
       "    </tr>\n",
       "    <tr>\n",
       "      <th>4</th>\n",
       "      <td>2674405</td>\n",
       "      <td>5609619</td>\n",
       "      <td>1</td>\n",
       "      <td>44.0</td>\n",
       "      <td>None</td>\n",
       "      <td>under drug influence</td>\n",
       "      <td>0.0</td>\n",
       "      <td>1</td>\n",
       "      <td>1949</td>\n",
       "      <td>los angeles</td>\n",
       "      <td>...</td>\n",
       "      <td>fixed object</td>\n",
       "      <td>dry</td>\n",
       "      <td>normal</td>\n",
       "      <td>daylight</td>\n",
       "      <td>functioning</td>\n",
       "      <td>4.0</td>\n",
       "      <td>3.0</td>\n",
       "      <td>8.0</td>\n",
       "      <td>1.0</td>\n",
       "      <td>1</td>\n",
       "    </tr>\n",
       "    <tr>\n",
       "      <th>...</th>\n",
       "      <td>...</td>\n",
       "      <td>...</td>\n",
       "      <td>...</td>\n",
       "      <td>...</td>\n",
       "      <td>...</td>\n",
       "      <td>...</td>\n",
       "      <td>...</td>\n",
       "      <td>...</td>\n",
       "      <td>...</td>\n",
       "      <td>...</td>\n",
       "      <td>...</td>\n",
       "      <td>...</td>\n",
       "      <td>...</td>\n",
       "      <td>...</td>\n",
       "      <td>...</td>\n",
       "      <td>...</td>\n",
       "      <td>...</td>\n",
       "      <td>...</td>\n",
       "      <td>...</td>\n",
       "      <td>...</td>\n",
       "      <td>...</td>\n",
       "    </tr>\n",
       "    <tr>\n",
       "      <th>56243</th>\n",
       "      <td>2670338</td>\n",
       "      <td>5607393</td>\n",
       "      <td>0</td>\n",
       "      <td>51.0</td>\n",
       "      <td>had not been drinking</td>\n",
       "      <td>None</td>\n",
       "      <td>0.0</td>\n",
       "      <td>2</td>\n",
       "      <td>2700</td>\n",
       "      <td>monterey</td>\n",
       "      <td>...</td>\n",
       "      <td>bicycle</td>\n",
       "      <td>dry</td>\n",
       "      <td>normal</td>\n",
       "      <td>dusk or dawn</td>\n",
       "      <td>none</td>\n",
       "      <td>4.0</td>\n",
       "      <td>5.0</td>\n",
       "      <td>6.0</td>\n",
       "      <td>8.0</td>\n",
       "      <td>2</td>\n",
       "    </tr>\n",
       "    <tr>\n",
       "      <th>56244</th>\n",
       "      <td>2671344</td>\n",
       "      <td>5607924</td>\n",
       "      <td>0</td>\n",
       "      <td>28.0</td>\n",
       "      <td>had not been drinking</td>\n",
       "      <td>None</td>\n",
       "      <td>0.0</td>\n",
       "      <td>3</td>\n",
       "      <td>1502</td>\n",
       "      <td>kern</td>\n",
       "      <td>...</td>\n",
       "      <td>parked motor vehicle</td>\n",
       "      <td>dry</td>\n",
       "      <td>normal</td>\n",
       "      <td>dark with street lights</td>\n",
       "      <td>none</td>\n",
       "      <td>5.0</td>\n",
       "      <td>5.0</td>\n",
       "      <td>22.0</td>\n",
       "      <td>4.0</td>\n",
       "      <td>3</td>\n",
       "    </tr>\n",
       "    <tr>\n",
       "      <th>56245</th>\n",
       "      <td>2671488</td>\n",
       "      <td>5608001</td>\n",
       "      <td>1</td>\n",
       "      <td>53.0</td>\n",
       "      <td>had not been drinking</td>\n",
       "      <td>None</td>\n",
       "      <td>0.0</td>\n",
       "      <td>1</td>\n",
       "      <td>5601</td>\n",
       "      <td>ventura</td>\n",
       "      <td>...</td>\n",
       "      <td>fixed object</td>\n",
       "      <td>dry</td>\n",
       "      <td>normal</td>\n",
       "      <td>daylight</td>\n",
       "      <td>none</td>\n",
       "      <td>4.0</td>\n",
       "      <td>1.0</td>\n",
       "      <td>11.0</td>\n",
       "      <td>8.0</td>\n",
       "      <td>1</td>\n",
       "    </tr>\n",
       "    <tr>\n",
       "      <th>56246</th>\n",
       "      <td>2671551</td>\n",
       "      <td>5608037</td>\n",
       "      <td>1</td>\n",
       "      <td>35.0</td>\n",
       "      <td>had not been drinking</td>\n",
       "      <td>None</td>\n",
       "      <td>0.0</td>\n",
       "      <td>1</td>\n",
       "      <td>3600</td>\n",
       "      <td>san bernardino</td>\n",
       "      <td>...</td>\n",
       "      <td>non-collision</td>\n",
       "      <td>dry</td>\n",
       "      <td>normal</td>\n",
       "      <td>dark with no street lights</td>\n",
       "      <td>functioning</td>\n",
       "      <td>4.0</td>\n",
       "      <td>0.0</td>\n",
       "      <td>20.0</td>\n",
       "      <td>5.0</td>\n",
       "      <td>1</td>\n",
       "    </tr>\n",
       "    <tr>\n",
       "      <th>56247</th>\n",
       "      <td>2672189</td>\n",
       "      <td>5608382</td>\n",
       "      <td>1</td>\n",
       "      <td>26.0</td>\n",
       "      <td>had been drinking, under influence</td>\n",
       "      <td>None</td>\n",
       "      <td>0.0</td>\n",
       "      <td>1</td>\n",
       "      <td>3010</td>\n",
       "      <td>orange</td>\n",
       "      <td>...</td>\n",
       "      <td>parked motor vehicle</td>\n",
       "      <td>dry</td>\n",
       "      <td>normal</td>\n",
       "      <td>dark with street lights</td>\n",
       "      <td>none</td>\n",
       "      <td>5.0</td>\n",
       "      <td>2.0</td>\n",
       "      <td>1.0</td>\n",
       "      <td>4.0</td>\n",
       "      <td>1</td>\n",
       "    </tr>\n",
       "  </tbody>\n",
       "</table>\n",
       "<p>56248 rows × 26 columns</p>\n",
       "</div>"
      ],
      "text/plain": [
       "            id  case_id  at_fault  insurance_premium  \\\n",
       "0      2659603  5600885         1               43.0   \n",
       "1      2395824  5449062         0               54.0   \n",
       "2      2672839  5608728         0               41.0   \n",
       "3      2673091  5608860         0               28.0   \n",
       "4      2674405  5609619         1               44.0   \n",
       "...        ...      ...       ...                ...   \n",
       "56243  2670338  5607393         0               51.0   \n",
       "56244  2671344  5607924         0               28.0   \n",
       "56245  2671488  5608001         1               53.0   \n",
       "56246  2671551  5608037         1               35.0   \n",
       "56247  2672189  5608382         1               26.0   \n",
       "\n",
       "                           party_sobriety   party_drug_physical  \\\n",
       "0                   had not been drinking                  None   \n",
       "1                   had not been drinking                  None   \n",
       "2                   had not been drinking                  None   \n",
       "3                   had not been drinking                  None   \n",
       "4                                    None  under drug influence   \n",
       "...                                   ...                   ...   \n",
       "56243               had not been drinking                  None   \n",
       "56244               had not been drinking                  None   \n",
       "56245               had not been drinking                  None   \n",
       "56246               had not been drinking                  None   \n",
       "56247  had been drinking, under influence                  None   \n",
       "\n",
       "       cellphone_in_use party_number county_city_location county_location  \\\n",
       "0                   0.0            1                 3607  san bernardino   \n",
       "1                   0.0            2                 0708    contra costa   \n",
       "2                   0.0            1                 0109         alameda   \n",
       "3                   0.0            2                 4303     santa clara   \n",
       "4                   0.0            1                 1949     los angeles   \n",
       "...                 ...          ...                  ...             ...   \n",
       "56243               0.0            2                 2700        monterey   \n",
       "56244               0.0            3                 1502            kern   \n",
       "56245               0.0            1                 5601         ventura   \n",
       "56246               0.0            1                 3600  san bernardino   \n",
       "56247               0.0            1                 3010          orange   \n",
       "\n",
       "       ... motor_vehicle_involved_with  road_surface road_condition_1  \\\n",
       "0      ...         other motor vehicle           dry           normal   \n",
       "1      ...         other motor vehicle           dry           normal   \n",
       "2      ...         other motor vehicle           dry           normal   \n",
       "3      ...         other motor vehicle           dry           normal   \n",
       "4      ...                fixed object           dry           normal   \n",
       "...    ...                         ...           ...              ...   \n",
       "56243  ...                     bicycle           dry           normal   \n",
       "56244  ...        parked motor vehicle           dry           normal   \n",
       "56245  ...                fixed object           dry           normal   \n",
       "56246  ...               non-collision           dry           normal   \n",
       "56247  ...        parked motor vehicle           dry           normal   \n",
       "\n",
       "                         lighting control_device col_month day_of_week  hour  \\\n",
       "0         dark with street lights           none       4.0         4.0  22.0   \n",
       "1         dark with street lights    functioning       1.0         0.0   2.0   \n",
       "2                    dusk or dawn           none       3.0         5.0  18.0   \n",
       "3                        daylight           none       4.0         3.0  11.0   \n",
       "4                        daylight    functioning       4.0         3.0   8.0   \n",
       "...                           ...            ...       ...         ...   ...   \n",
       "56243                dusk or dawn           none       4.0         5.0   6.0   \n",
       "56244     dark with street lights           none       5.0         5.0  22.0   \n",
       "56245                    daylight           none       4.0         1.0  11.0   \n",
       "56246  dark with no street lights    functioning       4.0         0.0  20.0   \n",
       "56247     dark with street lights           none       5.0         2.0   1.0   \n",
       "\n",
       "      vehicle_age party_number  \n",
       "0             8.0            1  \n",
       "1            10.0            2  \n",
       "2             5.0            1  \n",
       "3             0.0            2  \n",
       "4             1.0            1  \n",
       "...           ...          ...  \n",
       "56243         8.0            2  \n",
       "56244         4.0            3  \n",
       "56245         8.0            1  \n",
       "56246         5.0            1  \n",
       "56247         4.0            1  \n",
       "\n",
       "[56248 rows x 26 columns]"
      ]
     },
     "execution_count": 24,
     "metadata": {},
     "output_type": "execute_result"
    }
   ],
   "source": [
    "%%time\n",
    "query = '''\n",
    "SELECT\n",
    "    t1.id,\n",
    "    t1.case_id,\n",
    "    t1.at_fault,\n",
    "    t1.insurance_premium,\n",
    "    t1.party_sobriety,\n",
    "    t1.party_drug_physical,\n",
    "    t1.cellphone_in_use,\n",
    "    t1.party_number,\n",
    "    t2.county_city_location,\n",
    "    t2.county_location,\n",
    "    t2.direction,\n",
    "    t2.distance,\n",
    "    t2.weather_1,\n",
    "    t2.party_count,\n",
    "    t2.pcf_violation_category,\n",
    "    t2.type_of_collision,\n",
    "    t2.motor_vehicle_involved_with,\n",
    "    t2.road_surface,\n",
    "    t2.road_condition_1,\n",
    "    t2.lighting,\n",
    "    t2.control_device,\n",
    "    EXTRACT(MONTH FROM t2.collision_date) AS col_month,\n",
    "    EXTRACT(DOW FROM t2.collision_date) AS day_of_week,\n",
    "    EXTRACT(HOUR FROM t2.collision_time) AS hour,\n",
    "    t3.vehicle_age,\n",
    "    t3.party_number\n",
    "FROM parties AS t1\n",
    "LEFT JOIN collisions AS t2 USING(case_id)\n",
    "LEFT JOIN vehicles AS t3 USING(case_id)\n",
    "WHERE t2.collision_damage != 'scratch'\n",
    "AND t1.party_type = 'car'\n",
    "AND EXTRACT(YEAR FROM t2.collision_date) = 2012\n",
    "AND t1.party_number = t3.party_number;\n",
    "'''\n",
    "\n",
    "driver_risk = pd.read_sql_query(query, con=engine)\n",
    "driver_risk"
   ]
  },
  {
   "cell_type": "markdown",
   "id": "4b78cac4",
   "metadata": {},
   "source": [
    "**В результате SQLзапроса получен датасет для каждой поездки отдельно взятого авто.**\n",
    "\n",
    "Примечание: \n",
    "\n",
    "        1) t1.party_number = t3.party_number - позволяет определить для кадого отдельного ДТП машины каждого из участников.\n",
    "        2) Из БД выгружаеются лишь часы, дни недели и месяца, когда произошло ДТП, как наиболее репрезентативные данные о времени и дате ДТП."
   ]
  },
  {
   "cell_type": "markdown",
   "id": "6afb25c6",
   "metadata": {},
   "source": [
    "## Cтатистическое исследование отобранных факторов."
   ]
  },
  {
   "cell_type": "markdown",
   "id": "955dc19a",
   "metadata": {},
   "source": [
    "### Общая информация о данных."
   ]
  },
  {
   "cell_type": "code",
   "execution_count": 25,
   "id": "bb074dbd",
   "metadata": {},
   "outputs": [
    {
     "name": "stdout",
     "output_type": "stream",
     "text": [
      "<class 'pandas.core.frame.DataFrame'>\n",
      "RangeIndex: 56248 entries, 0 to 56247\n",
      "Data columns (total 26 columns):\n",
      " #   Column                       Non-Null Count  Dtype  \n",
      "---  ------                       --------------  -----  \n",
      " 0   id                           56248 non-null  int64  \n",
      " 1   case_id                      56248 non-null  object \n",
      " 2   at_fault                     56248 non-null  int64  \n",
      " 3   insurance_premium            55701 non-null  float64\n",
      " 4   party_sobriety               55376 non-null  object \n",
      " 5   party_drug_physical          2857 non-null   object \n",
      " 6   cellphone_in_use             51777 non-null  float64\n",
      " 7   party_number                 56248 non-null  int64  \n",
      " 8   county_city_location         56248 non-null  object \n",
      " 9   county_location              56248 non-null  object \n",
      " 10  direction                    43230 non-null  object \n",
      " 11  distance                     56248 non-null  float64\n",
      " 12  weather_1                    56080 non-null  object \n",
      " 13  party_count                  56248 non-null  int64  \n",
      " 14  pcf_violation_category       55482 non-null  object \n",
      " 15  type_of_collision            55940 non-null  object \n",
      " 16  motor_vehicle_involved_with  56086 non-null  object \n",
      " 17  road_surface                 55900 non-null  object \n",
      " 18  road_condition_1             55999 non-null  object \n",
      " 19  lighting                     56094 non-null  object \n",
      " 20  control_device               56033 non-null  object \n",
      " 21  col_month                    56248 non-null  float64\n",
      " 22  day_of_week                  56248 non-null  float64\n",
      " 23  hour                         56160 non-null  float64\n",
      " 24  vehicle_age                  54554 non-null  float64\n",
      " 25  party_number                 56248 non-null  int64  \n",
      "dtypes: float64(7), int64(5), object(14)\n",
      "memory usage: 11.2+ MB\n"
     ]
    }
   ],
   "source": [
    "driver_risk.info()"
   ]
  },
  {
   "cell_type": "markdown",
   "id": "78d41b8c",
   "metadata": {},
   "source": [
    "В дальнейшей работе следующие признаки не пригодятся:\n",
    "'case_id', 'id', 'party_number'."
   ]
  },
  {
   "cell_type": "code",
   "execution_count": 26,
   "id": "0809b1a6",
   "metadata": {
    "scrolled": true
   },
   "outputs": [
    {
     "data": {
      "text/html": [
       "<div>\n",
       "<style scoped>\n",
       "    .dataframe tbody tr th:only-of-type {\n",
       "        vertical-align: middle;\n",
       "    }\n",
       "\n",
       "    .dataframe tbody tr th {\n",
       "        vertical-align: top;\n",
       "    }\n",
       "\n",
       "    .dataframe thead th {\n",
       "        text-align: right;\n",
       "    }\n",
       "</style>\n",
       "<table border=\"1\" class=\"dataframe\">\n",
       "  <thead>\n",
       "    <tr style=\"text-align: right;\">\n",
       "      <th></th>\n",
       "      <th>at_fault</th>\n",
       "      <th>insurance_premium</th>\n",
       "      <th>party_sobriety</th>\n",
       "      <th>party_drug_physical</th>\n",
       "      <th>cellphone_in_use</th>\n",
       "      <th>county_city_location</th>\n",
       "      <th>county_location</th>\n",
       "      <th>direction</th>\n",
       "      <th>distance</th>\n",
       "      <th>weather_1</th>\n",
       "      <th>...</th>\n",
       "      <th>type_of_collision</th>\n",
       "      <th>motor_vehicle_involved_with</th>\n",
       "      <th>road_surface</th>\n",
       "      <th>road_condition_1</th>\n",
       "      <th>lighting</th>\n",
       "      <th>control_device</th>\n",
       "      <th>col_month</th>\n",
       "      <th>day_of_week</th>\n",
       "      <th>hour</th>\n",
       "      <th>vehicle_age</th>\n",
       "    </tr>\n",
       "  </thead>\n",
       "  <tbody>\n",
       "    <tr>\n",
       "      <th>0</th>\n",
       "      <td>1</td>\n",
       "      <td>43.0</td>\n",
       "      <td>had not been drinking</td>\n",
       "      <td>None</td>\n",
       "      <td>0.0</td>\n",
       "      <td>3607</td>\n",
       "      <td>san bernardino</td>\n",
       "      <td>north</td>\n",
       "      <td>400.0</td>\n",
       "      <td>clear</td>\n",
       "      <td>...</td>\n",
       "      <td>broadside</td>\n",
       "      <td>other motor vehicle</td>\n",
       "      <td>dry</td>\n",
       "      <td>normal</td>\n",
       "      <td>dark with street lights</td>\n",
       "      <td>none</td>\n",
       "      <td>4.0</td>\n",
       "      <td>4.0</td>\n",
       "      <td>22.0</td>\n",
       "      <td>8.0</td>\n",
       "    </tr>\n",
       "    <tr>\n",
       "      <th>1</th>\n",
       "      <td>0</td>\n",
       "      <td>54.0</td>\n",
       "      <td>had not been drinking</td>\n",
       "      <td>None</td>\n",
       "      <td>0.0</td>\n",
       "      <td>0708</td>\n",
       "      <td>contra costa</td>\n",
       "      <td>east</td>\n",
       "      <td>21.0</td>\n",
       "      <td>clear</td>\n",
       "      <td>...</td>\n",
       "      <td>rear end</td>\n",
       "      <td>other motor vehicle</td>\n",
       "      <td>dry</td>\n",
       "      <td>normal</td>\n",
       "      <td>dark with street lights</td>\n",
       "      <td>functioning</td>\n",
       "      <td>1.0</td>\n",
       "      <td>0.0</td>\n",
       "      <td>2.0</td>\n",
       "      <td>10.0</td>\n",
       "    </tr>\n",
       "    <tr>\n",
       "      <th>2</th>\n",
       "      <td>0</td>\n",
       "      <td>41.0</td>\n",
       "      <td>had not been drinking</td>\n",
       "      <td>None</td>\n",
       "      <td>0.0</td>\n",
       "      <td>0109</td>\n",
       "      <td>alameda</td>\n",
       "      <td>west</td>\n",
       "      <td>500.0</td>\n",
       "      <td>cloudy</td>\n",
       "      <td>...</td>\n",
       "      <td>rear end</td>\n",
       "      <td>other motor vehicle</td>\n",
       "      <td>dry</td>\n",
       "      <td>normal</td>\n",
       "      <td>dusk or dawn</td>\n",
       "      <td>none</td>\n",
       "      <td>3.0</td>\n",
       "      <td>5.0</td>\n",
       "      <td>18.0</td>\n",
       "      <td>5.0</td>\n",
       "    </tr>\n",
       "    <tr>\n",
       "      <th>3</th>\n",
       "      <td>0</td>\n",
       "      <td>28.0</td>\n",
       "      <td>had not been drinking</td>\n",
       "      <td>None</td>\n",
       "      <td>0.0</td>\n",
       "      <td>4303</td>\n",
       "      <td>santa clara</td>\n",
       "      <td>east</td>\n",
       "      <td>160.0</td>\n",
       "      <td>clear</td>\n",
       "      <td>...</td>\n",
       "      <td>rear end</td>\n",
       "      <td>other motor vehicle</td>\n",
       "      <td>dry</td>\n",
       "      <td>normal</td>\n",
       "      <td>daylight</td>\n",
       "      <td>none</td>\n",
       "      <td>4.0</td>\n",
       "      <td>3.0</td>\n",
       "      <td>11.0</td>\n",
       "      <td>0.0</td>\n",
       "    </tr>\n",
       "    <tr>\n",
       "      <th>4</th>\n",
       "      <td>1</td>\n",
       "      <td>44.0</td>\n",
       "      <td>None</td>\n",
       "      <td>under drug influence</td>\n",
       "      <td>0.0</td>\n",
       "      <td>1949</td>\n",
       "      <td>los angeles</td>\n",
       "      <td>east</td>\n",
       "      <td>16.0</td>\n",
       "      <td>cloudy</td>\n",
       "      <td>...</td>\n",
       "      <td>hit object</td>\n",
       "      <td>fixed object</td>\n",
       "      <td>dry</td>\n",
       "      <td>normal</td>\n",
       "      <td>daylight</td>\n",
       "      <td>functioning</td>\n",
       "      <td>4.0</td>\n",
       "      <td>3.0</td>\n",
       "      <td>8.0</td>\n",
       "      <td>1.0</td>\n",
       "    </tr>\n",
       "    <tr>\n",
       "      <th>...</th>\n",
       "      <td>...</td>\n",
       "      <td>...</td>\n",
       "      <td>...</td>\n",
       "      <td>...</td>\n",
       "      <td>...</td>\n",
       "      <td>...</td>\n",
       "      <td>...</td>\n",
       "      <td>...</td>\n",
       "      <td>...</td>\n",
       "      <td>...</td>\n",
       "      <td>...</td>\n",
       "      <td>...</td>\n",
       "      <td>...</td>\n",
       "      <td>...</td>\n",
       "      <td>...</td>\n",
       "      <td>...</td>\n",
       "      <td>...</td>\n",
       "      <td>...</td>\n",
       "      <td>...</td>\n",
       "      <td>...</td>\n",
       "      <td>...</td>\n",
       "    </tr>\n",
       "    <tr>\n",
       "      <th>56243</th>\n",
       "      <td>0</td>\n",
       "      <td>51.0</td>\n",
       "      <td>had not been drinking</td>\n",
       "      <td>None</td>\n",
       "      <td>0.0</td>\n",
       "      <td>2700</td>\n",
       "      <td>monterey</td>\n",
       "      <td>None</td>\n",
       "      <td>0.0</td>\n",
       "      <td>clear</td>\n",
       "      <td>...</td>\n",
       "      <td>broadside</td>\n",
       "      <td>bicycle</td>\n",
       "      <td>dry</td>\n",
       "      <td>normal</td>\n",
       "      <td>dusk or dawn</td>\n",
       "      <td>none</td>\n",
       "      <td>4.0</td>\n",
       "      <td>5.0</td>\n",
       "      <td>6.0</td>\n",
       "      <td>8.0</td>\n",
       "    </tr>\n",
       "    <tr>\n",
       "      <th>56244</th>\n",
       "      <td>0</td>\n",
       "      <td>28.0</td>\n",
       "      <td>had not been drinking</td>\n",
       "      <td>None</td>\n",
       "      <td>0.0</td>\n",
       "      <td>1502</td>\n",
       "      <td>kern</td>\n",
       "      <td>east</td>\n",
       "      <td>194.0</td>\n",
       "      <td>clear</td>\n",
       "      <td>...</td>\n",
       "      <td>rear end</td>\n",
       "      <td>parked motor vehicle</td>\n",
       "      <td>dry</td>\n",
       "      <td>normal</td>\n",
       "      <td>dark with street lights</td>\n",
       "      <td>none</td>\n",
       "      <td>5.0</td>\n",
       "      <td>5.0</td>\n",
       "      <td>22.0</td>\n",
       "      <td>4.0</td>\n",
       "    </tr>\n",
       "    <tr>\n",
       "      <th>56245</th>\n",
       "      <td>1</td>\n",
       "      <td>53.0</td>\n",
       "      <td>had not been drinking</td>\n",
       "      <td>None</td>\n",
       "      <td>0.0</td>\n",
       "      <td>5601</td>\n",
       "      <td>ventura</td>\n",
       "      <td>west</td>\n",
       "      <td>416.0</td>\n",
       "      <td>clear</td>\n",
       "      <td>...</td>\n",
       "      <td>hit object</td>\n",
       "      <td>fixed object</td>\n",
       "      <td>dry</td>\n",
       "      <td>normal</td>\n",
       "      <td>daylight</td>\n",
       "      <td>none</td>\n",
       "      <td>4.0</td>\n",
       "      <td>1.0</td>\n",
       "      <td>11.0</td>\n",
       "      <td>8.0</td>\n",
       "    </tr>\n",
       "    <tr>\n",
       "      <th>56246</th>\n",
       "      <td>1</td>\n",
       "      <td>35.0</td>\n",
       "      <td>had not been drinking</td>\n",
       "      <td>None</td>\n",
       "      <td>0.0</td>\n",
       "      <td>3600</td>\n",
       "      <td>san bernardino</td>\n",
       "      <td>south</td>\n",
       "      <td>250.0</td>\n",
       "      <td>clear</td>\n",
       "      <td>...</td>\n",
       "      <td>overturned</td>\n",
       "      <td>non-collision</td>\n",
       "      <td>dry</td>\n",
       "      <td>normal</td>\n",
       "      <td>dark with no street lights</td>\n",
       "      <td>functioning</td>\n",
       "      <td>4.0</td>\n",
       "      <td>0.0</td>\n",
       "      <td>20.0</td>\n",
       "      <td>5.0</td>\n",
       "    </tr>\n",
       "    <tr>\n",
       "      <th>56247</th>\n",
       "      <td>1</td>\n",
       "      <td>26.0</td>\n",
       "      <td>had been drinking, under influence</td>\n",
       "      <td>None</td>\n",
       "      <td>0.0</td>\n",
       "      <td>3010</td>\n",
       "      <td>orange</td>\n",
       "      <td>west</td>\n",
       "      <td>300.0</td>\n",
       "      <td>cloudy</td>\n",
       "      <td>...</td>\n",
       "      <td>rear end</td>\n",
       "      <td>parked motor vehicle</td>\n",
       "      <td>dry</td>\n",
       "      <td>normal</td>\n",
       "      <td>dark with street lights</td>\n",
       "      <td>none</td>\n",
       "      <td>5.0</td>\n",
       "      <td>2.0</td>\n",
       "      <td>1.0</td>\n",
       "      <td>4.0</td>\n",
       "    </tr>\n",
       "  </tbody>\n",
       "</table>\n",
       "<p>56248 rows × 22 columns</p>\n",
       "</div>"
      ],
      "text/plain": [
       "       at_fault  insurance_premium                      party_sobriety  \\\n",
       "0             1               43.0               had not been drinking   \n",
       "1             0               54.0               had not been drinking   \n",
       "2             0               41.0               had not been drinking   \n",
       "3             0               28.0               had not been drinking   \n",
       "4             1               44.0                                None   \n",
       "...         ...                ...                                 ...   \n",
       "56243         0               51.0               had not been drinking   \n",
       "56244         0               28.0               had not been drinking   \n",
       "56245         1               53.0               had not been drinking   \n",
       "56246         1               35.0               had not been drinking   \n",
       "56247         1               26.0  had been drinking, under influence   \n",
       "\n",
       "        party_drug_physical  cellphone_in_use county_city_location  \\\n",
       "0                      None               0.0                 3607   \n",
       "1                      None               0.0                 0708   \n",
       "2                      None               0.0                 0109   \n",
       "3                      None               0.0                 4303   \n",
       "4      under drug influence               0.0                 1949   \n",
       "...                     ...               ...                  ...   \n",
       "56243                  None               0.0                 2700   \n",
       "56244                  None               0.0                 1502   \n",
       "56245                  None               0.0                 5601   \n",
       "56246                  None               0.0                 3600   \n",
       "56247                  None               0.0                 3010   \n",
       "\n",
       "      county_location direction  distance weather_1  ...  type_of_collision  \\\n",
       "0      san bernardino     north     400.0     clear  ...          broadside   \n",
       "1        contra costa      east      21.0     clear  ...           rear end   \n",
       "2             alameda      west     500.0    cloudy  ...           rear end   \n",
       "3         santa clara      east     160.0     clear  ...           rear end   \n",
       "4         los angeles      east      16.0    cloudy  ...         hit object   \n",
       "...               ...       ...       ...       ...  ...                ...   \n",
       "56243        monterey      None       0.0     clear  ...          broadside   \n",
       "56244            kern      east     194.0     clear  ...           rear end   \n",
       "56245         ventura      west     416.0     clear  ...         hit object   \n",
       "56246  san bernardino     south     250.0     clear  ...         overturned   \n",
       "56247          orange      west     300.0    cloudy  ...           rear end   \n",
       "\n",
       "      motor_vehicle_involved_with road_surface road_condition_1  \\\n",
       "0             other motor vehicle          dry           normal   \n",
       "1             other motor vehicle          dry           normal   \n",
       "2             other motor vehicle          dry           normal   \n",
       "3             other motor vehicle          dry           normal   \n",
       "4                    fixed object          dry           normal   \n",
       "...                           ...          ...              ...   \n",
       "56243                     bicycle          dry           normal   \n",
       "56244        parked motor vehicle          dry           normal   \n",
       "56245                fixed object          dry           normal   \n",
       "56246               non-collision          dry           normal   \n",
       "56247        parked motor vehicle          dry           normal   \n",
       "\n",
       "                         lighting control_device col_month day_of_week  hour  \\\n",
       "0         dark with street lights           none       4.0         4.0  22.0   \n",
       "1         dark with street lights    functioning       1.0         0.0   2.0   \n",
       "2                    dusk or dawn           none       3.0         5.0  18.0   \n",
       "3                        daylight           none       4.0         3.0  11.0   \n",
       "4                        daylight    functioning       4.0         3.0   8.0   \n",
       "...                           ...            ...       ...         ...   ...   \n",
       "56243                dusk or dawn           none       4.0         5.0   6.0   \n",
       "56244     dark with street lights           none       5.0         5.0  22.0   \n",
       "56245                    daylight           none       4.0         1.0  11.0   \n",
       "56246  dark with no street lights    functioning       4.0         0.0  20.0   \n",
       "56247     dark with street lights           none       5.0         2.0   1.0   \n",
       "\n",
       "       vehicle_age  \n",
       "0              8.0  \n",
       "1             10.0  \n",
       "2              5.0  \n",
       "3              0.0  \n",
       "4              1.0  \n",
       "...            ...  \n",
       "56243          8.0  \n",
       "56244          4.0  \n",
       "56245          8.0  \n",
       "56246          5.0  \n",
       "56247          4.0  \n",
       "\n",
       "[56248 rows x 22 columns]"
      ]
     },
     "execution_count": 26,
     "metadata": {},
     "output_type": "execute_result"
    }
   ],
   "source": [
    "driver_risk = driver_risk.drop(['case_id', 'id', 'party_number'], axis = 1)\n",
    "driver_risk"
   ]
  },
  {
   "cell_type": "markdown",
   "id": "c8166413",
   "metadata": {},
   "source": [
    "В данных collision_time - для изучения интересны лишь часы ДТП. А в признаке collision_date - только дни недели и месяцы."
   ]
  },
  {
   "cell_type": "markdown",
   "id": "78e05c7c",
   "metadata": {},
   "source": [
    "### Анализ на неявные дубликаты."
   ]
  },
  {
   "cell_type": "code",
   "execution_count": 27,
   "id": "9f21861c",
   "metadata": {},
   "outputs": [],
   "source": [
    "cat_columns = driver_risk.select_dtypes(include = 'object')\n",
    "num_features = driver_risk.select_dtypes(include = ['int', 'float'])"
   ]
  },
  {
   "cell_type": "code",
   "execution_count": 28,
   "id": "ff23fd16",
   "metadata": {
    "scrolled": false
   },
   "outputs": [
    {
     "name": "stdout",
     "output_type": "stream",
     "text": [
      "________________________________________________________________________________\n",
      "Данные для признака party_sobriety: ['had not been drinking' None 'had been drinking, under influence'\n",
      " 'impairment unknown' 'had been drinking, not under influence'\n",
      " 'had been drinking, impairment unknown' 'not applicable'].\n",
      "________________________________________________________________________________\n",
      "________________________________________________________________________________\n",
      "Данные для признака party_drug_physical: [None 'under drug influence' 'G' 'sleepy/fatigued' 'not applicable'\n",
      " 'impairment - physical'].\n",
      "________________________________________________________________________________\n",
      "________________________________________________________________________________\n",
      "Данные для признака county_city_location: ['3607' '0708' '0109' '4303' '1949' '3028' '3019' '4113' '3900' '3400'\n",
      " '4900' '3782' '3103' '0107' '2700' '3300' '5600' '3600' '3394' '5400'\n",
      " '3312' '1005' '1000' '1900' '5704' '3711' '5608' '3605' '1920' '3404'\n",
      " '3619' '2109' '3610' '5701' '4104' '4127' '0400' '1942' '3450' '3100'\n",
      " '3712' '1964' '1500' '1925' '3105' '3706' '1914' '1989' '3903' '5002'\n",
      " '1934' '3045' '1950' '3315' '3009' '4000' '1992' '3015' '3604' '3709'\n",
      " '3621' '5200' '3703' '2300' '1941' '3801' '3014' '4904' '5406' '5000'\n",
      " '3018' '3616' '0198' '1995' '4300' '3500' '3700' '4200' '1948' '3001'\n",
      " '1502' '2100' '1953' '4203' '2400' '1901' '4316' '4313' '3004' '3314'\n",
      " '1990' '1913' '3026' '4100' '0709' '3305' '3317' '3906' '1600' '2200'\n",
      " '3341' '0500' '5609' '3702' '2106' '3012' '3335' '3710' '3490' '1956'\n",
      " '3307' '3612' '3010' '3713' '4308' '1922' '5700' '3021' '3708' '4400'\n",
      " '3011' '0106' '1985' '1955' '5604' '1203' '0405' '0900' '3344' '3313'\n",
      " '4803' '5100' '3902' '3311' '1946' '1507' '1969' '4806' '1965' '3007'\n",
      " '3345' '0800' '2500' '1952' '0700' '5607' '4905' '0111' '0100' '5500'\n",
      " '1902' '1979' '3002' '1915' '4500' '1400' '0712' '4903' '5800' '1700'\n",
      " '4204' '0600' '2706' '1907' '4311' '1933' '3905' '4402' '3017' '3020'\n",
      " '3048' '2406' '3318' '3401' '0701' '3022' '3920' '1926' '0102' '1932'\n",
      " '1905' '0300' '4004' '1959' '1972' '3309' '0707' '3024' '2401' '3049'\n",
      " '5202' '3640' '0104' '1200' '2000' '2600' '0704' '4403' '1947' '4807'\n",
      " '4101' '0105' '3611' '1936' '1960' '1938' '3342' '3040' '0791' '1503'\n",
      " '1908' '1976' '1919' '5407' '1928' '5102' '5001' '3602' '1975' '4116'\n",
      " '4002' '3705' '0103' '4600' '3630' '4103' '4120' '3720' '4502' '3325'\n",
      " '5300' '3008' '5004' '3302' '3310' '5601' '4802' '3701' '1921' '4114'\n",
      " '1906' '0702' '3200' '5703' '1967' '1912' '2001' '1903' '1991' '4800'\n",
      " '4310' '2002' '3316' '5007' '1977' '3050' '1300' '4102' '4907' '4214'\n",
      " '3603' '1918' '4117' '1008' '1943' '1101' '3003' '1602' '3023' '2105'\n",
      " '2104' '4804' '0113' '1205' '4307' '1100' '3609' '3000' '0705' '3025'\n",
      " '0715' '2800' '2900' '3016' '4306' '1929' '2712' '0734' '4111' '0790'\n",
      " '1506' '1994' '1973' '1923' '5404' '1800' '3336' '2805' '1603' '2908'\n",
      " '0112' '4404' '4302' '2708' '0402' '3308' '4312' '5405' '4006' '1962'\n",
      " '4205' '4314' '0101' '2710' '2802' '5605' '1013' '1935' '2707' '4304'\n",
      " '4202' '0714' '1509' '3029' '4106' '1937' '3101' '1944' '1931' '1015'\n",
      " '0710' '2901' '4315' '3306' '5801' '5690' '1970' '1505' '5602' '3501'\n",
      " '1304' '4801' '3608' '4908' '1306' '1916' '3051' '4709' '3006' '3303'\n",
      " '4700' '3780' '3496' '3601' '4107' '1004' '3402' '3618' '3613' '1974'\n",
      " '1954' '3392' '4906' '0902' '3680' '5006' '1102' '1968' '1993' '3615'\n",
      " '1001' '4001' '4212' '3104' '1963' '3301' '1909' '1511' '3337' '4008'\n",
      " '1201' '1012' '0901' '0200' '4109' '0711' '2711' '3631' '5005' '1508'\n",
      " '3690' '1510' '2103' '2709' '4980' '4005' '0703' '2703' '3904' '2601'\n",
      " '0716' '2303' '5101' '3783' '3707' '3106' '4108' '5606' '1302' '0706'\n",
      " '2110' '3343' '2111' '2704' '0404' '3781' '1927' '5802' '5603' '5501'\n",
      " '3005' '1961' '2108' '2705' '4902' '1690' '1939' '2801' '4305' '0303'\n",
      " '1011' '1971' '1501' '3617' '0108' '0792' '2405' '2902' '4805' '4119'\n",
      " '1702' '1701' '1910' '1951' '1945' '1801' '4706' '1917' '0602' '2804'\n",
      " '1601' '2701' '0601' '3901' '2301' '1007' '4115' '5403' '4401' '4003'\n",
      " '4206' '4501' '1401' '2102' '4110' '1999' '3013' '1958' '5003' '1305'\n",
      " '1980' '2803' '0302' '0110' '3606' '0403' '5702' '5009' '4580' '1924'\n",
      " '1002' '0305' '4118' '5201' '1301' '3704' '0501' '1930' '1504' '2304'\n",
      " '0801' '2404' '4701' '4901' '5408' '1515'].\n",
      "________________________________________________________________________________\n",
      "________________________________________________________________________________\n",
      "Данные для признака county_location: ['san bernardino' 'contra costa' 'alameda' 'santa clara' 'los angeles'\n",
      " 'orange' 'san mateo' 'san joaquin' 'sacramento' 'sonoma' 'san diego'\n",
      " 'placer' 'monterey' 'riverside' 'ventura' 'tulare' 'fresno' 'yolo'\n",
      " 'marin' 'butte' 'kern' 'stanislaus' 'san luis obispo' 'tehama'\n",
      " 'mendocino' 'san francisco' 'san benito' 'santa barbara' 'merced' 'kings'\n",
      " 'mariposa' 'calaveras' 'santa cruz' 'humboldt' 'el dorado' 'solano'\n",
      " 'sutter' 'del norte' 'modoc' 'tuolumne' 'shasta' 'inyo' 'yuba' 'lake'\n",
      " 'colusa' 'amador' 'madera' 'mono' 'sierra' 'trinity' 'plumas' 'imperial'\n",
      " 'glenn' 'napa' 'nevada' 'lassen' 'siskiyou' 'alpine'].\n",
      "________________________________________________________________________________\n",
      "________________________________________________________________________________\n",
      "Данные для признака direction: ['north' 'east' 'west' 'south' None].\n",
      "________________________________________________________________________________\n",
      "________________________________________________________________________________\n",
      "Данные для признака weather_1: ['clear' 'cloudy' 'raining' 'fog' 'snowing' 'other' None 'wind'].\n",
      "________________________________________________________________________________\n",
      "________________________________________________________________________________\n",
      "Данные для признака pcf_violation_category: ['automobile right of way' 'dui' 'unsafe lane change' 'speeding'\n",
      " 'following too closely' 'other hazardous violation'\n",
      " 'traffic signals and signs' 'unsafe starting or backing'\n",
      " 'wrong side of road' 'unknown' 'improper turning'\n",
      " 'other than driver (or pedestrian)' 'improper passing'\n",
      " 'pedestrian right of way' 'pedestrian violation' None\n",
      " 'other improper driving' 'impeding traffic' 'other equipment'\n",
      " 'hazardous parking' 'brakes' 'fell asleep' 'lights'].\n",
      "________________________________________________________________________________\n",
      "________________________________________________________________________________\n",
      "Данные для признака type_of_collision: ['broadside' 'rear end' 'hit object' 'sideswipe' 'head-on' 'other' None\n",
      " 'overturned'].\n",
      "________________________________________________________________________________\n",
      "________________________________________________________________________________\n",
      "Данные для признака motor_vehicle_involved_with: ['other motor vehicle' 'fixed object' 'other object' 'bicycle' 'animal'\n",
      " 'parked motor vehicle' 'non-collision' 'motor vehicle on other roadway'\n",
      " None 'train'].\n",
      "________________________________________________________________________________\n",
      "________________________________________________________________________________\n",
      "Данные для признака road_surface: ['dry' 'wet' None 'slippery' 'snowy'].\n",
      "________________________________________________________________________________\n",
      "________________________________________________________________________________\n",
      "Данные для признака road_condition_1: ['normal' 'construction' None 'other' 'holes' 'obstruction' 'flooded'\n",
      " 'loose material' 'reduced width'].\n",
      "________________________________________________________________________________\n",
      "________________________________________________________________________________\n",
      "Данные для признака lighting: ['dark with street lights' 'dusk or dawn' 'daylight'\n",
      " 'dark with no street lights' None\n",
      " 'dark with street lights not functioning'].\n",
      "________________________________________________________________________________\n",
      "________________________________________________________________________________\n",
      "Данные для признака control_device: ['none' 'functioning' 'not functioning' None 'obscured'].\n",
      "________________________________________________________________________________\n"
     ]
    }
   ],
   "source": [
    "for i in cat_columns.columns:\n",
    "    print('________________________________________________________________________________')\n",
    "    i_features_list = cat_columns[i].unique()\n",
    "    print(f'Данные для признака {i}: {i_features_list}.')\n",
    "    print('________________________________________________________________________________')"
   ]
  },
  {
   "cell_type": "markdown",
   "id": "4ec534a6",
   "metadata": {},
   "source": [
    "Для данных 'county_city_location' тип данных необходимо аменить на 'int'."
   ]
  },
  {
   "cell_type": "code",
   "execution_count": 29,
   "id": "c78deb02",
   "metadata": {
    "scrolled": false
   },
   "outputs": [],
   "source": [
    "driver_risk[['county_city_location']] = \\\n",
    "    driver_risk[['county_city_location']].astype(int)"
   ]
  },
  {
   "cell_type": "markdown",
   "id": "192e8a1d",
   "metadata": {},
   "source": [
    "**Неявные дубликаты отсутствуют.**"
   ]
  },
  {
   "cell_type": "markdown",
   "id": "549c227f",
   "metadata": {},
   "source": [
    "### Заполнение пропусков."
   ]
  },
  {
   "cell_type": "code",
   "execution_count": 30,
   "id": "373209fb",
   "metadata": {},
   "outputs": [],
   "source": [
    "num_rows = driver_risk.shape[0]\n",
    "\n",
    "for i in driver_risk.columns:\n",
    "    nan_percent = driver_risk[i].isna().sum()*100 / num_rows\n",
    "\n",
    "    #Количественные данные имеют очень малое кол-во пропусков. Их целесообразно заменить медианами.\n",
    "    if i in num_features.columns: \n",
    "        i_median = driver_risk[i].median()\n",
    "        driver_risk[i] = driver_risk[i].fillna(i_median)\n",
    "        \n",
    "    #Категориальные значения, которые имеют меньше 10% пропусков заменяются на наиболее частые значения.\n",
    "    elif i in cat_columns.columns and nan_percent < 10:\n",
    "        #Определение самого частого значения. idxmax() для индекса наиболее частого зн-я\n",
    "        the_most_frequent_i = driver_risk[i].value_counts().idxmax()\n",
    "        driver_risk[i] = driver_risk[i].fillna(the_most_frequent_i)    \n",
    "    \n",
    "    #Категориальные значения, которые имеют больше 10% пропусков заменяются на 'no_ifo'.\n",
    "    elif i in cat_columns.columns and nan_percent > 10:\n",
    "        driver_risk[i] = driver_risk[i].fillna('no_info') \n",
    "        "
   ]
  },
  {
   "cell_type": "markdown",
   "id": "a361b956",
   "metadata": {},
   "source": [
    "### Анализ на дубликаты."
   ]
  },
  {
   "cell_type": "code",
   "execution_count": 31,
   "id": "88c1c60e",
   "metadata": {},
   "outputs": [
    {
     "data": {
      "text/plain": [
       "0.07289148058597639"
      ]
     },
     "execution_count": 31,
     "metadata": {},
     "output_type": "execute_result"
    }
   ],
   "source": [
    "duplicated_percent = driver_risk.duplicated().sum()*100 / num_rows\n",
    "duplicated_percent"
   ]
  },
  {
   "cell_type": "code",
   "execution_count": 32,
   "id": "53f54d9e",
   "metadata": {
    "scrolled": true
   },
   "outputs": [],
   "source": [
    "#Т.к. процент дубликатов ничтожно мал - удалим их.\n",
    "driver_risk = driver_risk.drop_duplicates()"
   ]
  },
  {
   "cell_type": "markdown",
   "id": "098be13c",
   "metadata": {},
   "source": [
    "**Дубликаты устранены.**"
   ]
  },
  {
   "cell_type": "markdown",
   "id": "41a68a36",
   "metadata": {},
   "source": [
    "### Анализ распределения данных."
   ]
  },
  {
   "cell_type": "code",
   "execution_count": 33,
   "id": "0afc548b",
   "metadata": {
    "scrolled": false
   },
   "outputs": [
    {
     "data": {
      "image/png": "[encoded data removed]",
      "text/plain": [
       "<Figure size 1440x1440 with 9 Axes>"
      ]
     },
     "metadata": {
      "needs_background": "light"
     },
     "output_type": "display_data"
    }
   ],
   "source": [
    "num_columns = 3\n",
    "num_rows = 3\n",
    "\n",
    "# Фигура и оси для каждого класса звезды.\n",
    "fig, axes = plt.subplots(num_rows, num_columns, figsize=(20, 20))\n",
    "\n",
    "#Построение графика для кажлого признака\n",
    "for i, ax in enumerate(axes.flatten()):\n",
    "\n",
    "    driver_risk[num_features.columns[i]].hist(bins=7,\n",
    "                                                    color='powderblue',\n",
    "                                                    edgecolor='darkslategray',\n",
    "                                                    linewidth=1,\n",
    "                                                    ax=ax)\n",
    "    ax.set_title(num_features.columns[i])\n",
    "\n",
    "plt.show()\n"
   ]
  },
  {
   "cell_type": "markdown",
   "id": "3054f5fd",
   "metadata": {},
   "source": [
    "**Вывод:**\n",
    "\n",
    "        1) Графики 'at_fault' и 'cellphone_in_use' по сути является категориальными и имеют два варианта. Либо - да, либо - нет. \n",
    "        2) Распределение на графике  'vehicle_age' выглядит не так как ожидалось. Скорее всего в графике присутствуют сильные выбросы в районе возраста авто - 120 лет.\n",
    "        3) Остальные графики имеют ожидаемое распределенеие. Близкое к нормальному либо равномерному."
   ]
  },
  {
   "cell_type": "markdown",
   "id": "92f3d89c",
   "metadata": {},
   "source": [
    "### vehicle_age"
   ]
  },
  {
   "cell_type": "code",
   "execution_count": 34,
   "id": "5d72c870",
   "metadata": {},
   "outputs": [
    {
     "data": {
      "text/plain": [
       "3.0      11002\n",
       "4.0       8844\n",
       "2.0       6045\n",
       "5.0       5561\n",
       "6.0       3938\n",
       "7.0       3832\n",
       "8.0       3507\n",
       "0.0       3087\n",
       "9.0       2767\n",
       "1.0       2545\n",
       "10.0      1941\n",
       "11.0      1379\n",
       "12.0       878\n",
       "13.0       551\n",
       "14.0       281\n",
       "15.0        37\n",
       "16.0         6\n",
       "17.0         3\n",
       "161.0        2\n",
       "19.0         1\n",
       "Name: vehicle_age, dtype: int64"
      ]
     },
     "execution_count": 34,
     "metadata": {},
     "output_type": "execute_result"
    }
   ],
   "source": [
    "driver_risk['vehicle_age'].value_counts()"
   ]
  },
  {
   "cell_type": "markdown",
   "id": "c9a48456",
   "metadata": {},
   "source": [
    "Из анализа на уникальные значения видно, что есть выброс у двух авто с возрастом 161 год. Записи с этими авто удаляются из БД."
   ]
  },
  {
   "cell_type": "code",
   "execution_count": 35,
   "id": "925f9869",
   "metadata": {},
   "outputs": [],
   "source": [
    "driver_risk = driver_risk[driver_risk['vehicle_age'] <160]"
   ]
  },
  {
   "cell_type": "code",
   "execution_count": 36,
   "id": "dde4c8d1",
   "metadata": {
    "scrolled": true
   },
   "outputs": [
    {
     "data": {
      "image/png": "[encoded data removed]",
      "text/plain": [
       "<Figure size 360x360 with 1 Axes>"
      ]
     },
     "metadata": {
      "needs_background": "light"
     },
     "output_type": "display_data"
    }
   ],
   "source": [
    "fig, ax = plt.subplots(figsize=(5, 5))\n",
    "\n",
    "ax.hist(driver_risk['vehicle_age'],\n",
    "                            bins=8,\n",
    "                            color='powderblue',\n",
    "                            edgecolor='darkslategray',\n",
    "                            linewidth=1)\n",
    "ax.set_title('vehicle_age')\n",
    "\n",
    "plt.show()"
   ]
  },
  {
   "cell_type": "markdown",
   "id": "756273bb",
   "metadata": {},
   "source": [
    "Теперь данные имеют распределение похожее на распределение Пуасона. "
   ]
  },
  {
   "cell_type": "markdown",
   "id": "04e41be2",
   "metadata": {},
   "source": [
    "### Преобразование времени"
   ]
  },
  {
   "cell_type": "markdown",
   "id": "27de2193",
   "metadata": {},
   "source": [
    " Для учета цикличности времени преобразуем значения времени посадки в автомобиль на синусы от углов часовой стрелки на циферблате. Примем циферблат 24 формата, где 1 час соответсвует 15 градусам окружности."
   ]
  },
  {
   "cell_type": "code",
   "execution_count": 37,
   "id": "88f36adf",
   "metadata": {
    "scrolled": false
   },
   "outputs": [
    {
     "data": {
      "text/plain": [
       "0        0.374607\n",
       "1        0.034899\n",
       "2        0.309017\n",
       "3        0.190809\n",
       "4        0.139173\n",
       "           ...   \n",
       "56243    0.104528\n",
       "56244    0.374607\n",
       "56245    0.190809\n",
       "56246    0.342020\n",
       "56247    0.017452\n",
       "Name: hour, Length: 56205, dtype: float64"
      ]
     },
     "execution_count": 37,
     "metadata": {},
     "output_type": "execute_result"
    }
   ],
   "source": [
    "# Вычисляется синус для каждого значения и обновляем столбец 'hour'\n",
    "driver_risk['hour'] = driver_risk['hour'].apply(lambda x: math.sin(math.radians(x)))\n",
    "driver_risk['hour']"
   ]
  },
  {
   "cell_type": "markdown",
   "id": "49de425c",
   "metadata": {},
   "source": [
    "### Анализ данных на мультиколлинеарность."
   ]
  },
  {
   "cell_type": "markdown",
   "id": "0530fd33",
   "metadata": {},
   "source": [
    "Для анализа признаков на мультиколлинеарность используется библиотека phik.Она позволяет выявить степень корреляции между категориальными и числовыми признаками."
   ]
  },
  {
   "cell_type": "code",
   "execution_count": 38,
   "id": "ddcafcdd",
   "metadata": {},
   "outputs": [
    {
     "name": "stdout",
     "output_type": "stream",
     "text": [
      "interval columns not set, guessing: ['at_fault', 'insurance_premium', 'cellphone_in_use', 'county_city_location', 'distance', 'party_count', 'col_month', 'day_of_week', 'hour', 'vehicle_age']\n",
      "CPU times: user 2.81 s, sys: 375 ms, total: 3.19 s\n",
      "Wall time: 4.79 s\n"
     ]
    },
    {
     "data": {
      "text/html": [
       "<div>\n",
       "<style scoped>\n",
       "    .dataframe tbody tr th:only-of-type {\n",
       "        vertical-align: middle;\n",
       "    }\n",
       "\n",
       "    .dataframe tbody tr th {\n",
       "        vertical-align: top;\n",
       "    }\n",
       "\n",
       "    .dataframe thead th {\n",
       "        text-align: right;\n",
       "    }\n",
       "</style>\n",
       "<table border=\"1\" class=\"dataframe\">\n",
       "  <thead>\n",
       "    <tr style=\"text-align: right;\">\n",
       "      <th></th>\n",
       "      <th>at_fault</th>\n",
       "      <th>insurance_premium</th>\n",
       "      <th>party_sobriety</th>\n",
       "      <th>party_drug_physical</th>\n",
       "      <th>cellphone_in_use</th>\n",
       "      <th>county_city_location</th>\n",
       "      <th>county_location</th>\n",
       "      <th>direction</th>\n",
       "      <th>distance</th>\n",
       "      <th>weather_1</th>\n",
       "      <th>...</th>\n",
       "      <th>type_of_collision</th>\n",
       "      <th>motor_vehicle_involved_with</th>\n",
       "      <th>road_surface</th>\n",
       "      <th>road_condition_1</th>\n",
       "      <th>lighting</th>\n",
       "      <th>control_device</th>\n",
       "      <th>col_month</th>\n",
       "      <th>day_of_week</th>\n",
       "      <th>hour</th>\n",
       "      <th>vehicle_age</th>\n",
       "    </tr>\n",
       "  </thead>\n",
       "  <tbody>\n",
       "    <tr>\n",
       "      <th>at_fault</th>\n",
       "      <td>1.00</td>\n",
       "      <td>0.24</td>\n",
       "      <td>0.41</td>\n",
       "      <td>0.21</td>\n",
       "      <td>0.01</td>\n",
       "      <td>0.09</td>\n",
       "      <td>0.13</td>\n",
       "      <td>0.05</td>\n",
       "      <td>0.00</td>\n",
       "      <td>0.05</td>\n",
       "      <td>...</td>\n",
       "      <td>0.33</td>\n",
       "      <td>0.41</td>\n",
       "      <td>0.10</td>\n",
       "      <td>0.03</td>\n",
       "      <td>0.07</td>\n",
       "      <td>0.13</td>\n",
       "      <td>0.03</td>\n",
       "      <td>0.03</td>\n",
       "      <td>0.18</td>\n",
       "      <td>0.18</td>\n",
       "    </tr>\n",
       "    <tr>\n",
       "      <th>insurance_premium</th>\n",
       "      <td>0.24</td>\n",
       "      <td>1.00</td>\n",
       "      <td>0.13</td>\n",
       "      <td>0.08</td>\n",
       "      <td>0.00</td>\n",
       "      <td>0.06</td>\n",
       "      <td>0.10</td>\n",
       "      <td>0.05</td>\n",
       "      <td>0.00</td>\n",
       "      <td>0.02</td>\n",
       "      <td>...</td>\n",
       "      <td>0.10</td>\n",
       "      <td>0.10</td>\n",
       "      <td>0.03</td>\n",
       "      <td>0.01</td>\n",
       "      <td>0.18</td>\n",
       "      <td>0.04</td>\n",
       "      <td>0.04</td>\n",
       "      <td>0.04</td>\n",
       "      <td>0.21</td>\n",
       "      <td>0.86</td>\n",
       "    </tr>\n",
       "    <tr>\n",
       "      <th>party_sobriety</th>\n",
       "      <td>0.41</td>\n",
       "      <td>0.13</td>\n",
       "      <td>1.00</td>\n",
       "      <td>0.94</td>\n",
       "      <td>0.02</td>\n",
       "      <td>0.04</td>\n",
       "      <td>0.10</td>\n",
       "      <td>0.05</td>\n",
       "      <td>0.04</td>\n",
       "      <td>0.02</td>\n",
       "      <td>...</td>\n",
       "      <td>0.23</td>\n",
       "      <td>0.32</td>\n",
       "      <td>0.01</td>\n",
       "      <td>0.02</td>\n",
       "      <td>0.24</td>\n",
       "      <td>0.06</td>\n",
       "      <td>0.08</td>\n",
       "      <td>0.11</td>\n",
       "      <td>0.36</td>\n",
       "      <td>0.12</td>\n",
       "    </tr>\n",
       "    <tr>\n",
       "      <th>party_drug_physical</th>\n",
       "      <td>0.21</td>\n",
       "      <td>0.08</td>\n",
       "      <td>0.94</td>\n",
       "      <td>1.00</td>\n",
       "      <td>0.01</td>\n",
       "      <td>0.05</td>\n",
       "      <td>0.10</td>\n",
       "      <td>0.04</td>\n",
       "      <td>0.04</td>\n",
       "      <td>0.02</td>\n",
       "      <td>...</td>\n",
       "      <td>0.13</td>\n",
       "      <td>0.17</td>\n",
       "      <td>0.02</td>\n",
       "      <td>0.02</td>\n",
       "      <td>0.08</td>\n",
       "      <td>0.04</td>\n",
       "      <td>0.17</td>\n",
       "      <td>0.02</td>\n",
       "      <td>0.13</td>\n",
       "      <td>0.07</td>\n",
       "    </tr>\n",
       "    <tr>\n",
       "      <th>cellphone_in_use</th>\n",
       "      <td>0.01</td>\n",
       "      <td>0.00</td>\n",
       "      <td>0.02</td>\n",
       "      <td>0.01</td>\n",
       "      <td>1.00</td>\n",
       "      <td>0.14</td>\n",
       "      <td>0.35</td>\n",
       "      <td>0.02</td>\n",
       "      <td>0.00</td>\n",
       "      <td>0.02</td>\n",
       "      <td>...</td>\n",
       "      <td>0.02</td>\n",
       "      <td>0.01</td>\n",
       "      <td>0.03</td>\n",
       "      <td>0.01</td>\n",
       "      <td>0.01</td>\n",
       "      <td>0.03</td>\n",
       "      <td>0.02</td>\n",
       "      <td>0.01</td>\n",
       "      <td>0.01</td>\n",
       "      <td>0.02</td>\n",
       "    </tr>\n",
       "  </tbody>\n",
       "</table>\n",
       "<p>5 rows × 22 columns</p>\n",
       "</div>"
      ],
      "text/plain": [
       "                     at_fault  insurance_premium  party_sobriety  \\\n",
       "at_fault                 1.00               0.24            0.41   \n",
       "insurance_premium        0.24               1.00            0.13   \n",
       "party_sobriety           0.41               0.13            1.00   \n",
       "party_drug_physical      0.21               0.08            0.94   \n",
       "cellphone_in_use         0.01               0.00            0.02   \n",
       "\n",
       "                     party_drug_physical  cellphone_in_use  \\\n",
       "at_fault                            0.21              0.01   \n",
       "insurance_premium                   0.08              0.00   \n",
       "party_sobriety                      0.94              0.02   \n",
       "party_drug_physical                 1.00              0.01   \n",
       "cellphone_in_use                    0.01              1.00   \n",
       "\n",
       "                     county_city_location  county_location  direction  \\\n",
       "at_fault                             0.09             0.13       0.05   \n",
       "insurance_premium                    0.06             0.10       0.05   \n",
       "party_sobriety                       0.04             0.10       0.05   \n",
       "party_drug_physical                  0.05             0.10       0.04   \n",
       "cellphone_in_use                     0.14             0.35       0.02   \n",
       "\n",
       "                     distance  weather_1  ...  type_of_collision  \\\n",
       "at_fault                 0.00       0.05  ...               0.33   \n",
       "insurance_premium        0.00       0.02  ...               0.10   \n",
       "party_sobriety           0.04       0.02  ...               0.23   \n",
       "party_drug_physical      0.04       0.02  ...               0.13   \n",
       "cellphone_in_use         0.00       0.02  ...               0.02   \n",
       "\n",
       "                     motor_vehicle_involved_with  road_surface  \\\n",
       "at_fault                                    0.41          0.10   \n",
       "insurance_premium                           0.10          0.03   \n",
       "party_sobriety                              0.32          0.01   \n",
       "party_drug_physical                         0.17          0.02   \n",
       "cellphone_in_use                            0.01          0.03   \n",
       "\n",
       "                     road_condition_1  lighting  control_device  col_month  \\\n",
       "at_fault                         0.03      0.07            0.13       0.03   \n",
       "insurance_premium                0.01      0.18            0.04       0.04   \n",
       "party_sobriety                   0.02      0.24            0.06       0.08   \n",
       "party_drug_physical              0.02      0.08            0.04       0.17   \n",
       "cellphone_in_use                 0.01      0.01            0.03       0.02   \n",
       "\n",
       "                     day_of_week  hour  vehicle_age  \n",
       "at_fault                    0.03  0.18         0.18  \n",
       "insurance_premium           0.04  0.21         0.86  \n",
       "party_sobriety              0.11  0.36         0.12  \n",
       "party_drug_physical         0.02  0.13         0.07  \n",
       "cellphone_in_use            0.01  0.01         0.02  \n",
       "\n",
       "[5 rows x 22 columns]"
      ]
     },
     "execution_count": 38,
     "metadata": {},
     "output_type": "execute_result"
    }
   ],
   "source": [
    "%%time\n",
    "#Матрица корреляции / Correlation matrix\n",
    "phik_base = driver_risk.phik_matrix().round(2)\n",
    "phik_base.head()"
   ]
  },
  {
   "cell_type": "code",
   "execution_count": 39,
   "id": "d54c2c9d",
   "metadata": {
    "scrolled": false
   },
   "outputs": [
    {
     "data": {
      "image/png": "[encoded data removed]",
      "text/plain": [
       "<Figure size 864x864 with 2 Axes>"
      ]
     },
     "metadata": {
      "needs_background": "light"
     },
     "output_type": "display_data"
    }
   ],
   "source": [
    "#Визуализация матрицы 𝜙k / 𝜙k matrix visualisation\n",
    "plot_correlation_matrix(phik_base.values, \n",
    "                        x_labels=phik_base.columns, \n",
    "                        y_labels=phik_base.index, \n",
    "                        vmin=0, vmax=1, color_map=\"Purples\", \n",
    "                        title=r\"features_correlation $\\phi_K$\", \n",
    "                        fontsize_factor=1.1, \n",
    "                        figsize=(12, 12))\n",
    "plt.tight_layout()"
   ]
  },
  {
   "cell_type": "markdown",
   "id": "3a989195",
   "metadata": {},
   "source": [
    "Из матрицы корреляции видно, что 'county_city_location' и 'county_location' полностью идентичны. Удаляется один из признаков."
   ]
  },
  {
   "cell_type": "code",
   "execution_count": 40,
   "id": "7702f739",
   "metadata": {},
   "outputs": [],
   "source": [
    "driver_risk = driver_risk.drop('county_city_location', axis = 1)"
   ]
  },
  {
   "cell_type": "markdown",
   "id": "2dae009e",
   "metadata": {},
   "source": [
    "## Разбиение данных на обучающую, валидационную и тестовую выборки."
   ]
  },
  {
   "cell_type": "markdown",
   "id": "16b29d77",
   "metadata": {},
   "source": [
    "Для реализации бизнес задачи необходимо оставить только те признаки, которые могут быть получены в момент посадки человека в авто. "
   ]
  },
  {
   "cell_type": "code",
   "execution_count": 42,
   "id": "ce5707ac",
   "metadata": {},
   "outputs": [],
   "source": [
    "#Определение целевого признака и набора фичей.\n",
    "y = driver_risk['at_fault']\n",
    "X = driver_risk.drop(['at_fault', 'pcf_violation_category', 'distance'], axis = 1) \n",
    "\n",
    "#Тренировочная выборка\n",
    "X_train, X_temp, y_train, y_temp = train_test_split(X, y, test_size = 0.3, random_state = 12345) \n",
    "\n",
    "#Тестовая и валидационная выборки.\n",
    "X_valid, X_test, y_valid, y_test = train_test_split(X_temp, y_temp, test_size = 0.5, random_state = 12345)"
   ]
  },
  {
   "cell_type": "markdown",
   "id": "d292c663",
   "metadata": {},
   "source": [
    "# Определение лучшей модели ML."
   ]
  },
  {
   "cell_type": "markdown",
   "id": "29db00df",
   "metadata": {},
   "source": [
    "В контесте задачин необходимо исследовать основные факторы ДТП, обеспечивая при этом адекватную систему оценки водительского риска, как можно точнее и полнее выявлять виновных в ДТП. \n",
    "\n",
    "Для реализации этой задачи выбирается метрика F1, которая комбинирует точность (способность не помечать невиновных как виновных) и полноту (способность обнаруживать всех виновных) в единый показатель."
   ]
  },
  {
   "cell_type": "markdown",
   "id": "05f1c0b9",
   "metadata": {},
   "source": [
    "Для анализа качества моделей и выбора наилучшей из них - формируется сводная таблица с результатами работ каждой из них."
   ]
  },
  {
   "cell_type": "code",
   "execution_count": 43,
   "id": "ae60c471",
   "metadata": {},
   "outputs": [
    {
     "data": {
      "text/html": [
       "<div>\n",
       "<style scoped>\n",
       "    .dataframe tbody tr th:only-of-type {\n",
       "        vertical-align: middle;\n",
       "    }\n",
       "\n",
       "    .dataframe tbody tr th {\n",
       "        vertical-align: top;\n",
       "    }\n",
       "\n",
       "    .dataframe thead th {\n",
       "        text-align: right;\n",
       "    }\n",
       "</style>\n",
       "<table border=\"1\" class=\"dataframe\">\n",
       "  <thead>\n",
       "    <tr style=\"text-align: right;\">\n",
       "      <th></th>\n",
       "      <th>ML model</th>\n",
       "      <th>Description</th>\n",
       "      <th>F1_score</th>\n",
       "    </tr>\n",
       "  </thead>\n",
       "  <tbody>\n",
       "  </tbody>\n",
       "</table>\n",
       "</div>"
      ],
      "text/plain": [
       "Empty DataFrame\n",
       "Columns: [ML model, Description, F1_score]\n",
       "Index: []"
      ]
     },
     "execution_count": 43,
     "metadata": {},
     "output_type": "execute_result"
    }
   ],
   "source": [
    "data_analis = {'ML model' : [],\n",
    "              'Description' : [],\n",
    "              'F1_score' : []}\n",
    "result_data = pd.DataFrame(data_analis)\n",
    "result_data"
   ]
  },
  {
   "cell_type": "markdown",
   "id": "e9e98b03",
   "metadata": {},
   "source": [
    "## CatBoost"
   ]
  },
  {
   "cell_type": "code",
   "execution_count": 44,
   "id": "3bb356f1",
   "metadata": {
    "scrolled": true
   },
   "outputs": [
    {
     "data": {
      "text/plain": [
       "['party_sobriety',\n",
       " 'party_drug_physical',\n",
       " 'county_location',\n",
       " 'direction',\n",
       " 'weather_1',\n",
       " 'type_of_collision',\n",
       " 'motor_vehicle_involved_with',\n",
       " 'road_surface',\n",
       " 'road_condition_1',\n",
       " 'lighting',\n",
       " 'control_device']"
      ]
     },
     "execution_count": 44,
     "metadata": {},
     "output_type": "execute_result"
    }
   ],
   "source": [
    "#Определение категориальных данных:\n",
    "cat_features = list(X.select_dtypes(include = 'object').columns)\n",
    "cat_features"
   ]
  },
  {
   "cell_type": "code",
   "execution_count": 45,
   "id": "8b63b90c",
   "metadata": {},
   "outputs": [],
   "source": [
    "param_grid = {\n",
    "    'iterations': range(100, 2000, 500),\n",
    "    'depth': range(1, 10, 2),\n",
    "    'learning_rate': [0.01, 0.1, 0.02]\n",
    "}"
   ]
  },
  {
   "cell_type": "code",
   "execution_count": 46,
   "id": "bc14e70d",
   "metadata": {},
   "outputs": [],
   "source": [
    "# Инициализация модели\n",
    "cbc_model = cb.CatBoostClassifier()"
   ]
  },
  {
   "cell_type": "code",
   "execution_count": 47,
   "id": "30904f8f",
   "metadata": {},
   "outputs": [],
   "source": [
    "# Создание объекта GridSearchCV\n",
    "grid_search = GridSearchCV(estimator=cbc_model, \n",
    "                           param_grid=param_grid, \n",
    "                           cv=3, \n",
    "                           scoring='f1', \n",
    "                           verbose=1\n",
    "                          )"
   ]
  },
  {
   "cell_type": "code",
   "execution_count": 48,
   "id": "a607461d",
   "metadata": {},
   "outputs": [
    {
     "name": "stdout",
     "output_type": "stream",
     "text": [
      "Fitting 3 folds for each of 60 candidates, totalling 180 fits\n",
      "CPU times: user 3h 18min 39s, sys: 51min, total: 4h 9min 40s\n",
      "Wall time: 37min 37s\n"
     ]
    },
    {
     "data": {
      "text/plain": [
       "GridSearchCV(cv=3,\n",
       "             estimator=<catboost.core.CatBoostClassifier object at 0x7ff03018c670>,\n",
       "             param_grid={'depth': range(1, 10, 2),\n",
       "                         'iterations': range(100, 2000, 500),\n",
       "                         'learning_rate': [0.01, 0.1, 0.02]},\n",
       "             scoring='f1', verbose=1)"
      ]
     },
     "execution_count": 48,
     "metadata": {},
     "output_type": "execute_result"
    }
   ],
   "source": [
    "%%time\n",
    "# Обучение на тренировочных данных\n",
    "grid_search.fit(X_train, y_train, cat_features = cat_features, verbose=0)"
   ]
  },
  {
   "cell_type": "code",
   "execution_count": 49,
   "id": "976aff70",
   "metadata": {},
   "outputs": [
    {
     "name": "stdout",
     "output_type": "stream",
     "text": [
      "Лучшие параметры: {'depth': 7, 'iterations': 1600, 'learning_rate': 0.02}\n"
     ]
    }
   ],
   "source": [
    "# Вывод лучших параметров\n",
    "print(\"Лучшие параметры:\", grid_search.best_params_)\n",
    "\n",
    "# Лучшие гиперпараметры\n",
    "best_cbc_parameters = grid_search.best_params_"
   ]
  },
  {
   "cell_type": "markdown",
   "id": "07f5a7c1",
   "metadata": {},
   "source": [
    "Лучшие параметры: {'depth': 7, 'iterations': 1600, 'learning_rate': 0.02}"
   ]
  },
  {
   "cell_type": "code",
   "execution_count": 50,
   "id": "d098ec3d",
   "metadata": {
    "scrolled": false
   },
   "outputs": [
    {
     "data": {
      "application/vnd.jupyter.widget-view+json": {
       "model_id": "505b4205a01e4ebfa10b0bea6ec7d897",
       "version_major": 2,
       "version_minor": 0
      },
      "text/plain": [
       "MetricVisualizer(layout=Layout(align_self='stretch', height='500px'))"
      ]
     },
     "metadata": {},
     "output_type": "display_data"
    },
    {
     "name": "stdout",
     "output_type": "stream",
     "text": [
      "CPU times: user 7min 35s, sys: 29 s, total: 8min 4s\n",
      "Wall time: 58.4 s\n"
     ]
    },
    {
     "data": {
      "text/plain": [
       "<catboost.core.CatBoostClassifier at 0x7ff0067a47c0>"
      ]
     },
     "execution_count": 50,
     "metadata": {},
     "output_type": "execute_result"
    }
   ],
   "source": [
    "%%time\n",
    "rndm = 42\n",
    "cbc = cb.CatBoostClassifier(**best_cbc_parameters,\n",
    "                            random_seed=rndm,\n",
    "                            boosting_type='Ordered',\n",
    "                            eval_metric = 'Logloss',\n",
    "                            custom_metric=['F1']\n",
    "                          )\n",
    "cbc.fit(X_train,y_train, \n",
    "        cat_features = cat_features, \n",
    "        verbose=False,\n",
    "        plot=True)"
   ]
  },
  {
   "cell_type": "code",
   "execution_count": 51,
   "id": "6862c469",
   "metadata": {},
   "outputs": [
    {
     "name": "stdout",
     "output_type": "stream",
     "text": [
      "F1 Score on Validation Set: 0.6706239646604085\n"
     ]
    }
   ],
   "source": [
    "prediction = cbc.predict(X_valid, verbose=None)\n",
    "\n",
    "# Получение результатов метрики F1 на валидационном наборе\n",
    "f1 = f1_score(y_valid, prediction)\n",
    "\n",
    "print(f'F1 Score on Validation Set: {f1}')\n"
   ]
  },
  {
   "cell_type": "code",
   "execution_count": 53,
   "id": "f730a342",
   "metadata": {},
   "outputs": [
    {
     "name": "stderr",
     "output_type": "stream",
     "text": [
      "/var/folders/th/9xw9c71j3d34kscxr4b5q7m80000gn/T/ipykernel_65650/336641948.py:4: FutureWarning: The frame.append method is deprecated and will be removed from pandas in a future version. Use pandas.concat instead.\n",
      "  result_data = result_data.append(data_append, ignore_index=True)\n"
     ]
    },
    {
     "data": {
      "text/html": [
       "<div>\n",
       "<style scoped>\n",
       "    .dataframe tbody tr th:only-of-type {\n",
       "        vertical-align: middle;\n",
       "    }\n",
       "\n",
       "    .dataframe tbody tr th {\n",
       "        vertical-align: top;\n",
       "    }\n",
       "\n",
       "    .dataframe thead th {\n",
       "        text-align: right;\n",
       "    }\n",
       "</style>\n",
       "<table border=\"1\" class=\"dataframe\">\n",
       "  <thead>\n",
       "    <tr style=\"text-align: right;\">\n",
       "      <th></th>\n",
       "      <th>ML model</th>\n",
       "      <th>Description</th>\n",
       "      <th>F1_score</th>\n",
       "      <th>hiper parameters</th>\n",
       "    </tr>\n",
       "  </thead>\n",
       "  <tbody>\n",
       "    <tr>\n",
       "      <th>0</th>\n",
       "      <td>CatBoost</td>\n",
       "      <td>NaN</td>\n",
       "      <td>0.670624</td>\n",
       "      <td>CrossValidation &amp; Greed search</td>\n",
       "    </tr>\n",
       "    <tr>\n",
       "      <th>1</th>\n",
       "      <td>CatBoost</td>\n",
       "      <td>CrossValidation &amp; Greed search</td>\n",
       "      <td>0.670624</td>\n",
       "      <td>NaN</td>\n",
       "    </tr>\n",
       "  </tbody>\n",
       "</table>\n",
       "</div>"
      ],
      "text/plain": [
       "   ML model                     Description  F1_score  \\\n",
       "0  CatBoost                             NaN  0.670624   \n",
       "1  CatBoost  CrossValidation & Greed search  0.670624   \n",
       "\n",
       "                 hiper parameters  \n",
       "0  CrossValidation & Greed search  \n",
       "1                             NaN  "
      ]
     },
     "execution_count": 53,
     "metadata": {},
     "output_type": "execute_result"
    }
   ],
   "source": [
    "data_append= {'ML model' : 'CatBoost',\n",
    "              'Description'  : 'CrossValidation & Greed search',\n",
    "              'F1_score' : f1}\n",
    "result_data = result_data.append(data_append, ignore_index=True)\n",
    "result_data"
   ]
  },
  {
   "cell_type": "markdown",
   "id": "b1742758",
   "metadata": {},
   "source": [
    "## LightGBM"
   ]
  },
  {
   "cell_type": "markdown",
   "id": "6b2c3dcb",
   "metadata": {},
   "source": [
    "В lightGBM все категориальные признаки должны иметь тип данных 'category'."
   ]
  },
  {
   "cell_type": "code",
   "execution_count": 54,
   "id": "4641ddf7",
   "metadata": {},
   "outputs": [
    {
     "name": "stdout",
     "output_type": "stream",
     "text": [
      "<class 'pandas.core.frame.DataFrame'>\n",
      "Int64Index: 39343 entries, 45776 to 20973\n",
      "Data columns (total 18 columns):\n",
      " #   Column                       Non-Null Count  Dtype   \n",
      "---  ------                       --------------  -----   \n",
      " 0   insurance_premium            39343 non-null  float64 \n",
      " 1   party_sobriety               39343 non-null  category\n",
      " 2   party_drug_physical          39343 non-null  category\n",
      " 3   cellphone_in_use             39343 non-null  float64 \n",
      " 4   county_location              39343 non-null  category\n",
      " 5   direction                    39343 non-null  category\n",
      " 6   weather_1                    39343 non-null  category\n",
      " 7   party_count                  39343 non-null  int64   \n",
      " 8   type_of_collision            39343 non-null  category\n",
      " 9   motor_vehicle_involved_with  39343 non-null  category\n",
      " 10  road_surface                 39343 non-null  category\n",
      " 11  road_condition_1             39343 non-null  category\n",
      " 12  lighting                     39343 non-null  category\n",
      " 13  control_device               39343 non-null  category\n",
      " 14  col_month                    39343 non-null  float64 \n",
      " 15  day_of_week                  39343 non-null  float64 \n",
      " 16  hour                         39343 non-null  float64 \n",
      " 17  vehicle_age                  39343 non-null  float64 \n",
      "dtypes: category(11), float64(6), int64(1)\n",
      "memory usage: 2.8 MB\n"
     ]
    }
   ],
   "source": [
    "X_train_gbm = X_train.copy()\n",
    "X_valid_gbm = X_valid.copy()\n",
    "for cat in cat_features:\n",
    "    X_train_gbm[cat] = X_train[cat].astype('category')\n",
    "    X_valid_gbm[cat] = X_valid[cat].astype('category')\n",
    "X_train_gbm.info()  "
   ]
  },
  {
   "cell_type": "code",
   "execution_count": 55,
   "id": "ae3ffa0a",
   "metadata": {},
   "outputs": [],
   "source": [
    "param_grid = {\n",
    "    'learning_rate': [0.01, 0.1, 0.2],\n",
    "    'n_estimators': [100, 500, 1000, 2000],\n",
    "    'max_depth': [3, 5, 7, 10]\n",
    "}"
   ]
  },
  {
   "cell_type": "code",
   "execution_count": 56,
   "id": "64dabc9a",
   "metadata": {},
   "outputs": [],
   "source": [
    "# Инициализация модели\n",
    "lgb_model = lgb.LGBMClassifier()"
   ]
  },
  {
   "cell_type": "code",
   "execution_count": 57,
   "id": "35a28382",
   "metadata": {},
   "outputs": [
    {
     "name": "stdout",
     "output_type": "stream",
     "text": [
      "[LightGBM] [Warning] Accuracy may be bad since you didn't explicitly set num_leaves OR 2^max_depth > num_leaves. (num_leaves=31).\n",
      "[LightGBM] [Warning] Accuracy may be bad since you didn't explicitly set num_leaves OR 2^max_depth > num_leaves. (num_leaves=31).\n",
      "[LightGBM] [Warning] Accuracy may be bad since you didn't explicitly set num_leaves OR 2^max_depth > num_leaves. (num_leaves=31).\n",
      "[LightGBM] [Warning] Accuracy may be bad since you didn't explicitly set num_leaves OR 2^max_depth > num_leaves. (num_leaves=31).\n",
      "[LightGBM] [Warning] Accuracy may be bad since you didn't explicitly set num_leaves OR 2^max_depth > num_leaves. (num_leaves=31).\n",
      "[LightGBM] [Warning] Accuracy may be bad since you didn't explicitly set num_leaves OR 2^max_depth > num_leaves. (num_leaves=31).\n",
      "[LightGBM] [Warning] Accuracy may be bad since you didn't explicitly set num_leaves OR 2^max_depth > num_leaves. (num_leaves=31).\n",
      "[LightGBM] [Warning] Accuracy may be bad since you didn't explicitly set num_leaves OR 2^max_depth > num_leaves. (num_leaves=31).\n",
      "[LightGBM] [Warning] Accuracy may be bad since you didn't explicitly set num_leaves OR 2^max_depth > num_leaves. (num_leaves=31).\n",
      "[LightGBM] [Warning] Accuracy may be bad since you didn't explicitly set num_leaves OR 2^max_depth > num_leaves. (num_leaves=31).\n",
      "[LightGBM] [Warning] Accuracy may be bad since you didn't explicitly set num_leaves OR 2^max_depth > num_leaves. (num_leaves=31).\n",
      "[LightGBM] [Warning] Accuracy may be bad since you didn't explicitly set num_leaves OR 2^max_depth > num_leaves. (num_leaves=31).\n",
      "[LightGBM] [Warning] Accuracy may be bad since you didn't explicitly set num_leaves OR 2^max_depth > num_leaves. (num_leaves=31).\n",
      "[LightGBM] [Warning] Accuracy may be bad since you didn't explicitly set num_leaves OR 2^max_depth > num_leaves. (num_leaves=31).\n",
      "[LightGBM] [Warning] Accuracy may be bad since you didn't explicitly set num_leaves OR 2^max_depth > num_leaves. (num_leaves=31).\n",
      "[LightGBM] [Warning] Accuracy may be bad since you didn't explicitly set num_leaves OR 2^max_depth > num_leaves. (num_leaves=31).\n",
      "[LightGBM] [Warning] Accuracy may be bad since you didn't explicitly set num_leaves OR 2^max_depth > num_leaves. (num_leaves=31).\n",
      "[LightGBM] [Warning] Accuracy may be bad since you didn't explicitly set num_leaves OR 2^max_depth > num_leaves. (num_leaves=31).\n",
      "[LightGBM] [Warning] Accuracy may be bad since you didn't explicitly set num_leaves OR 2^max_depth > num_leaves. (num_leaves=31).\n",
      "[LightGBM] [Warning] Accuracy may be bad since you didn't explicitly set num_leaves OR 2^max_depth > num_leaves. (num_leaves=31).\n",
      "[LightGBM] [Warning] Accuracy may be bad since you didn't explicitly set num_leaves OR 2^max_depth > num_leaves. (num_leaves=31).\n",
      "[LightGBM] [Warning] Accuracy may be bad since you didn't explicitly set num_leaves OR 2^max_depth > num_leaves. (num_leaves=31).\n",
      "[LightGBM] [Warning] Accuracy may be bad since you didn't explicitly set num_leaves OR 2^max_depth > num_leaves. (num_leaves=31).\n",
      "[LightGBM] [Warning] Accuracy may be bad since you didn't explicitly set num_leaves OR 2^max_depth > num_leaves. (num_leaves=31).\n",
      "[LightGBM] [Warning] Accuracy may be bad since you didn't explicitly set num_leaves OR 2^max_depth > num_leaves. (num_leaves=31).\n",
      "[LightGBM] [Warning] Accuracy may be bad since you didn't explicitly set num_leaves OR 2^max_depth > num_leaves. (num_leaves=31).\n",
      "[LightGBM] [Warning] Accuracy may be bad since you didn't explicitly set num_leaves OR 2^max_depth > num_leaves. (num_leaves=31).\n",
      "[LightGBM] [Warning] Accuracy may be bad since you didn't explicitly set num_leaves OR 2^max_depth > num_leaves. (num_leaves=31).\n",
      "[LightGBM] [Warning] Accuracy may be bad since you didn't explicitly set num_leaves OR 2^max_depth > num_leaves. (num_leaves=31).\n",
      "[LightGBM] [Warning] Accuracy may be bad since you didn't explicitly set num_leaves OR 2^max_depth > num_leaves. (num_leaves=31).\n",
      "[LightGBM] [Warning] Accuracy may be bad since you didn't explicitly set num_leaves OR 2^max_depth > num_leaves. (num_leaves=31).\n",
      "[LightGBM] [Warning] Accuracy may be bad since you didn't explicitly set num_leaves OR 2^max_depth > num_leaves. (num_leaves=31).\n",
      "[LightGBM] [Warning] Accuracy may be bad since you didn't explicitly set num_leaves OR 2^max_depth > num_leaves. (num_leaves=31).\n",
      "[LightGBM] [Warning] Accuracy may be bad since you didn't explicitly set num_leaves OR 2^max_depth > num_leaves. (num_leaves=31).\n",
      "[LightGBM] [Warning] Accuracy may be bad since you didn't explicitly set num_leaves OR 2^max_depth > num_leaves. (num_leaves=31).\n",
      "[LightGBM] [Warning] Accuracy may be bad since you didn't explicitly set num_leaves OR 2^max_depth > num_leaves. (num_leaves=31).\n",
      "[LightGBM] [Warning] Accuracy may be bad since you didn't explicitly set num_leaves OR 2^max_depth > num_leaves. (num_leaves=31).\n",
      "[LightGBM] [Warning] Accuracy may be bad since you didn't explicitly set num_leaves OR 2^max_depth > num_leaves. (num_leaves=31).\n",
      "[LightGBM] [Warning] Accuracy may be bad since you didn't explicitly set num_leaves OR 2^max_depth > num_leaves. (num_leaves=31).\n",
      "[LightGBM] [Warning] Accuracy may be bad since you didn't explicitly set num_leaves OR 2^max_depth > num_leaves. (num_leaves=31).\n",
      "[LightGBM] [Warning] Accuracy may be bad since you didn't explicitly set num_leaves OR 2^max_depth > num_leaves. (num_leaves=31).\n",
      "[LightGBM] [Warning] Accuracy may be bad since you didn't explicitly set num_leaves OR 2^max_depth > num_leaves. (num_leaves=31).\n",
      "[LightGBM] [Warning] Accuracy may be bad since you didn't explicitly set num_leaves OR 2^max_depth > num_leaves. (num_leaves=31).\n",
      "[LightGBM] [Warning] Accuracy may be bad since you didn't explicitly set num_leaves OR 2^max_depth > num_leaves. (num_leaves=31).\n",
      "[LightGBM] [Warning] Accuracy may be bad since you didn't explicitly set num_leaves OR 2^max_depth > num_leaves. (num_leaves=31).\n",
      "[LightGBM] [Warning] Accuracy may be bad since you didn't explicitly set num_leaves OR 2^max_depth > num_leaves. (num_leaves=31).\n",
      "[LightGBM] [Warning] Accuracy may be bad since you didn't explicitly set num_leaves OR 2^max_depth > num_leaves. (num_leaves=31).\n",
      "[LightGBM] [Warning] Accuracy may be bad since you didn't explicitly set num_leaves OR 2^max_depth > num_leaves. (num_leaves=31).\n",
      "[LightGBM] [Warning] Accuracy may be bad since you didn't explicitly set num_leaves OR 2^max_depth > num_leaves. (num_leaves=31).\n",
      "[LightGBM] [Warning] Accuracy may be bad since you didn't explicitly set num_leaves OR 2^max_depth > num_leaves. (num_leaves=31).\n",
      "[LightGBM] [Warning] Accuracy may be bad since you didn't explicitly set num_leaves OR 2^max_depth > num_leaves. (num_leaves=31).\n",
      "[LightGBM] [Warning] Accuracy may be bad since you didn't explicitly set num_leaves OR 2^max_depth > num_leaves. (num_leaves=31).\n",
      "[LightGBM] [Warning] Accuracy may be bad since you didn't explicitly set num_leaves OR 2^max_depth > num_leaves. (num_leaves=31).\n",
      "[LightGBM] [Warning] Accuracy may be bad since you didn't explicitly set num_leaves OR 2^max_depth > num_leaves. (num_leaves=31).\n",
      "[LightGBM] [Warning] Accuracy may be bad since you didn't explicitly set num_leaves OR 2^max_depth > num_leaves. (num_leaves=31).\n",
      "[LightGBM] [Warning] Accuracy may be bad since you didn't explicitly set num_leaves OR 2^max_depth > num_leaves. (num_leaves=31).\n",
      "[LightGBM] [Warning] Accuracy may be bad since you didn't explicitly set num_leaves OR 2^max_depth > num_leaves. (num_leaves=31).\n",
      "[LightGBM] [Warning] Accuracy may be bad since you didn't explicitly set num_leaves OR 2^max_depth > num_leaves. (num_leaves=31).\n",
      "[LightGBM] [Warning] Accuracy may be bad since you didn't explicitly set num_leaves OR 2^max_depth > num_leaves. (num_leaves=31).\n",
      "[LightGBM] [Warning] Accuracy may be bad since you didn't explicitly set num_leaves OR 2^max_depth > num_leaves. (num_leaves=31).\n",
      "[LightGBM] [Warning] Accuracy may be bad since you didn't explicitly set num_leaves OR 2^max_depth > num_leaves. (num_leaves=31).\n",
      "[LightGBM] [Warning] Accuracy may be bad since you didn't explicitly set num_leaves OR 2^max_depth > num_leaves. (num_leaves=31).\n",
      "[LightGBM] [Warning] Accuracy may be bad since you didn't explicitly set num_leaves OR 2^max_depth > num_leaves. (num_leaves=31).\n",
      "[LightGBM] [Warning] Accuracy may be bad since you didn't explicitly set num_leaves OR 2^max_depth > num_leaves. (num_leaves=31).\n"
     ]
    },
    {
     "name": "stdout",
     "output_type": "stream",
     "text": [
      "[LightGBM] [Warning] Accuracy may be bad since you didn't explicitly set num_leaves OR 2^max_depth > num_leaves. (num_leaves=31).\n",
      "[LightGBM] [Warning] Accuracy may be bad since you didn't explicitly set num_leaves OR 2^max_depth > num_leaves. (num_leaves=31).\n",
      "[LightGBM] [Warning] Accuracy may be bad since you didn't explicitly set num_leaves OR 2^max_depth > num_leaves. (num_leaves=31).\n",
      "[LightGBM] [Warning] Accuracy may be bad since you didn't explicitly set num_leaves OR 2^max_depth > num_leaves. (num_leaves=31).\n",
      "[LightGBM] [Warning] Accuracy may be bad since you didn't explicitly set num_leaves OR 2^max_depth > num_leaves. (num_leaves=31).\n",
      "[LightGBM] [Warning] Accuracy may be bad since you didn't explicitly set num_leaves OR 2^max_depth > num_leaves. (num_leaves=31).\n",
      "[LightGBM] [Warning] Accuracy may be bad since you didn't explicitly set num_leaves OR 2^max_depth > num_leaves. (num_leaves=31).\n",
      "[LightGBM] [Warning] Accuracy may be bad since you didn't explicitly set num_leaves OR 2^max_depth > num_leaves. (num_leaves=31).\n",
      "[LightGBM] [Warning] Accuracy may be bad since you didn't explicitly set num_leaves OR 2^max_depth > num_leaves. (num_leaves=31).\n",
      "[LightGBM] [Warning] Accuracy may be bad since you didn't explicitly set num_leaves OR 2^max_depth > num_leaves. (num_leaves=31).\n",
      "[LightGBM] [Warning] Accuracy may be bad since you didn't explicitly set num_leaves OR 2^max_depth > num_leaves. (num_leaves=31).\n",
      "[LightGBM] [Warning] Accuracy may be bad since you didn't explicitly set num_leaves OR 2^max_depth > num_leaves. (num_leaves=31).\n",
      "[LightGBM] [Warning] Accuracy may be bad since you didn't explicitly set num_leaves OR 2^max_depth > num_leaves. (num_leaves=31).\n",
      "[LightGBM] [Warning] Accuracy may be bad since you didn't explicitly set num_leaves OR 2^max_depth > num_leaves. (num_leaves=31).\n",
      "[LightGBM] [Warning] Accuracy may be bad since you didn't explicitly set num_leaves OR 2^max_depth > num_leaves. (num_leaves=31).\n",
      "[LightGBM] [Warning] Accuracy may be bad since you didn't explicitly set num_leaves OR 2^max_depth > num_leaves. (num_leaves=31).\n",
      "[LightGBM] [Warning] Accuracy may be bad since you didn't explicitly set num_leaves OR 2^max_depth > num_leaves. (num_leaves=31).\n",
      "[LightGBM] [Warning] Accuracy may be bad since you didn't explicitly set num_leaves OR 2^max_depth > num_leaves. (num_leaves=31).\n",
      "[LightGBM] [Warning] Accuracy may be bad since you didn't explicitly set num_leaves OR 2^max_depth > num_leaves. (num_leaves=31).\n",
      "[LightGBM] [Warning] Accuracy may be bad since you didn't explicitly set num_leaves OR 2^max_depth > num_leaves. (num_leaves=31).\n",
      "[LightGBM] [Warning] Accuracy may be bad since you didn't explicitly set num_leaves OR 2^max_depth > num_leaves. (num_leaves=31).\n",
      "[LightGBM] [Warning] Accuracy may be bad since you didn't explicitly set num_leaves OR 2^max_depth > num_leaves. (num_leaves=31).\n",
      "[LightGBM] [Warning] Accuracy may be bad since you didn't explicitly set num_leaves OR 2^max_depth > num_leaves. (num_leaves=31).\n",
      "[LightGBM] [Warning] Accuracy may be bad since you didn't explicitly set num_leaves OR 2^max_depth > num_leaves. (num_leaves=31).\n",
      "[LightGBM] [Warning] Accuracy may be bad since you didn't explicitly set num_leaves OR 2^max_depth > num_leaves. (num_leaves=31).\n",
      "[LightGBM] [Warning] Accuracy may be bad since you didn't explicitly set num_leaves OR 2^max_depth > num_leaves. (num_leaves=31).\n",
      "[LightGBM] [Warning] Accuracy may be bad since you didn't explicitly set num_leaves OR 2^max_depth > num_leaves. (num_leaves=31).\n",
      "[LightGBM] [Warning] Accuracy may be bad since you didn't explicitly set num_leaves OR 2^max_depth > num_leaves. (num_leaves=31).\n",
      "[LightGBM] [Warning] Accuracy may be bad since you didn't explicitly set num_leaves OR 2^max_depth > num_leaves. (num_leaves=31).\n",
      "[LightGBM] [Warning] Accuracy may be bad since you didn't explicitly set num_leaves OR 2^max_depth > num_leaves. (num_leaves=31).\n",
      "[LightGBM] [Warning] Accuracy may be bad since you didn't explicitly set num_leaves OR 2^max_depth > num_leaves. (num_leaves=31).\n",
      "[LightGBM] [Warning] Accuracy may be bad since you didn't explicitly set num_leaves OR 2^max_depth > num_leaves. (num_leaves=31).\n",
      "[LightGBM] [Warning] Accuracy may be bad since you didn't explicitly set num_leaves OR 2^max_depth > num_leaves. (num_leaves=31).\n",
      "[LightGBM] [Warning] Accuracy may be bad since you didn't explicitly set num_leaves OR 2^max_depth > num_leaves. (num_leaves=31).\n",
      "[LightGBM] [Warning] Accuracy may be bad since you didn't explicitly set num_leaves OR 2^max_depth > num_leaves. (num_leaves=31).\n",
      "[LightGBM] [Warning] Accuracy may be bad since you didn't explicitly set num_leaves OR 2^max_depth > num_leaves. (num_leaves=31).\n",
      "[LightGBM] [Warning] Accuracy may be bad since you didn't explicitly set num_leaves OR 2^max_depth > num_leaves. (num_leaves=31).\n",
      "[LightGBM] [Warning] Accuracy may be bad since you didn't explicitly set num_leaves OR 2^max_depth > num_leaves. (num_leaves=31).\n",
      "[LightGBM] [Warning] Accuracy may be bad since you didn't explicitly set num_leaves OR 2^max_depth > num_leaves. (num_leaves=31).\n",
      "[LightGBM] [Warning] Accuracy may be bad since you didn't explicitly set num_leaves OR 2^max_depth > num_leaves. (num_leaves=31).\n",
      "[LightGBM] [Warning] Accuracy may be bad since you didn't explicitly set num_leaves OR 2^max_depth > num_leaves. (num_leaves=31).\n",
      "[LightGBM] [Warning] Accuracy may be bad since you didn't explicitly set num_leaves OR 2^max_depth > num_leaves. (num_leaves=31).\n",
      "[LightGBM] [Warning] Accuracy may be bad since you didn't explicitly set num_leaves OR 2^max_depth > num_leaves. (num_leaves=31).\n",
      "[LightGBM] [Warning] Accuracy may be bad since you didn't explicitly set num_leaves OR 2^max_depth > num_leaves. (num_leaves=31).\n",
      "[LightGBM] [Warning] Accuracy may be bad since you didn't explicitly set num_leaves OR 2^max_depth > num_leaves. (num_leaves=31).\n",
      "Лучшие параметры: {'learning_rate': 0.1, 'max_depth': 7, 'n_estimators': 100}\n"
     ]
    }
   ],
   "source": [
    "# Создание объекта GridSearchCV\n",
    "grid_search = GridSearchCV(estimator=lgb_model, \n",
    "                           param_grid=param_grid, \n",
    "                           cv=3, \n",
    "                           scoring='f1', \n",
    "                           verbose=0\n",
    "                          )\n",
    "\n",
    "# Обучение на тренировочных данных\n",
    "grid_search.fit(X_train_gbm, y_train)\n",
    "\n",
    "# Вывод лучших параметров\n",
    "print(\"Лучшие параметры:\", grid_search.best_params_)\n",
    "\n",
    "# Лучшие гиперпараметры\n",
    "best_lgb_parameters = grid_search.best_params_"
   ]
  },
  {
   "cell_type": "markdown",
   "id": "570ca737",
   "metadata": {},
   "source": [
    "#Лучшие параметры: {'learning_rate': 0.1, 'max_depth': 7, 'n_estimators': 100}"
   ]
  },
  {
   "cell_type": "code",
   "execution_count": 58,
   "id": "8d4ba29b",
   "metadata": {
    "scrolled": false
   },
   "outputs": [
    {
     "name": "stderr",
     "output_type": "stream",
     "text": [
      "/Users/maksimgorskov/opt/anaconda3/lib/python3.9/site-packages/lightgbm/engine.py:151: UserWarning: Found `n_estimators` in params. Will use it instead of argument\n",
      "  warnings.warn(\"Found `{}` in params. Will use it instead of argument\".format(alias))\n",
      "/Users/maksimgorskov/opt/anaconda3/lib/python3.9/site-packages/lightgbm/basic.py:1551: UserWarning: Using categorical_feature in Dataset.\n",
      "  warnings.warn('Using categorical_feature in Dataset.')\n"
     ]
    },
    {
     "name": "stdout",
     "output_type": "stream",
     "text": [
      "[LightGBM] [Warning] Accuracy may be bad since you didn't explicitly set num_leaves OR 2^max_depth > num_leaves. (num_leaves=31).\n",
      "[LightGBM] [Warning] Auto-choosing row-wise multi-threading, the overhead of testing was 0.002838 seconds.\n",
      "You can set `force_row_wise=true` to remove the overhead.\n",
      "And if memory is not enough, you can set `force_col_wise=true`.\n",
      "[LightGBM] [Info] Total Bins 287\n",
      "[LightGBM] [Info] Number of data points in the train set: 39343, number of used features: 18\n",
      "[LightGBM] [Info] Start training from score 0.502987\n",
      "[LightGBM] [Warning] No further splits with positive gain, best gain: -inf\n",
      "[LightGBM] [Warning] No further splits with positive gain, best gain: -inf\n",
      "[LightGBM] [Warning] No further splits with positive gain, best gain: -inf\n"
     ]
    }
   ],
   "source": [
    "#Обучение модели на лучших гиперпарасетрах.\n",
    "train_data = lgb.Dataset ( X_train_gbm , label = y_train,\n",
    "                           categorical_feature = cat_features\n",
    "                           )\n",
    "\n",
    "num_round = 10000\n",
    "lgb_model = lgb.train(best_lgb_parameters, train_data, num_round)"
   ]
  },
  {
   "cell_type": "markdown",
   "id": "e8b31f14",
   "metadata": {},
   "source": [
    "Предсказания в данном случае выводят вероятности исхода 1 или 0. Для корректного решения задачи классификации указывается пороговое значение 0.5."
   ]
  },
  {
   "cell_type": "code",
   "execution_count": 59,
   "id": "50e5e1ed",
   "metadata": {},
   "outputs": [],
   "source": [
    "ypred = lgb_model.predict(X_valid_gbm)\n",
    "\n",
    "#Введение порогового значения\n",
    "threshold = 0.5\n",
    "y_pred_binary = (ypred > threshold).astype(int)\n",
    "f1 = f1_score(y_valid, y_pred_binary)"
   ]
  },
  {
   "cell_type": "code",
   "execution_count": 60,
   "id": "ce1ad515",
   "metadata": {},
   "outputs": [
    {
     "name": "stdout",
     "output_type": "stream",
     "text": [
      "Метрика F1 для модели LightGBM равна 0.668436495738438\n"
     ]
    }
   ],
   "source": [
    "print(f'Метрика F1 для модели LightGBM равна {f1}')"
   ]
  },
  {
   "cell_type": "code",
   "execution_count": 61,
   "id": "f815441f",
   "metadata": {},
   "outputs": [
    {
     "name": "stderr",
     "output_type": "stream",
     "text": [
      "/var/folders/th/9xw9c71j3d34kscxr4b5q7m80000gn/T/ipykernel_65650/2598804997.py:4: FutureWarning: The frame.append method is deprecated and will be removed from pandas in a future version. Use pandas.concat instead.\n",
      "  result_data = result_data.append(data_append, ignore_index=True)\n"
     ]
    },
    {
     "data": {
      "text/html": [
       "<div>\n",
       "<style scoped>\n",
       "    .dataframe tbody tr th:only-of-type {\n",
       "        vertical-align: middle;\n",
       "    }\n",
       "\n",
       "    .dataframe tbody tr th {\n",
       "        vertical-align: top;\n",
       "    }\n",
       "\n",
       "    .dataframe thead th {\n",
       "        text-align: right;\n",
       "    }\n",
       "</style>\n",
       "<table border=\"1\" class=\"dataframe\">\n",
       "  <thead>\n",
       "    <tr style=\"text-align: right;\">\n",
       "      <th></th>\n",
       "      <th>ML model</th>\n",
       "      <th>Description</th>\n",
       "      <th>F1_score</th>\n",
       "      <th>hiper parameters</th>\n",
       "    </tr>\n",
       "  </thead>\n",
       "  <tbody>\n",
       "    <tr>\n",
       "      <th>0</th>\n",
       "      <td>CatBoost</td>\n",
       "      <td>NaN</td>\n",
       "      <td>0.670624</td>\n",
       "      <td>CrossValidation &amp; Greed search</td>\n",
       "    </tr>\n",
       "    <tr>\n",
       "      <th>1</th>\n",
       "      <td>CatBoost</td>\n",
       "      <td>CrossValidation &amp; Greed search</td>\n",
       "      <td>0.670624</td>\n",
       "      <td>NaN</td>\n",
       "    </tr>\n",
       "    <tr>\n",
       "      <th>2</th>\n",
       "      <td>LightGBM</td>\n",
       "      <td>-</td>\n",
       "      <td>0.668436</td>\n",
       "      <td>NaN</td>\n",
       "    </tr>\n",
       "  </tbody>\n",
       "</table>\n",
       "</div>"
      ],
      "text/plain": [
       "   ML model                     Description  F1_score  \\\n",
       "0  CatBoost                             NaN  0.670624   \n",
       "1  CatBoost  CrossValidation & Greed search  0.670624   \n",
       "2  LightGBM                               -  0.668436   \n",
       "\n",
       "                 hiper parameters  \n",
       "0  CrossValidation & Greed search  \n",
       "1                             NaN  \n",
       "2                             NaN  "
      ]
     },
     "execution_count": 61,
     "metadata": {},
     "output_type": "execute_result"
    }
   ],
   "source": [
    "data_append= {'ML model' : 'LightGBM',\n",
    "              'Description' : '-',\n",
    "              'F1_score' : f1}\n",
    "result_data = result_data.append(data_append, ignore_index=True)\n",
    "result_data"
   ]
  },
  {
   "cell_type": "markdown",
   "id": "4b7df634",
   "metadata": {},
   "source": [
    "## Построение нейронной сети. "
   ]
  },
  {
   "cell_type": "markdown",
   "id": "327822b0",
   "metadata": {},
   "source": [
    "### Кодирование данных. OHE & StandardScaler. Pipeline"
   ]
  },
  {
   "cell_type": "code",
   "execution_count": 62,
   "id": "58e50bd2",
   "metadata": {
    "scrolled": true
   },
   "outputs": [
    {
     "name": "stdout",
     "output_type": "stream",
     "text": [
      "Список числовых признаков: ['insurance_premium', 'cellphone_in_use', 'party_count', 'col_month', 'day_of_week', 'hour', 'vehicle_age']\n",
      "\n",
      "Список категориальных признаков: ['party_sobriety', 'party_drug_physical', 'county_location', 'direction', 'weather_1', 'type_of_collision', 'motor_vehicle_involved_with', 'road_surface', 'road_condition_1', 'lighting', 'control_device']\n"
     ]
    }
   ],
   "source": [
    "#Выделение количественных признаков.\n",
    "NUMERIC_COLUMNS = X_train.select_dtypes(include = ['int', 'float']).columns.tolist()\n",
    "\n",
    "#Выделение категориальных признаков. \n",
    "CAT_COLUMNNS = X_train.select_dtypes(include = 'object').columns.tolist()\n",
    "print(f'Список числовых признаков: {NUMERIC_COLUMNS}')\n",
    "print()\n",
    "print(f'Список категориальных признаков: {CAT_COLUMNNS}')"
   ]
  },
  {
   "cell_type": "code",
   "execution_count": 63,
   "id": "a757fe49",
   "metadata": {},
   "outputs": [],
   "source": [
    "#Cоздание трансформера для числовых столбцов\n",
    "numeric_transformer = Pipeline(steps=[\n",
    "    ('scaler', StandardScaler())]) #StandardScaler()\n",
    "\n",
    "#Cоздание трансформера для категориальных столбцов\n",
    "categorical_transformer = Pipeline(steps=[\n",
    "    ('onehot', OneHotEncoder(handle_unknown='error', drop='first'))])"
   ]
  },
  {
   "cell_type": "code",
   "execution_count": 64,
   "id": "3969de43",
   "metadata": {},
   "outputs": [],
   "source": [
    "#создание общего трансформера\n",
    "preprocessor = ColumnTransformer(\n",
    "    transformers=[\n",
    "        ('num', numeric_transformer, NUMERIC_COLUMNS),\n",
    "        ('cat', categorical_transformer, CAT_COLUMNNS)],\n",
    "        remainder='passthrough'\n",
    ")\n",
    "\n",
    "#создание полного пайплайна\n",
    "pipeline = Pipeline(steps=[('preprocessor', preprocessor)])\n",
    "\n",
    "#применение пайплайна\n",
    "X_train_transformed = pipeline.fit_transform(X_train)\n",
    "X_valid_transformed = pipeline.transform(X_valid)"
   ]
  },
  {
   "cell_type": "code",
   "execution_count": 65,
   "id": "145f2819",
   "metadata": {
    "scrolled": true
   },
   "outputs": [
    {
     "name": "stderr",
     "output_type": "stream",
     "text": [
      "/Users/maksimgorskov/opt/anaconda3/lib/python3.9/site-packages/sklearn/utils/deprecation.py:87: FutureWarning: Function get_feature_names is deprecated; get_feature_names is deprecated in 1.0 and will be removed in 1.2. Please use get_feature_names_out instead.\n",
      "  warnings.warn(msg, category=FutureWarning)\n"
     ]
    }
   ],
   "source": [
    "#преобразование разреженной матрицы, выходящей из пайплайна, в датафрейм\n",
    "\n",
    "onehot = pipeline.named_steps['preprocessor'].named_transformers_['cat'].named_steps['onehot']\n",
    "\n",
    "categorical_features = onehot.get_feature_names(CAT_COLUMNNS)\n",
    "all_features = np.concatenate([NUMERIC_COLUMNS, categorical_features]).tolist()\n",
    "\n",
    "#Преобразования разреженной матрицы (sparse matrix) в плотный массив (dense array) методом toarray().\n",
    "X_train_transformed_df = pd.DataFrame(X_train_transformed.toarray(), columns = all_features)\n",
    "X_valid_transformed_df = pd.DataFrame(X_valid_transformed.toarray(), columns = all_features)"
   ]
  },
  {
   "cell_type": "markdown",
   "id": "a67df20b",
   "metadata": {},
   "source": [
    "### Создание архитектуры нейронной сети."
   ]
  },
  {
   "cell_type": "code",
   "execution_count": 66,
   "id": "6a5e0e8b",
   "metadata": {},
   "outputs": [],
   "source": [
    "class NeuralNet (nn.Module):\n",
    "    def __init__ (self,\n",
    "                    n_in_neurons,\n",
    "                    n_hidden_neurons_1,\n",
    "                    n_hidden_neurons_2,\n",
    "                    n_hidden_neurons_3,\n",
    "                    out_neurons, p):\n",
    "    \n",
    "        super(NeuralNet, self).__init__()\n",
    "\n",
    "        #Создание полносвязного графа\n",
    "        self.fc1 = nn.Linear(n_in_neurons, n_hidden_neurons_1)\n",
    "        self.fc2 = nn.Linear(n_hidden_neurons_1, n_hidden_neurons_2)\n",
    "        self.fc3 = nn.Linear(n_hidden_neurons_2, n_hidden_neurons_3)\n",
    "        self.fc = nn.Linear(n_hidden_neurons_3, out_neurons)\n",
    "\n",
    "        #Создание функции активации\n",
    "        self.act1 = nn.ReLU()\n",
    "        self.act2 = nn.SiLU()\n",
    "        self.act3 = nn.Sigmoid()\n",
    "\n",
    "        #формула для расчета стандартного отклонения \n",
    "        #std = (2/(n+(n+1)))**0.5, где n - кол-во нейронов в 1 слое\n",
    "\n",
    "        #Инициализация весов и отступов\n",
    "        std1 = (2/(n_in_neurons + n_hidden_neurons_1))**0.5\n",
    "        nn.init.normal_(self.fc1.weight, mean=0, std=std1)\n",
    "        nn.init.normal_(self.fc1.bias, mean=0, std=std1)\n",
    "\n",
    "        std2 = (2/(n_hidden_neurons_1 + n_hidden_neurons_2))**0.5\n",
    "        nn.init.normal_(self.fc2.weight, mean=0, std=std2)\n",
    "        nn.init.normal_(self.fc2.bias, mean=0, std=std2)\n",
    "\n",
    "        std3 = (2/(n_hidden_neurons_2 + n_hidden_neurons_3))**0.5\n",
    "        nn.init.normal_(self.fc3.weight, mean=0, std=std3)\n",
    "        nn.init.normal_(self.fc3.bias, mean=0, std=std3)\n",
    "\n",
    "\n",
    "        #Введение dropout\n",
    "        self.dp1 = nn.Dropout(p=p)\n",
    "        self.dp2 = nn.Dropout(p=p)\n",
    "        self.dp3 = nn.Dropout(p=p)\n",
    "\n",
    "\n",
    "    def forward(self, x):\n",
    "        out = self.fc1(x)\n",
    "        out = self.act1(out)\n",
    "        out = self.dp1(out)\n",
    "\n",
    "        out = self.fc2(out)\n",
    "        out = self.act2(out)\n",
    "        out = self.dp2(out)\n",
    "\n",
    "        out = self.fc3(out)\n",
    "        out = self.act3(out)\n",
    "        out = self.dp3(out)\n",
    "\n",
    "        out = self.fc(out)\n",
    "\n",
    "        return out"
   ]
  },
  {
   "cell_type": "code",
   "execution_count": 67,
   "id": "8e4590e5",
   "metadata": {},
   "outputs": [],
   "source": [
    "#Перевод данных в тензор.\n",
    "X_train_nn = torch.FloatTensor(X_train_transformed_df.values)\n",
    "X_valid_nn = torch.FloatTensor(X_valid_transformed_df.values)\n",
    "y_train_nn = torch.FloatTensor(y_train.values)\n",
    "y_valid_nn = torch.FloatTensor(y_valid.values)"
   ]
  },
  {
   "cell_type": "code",
   "execution_count": 68,
   "id": "37af41c1",
   "metadata": {},
   "outputs": [],
   "source": [
    "#Задание количества нейронов в слоях нейронной сети.\n",
    "n_in_neurons = X_train_nn.shape[1]\n",
    "n_hidden_neurons_1 = 140\n",
    "n_hidden_neurons_2 = 60\n",
    "n_hidden_neurons_3 =20\n",
    "n_out_neurons = 1\n"
   ]
  },
  {
   "cell_type": "code",
   "execution_count": 69,
   "id": "6018a0c5",
   "metadata": {},
   "outputs": [],
   "source": [
    "#Заданеи слоев для нейронной сети \n",
    "net_layers = [n_in_neurons, \n",
    "              n_hidden_neurons_1, \n",
    "              n_hidden_neurons_2, \n",
    "              n_hidden_neurons_3,  \n",
    "              n_out_neurons] \n",
    "\n",
    "#количество эпох обучения нейронки\n",
    "num_epoch =10000\n",
    "\n",
    "#скорость обучения\n",
    "learning_rate = 0.001\n",
    "\n",
    "#random_state для train_test_split\n",
    "rand_st = 42"
   ]
  },
  {
   "cell_type": "code",
   "execution_count": 70,
   "id": "12990659",
   "metadata": {},
   "outputs": [],
   "source": [
    "#Фиксация значений у рандомайзеров для вопроизводимости результатов\n",
    "random.seed(rand_st)\n",
    "np.random.seed(rand_st)\n",
    "torch.manual_seed(rand_st)\n",
    "torch.use_deterministic_algorithms(True)\n",
    "\n",
    "net = NeuralNet(*net_layers, 0.1) #Base Line строится без Dropout\n",
    "optimizer = torch.optim.Adam(net.parameters(), lr=learning_rate)\n",
    "loss_function = nn.BCEWithLogitsLoss()\n",
    "\n",
    "best_f1 = 0\n",
    "\n",
    "patience = 10  #количество эпох без улучшений после которых обучение будет остановлено\n",
    "patience_counter = 0"
   ]
  },
  {
   "cell_type": "code",
   "execution_count": 71,
   "id": "36d30556",
   "metadata": {
    "scrolled": false
   },
   "outputs": [
    {
     "name": "stdout",
     "output_type": "stream",
     "text": [
      "F1 Score for 500 epoch: 0.000\n",
      "Early stopping\n",
      "Best F1 Score: 0.625\n"
     ]
    }
   ],
   "source": [
    "for epoch in range(num_epoch):\n",
    "    net.train()\n",
    "    optimizer.zero_grad() #Обнуление градиентов\n",
    "    \n",
    "    predictions_train = net.forward(X_train_nn).flatten()\n",
    "    binary_predictions_train = (predictions_train >= 0.5).int()\n",
    "    \n",
    "    loss_value = loss_function(predictions_train, y_train_nn)\n",
    "    loss_value.backward()\n",
    "    \n",
    "    optimizer.step()\n",
    "    \n",
    "    if epoch%10 == 0:\n",
    "        with torch.no_grad():\n",
    "        \n",
    "            net.eval()\n",
    "            predictions_val = net.forward(X_valid_nn).flatten()\n",
    "            binary_predictions_val = (predictions_val >= 0.5).int()\n",
    "            \n",
    "            f1 = f1_score(y_valid, binary_predictions_val)\n",
    "\n",
    "            if epoch%500 == 0:\n",
    "                print(f'F1 Score for {epoch + 500} epoch: {f1:.3f}')\n",
    "            \n",
    "            if f1 > best_f1:\n",
    "                best_f1 = f1\n",
    "                best_model = copy.deepcopy(net.state_dict())\n",
    "                patience_counter = 0\n",
    "            else:\n",
    "                patience_counter += 1\n",
    "\n",
    "            if patience_counter >= patience:\n",
    "                print(\"Early stopping\")\n",
    "                break\n",
    "        \n",
    "# Восстанавливаем лучшую модель\n",
    "net.load_state_dict(best_model)\n",
    "net.eval()\n",
    "predictions_val = net.forward(X_valid_nn).flatten()\n",
    "binary_predictions_val = (predictions_val >= 0.5).int()\n",
    "f1 = f1_score(y_valid_nn, binary_predictions_val)\n",
    "print(f'Best F1 Score: {f1:.3f}')"
   ]
  },
  {
   "cell_type": "code",
   "execution_count": 72,
   "id": "33f05562",
   "metadata": {},
   "outputs": [
    {
     "name": "stderr",
     "output_type": "stream",
     "text": [
      "/var/folders/th/9xw9c71j3d34kscxr4b5q7m80000gn/T/ipykernel_65650/299073675.py:4: FutureWarning: The frame.append method is deprecated and will be removed from pandas in a future version. Use pandas.concat instead.\n",
      "  result_data = result_data.append(data_append, ignore_index=True)\n"
     ]
    },
    {
     "data": {
      "text/html": [
       "<div>\n",
       "<style scoped>\n",
       "    .dataframe tbody tr th:only-of-type {\n",
       "        vertical-align: middle;\n",
       "    }\n",
       "\n",
       "    .dataframe tbody tr th {\n",
       "        vertical-align: top;\n",
       "    }\n",
       "\n",
       "    .dataframe thead th {\n",
       "        text-align: right;\n",
       "    }\n",
       "</style>\n",
       "<table border=\"1\" class=\"dataframe\">\n",
       "  <thead>\n",
       "    <tr style=\"text-align: right;\">\n",
       "      <th></th>\n",
       "      <th>ML model</th>\n",
       "      <th>Description</th>\n",
       "      <th>F1_score</th>\n",
       "      <th>hiper parameters</th>\n",
       "    </tr>\n",
       "  </thead>\n",
       "  <tbody>\n",
       "    <tr>\n",
       "      <th>0</th>\n",
       "      <td>CatBoost</td>\n",
       "      <td>NaN</td>\n",
       "      <td>0.670624</td>\n",
       "      <td>CrossValidation &amp; Greed search</td>\n",
       "    </tr>\n",
       "    <tr>\n",
       "      <th>1</th>\n",
       "      <td>CatBoost</td>\n",
       "      <td>CrossValidation &amp; Greed search</td>\n",
       "      <td>0.670624</td>\n",
       "      <td>NaN</td>\n",
       "    </tr>\n",
       "    <tr>\n",
       "      <th>2</th>\n",
       "      <td>LightGBM</td>\n",
       "      <td>-</td>\n",
       "      <td>0.668436</td>\n",
       "      <td>NaN</td>\n",
       "    </tr>\n",
       "    <tr>\n",
       "      <th>3</th>\n",
       "      <td>NeuralNet</td>\n",
       "      <td>-</td>\n",
       "      <td>0.624694</td>\n",
       "      <td>NaN</td>\n",
       "    </tr>\n",
       "  </tbody>\n",
       "</table>\n",
       "</div>"
      ],
      "text/plain": [
       "    ML model                     Description  F1_score  \\\n",
       "0   CatBoost                             NaN  0.670624   \n",
       "1   CatBoost  CrossValidation & Greed search  0.670624   \n",
       "2   LightGBM                               -  0.668436   \n",
       "3  NeuralNet                               -  0.624694   \n",
       "\n",
       "                 hiper parameters  \n",
       "0  CrossValidation & Greed search  \n",
       "1                             NaN  \n",
       "2                             NaN  \n",
       "3                             NaN  "
      ]
     },
     "execution_count": 72,
     "metadata": {},
     "output_type": "execute_result"
    }
   ],
   "source": [
    "data_append= {'ML model' : 'NeuralNet',\n",
    "              'Description'   : '-',\n",
    "              'F1_score' : f1}\n",
    "result_data = result_data.append(data_append, ignore_index=True)\n",
    "result_data"
   ]
  },
  {
   "cell_type": "markdown",
   "id": "75010d87",
   "metadata": {},
   "source": [
    "**Вывод по результатам работы моделей ML.**\n",
    "\n",
    "Модели предсказывают результат приблизительно одинаково, что может указывать на вцелом правильную работу каждой из моделей.\n",
    "\n",
    "Лучшим образом показала себя модель CatBoost."
   ]
  },
  {
   "cell_type": "markdown",
   "id": "28c76356",
   "metadata": {},
   "source": [
    "# Проверка работы лучшей модели. "
   ]
  },
  {
   "cell_type": "markdown",
   "id": "bb7a048d",
   "metadata": {},
   "source": [
    "## Предсказание на тестовой выборке."
   ]
  },
  {
   "cell_type": "markdown",
   "id": "c10472bd",
   "metadata": {},
   "source": [
    "Для обученной модели производится предсказание на тестовой выборке. Идет сравнение с целевым признаком тестовой выборки. Определяется метрика f1."
   ]
  },
  {
   "cell_type": "code",
   "execution_count": 73,
   "id": "9891b3ef",
   "metadata": {},
   "outputs": [
    {
     "name": "stdout",
     "output_type": "stream",
     "text": [
      "F1 Score on Validation Set: 0.6722846441947566\n"
     ]
    }
   ],
   "source": [
    "prediction_cat_1 = cbc.predict(X_test, verbose=None)\n",
    "\n",
    "# Получение результатов метрики F1 на валидационном наборе\n",
    "f1 = f1_score(y_test, prediction_cat_1)\n",
    "\n",
    "print(f'F1 Score on Validation Set: {f1}')\n"
   ]
  },
  {
   "cell_type": "markdown",
   "id": "d47b3782",
   "metadata": {},
   "source": [
    "Метрика f1 схожа с той, что получилась при обучении на тестовой выборке. Это говорит о правильности ее работы."
   ]
  },
  {
   "cell_type": "code",
   "execution_count": 74,
   "id": "d14feaa4",
   "metadata": {},
   "outputs": [
    {
     "name": "stderr",
     "output_type": "stream",
     "text": [
      "/var/folders/th/9xw9c71j3d34kscxr4b5q7m80000gn/T/ipykernel_65650/726221631.py:4: FutureWarning: The frame.append method is deprecated and will be removed from pandas in a future version. Use pandas.concat instead.\n",
      "  result_data = result_data.append(data_append, ignore_index=True)\n"
     ]
    },
    {
     "data": {
      "text/html": [
       "<div>\n",
       "<style scoped>\n",
       "    .dataframe tbody tr th:only-of-type {\n",
       "        vertical-align: middle;\n",
       "    }\n",
       "\n",
       "    .dataframe tbody tr th {\n",
       "        vertical-align: top;\n",
       "    }\n",
       "\n",
       "    .dataframe thead th {\n",
       "        text-align: right;\n",
       "    }\n",
       "</style>\n",
       "<table border=\"1\" class=\"dataframe\">\n",
       "  <thead>\n",
       "    <tr style=\"text-align: right;\">\n",
       "      <th></th>\n",
       "      <th>ML model</th>\n",
       "      <th>Description</th>\n",
       "      <th>F1_score</th>\n",
       "      <th>hiper parameters</th>\n",
       "    </tr>\n",
       "  </thead>\n",
       "  <tbody>\n",
       "    <tr>\n",
       "      <th>0</th>\n",
       "      <td>CatBoost</td>\n",
       "      <td>NaN</td>\n",
       "      <td>0.670624</td>\n",
       "      <td>CrossValidation &amp; Greed search</td>\n",
       "    </tr>\n",
       "    <tr>\n",
       "      <th>1</th>\n",
       "      <td>CatBoost</td>\n",
       "      <td>CrossValidation &amp; Greed search</td>\n",
       "      <td>0.670624</td>\n",
       "      <td>NaN</td>\n",
       "    </tr>\n",
       "    <tr>\n",
       "      <th>2</th>\n",
       "      <td>LightGBM</td>\n",
       "      <td>-</td>\n",
       "      <td>0.668436</td>\n",
       "      <td>NaN</td>\n",
       "    </tr>\n",
       "    <tr>\n",
       "      <th>3</th>\n",
       "      <td>NeuralNet</td>\n",
       "      <td>-</td>\n",
       "      <td>0.624694</td>\n",
       "      <td>NaN</td>\n",
       "    </tr>\n",
       "    <tr>\n",
       "      <th>4</th>\n",
       "      <td>CatBoost</td>\n",
       "      <td>Test_sample</td>\n",
       "      <td>0.672285</td>\n",
       "      <td>NaN</td>\n",
       "    </tr>\n",
       "  </tbody>\n",
       "</table>\n",
       "</div>"
      ],
      "text/plain": [
       "    ML model                     Description  F1_score  \\\n",
       "0   CatBoost                             NaN  0.670624   \n",
       "1   CatBoost  CrossValidation & Greed search  0.670624   \n",
       "2   LightGBM                               -  0.668436   \n",
       "3  NeuralNet                               -  0.624694   \n",
       "4   CatBoost                     Test_sample  0.672285   \n",
       "\n",
       "                 hiper parameters  \n",
       "0  CrossValidation & Greed search  \n",
       "1                             NaN  \n",
       "2                             NaN  \n",
       "3                             NaN  \n",
       "4                             NaN  "
      ]
     },
     "execution_count": 74,
     "metadata": {},
     "output_type": "execute_result"
    }
   ],
   "source": [
    "data_append= {'ML model' : 'CatBoost',\n",
    "              'Description' : 'Test_sample',\n",
    "              'F1_score' : f1}\n",
    "result_data = result_data.append(data_append, ignore_index=True)\n",
    "result_data"
   ]
  },
  {
   "cell_type": "markdown",
   "id": "a77b94cc",
   "metadata": {},
   "source": [
    "## Графический анализ «Матрицы ошибок»."
   ]
  },
  {
   "cell_type": "code",
   "execution_count": 75,
   "id": "5bd7454e",
   "metadata": {
    "scrolled": false
   },
   "outputs": [
    {
     "name": "stdout",
     "output_type": "stream",
     "text": [
      "Confusion matrix, without normalization\n",
      "[[3468  616]\n",
      " [1834 2513]]\n"
     ]
    },
    {
     "data": {
      "image/png": "[encoded data removed]",
      "text/plain": [
       "<Figure size 720x576 with 2 Axes>"
      ]
     },
     "metadata": {
      "needs_background": "light"
     },
     "output_type": "display_data"
    }
   ],
   "source": [
    "#Функция построения матрицы ошибок из документации sklearn\n",
    "\n",
    "def plot_confusion_matrix(cm, classes,\n",
    "                          normalize=False,\n",
    "                          title='Confusion matrix',\n",
    "                          cmap=plt.cm.Blues):\n",
    "    \"\"\"\n",
    "    This function prints and plots the confusion matrix.\n",
    "    Normalization can be applied by setting `normalize=True`.\n",
    "    \"\"\"\n",
    "    plt.imshow(cm, interpolation='nearest', cmap=cmap)\n",
    "    plt.title(title)\n",
    "    plt.colorbar()\n",
    "    tick_marks = np.arange(len(classes))\n",
    "    plt.xticks(tick_marks, classes, rotation=45)\n",
    "    plt.yticks(tick_marks, classes)\n",
    "\n",
    "    if normalize:\n",
    "        cm = cm.astype('float') / cm.sum(axis=1)[:, np.newaxis]\n",
    "        print(\"Normalized confusion matrix\")\n",
    "    else:\n",
    "        print('Confusion matrix, without normalization')\n",
    "\n",
    "    print(cm)\n",
    "\n",
    "    thresh = cm.max() / 2.\n",
    "    for i, j in itertools.product(range(cm.shape[0]), range(cm.shape[1])):\n",
    "        plt.text(j, i, cm[i, j],\n",
    "                 horizontalalignment=\"center\",\n",
    "                 color=\"white\" if cm[i, j] > thresh else \"black\")\n",
    "\n",
    "    plt.tight_layout()\n",
    "    plt.ylabel('True label')\n",
    "    plt.xlabel('Predicted label')\n",
    "\n",
    "font = {'size' : 15}\n",
    "\n",
    "plt.rc('font', **font)\n",
    "\n",
    "cnf_matrix = confusion_matrix(y_test, prediction_cat_1)\n",
    "plt.figure(figsize=(10, 8))\n",
    "plot_confusion_matrix(cnf_matrix, classes=['1', '0'],\n",
    "                      title='Confusion matrix')\n",
    "plt.savefig(\"conf_matrix.png\")\n",
    "plt.show()"
   ]
  },
  {
   "cell_type": "markdown",
   "id": "aa9ef926",
   "metadata": {},
   "source": [
    "- True Positive : 3688\n",
    "- False Positive : 505\n",
    "- False Negative : 1677\n",
    "- True Negative : 2560\n",
    "\n",
    "Из матрицы ошибок видно, что True Positive и True Negative ответы составляют примерно 70% правильных ответов, что соответствует метрике f1.\n"
   ]
  },
  {
   "cell_type": "markdown",
   "id": "e8291342",
   "metadata": {},
   "source": [
    "## Предложение по улучшению работы системы."
   ]
  },
  {
   "cell_type": "markdown",
   "id": "a19fa463",
   "metadata": {},
   "source": [
    "В соответствии с разделом, где описывается какие данные будут входить в датасет для обучения, было выбрано два признака которые могут использоваться для работы системы во время движения авто 'pcf_violation_category' и 'distance'.\n",
    "\n",
    "**Гипотеза:** В данном разделе делается предположение, что оснащение автомобиля камерами и сисетмой отслеживания текущего местоположения может улучшить работу модели.\n",
    "\n",
    "В этом случае признаки 'pcf_violation_category' и 'distance' могут быть учтены в моделе ML.\n",
    "\n",
    "Ниже обучается новая модель CatBoost на всех выбранных признаках."
   ]
  },
  {
   "cell_type": "code",
   "execution_count": 76,
   "id": "fcfe150a",
   "metadata": {},
   "outputs": [],
   "source": [
    "#Определение целевого признака и набора фичей.\n",
    "y = driver_risk['at_fault']\n",
    "X = driver_risk.drop(['at_fault'], axis = 1) \n",
    "\n",
    "#Тренировочная выборка\n",
    "X_train, X_temp, y_train, y_temp = train_test_split(X, y, test_size = 0.3, random_state = 12345) \n",
    "\n",
    "#Тестовая и валидационная выборки.\n",
    "X_valid, X_test, y_valid, y_test = train_test_split(X_temp, y_temp, test_size = 0.5, random_state = 12345)"
   ]
  },
  {
   "cell_type": "code",
   "execution_count": 77,
   "id": "48abc9e0",
   "metadata": {
    "scrolled": true
   },
   "outputs": [
    {
     "data": {
      "text/plain": [
       "['party_sobriety',\n",
       " 'party_drug_physical',\n",
       " 'county_location',\n",
       " 'direction',\n",
       " 'weather_1',\n",
       " 'pcf_violation_category',\n",
       " 'type_of_collision',\n",
       " 'motor_vehicle_involved_with',\n",
       " 'road_surface',\n",
       " 'road_condition_1',\n",
       " 'lighting',\n",
       " 'control_device']"
      ]
     },
     "execution_count": 77,
     "metadata": {},
     "output_type": "execute_result"
    }
   ],
   "source": [
    "#Определение категориальных данных:\n",
    "cat_features = list(X.select_dtypes(include = 'object').columns)\n",
    "cat_features"
   ]
  },
  {
   "cell_type": "code",
   "execution_count": 79,
   "id": "9f4d28e2",
   "metadata": {
    "scrolled": false
   },
   "outputs": [
    {
     "data": {
      "application/vnd.jupyter.widget-view+json": {
       "model_id": "5411b23f0ecf446da057aeacef825353",
       "version_major": 2,
       "version_minor": 0
      },
      "text/plain": [
       "MetricVisualizer(layout=Layout(align_self='stretch', height='500px'))"
      ]
     },
     "metadata": {},
     "output_type": "display_data"
    },
    {
     "name": "stdout",
     "output_type": "stream",
     "text": [
      "CPU times: user 8min 1s, sys: 33.3 s, total: 8min 34s\n",
      "Wall time: 1min 5s\n"
     ]
    },
    {
     "data": {
      "text/plain": [
       "<catboost.core.CatBoostClassifier at 0x7fefce2e9fa0>"
      ]
     },
     "execution_count": 79,
     "metadata": {},
     "output_type": "execute_result"
    }
   ],
   "source": [
    "%%time\n",
    "# Модель обучается на лучших гиперпараметров предыдущей модели CatBoost.\n",
    "rndm = 42\n",
    "cbc_1 = cb.CatBoostClassifier(**best_cbc_parameters,\n",
    "                            random_seed=rndm,\n",
    "                            boosting_type='Ordered',\n",
    "                            eval_metric = 'Logloss',\n",
    "                            custom_metric=['F1']\n",
    "                          )\n",
    "cbc_1.fit(X_train,y_train, \n",
    "        cat_features = cat_features, \n",
    "        verbose=False,\n",
    "        plot=True)"
   ]
  },
  {
   "cell_type": "code",
   "execution_count": 85,
   "id": "2da4d484",
   "metadata": {},
   "outputs": [
    {
     "name": "stdout",
     "output_type": "stream",
     "text": [
      "F1 Score on Validation Set: 0.7018505825908157\n"
     ]
    }
   ],
   "source": [
    "prediction = cbc_1.predict(X_valid, verbose=None)\n",
    "\n",
    "# Получение результатов метрики F1 на валидационном наборе\n",
    "f1 = f1_score(y_valid, prediction)\n",
    "\n",
    "print(f'F1 Score on Validation Set: {f1}')\n"
   ]
  },
  {
   "cell_type": "code",
   "execution_count": 86,
   "id": "43b454ec",
   "metadata": {
    "scrolled": true
   },
   "outputs": [
    {
     "name": "stderr",
     "output_type": "stream",
     "text": [
      "/var/folders/th/9xw9c71j3d34kscxr4b5q7m80000gn/T/ipykernel_65650/1176691411.py:4: FutureWarning: The frame.append method is deprecated and will be removed from pandas in a future version. Use pandas.concat instead.\n",
      "  result_data = result_data.append(data_append, ignore_index=True)\n"
     ]
    },
    {
     "data": {
      "text/html": [
       "<div>\n",
       "<style scoped>\n",
       "    .dataframe tbody tr th:only-of-type {\n",
       "        vertical-align: middle;\n",
       "    }\n",
       "\n",
       "    .dataframe tbody tr th {\n",
       "        vertical-align: top;\n",
       "    }\n",
       "\n",
       "    .dataframe thead th {\n",
       "        text-align: right;\n",
       "    }\n",
       "</style>\n",
       "<table border=\"1\" class=\"dataframe\">\n",
       "  <thead>\n",
       "    <tr style=\"text-align: right;\">\n",
       "      <th></th>\n",
       "      <th>ML model</th>\n",
       "      <th>Description</th>\n",
       "      <th>F1_score</th>\n",
       "      <th>hiper parameters</th>\n",
       "    </tr>\n",
       "  </thead>\n",
       "  <tbody>\n",
       "    <tr>\n",
       "      <th>0</th>\n",
       "      <td>CatBoost</td>\n",
       "      <td>NaN</td>\n",
       "      <td>0.670624</td>\n",
       "      <td>CrossValidation &amp; Greed search</td>\n",
       "    </tr>\n",
       "    <tr>\n",
       "      <th>1</th>\n",
       "      <td>CatBoost</td>\n",
       "      <td>CrossValidation &amp; Greed search</td>\n",
       "      <td>0.670624</td>\n",
       "      <td>NaN</td>\n",
       "    </tr>\n",
       "    <tr>\n",
       "      <th>2</th>\n",
       "      <td>LightGBM</td>\n",
       "      <td>-</td>\n",
       "      <td>0.668436</td>\n",
       "      <td>NaN</td>\n",
       "    </tr>\n",
       "    <tr>\n",
       "      <th>3</th>\n",
       "      <td>NeuralNet</td>\n",
       "      <td>-</td>\n",
       "      <td>0.624694</td>\n",
       "      <td>NaN</td>\n",
       "    </tr>\n",
       "    <tr>\n",
       "      <th>4</th>\n",
       "      <td>CatBoost</td>\n",
       "      <td>Test_sample</td>\n",
       "      <td>0.672285</td>\n",
       "      <td>NaN</td>\n",
       "    </tr>\n",
       "    <tr>\n",
       "      <th>5</th>\n",
       "      <td>CatBoost</td>\n",
       "      <td>improved system_valid</td>\n",
       "      <td>0.701851</td>\n",
       "      <td>NaN</td>\n",
       "    </tr>\n",
       "  </tbody>\n",
       "</table>\n",
       "</div>"
      ],
      "text/plain": [
       "    ML model                     Description  F1_score  \\\n",
       "0   CatBoost                             NaN  0.670624   \n",
       "1   CatBoost  CrossValidation & Greed search  0.670624   \n",
       "2   LightGBM                               -  0.668436   \n",
       "3  NeuralNet                               -  0.624694   \n",
       "4   CatBoost                     Test_sample  0.672285   \n",
       "5   CatBoost           improved system_valid  0.701851   \n",
       "\n",
       "                 hiper parameters  \n",
       "0  CrossValidation & Greed search  \n",
       "1                             NaN  \n",
       "2                             NaN  \n",
       "3                             NaN  \n",
       "4                             NaN  \n",
       "5                             NaN  "
      ]
     },
     "execution_count": 86,
     "metadata": {},
     "output_type": "execute_result"
    }
   ],
   "source": [
    "data_append= {'ML model' : 'CatBoost',\n",
    "              'Description'  : 'improved system_valid',\n",
    "              'F1_score' : f1}\n",
    "result_data = result_data.append(data_append, ignore_index=True)\n",
    "result_data"
   ]
  },
  {
   "cell_type": "markdown",
   "id": "92564a75",
   "metadata": {},
   "source": [
    "**Проверка на тестовой выборке.**"
   ]
  },
  {
   "cell_type": "code",
   "execution_count": 87,
   "id": "ab100a44",
   "metadata": {
    "scrolled": true
   },
   "outputs": [
    {
     "name": "stdout",
     "output_type": "stream",
     "text": [
      "F1 Score on Validation Set: 0.7022352315061202\n"
     ]
    }
   ],
   "source": [
    "prediction_cat_2 = cbc_1.predict(X_test, verbose=None)\n",
    "\n",
    "# Получение результатов метрики F1 на валидационном наборе\n",
    "f1 = f1_score(y_test, prediction_cat_2)\n",
    "\n",
    "print(f'F1 Score on Validation Set: {f1}')"
   ]
  },
  {
   "cell_type": "code",
   "execution_count": 88,
   "id": "5117c34c",
   "metadata": {
    "scrolled": true
   },
   "outputs": [
    {
     "name": "stderr",
     "output_type": "stream",
     "text": [
      "/var/folders/th/9xw9c71j3d34kscxr4b5q7m80000gn/T/ipykernel_65650/1995555820.py:4: FutureWarning: The frame.append method is deprecated and will be removed from pandas in a future version. Use pandas.concat instead.\n",
      "  result_data = result_data.append(data_append, ignore_index=True)\n"
     ]
    },
    {
     "data": {
      "text/html": [
       "<div>\n",
       "<style scoped>\n",
       "    .dataframe tbody tr th:only-of-type {\n",
       "        vertical-align: middle;\n",
       "    }\n",
       "\n",
       "    .dataframe tbody tr th {\n",
       "        vertical-align: top;\n",
       "    }\n",
       "\n",
       "    .dataframe thead th {\n",
       "        text-align: right;\n",
       "    }\n",
       "</style>\n",
       "<table border=\"1\" class=\"dataframe\">\n",
       "  <thead>\n",
       "    <tr style=\"text-align: right;\">\n",
       "      <th></th>\n",
       "      <th>ML model</th>\n",
       "      <th>Description</th>\n",
       "      <th>F1_score</th>\n",
       "      <th>hiper parameters</th>\n",
       "    </tr>\n",
       "  </thead>\n",
       "  <tbody>\n",
       "    <tr>\n",
       "      <th>0</th>\n",
       "      <td>CatBoost</td>\n",
       "      <td>NaN</td>\n",
       "      <td>0.670624</td>\n",
       "      <td>CrossValidation &amp; Greed search</td>\n",
       "    </tr>\n",
       "    <tr>\n",
       "      <th>1</th>\n",
       "      <td>CatBoost</td>\n",
       "      <td>CrossValidation &amp; Greed search</td>\n",
       "      <td>0.670624</td>\n",
       "      <td>NaN</td>\n",
       "    </tr>\n",
       "    <tr>\n",
       "      <th>2</th>\n",
       "      <td>LightGBM</td>\n",
       "      <td>-</td>\n",
       "      <td>0.668436</td>\n",
       "      <td>NaN</td>\n",
       "    </tr>\n",
       "    <tr>\n",
       "      <th>3</th>\n",
       "      <td>NeuralNet</td>\n",
       "      <td>-</td>\n",
       "      <td>0.624694</td>\n",
       "      <td>NaN</td>\n",
       "    </tr>\n",
       "    <tr>\n",
       "      <th>4</th>\n",
       "      <td>CatBoost</td>\n",
       "      <td>Test_sample</td>\n",
       "      <td>0.672285</td>\n",
       "      <td>NaN</td>\n",
       "    </tr>\n",
       "    <tr>\n",
       "      <th>5</th>\n",
       "      <td>CatBoost</td>\n",
       "      <td>improved system_valid</td>\n",
       "      <td>0.701851</td>\n",
       "      <td>NaN</td>\n",
       "    </tr>\n",
       "    <tr>\n",
       "      <th>6</th>\n",
       "      <td>CatBoost</td>\n",
       "      <td>improved system_test</td>\n",
       "      <td>0.702235</td>\n",
       "      <td>NaN</td>\n",
       "    </tr>\n",
       "  </tbody>\n",
       "</table>\n",
       "</div>"
      ],
      "text/plain": [
       "    ML model                     Description  F1_score  \\\n",
       "0   CatBoost                             NaN  0.670624   \n",
       "1   CatBoost  CrossValidation & Greed search  0.670624   \n",
       "2   LightGBM                               -  0.668436   \n",
       "3  NeuralNet                               -  0.624694   \n",
       "4   CatBoost                     Test_sample  0.672285   \n",
       "5   CatBoost           improved system_valid  0.701851   \n",
       "6   CatBoost            improved system_test  0.702235   \n",
       "\n",
       "                 hiper parameters  \n",
       "0  CrossValidation & Greed search  \n",
       "1                             NaN  \n",
       "2                             NaN  \n",
       "3                             NaN  \n",
       "4                             NaN  \n",
       "5                             NaN  \n",
       "6                             NaN  "
      ]
     },
     "execution_count": 88,
     "metadata": {},
     "output_type": "execute_result"
    }
   ],
   "source": [
    "data_append= {'ML model' : 'CatBoost',\n",
    "              'Description'  : 'improved system_test',\n",
    "              'F1_score' : f1}\n",
    "result_data = result_data.append(data_append, ignore_index=True)\n",
    "result_data"
   ]
  },
  {
   "cell_type": "markdown",
   "id": "9c93196d",
   "metadata": {},
   "source": [
    "**Вывод.**\n",
    "Гипотеза оказалась верной. Анализ системой движения автомобиля улучшает ее работу."
   ]
  },
  {
   "cell_type": "markdown",
   "id": "93173a2f",
   "metadata": {},
   "source": [
    "## Анализ важности основных факторов, влияющих на вероятность ДТП."
   ]
  },
  {
   "cell_type": "code",
   "execution_count": 89,
   "id": "32d163d1",
   "metadata": {},
   "outputs": [
    {
     "data": {
      "text/html": [
       "<div>\n",
       "<style scoped>\n",
       "    .dataframe tbody tr th:only-of-type {\n",
       "        vertical-align: middle;\n",
       "    }\n",
       "\n",
       "    .dataframe tbody tr th {\n",
       "        vertical-align: top;\n",
       "    }\n",
       "\n",
       "    .dataframe thead th {\n",
       "        text-align: right;\n",
       "    }\n",
       "</style>\n",
       "<table border=\"1\" class=\"dataframe\">\n",
       "  <thead>\n",
       "    <tr style=\"text-align: right;\">\n",
       "      <th></th>\n",
       "      <th>Feature Id</th>\n",
       "      <th>Importances</th>\n",
       "    </tr>\n",
       "  </thead>\n",
       "  <tbody>\n",
       "    <tr>\n",
       "      <th>0</th>\n",
       "      <td>pcf_violation_category</td>\n",
       "      <td>30.759915</td>\n",
       "    </tr>\n",
       "    <tr>\n",
       "      <th>1</th>\n",
       "      <td>party_sobriety</td>\n",
       "      <td>16.634190</td>\n",
       "    </tr>\n",
       "    <tr>\n",
       "      <th>2</th>\n",
       "      <td>party_count</td>\n",
       "      <td>16.265399</td>\n",
       "    </tr>\n",
       "    <tr>\n",
       "      <th>3</th>\n",
       "      <td>motor_vehicle_involved_with</td>\n",
       "      <td>8.202413</td>\n",
       "    </tr>\n",
       "    <tr>\n",
       "      <th>4</th>\n",
       "      <td>insurance_premium</td>\n",
       "      <td>7.940433</td>\n",
       "    </tr>\n",
       "    <tr>\n",
       "      <th>5</th>\n",
       "      <td>party_drug_physical</td>\n",
       "      <td>5.638935</td>\n",
       "    </tr>\n",
       "    <tr>\n",
       "      <th>6</th>\n",
       "      <td>vehicle_age</td>\n",
       "      <td>1.974304</td>\n",
       "    </tr>\n",
       "    <tr>\n",
       "      <th>7</th>\n",
       "      <td>distance</td>\n",
       "      <td>1.849401</td>\n",
       "    </tr>\n",
       "    <tr>\n",
       "      <th>8</th>\n",
       "      <td>lighting</td>\n",
       "      <td>1.694778</td>\n",
       "    </tr>\n",
       "    <tr>\n",
       "      <th>9</th>\n",
       "      <td>county_location</td>\n",
       "      <td>1.587900</td>\n",
       "    </tr>\n",
       "    <tr>\n",
       "      <th>10</th>\n",
       "      <td>hour</td>\n",
       "      <td>1.579666</td>\n",
       "    </tr>\n",
       "    <tr>\n",
       "      <th>11</th>\n",
       "      <td>type_of_collision</td>\n",
       "      <td>1.486645</td>\n",
       "    </tr>\n",
       "    <tr>\n",
       "      <th>12</th>\n",
       "      <td>direction</td>\n",
       "      <td>1.092264</td>\n",
       "    </tr>\n",
       "    <tr>\n",
       "      <th>13</th>\n",
       "      <td>control_device</td>\n",
       "      <td>0.792774</td>\n",
       "    </tr>\n",
       "    <tr>\n",
       "      <th>14</th>\n",
       "      <td>weather_1</td>\n",
       "      <td>0.733022</td>\n",
       "    </tr>\n",
       "    <tr>\n",
       "      <th>15</th>\n",
       "      <td>road_condition_1</td>\n",
       "      <td>0.652181</td>\n",
       "    </tr>\n",
       "    <tr>\n",
       "      <th>16</th>\n",
       "      <td>road_surface</td>\n",
       "      <td>0.543310</td>\n",
       "    </tr>\n",
       "    <tr>\n",
       "      <th>17</th>\n",
       "      <td>day_of_week</td>\n",
       "      <td>0.342514</td>\n",
       "    </tr>\n",
       "    <tr>\n",
       "      <th>18</th>\n",
       "      <td>col_month</td>\n",
       "      <td>0.227490</td>\n",
       "    </tr>\n",
       "    <tr>\n",
       "      <th>19</th>\n",
       "      <td>cellphone_in_use</td>\n",
       "      <td>0.002467</td>\n",
       "    </tr>\n",
       "  </tbody>\n",
       "</table>\n",
       "</div>"
      ],
      "text/plain": [
       "                     Feature Id  Importances\n",
       "0        pcf_violation_category    30.759915\n",
       "1                party_sobriety    16.634190\n",
       "2                   party_count    16.265399\n",
       "3   motor_vehicle_involved_with     8.202413\n",
       "4             insurance_premium     7.940433\n",
       "5           party_drug_physical     5.638935\n",
       "6                   vehicle_age     1.974304\n",
       "7                      distance     1.849401\n",
       "8                      lighting     1.694778\n",
       "9               county_location     1.587900\n",
       "10                         hour     1.579666\n",
       "11            type_of_collision     1.486645\n",
       "12                    direction     1.092264\n",
       "13               control_device     0.792774\n",
       "14                    weather_1     0.733022\n",
       "15             road_condition_1     0.652181\n",
       "16                 road_surface     0.543310\n",
       "17                  day_of_week     0.342514\n",
       "18                    col_month     0.227490\n",
       "19             cellphone_in_use     0.002467"
      ]
     },
     "execution_count": 89,
     "metadata": {},
     "output_type": "execute_result"
    }
   ],
   "source": [
    "cbc_1.get_feature_importance(prettified = True)"
   ]
  },
  {
   "cell_type": "markdown",
   "id": "766a3533",
   "metadata": {},
   "source": [
    "Самым выжным признаком оказался pcf_violation_category. Который характеризует нарушения водителя в момент времени.\n"
   ]
  },
  {
   "cell_type": "markdown",
   "id": "4ee0b848",
   "metadata": {},
   "source": [
    "## График зависимости pcf_violation_category фактора и целевой переменной."
   ]
  },
  {
   "cell_type": "markdown",
   "id": "afc2186f",
   "metadata": {},
   "source": [
    "График строится для всех значений изначального датасета. Для построения графика группируются классы параметра pcf_violation_category и рассчитывается процент, который показывает частоту влияния класса на аварию."
   ]
  },
  {
   "cell_type": "code",
   "execution_count": 90,
   "id": "79ff21da",
   "metadata": {},
   "outputs": [
    {
     "data": {
      "text/html": [
       "<div>\n",
       "<style scoped>\n",
       "    .dataframe tbody tr th:only-of-type {\n",
       "        vertical-align: middle;\n",
       "    }\n",
       "\n",
       "    .dataframe tbody tr th {\n",
       "        vertical-align: top;\n",
       "    }\n",
       "\n",
       "    .dataframe thead th {\n",
       "        text-align: right;\n",
       "    }\n",
       "</style>\n",
       "<table border=\"1\" class=\"dataframe\">\n",
       "  <thead>\n",
       "    <tr style=\"text-align: right;\">\n",
       "      <th></th>\n",
       "      <th>at_fault_x</th>\n",
       "      <th>at_fault_y</th>\n",
       "      <th>at_fault_influence</th>\n",
       "    </tr>\n",
       "    <tr>\n",
       "      <th>pcf_violation_category</th>\n",
       "      <th></th>\n",
       "      <th></th>\n",
       "      <th></th>\n",
       "    </tr>\n",
       "  </thead>\n",
       "  <tbody>\n",
       "    <tr>\n",
       "      <th>automobile right of way</th>\n",
       "      <td>3131</td>\n",
       "      <td>7138</td>\n",
       "      <td>0.438638</td>\n",
       "    </tr>\n",
       "    <tr>\n",
       "      <th>brakes</th>\n",
       "      <td>6</td>\n",
       "      <td>10</td>\n",
       "      <td>0.600000</td>\n",
       "    </tr>\n",
       "    <tr>\n",
       "      <th>dui</th>\n",
       "      <td>4379</td>\n",
       "      <td>6216</td>\n",
       "      <td>0.704472</td>\n",
       "    </tr>\n",
       "    <tr>\n",
       "      <th>fell asleep</th>\n",
       "      <td>1</td>\n",
       "      <td>3</td>\n",
       "      <td>0.333333</td>\n",
       "    </tr>\n",
       "    <tr>\n",
       "      <th>following too closely</th>\n",
       "      <td>403</td>\n",
       "      <td>1014</td>\n",
       "      <td>0.397436</td>\n",
       "    </tr>\n",
       "    <tr>\n",
       "      <th>hazardous parking</th>\n",
       "      <td>20</td>\n",
       "      <td>32</td>\n",
       "      <td>0.625000</td>\n",
       "    </tr>\n",
       "    <tr>\n",
       "      <th>impeding traffic</th>\n",
       "      <td>11</td>\n",
       "      <td>33</td>\n",
       "      <td>0.333333</td>\n",
       "    </tr>\n",
       "    <tr>\n",
       "      <th>improper passing</th>\n",
       "      <td>236</td>\n",
       "      <td>477</td>\n",
       "      <td>0.494759</td>\n",
       "    </tr>\n",
       "    <tr>\n",
       "      <th>improper turning</th>\n",
       "      <td>6078</td>\n",
       "      <td>8189</td>\n",
       "      <td>0.742215</td>\n",
       "    </tr>\n",
       "    <tr>\n",
       "      <th>lights</th>\n",
       "      <td>0</td>\n",
       "      <td>3</td>\n",
       "      <td>0.000000</td>\n",
       "    </tr>\n",
       "    <tr>\n",
       "      <th>other equipment</th>\n",
       "      <td>52</td>\n",
       "      <td>84</td>\n",
       "      <td>0.619048</td>\n",
       "    </tr>\n",
       "    <tr>\n",
       "      <th>other hazardous violation</th>\n",
       "      <td>237</td>\n",
       "      <td>516</td>\n",
       "      <td>0.459302</td>\n",
       "    </tr>\n",
       "    <tr>\n",
       "      <th>other improper driving</th>\n",
       "      <td>116</td>\n",
       "      <td>226</td>\n",
       "      <td>0.513274</td>\n",
       "    </tr>\n",
       "    <tr>\n",
       "      <th>other than driver (or pedestrian)</th>\n",
       "      <td>0</td>\n",
       "      <td>1148</td>\n",
       "      <td>0.000000</td>\n",
       "    </tr>\n",
       "    <tr>\n",
       "      <th>pedestrian right of way</th>\n",
       "      <td>108</td>\n",
       "      <td>112</td>\n",
       "      <td>0.964286</td>\n",
       "    </tr>\n",
       "    <tr>\n",
       "      <th>pedestrian violation</th>\n",
       "      <td>10</td>\n",
       "      <td>314</td>\n",
       "      <td>0.031847</td>\n",
       "    </tr>\n",
       "    <tr>\n",
       "      <th>speeding</th>\n",
       "      <td>9098</td>\n",
       "      <td>18990</td>\n",
       "      <td>0.479094</td>\n",
       "    </tr>\n",
       "    <tr>\n",
       "      <th>traffic signals and signs</th>\n",
       "      <td>1386</td>\n",
       "      <td>3373</td>\n",
       "      <td>0.410910</td>\n",
       "    </tr>\n",
       "    <tr>\n",
       "      <th>unknown</th>\n",
       "      <td>35</td>\n",
       "      <td>906</td>\n",
       "      <td>0.038631</td>\n",
       "    </tr>\n",
       "    <tr>\n",
       "      <th>unsafe lane change</th>\n",
       "      <td>1732</td>\n",
       "      <td>4665</td>\n",
       "      <td>0.371275</td>\n",
       "    </tr>\n",
       "    <tr>\n",
       "      <th>unsafe starting or backing</th>\n",
       "      <td>660</td>\n",
       "      <td>1380</td>\n",
       "      <td>0.478261</td>\n",
       "    </tr>\n",
       "    <tr>\n",
       "      <th>wrong side of road</th>\n",
       "      <td>666</td>\n",
       "      <td>1376</td>\n",
       "      <td>0.484012</td>\n",
       "    </tr>\n",
       "  </tbody>\n",
       "</table>\n",
       "</div>"
      ],
      "text/plain": [
       "                                   at_fault_x  at_fault_y  at_fault_influence\n",
       "pcf_violation_category                                                       \n",
       "automobile right of way                  3131        7138            0.438638\n",
       "brakes                                      6          10            0.600000\n",
       "dui                                      4379        6216            0.704472\n",
       "fell asleep                                 1           3            0.333333\n",
       "following too closely                     403        1014            0.397436\n",
       "hazardous parking                          20          32            0.625000\n",
       "impeding traffic                           11          33            0.333333\n",
       "improper passing                          236         477            0.494759\n",
       "improper turning                         6078        8189            0.742215\n",
       "lights                                      0           3            0.000000\n",
       "other equipment                            52          84            0.619048\n",
       "other hazardous violation                 237         516            0.459302\n",
       "other improper driving                    116         226            0.513274\n",
       "other than driver (or pedestrian)           0        1148            0.000000\n",
       "pedestrian right of way                   108         112            0.964286\n",
       "pedestrian violation                       10         314            0.031847\n",
       "speeding                                 9098       18990            0.479094\n",
       "traffic signals and signs                1386        3373            0.410910\n",
       "unknown                                    35         906            0.038631\n",
       "unsafe lane change                       1732        4665            0.371275\n",
       "unsafe starting or backing                660        1380            0.478261\n",
       "wrong side of road                        666        1376            0.484012"
      ]
     },
     "execution_count": 90,
     "metadata": {},
     "output_type": "execute_result"
    }
   ],
   "source": [
    "violation_qty_1 = driver_risk.groupby('pcf_violation_category')['at_fault'].sum()\n",
    "violation_qty_0 = driver_risk.groupby('pcf_violation_category')['at_fault'].count()\n",
    "merged_df = pd.merge(violation_qty_1, violation_qty_0, on='pcf_violation_category')\n",
    "merged_df['at_fault_influence'] = merged_df['at_fault_x'] / merged_df['at_fault_y']\n",
    "merged_df"
   ]
  },
  {
   "cell_type": "code",
   "execution_count": 91,
   "id": "409bc1f9",
   "metadata": {},
   "outputs": [
    {
     "data": {
      "image/png": "[encoded data removed]",
      "text/plain": [
       "<Figure size 1440x648 with 1 Axes>"
      ]
     },
     "metadata": {
      "needs_background": "light"
     },
     "output_type": "display_data"
    }
   ],
   "source": [
    "fig, ax = plt.subplots(figsize=(20, 9))\n",
    "ax.barh(merged_df.index,\n",
    "       merged_df['at_fault_influence'],\n",
    "       color='powderblue', \n",
    "       edgecolor='darkslategray') \n",
    "ax.tick_params(axis='both', labelsize=15)\n",
    "\n",
    "ax.set_xlabel('Тип нарушения', fontsize=20)\n",
    "ax.set_ylabel('at_fault', fontsize=20)\n",
    "ax.set_title('«Взаимосвязь pcf_violation_category и целевого признака', fontsize=25)\n",
    "ax.grid(True)\n",
    "\n",
    "plt.show()"
   ]
  },
  {
   "cell_type": "markdown",
   "id": "73f30473",
   "metadata": {},
   "source": [
    "Из графика видно, что водители очень часто не пропускают пешеходов, поворачивают там, где нельзя. Также очень сильное влияние оказывает класс dui - водитель находится под влиянием алкоголя/ наркотических веществ.\n",
    "\n",
    "\n",
    "Для минимизации обозначенных факторов во время посадки водителя в авто, необходимо предусмотреть системы, которые будут способны контролировать нарушения, допускаемые водителем, а также будут проверять водителя на трезвость."
   ]
  },
  {
   "cell_type": "markdown",
   "id": "379c429c",
   "metadata": {},
   "source": [
    "# Вывод."
   ]
  },
  {
   "cell_type": "markdown",
   "id": "ea1f311a",
   "metadata": {},
   "source": [
    "Лучшей моделью для решения обзначенной задачи является модель CatBooost с подобранными гиперпараметрами методом GridSearch с использованием кроссвалидации.\n",
    "\n",
    "Лучшие параметры модели: {'depth': 7, 'iterations': 1600, 'learning_rate': 0.02}\n",
    "                            boosting_type='Ordered',\n",
    "                            eval_metric = 'Logloss',\n",
    "                            custom_metric=['F1'].\n",
    "                            \n",
    "                            "
   ]
  },
  {
   "cell_type": "markdown",
   "id": "30f6d435",
   "metadata": {},
   "source": [
    "**Анализ результатов модели.**"
   ]
  },
  {
   "cell_type": "markdown",
   "id": "deafd4e5",
   "metadata": {},
   "source": [
    "Лучшая модель CatBoost показала метрику f1 = 0.702. Это означает что во время посадки водителя в авто, при условии что авто оборудовано системой анализа трезвости водителя, а также системами контроля за нарушениями ПДД.\n",
    "\n",
    "Возможные пути улучшения метрики:\n",
    "Чтобы улучшить оценку вероятности аварии имеет смысл собирать данные о построенном маршруте движения.\n",
    "- Предполагаемое время движения. Позволит рассчитывать усталость водителя в дороге а также изменение времени суток и погодных условий.\n",
    "- Количество перекрестков. Позволит увязать данные об авариях на перекрестках с маршрутом движения.\n",
    "- Типы дорог. (городские, автострады и т.д.) Позволит увязать данные об авариях на типах дорог с маршрутом движения."
   ]
  }
 ],
 "metadata": {
  "ExecuteTimeLog": [
   {
    "duration": 991,
    "start_time": "2023-12-01T16:39:22.507Z"
   },
   {
    "duration": 0,
    "start_time": "2023-12-01T16:39:23.503Z"
   },
   {
    "duration": 0,
    "start_time": "2023-12-01T16:39:23.504Z"
   },
   {
    "duration": 0,
    "start_time": "2023-12-01T16:39:23.506Z"
   },
   {
    "duration": 0,
    "start_time": "2023-12-01T16:39:23.514Z"
   },
   {
    "duration": 0,
    "start_time": "2023-12-01T16:39:23.515Z"
   },
   {
    "duration": 0,
    "start_time": "2023-12-01T16:39:23.516Z"
   },
   {
    "duration": 0,
    "start_time": "2023-12-01T16:39:23.518Z"
   },
   {
    "duration": 0,
    "start_time": "2023-12-01T16:39:23.519Z"
   },
   {
    "duration": 0,
    "start_time": "2023-12-01T16:39:23.520Z"
   },
   {
    "duration": 0,
    "start_time": "2023-12-01T16:39:23.521Z"
   },
   {
    "duration": 0,
    "start_time": "2023-12-01T16:39:23.522Z"
   },
   {
    "duration": 0,
    "start_time": "2023-12-01T16:39:23.523Z"
   },
   {
    "duration": 0,
    "start_time": "2023-12-01T16:39:23.524Z"
   },
   {
    "duration": 0,
    "start_time": "2023-12-01T16:39:23.525Z"
   },
   {
    "duration": 0,
    "start_time": "2023-12-01T16:39:23.526Z"
   },
   {
    "duration": 0,
    "start_time": "2023-12-01T16:39:23.527Z"
   },
   {
    "duration": 0,
    "start_time": "2023-12-01T16:39:23.528Z"
   },
   {
    "duration": 0,
    "start_time": "2023-12-01T16:39:23.529Z"
   },
   {
    "duration": 0,
    "start_time": "2023-12-01T16:39:23.530Z"
   },
   {
    "duration": 0,
    "start_time": "2023-12-01T16:39:23.531Z"
   },
   {
    "duration": 0,
    "start_time": "2023-12-01T16:39:23.532Z"
   },
   {
    "duration": 0,
    "start_time": "2023-12-01T16:39:23.533Z"
   },
   {
    "duration": 0,
    "start_time": "2023-12-01T16:39:23.534Z"
   },
   {
    "duration": 0,
    "start_time": "2023-12-01T16:39:23.535Z"
   },
   {
    "duration": 0,
    "start_time": "2023-12-01T16:39:23.536Z"
   },
   {
    "duration": 0,
    "start_time": "2023-12-01T16:39:23.537Z"
   },
   {
    "duration": 0,
    "start_time": "2023-12-01T16:39:23.538Z"
   },
   {
    "duration": 0,
    "start_time": "2023-12-01T16:39:23.539Z"
   },
   {
    "duration": 0,
    "start_time": "2023-12-01T16:39:23.540Z"
   },
   {
    "duration": 0,
    "start_time": "2023-12-01T16:39:23.540Z"
   },
   {
    "duration": 0,
    "start_time": "2023-12-01T16:39:23.541Z"
   },
   {
    "duration": 0,
    "start_time": "2023-12-01T16:39:23.542Z"
   },
   {
    "duration": 0,
    "start_time": "2023-12-01T16:39:23.543Z"
   },
   {
    "duration": 0,
    "start_time": "2023-12-01T16:39:23.544Z"
   },
   {
    "duration": 0,
    "start_time": "2023-12-01T16:39:23.545Z"
   },
   {
    "duration": 0,
    "start_time": "2023-12-01T16:39:23.546Z"
   },
   {
    "duration": 0,
    "start_time": "2023-12-01T16:39:23.547Z"
   },
   {
    "duration": 0,
    "start_time": "2023-12-01T16:39:23.548Z"
   },
   {
    "duration": 0,
    "start_time": "2023-12-01T16:39:23.549Z"
   },
   {
    "duration": 0,
    "start_time": "2023-12-01T16:39:23.549Z"
   },
   {
    "duration": 0,
    "start_time": "2023-12-01T16:39:23.550Z"
   },
   {
    "duration": 0,
    "start_time": "2023-12-01T16:39:23.551Z"
   },
   {
    "duration": 0,
    "start_time": "2023-12-01T16:39:23.615Z"
   },
   {
    "duration": 0,
    "start_time": "2023-12-01T16:39:23.616Z"
   },
   {
    "duration": 0,
    "start_time": "2023-12-01T16:39:23.617Z"
   },
   {
    "duration": 0,
    "start_time": "2023-12-01T16:39:23.618Z"
   },
   {
    "duration": 0,
    "start_time": "2023-12-01T16:39:23.619Z"
   },
   {
    "duration": 0,
    "start_time": "2023-12-01T16:39:23.620Z"
   },
   {
    "duration": 0,
    "start_time": "2023-12-01T16:39:23.621Z"
   },
   {
    "duration": 0,
    "start_time": "2023-12-01T16:39:23.622Z"
   },
   {
    "duration": 0,
    "start_time": "2023-12-01T16:39:23.623Z"
   },
   {
    "duration": 0,
    "start_time": "2023-12-01T16:39:23.624Z"
   },
   {
    "duration": 0,
    "start_time": "2023-12-01T16:39:23.625Z"
   },
   {
    "duration": 0,
    "start_time": "2023-12-01T16:39:23.626Z"
   },
   {
    "duration": 0,
    "start_time": "2023-12-01T16:39:23.627Z"
   },
   {
    "duration": 0,
    "start_time": "2023-12-01T16:39:23.628Z"
   },
   {
    "duration": 0,
    "start_time": "2023-12-01T16:39:23.629Z"
   },
   {
    "duration": 0,
    "start_time": "2023-12-01T16:39:23.630Z"
   },
   {
    "duration": 0,
    "start_time": "2023-12-01T16:39:23.632Z"
   },
   {
    "duration": 0,
    "start_time": "2023-12-01T16:39:23.633Z"
   },
   {
    "duration": 0,
    "start_time": "2023-12-01T16:39:23.634Z"
   },
   {
    "duration": 0,
    "start_time": "2023-12-01T16:39:23.635Z"
   },
   {
    "duration": 0,
    "start_time": "2023-12-01T16:39:23.636Z"
   },
   {
    "duration": 0,
    "start_time": "2023-12-01T16:39:23.637Z"
   },
   {
    "duration": 0,
    "start_time": "2023-12-01T16:39:23.638Z"
   },
   {
    "duration": 0,
    "start_time": "2023-12-01T16:39:23.639Z"
   },
   {
    "duration": 0,
    "start_time": "2023-12-01T16:39:23.640Z"
   },
   {
    "duration": 0,
    "start_time": "2023-12-01T16:39:23.641Z"
   },
   {
    "duration": 0,
    "start_time": "2023-12-01T16:39:23.642Z"
   },
   {
    "duration": 0,
    "start_time": "2023-12-01T16:39:23.643Z"
   },
   {
    "duration": 0,
    "start_time": "2023-12-01T16:39:23.644Z"
   },
   {
    "duration": 0,
    "start_time": "2023-12-01T16:39:23.645Z"
   },
   {
    "duration": 0,
    "start_time": "2023-12-01T16:39:23.647Z"
   },
   {
    "duration": 0,
    "start_time": "2023-12-01T16:39:23.648Z"
   }
  ],
  "hide_input": false,
  "kernelspec": {
   "display_name": "Python 3 (ipykernel)",
   "language": "python",
   "name": "python3"
  },
  "language_info": {
   "codemirror_mode": {
    "name": "ipython",
    "version": 3
   },
   "file_extension": ".py",
   "mimetype": "text/x-python",
   "name": "python",
   "nbconvert_exporter": "python",
   "pygments_lexer": "ipython3",
   "version": "3.9.12"
  },
  "toc": {
   "base_numbering": 1,
   "nav_menu": {},
   "number_sections": true,
   "sideBar": true,
   "skip_h1_title": false,
   "title_cell": "Table of Contents",
   "title_sidebar": "Contents",
   "toc_cell": false,
   "toc_position": {
    "height": "685px",
    "left": "58px",
    "top": "170px",
    "width": "287.375px"
   },
   "toc_section_display": true,
   "toc_window_display": true
  }
 },
 "nbformat": 4,
 "nbformat_minor": 5
}
