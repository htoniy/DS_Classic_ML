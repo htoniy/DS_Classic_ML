{
 "cells": [
  {
   "cell_type": "markdown",
   "id": "1648097d",
   "metadata": {},
   "source": [
    "# Проект: \"Защита персональных данных клиентов\""
   ]
  },
  {
   "cell_type": "markdown",
   "id": "eea20853",
   "metadata": {},
   "source": [
    "Проект нацелен на защиту данных клиентов страховой компании «Хоть потоп». \n",
    "\n",
    "В работе разработан метод, который преобразовывает данные, чтобы по ним было сложно восстановить персональную информацию. Обоснованна корректность работы данного метода.\n",
    "Данные защищены и трансформированны таким образом, чтобы при преобразовании качество моделей машинного обучения не ухудшилось. "
   ]
  },
  {
   "cell_type": "markdown",
   "id": "de306a66",
   "metadata": {},
   "source": [
    "![](https://digital.report/wp-content/uploads/2016/04/Personalnyie-dannyie-Retina-1078x516.jpg)"
   ]
  },
  {
   "cell_type": "markdown",
   "id": "4397e650",
   "metadata": {},
   "source": [
    "# Импорт данных"
   ]
  },
  {
   "cell_type": "markdown",
   "id": "1c404857",
   "metadata": {},
   "source": [
    "**Импорт библиотек**"
   ]
  },
  {
   "cell_type": "code",
   "execution_count": 70,
   "id": "38246cf7",
   "metadata": {},
   "outputs": [],
   "source": [
    "import pandas as pd\n",
    "\n",
    "import numpy as np\n",
    "from numpy.linalg import inv\n",
    "\n",
    "# conda install -c conda-forge phik\n",
    "import phik\n",
    "from phik.report import plot_correlation_matrix\n",
    "from phik import report\n",
    "\n",
    "import matplotlib as mpl\n",
    "import matplotlib.pyplot as plt\n",
    "\n",
    "from sklearn.metrics import r2_score\n",
    "\n",
    "from sklearn.linear_model import LinearRegression"
   ]
  },
  {
   "cell_type": "code",
   "execution_count": 2,
   "id": "ee5f50ef",
   "metadata": {
    "cell_style": "split",
    "scrolled": false
   },
   "outputs": [
    {
     "data": {
      "text/html": [
       "<div>\n",
       "<style scoped>\n",
       "    .dataframe tbody tr th:only-of-type {\n",
       "        vertical-align: middle;\n",
       "    }\n",
       "\n",
       "    .dataframe tbody tr th {\n",
       "        vertical-align: top;\n",
       "    }\n",
       "\n",
       "    .dataframe thead th {\n",
       "        text-align: right;\n",
       "    }\n",
       "</style>\n",
       "<table border=\"1\" class=\"dataframe\">\n",
       "  <thead>\n",
       "    <tr style=\"text-align: right;\">\n",
       "      <th></th>\n",
       "      <th>Пол</th>\n",
       "      <th>Возраст</th>\n",
       "      <th>Зарплата</th>\n",
       "      <th>Члены семьи</th>\n",
       "      <th>Страховые выплаты</th>\n",
       "    </tr>\n",
       "  </thead>\n",
       "  <tbody>\n",
       "    <tr>\n",
       "      <th>0</th>\n",
       "      <td>1</td>\n",
       "      <td>41.0</td>\n",
       "      <td>49600.0</td>\n",
       "      <td>1</td>\n",
       "      <td>0</td>\n",
       "    </tr>\n",
       "    <tr>\n",
       "      <th>1</th>\n",
       "      <td>0</td>\n",
       "      <td>46.0</td>\n",
       "      <td>38000.0</td>\n",
       "      <td>1</td>\n",
       "      <td>1</td>\n",
       "    </tr>\n",
       "    <tr>\n",
       "      <th>2</th>\n",
       "      <td>0</td>\n",
       "      <td>29.0</td>\n",
       "      <td>21000.0</td>\n",
       "      <td>0</td>\n",
       "      <td>0</td>\n",
       "    </tr>\n",
       "    <tr>\n",
       "      <th>3</th>\n",
       "      <td>0</td>\n",
       "      <td>21.0</td>\n",
       "      <td>41700.0</td>\n",
       "      <td>2</td>\n",
       "      <td>0</td>\n",
       "    </tr>\n",
       "    <tr>\n",
       "      <th>4</th>\n",
       "      <td>1</td>\n",
       "      <td>28.0</td>\n",
       "      <td>26100.0</td>\n",
       "      <td>0</td>\n",
       "      <td>0</td>\n",
       "    </tr>\n",
       "    <tr>\n",
       "      <th>...</th>\n",
       "      <td>...</td>\n",
       "      <td>...</td>\n",
       "      <td>...</td>\n",
       "      <td>...</td>\n",
       "      <td>...</td>\n",
       "    </tr>\n",
       "    <tr>\n",
       "      <th>4995</th>\n",
       "      <td>0</td>\n",
       "      <td>28.0</td>\n",
       "      <td>35700.0</td>\n",
       "      <td>2</td>\n",
       "      <td>0</td>\n",
       "    </tr>\n",
       "    <tr>\n",
       "      <th>4996</th>\n",
       "      <td>0</td>\n",
       "      <td>34.0</td>\n",
       "      <td>52400.0</td>\n",
       "      <td>1</td>\n",
       "      <td>0</td>\n",
       "    </tr>\n",
       "    <tr>\n",
       "      <th>4997</th>\n",
       "      <td>0</td>\n",
       "      <td>20.0</td>\n",
       "      <td>33900.0</td>\n",
       "      <td>2</td>\n",
       "      <td>0</td>\n",
       "    </tr>\n",
       "    <tr>\n",
       "      <th>4998</th>\n",
       "      <td>1</td>\n",
       "      <td>22.0</td>\n",
       "      <td>32700.0</td>\n",
       "      <td>3</td>\n",
       "      <td>0</td>\n",
       "    </tr>\n",
       "    <tr>\n",
       "      <th>4999</th>\n",
       "      <td>1</td>\n",
       "      <td>28.0</td>\n",
       "      <td>40600.0</td>\n",
       "      <td>1</td>\n",
       "      <td>0</td>\n",
       "    </tr>\n",
       "  </tbody>\n",
       "</table>\n",
       "<p>5000 rows × 5 columns</p>\n",
       "</div>"
      ],
      "text/plain": [
       "      Пол  Возраст  Зарплата  Члены семьи  Страховые выплаты\n",
       "0       1     41.0   49600.0            1                  0\n",
       "1       0     46.0   38000.0            1                  1\n",
       "2       0     29.0   21000.0            0                  0\n",
       "3       0     21.0   41700.0            2                  0\n",
       "4       1     28.0   26100.0            0                  0\n",
       "...   ...      ...       ...          ...                ...\n",
       "4995    0     28.0   35700.0            2                  0\n",
       "4996    0     34.0   52400.0            1                  0\n",
       "4997    0     20.0   33900.0            2                  0\n",
       "4998    1     22.0   32700.0            3                  0\n",
       "4999    1     28.0   40600.0            1                  0\n",
       "\n",
       "[5000 rows x 5 columns]"
      ]
     },
     "execution_count": 2,
     "metadata": {},
     "output_type": "execute_result"
    }
   ],
   "source": [
    "#Исмпорт данных\n",
    "bank_data = pd.read_csv('./insurance.csv')\n",
    "bank_data"
   ]
  },
  {
   "cell_type": "markdown",
   "id": "b61907b6",
   "metadata": {
    "cell_style": "split"
   },
   "source": [
    "**Для удобства переимменуем заголовки столбцов**"
   ]
  },
  {
   "cell_type": "code",
   "execution_count": 3,
   "id": "228df056",
   "metadata": {
    "cell_style": "split",
    "scrolled": true
   },
   "outputs": [
    {
     "name": "stdout",
     "output_type": "stream",
     "text": [
      "\n",
      "Общий вид заголовков таблицы:\n"
     ]
    },
    {
     "data": {
      "text/html": [
       "<div>\n",
       "<style scoped>\n",
       "    .dataframe tbody tr th:only-of-type {\n",
       "        vertical-align: middle;\n",
       "    }\n",
       "\n",
       "    .dataframe tbody tr th {\n",
       "        vertical-align: top;\n",
       "    }\n",
       "\n",
       "    .dataframe thead th {\n",
       "        text-align: right;\n",
       "    }\n",
       "</style>\n",
       "<table border=\"1\" class=\"dataframe\">\n",
       "  <thead>\n",
       "    <tr style=\"text-align: right;\">\n",
       "      <th></th>\n",
       "      <th>Sex</th>\n",
       "      <th>Age</th>\n",
       "      <th>Salary</th>\n",
       "      <th>Family parts</th>\n",
       "      <th>Insurance payments</th>\n",
       "    </tr>\n",
       "  </thead>\n",
       "  <tbody>\n",
       "  </tbody>\n",
       "</table>\n",
       "</div>"
      ],
      "text/plain": [
       "Empty DataFrame\n",
       "Columns: [Sex, Age, Salary, Family parts, Insurance payments]\n",
       "Index: []"
      ]
     },
     "execution_count": 3,
     "metadata": {},
     "output_type": "execute_result"
    }
   ],
   "source": [
    "bank_data = bank_data.rename(\n",
    "    columns={'Пол':'Sex',\n",
    "             'Возраст':'Age', \n",
    "             'Зарплата':'Salary',\n",
    "             'Члены семьи':'Family parts',\n",
    "             'Страховые выплаты':'Insurance payments'})\n",
    "print('')\n",
    "print('Общий вид заголовков таблицы:')\n",
    "bank_data.head(0)"
   ]
  },
  {
   "cell_type": "markdown",
   "id": "f1e5e89e",
   "metadata": {
    "cell_style": "split"
   },
   "source": [
    "**Описание данных:**\n",
    "\n",
    "- Признаки: \n",
    "    - пол: 1 - мужской, 0 - женский;\n",
    "    - возраст;\n",
    "    - зарплата застрахованного;\n",
    "    - количество членов его семьи.\n",
    "- Целевой признак: \n",
    "    - количество страховых выплат клиенту за последние 5 лет."
   ]
  },
  {
   "cell_type": "markdown",
   "id": "5bdadfbb",
   "metadata": {},
   "source": [
    "# Препроцессинг данных"
   ]
  },
  {
   "cell_type": "code",
   "execution_count": 4,
   "id": "d077a2ba",
   "metadata": {
    "cell_style": "split",
    "scrolled": false
   },
   "outputs": [
    {
     "name": "stdout",
     "output_type": "stream",
     "text": [
      "<class 'pandas.core.frame.DataFrame'>\n",
      "RangeIndex: 5000 entries, 0 to 4999\n",
      "Data columns (total 5 columns):\n",
      " #   Column              Non-Null Count  Dtype  \n",
      "---  ------              --------------  -----  \n",
      " 0   Sex                 5000 non-null   int64  \n",
      " 1   Age                 5000 non-null   float64\n",
      " 2   Salary              5000 non-null   float64\n",
      " 3   Family parts        5000 non-null   int64  \n",
      " 4   Insurance payments  5000 non-null   int64  \n",
      "dtypes: float64(2), int64(3)\n",
      "memory usage: 195.4 KB\n"
     ]
    }
   ],
   "source": [
    "bank_data.info()"
   ]
  },
  {
   "cell_type": "markdown",
   "id": "4153a527",
   "metadata": {
    "cell_style": "split"
   },
   "source": [
    "**Анализ данных на пропуски в значениях:**\n",
    "\n",
    "\n",
    "Пропуски в данных отсутствуют."
   ]
  },
  {
   "cell_type": "markdown",
   "id": "2ad6e12e",
   "metadata": {},
   "source": [
    "## Анализ данных на мультиколлинеарность"
   ]
  },
  {
   "cell_type": "markdown",
   "id": "66a2f226",
   "metadata": {},
   "source": [
    "**Построим матрицу корреляции признаков**\n",
    "\n",
    "Для этого используем библиотеку **phik**"
   ]
  },
  {
   "cell_type": "code",
   "execution_count": 5,
   "id": "a1a2bb35",
   "metadata": {
    "cell_style": "split",
    "scrolled": false
   },
   "outputs": [
    {
     "name": "stdout",
     "output_type": "stream",
     "text": [
      "interval columns not set, guessing: ['Sex', 'Age', 'Salary', 'Family parts', 'Insurance payments']\n"
     ]
    },
    {
     "data": {
      "image/png": "[encoded data removed]",
      "text/plain": [
       "<Figure size 432x432 with 2 Axes>"
      ]
     },
     "metadata": {
      "needs_background": "light"
     },
     "output_type": "display_data"
    }
   ],
   "source": [
    "#Матрица корреляции\n",
    "phik_bank_data = bank_data.phik_matrix()\n",
    "#Визуализация матрицы 𝜙k \n",
    "plot_correlation_matrix(\n",
    "    phik_bank_data.round(2).values, \n",
    "    x_labels=phik_bank_data.columns, \n",
    "    y_labels=phik_bank_data.index, \n",
    "    vmin=0, vmax=1, color_map=\"Purples\", \n",
    "    title=r\"features_correlation $\\phi_K$\", \n",
    "    fontsize_factor=1.1,\n",
    "    figsize=(6, 6))"
   ]
  },
  {
   "cell_type": "markdown",
   "id": "4b4b40b5",
   "metadata": {
    "cell_style": "split"
   },
   "source": [
    "**На базе приведенной матрицы корреляции можно сделать следующие выводы:**\n",
    "1) Целевой признак имеет сильную корреляцию с  возрастом клиента. Одновременно с этим мало коррелирует с полом человека, и никак не связан с количеством членов семьи и зарплатой клиента.\n",
    "\n",
    "2) Среди признаков видна взаимосвязь между возрастом и зарплатой клиентов. (Учтем эту зависимость при предобработке данных)."
   ]
  },
  {
   "cell_type": "markdown",
   "id": "bebf17c3",
   "metadata": {},
   "source": [
    "## Выявление дубликатов"
   ]
  },
  {
   "cell_type": "code",
   "execution_count": 6,
   "id": "29618f09",
   "metadata": {
    "scrolled": true
   },
   "outputs": [
    {
     "name": "stdout",
     "output_type": "stream",
     "text": [
      "Количество дубликатов в датафрейме: 153\n"
     ]
    }
   ],
   "source": [
    "duplicates_quantity = bank_data.duplicated().sum()\n",
    "print(f'Количество дубликатов в датафрейме: {duplicates_quantity}')"
   ]
  },
  {
   "cell_type": "code",
   "execution_count": 7,
   "id": "49e63c26",
   "metadata": {
    "cell_style": "split",
    "scrolled": false
   },
   "outputs": [
    {
     "name": "stdout",
     "output_type": "stream",
     "text": [
      "<class 'pandas.core.frame.DataFrame'>\n",
      "Int64Index: 4847 entries, 0 to 4999\n",
      "Data columns (total 5 columns):\n",
      " #   Column              Non-Null Count  Dtype  \n",
      "---  ------              --------------  -----  \n",
      " 0   Sex                 4847 non-null   int64  \n",
      " 1   Age                 4847 non-null   float64\n",
      " 2   Salary              4847 non-null   float64\n",
      " 3   Family parts        4847 non-null   int64  \n",
      " 4   Insurance payments  4847 non-null   int64  \n",
      "dtypes: float64(2), int64(3)\n",
      "memory usage: 227.2 KB\n"
     ]
    }
   ],
   "source": [
    "#Удаление дубликатов\n",
    "bank_data = bank_data.drop_duplicates()\n",
    "bank_data.info()"
   ]
  },
  {
   "cell_type": "markdown",
   "id": "c64f483c",
   "metadata": {
    "cell_style": "split"
   },
   "source": [
    "**Удалено 153 дубликата.**"
   ]
  },
  {
   "cell_type": "markdown",
   "id": "ef7153f2",
   "metadata": {},
   "source": [
    "## Исследование признаков"
   ]
  },
  {
   "cell_type": "markdown",
   "id": "c6ab6bd2",
   "metadata": {},
   "source": [
    "**Исследуем статистические характеристики каждого признака**"
   ]
  },
  {
   "cell_type": "code",
   "execution_count": 8,
   "id": "8d24636e",
   "metadata": {},
   "outputs": [
    {
     "data": {
      "text/html": [
       "<div>\n",
       "<style scoped>\n",
       "    .dataframe tbody tr th:only-of-type {\n",
       "        vertical-align: middle;\n",
       "    }\n",
       "\n",
       "    .dataframe tbody tr th {\n",
       "        vertical-align: top;\n",
       "    }\n",
       "\n",
       "    .dataframe thead th {\n",
       "        text-align: right;\n",
       "    }\n",
       "</style>\n",
       "<table border=\"1\" class=\"dataframe\">\n",
       "  <thead>\n",
       "    <tr style=\"text-align: right;\">\n",
       "      <th></th>\n",
       "      <th>Sex</th>\n",
       "      <th>Age</th>\n",
       "      <th>Salary</th>\n",
       "      <th>Family parts</th>\n",
       "      <th>Insurance payments</th>\n",
       "    </tr>\n",
       "  </thead>\n",
       "  <tbody>\n",
       "    <tr>\n",
       "      <th>count</th>\n",
       "      <td>4847.000000</td>\n",
       "      <td>4847.000000</td>\n",
       "      <td>4847.000000</td>\n",
       "      <td>4847.000000</td>\n",
       "      <td>4847.000000</td>\n",
       "    </tr>\n",
       "    <tr>\n",
       "      <th>mean</th>\n",
       "      <td>0.498453</td>\n",
       "      <td>31.023932</td>\n",
       "      <td>39895.811842</td>\n",
       "      <td>1.203425</td>\n",
       "      <td>0.152259</td>\n",
       "    </tr>\n",
       "    <tr>\n",
       "      <th>std</th>\n",
       "      <td>0.500049</td>\n",
       "      <td>8.487995</td>\n",
       "      <td>9972.953985</td>\n",
       "      <td>1.098664</td>\n",
       "      <td>0.468934</td>\n",
       "    </tr>\n",
       "    <tr>\n",
       "      <th>min</th>\n",
       "      <td>0.000000</td>\n",
       "      <td>18.000000</td>\n",
       "      <td>5300.000000</td>\n",
       "      <td>0.000000</td>\n",
       "      <td>0.000000</td>\n",
       "    </tr>\n",
       "    <tr>\n",
       "      <th>25%</th>\n",
       "      <td>0.000000</td>\n",
       "      <td>24.000000</td>\n",
       "      <td>33200.000000</td>\n",
       "      <td>0.000000</td>\n",
       "      <td>0.000000</td>\n",
       "    </tr>\n",
       "    <tr>\n",
       "      <th>50%</th>\n",
       "      <td>0.000000</td>\n",
       "      <td>30.000000</td>\n",
       "      <td>40200.000000</td>\n",
       "      <td>1.000000</td>\n",
       "      <td>0.000000</td>\n",
       "    </tr>\n",
       "    <tr>\n",
       "      <th>75%</th>\n",
       "      <td>1.000000</td>\n",
       "      <td>37.000000</td>\n",
       "      <td>46600.000000</td>\n",
       "      <td>2.000000</td>\n",
       "      <td>0.000000</td>\n",
       "    </tr>\n",
       "    <tr>\n",
       "      <th>max</th>\n",
       "      <td>1.000000</td>\n",
       "      <td>65.000000</td>\n",
       "      <td>79000.000000</td>\n",
       "      <td>6.000000</td>\n",
       "      <td>5.000000</td>\n",
       "    </tr>\n",
       "  </tbody>\n",
       "</table>\n",
       "</div>"
      ],
      "text/plain": [
       "               Sex          Age        Salary  Family parts  \\\n",
       "count  4847.000000  4847.000000   4847.000000   4847.000000   \n",
       "mean      0.498453    31.023932  39895.811842      1.203425   \n",
       "std       0.500049     8.487995   9972.953985      1.098664   \n",
       "min       0.000000    18.000000   5300.000000      0.000000   \n",
       "25%       0.000000    24.000000  33200.000000      0.000000   \n",
       "50%       0.000000    30.000000  40200.000000      1.000000   \n",
       "75%       1.000000    37.000000  46600.000000      2.000000   \n",
       "max       1.000000    65.000000  79000.000000      6.000000   \n",
       "\n",
       "       Insurance payments  \n",
       "count         4847.000000  \n",
       "mean             0.152259  \n",
       "std              0.468934  \n",
       "min              0.000000  \n",
       "25%              0.000000  \n",
       "50%              0.000000  \n",
       "75%              0.000000  \n",
       "max              5.000000  "
      ]
     },
     "execution_count": 8,
     "metadata": {},
     "output_type": "execute_result"
    }
   ],
   "source": [
    "bank_data.describe()"
   ]
  },
  {
   "cell_type": "markdown",
   "id": "6b5aef78",
   "metadata": {},
   "source": [
    "### Famili parts"
   ]
  },
  {
   "cell_type": "code",
   "execution_count": 9,
   "id": "554c499a",
   "metadata": {
    "cell_style": "split",
    "scrolled": true
   },
   "outputs": [
    {
     "data": {
      "text/plain": [
       "Text(0, 0.5, 'Кол-во клиентов')"
      ]
     },
     "execution_count": 9,
     "metadata": {},
     "output_type": "execute_result"
    },
    {
     "data": {
      "image/png": "[encoded data removed]",
      "text/plain": [
       "<Figure size 432x288 with 1 Axes>"
      ]
     },
     "metadata": {
      "needs_background": "light"
     },
     "output_type": "display_data"
    }
   ],
   "source": [
    "plt.hist(bank_data['Family parts'], \n",
    "         bins=bank_data['Family parts'].max(),\n",
    "         color = 'powderblue',\n",
    "         edgecolor='darkslategray',\n",
    "         linewidth = 3,\n",
    ")\n",
    "plt.title(\"Распределение клиентов по количеству членов семьи\")\n",
    "plt.xlabel(\"Кол-во членов семьи\")\n",
    "plt.ylabel(\"Кол-во клиентов\")\n",
    "\n"
   ]
  },
  {
   "cell_type": "markdown",
   "id": "a56c0915",
   "metadata": {
    "cell_style": "split"
   },
   "source": [
    "**Анализ графика распределения по признаку \"Family parts\"**\n",
    "\n",
    "- Наибольшее количество клиентов (1750 человек) имеет 2-ух детей;\n",
    "- Распределение выражено распределнием Пуассона и не имеет выраженных аномалий и выбросов. Удаление выбросов не целесообрасзно."
   ]
  },
  {
   "cell_type": "markdown",
   "id": "38afe1b8",
   "metadata": {},
   "source": [
    "### Salary"
   ]
  },
  {
   "cell_type": "markdown",
   "id": "d4d4bdd7",
   "metadata": {},
   "source": [
    "**Построим график распределения зарплат в зависимости от возраста**"
   ]
  },
  {
   "cell_type": "code",
   "execution_count": 10,
   "id": "f22f7ccc",
   "metadata": {
    "cell_style": "split",
    "scrolled": false
   },
   "outputs": [
    {
     "data": {
      "image/png": "[encoded data removed]",
      "text/plain": [
       "<Figure size 432x288 with 1 Axes>"
      ]
     },
     "metadata": {
      "needs_background": "light"
     },
     "output_type": "display_data"
    },
    {
     "data": {
      "image/png": "[encoded data removed]",
      "text/plain": [
       "<Figure size 432x288 with 1 Axes>"
      ]
     },
     "metadata": {
      "needs_background": "light"
     },
     "output_type": "display_data"
    }
   ],
   "source": [
    "#График распределения доходов клиентов\n",
    "x = bank_data['Salary']\n",
    "plt.hist(bank_data['Salary'], \n",
    "         bins=16,\n",
    "         color = 'powderblue',\n",
    "         edgecolor='darkslategray',\n",
    "         linewidth = 3,\n",
    ")\n",
    "plt.title(\"Распределение клиентов по доходу\")\n",
    "plt.xlabel(\"Доход\")\n",
    "plt.ylabel(\"Кол-во человек\")\n",
    "plt.show()\n",
    "\n",
    "#График распределения доходов клиентов в \n",
    "#зависимости от возраста\n",
    "plt.scatter(bank_data['Salary'],\n",
    "            bank_data['Age'],\n",
    "            color = 'powderblue',\n",
    "            edgecolor='darkslategray',\n",
    "            linewidth = 3\n",
    ")\n",
    "plt.title(\"Распределение клиентов по доходу в зависимости от возраста\")\n",
    "plt.xlabel(\"Доход\")\n",
    "plt.ylabel(\"Возраст\")\n",
    "plt.show()"
   ]
  },
  {
   "cell_type": "markdown",
   "id": "5fc634a1",
   "metadata": {
    "cell_style": "split"
   },
   "source": [
    "**Анализ графика распределения по признаку \"Salary\"**\n",
    "\n",
    "- Наибольшее количество клиентов имеют доход в районе 40.000;\n",
    "- Распределение выражено Нормальным распределением и не имеет выраженных аномалий и выбросов. Удаление выбросов не целесообрасзно.\n",
    "- Видна слабая корреляция между доходом и возрастом. На базе графиков распределения видна концентрация среднего дохода у людей в среднем возрасте от 20 до 50 лет.Эта корреляция будет кчтена дальше в разделе с ML."
   ]
  },
  {
   "cell_type": "markdown",
   "id": "1021ef95",
   "metadata": {},
   "source": [
    "### Age"
   ]
  },
  {
   "cell_type": "code",
   "execution_count": 11,
   "id": "49d7ebd1",
   "metadata": {
    "cell_style": "split"
   },
   "outputs": [
    {
     "data": {
      "text/plain": [
       "Text(0, 0.5, 'Кол-во клиентов')"
      ]
     },
     "execution_count": 11,
     "metadata": {},
     "output_type": "execute_result"
    },
    {
     "data": {
      "image/png": "[encoded data removed]",
      "text/plain": [
       "<Figure size 432x288 with 1 Axes>"
      ]
     },
     "metadata": {
      "needs_background": "light"
     },
     "output_type": "display_data"
    }
   ],
   "source": [
    "plt.hist(bank_data['Age'], \n",
    "         bins=int(bank_data['Age'].max()),\n",
    "         color = 'powderblue',\n",
    "         edgecolor='darkslategray',\n",
    "         linewidth = 3,\n",
    ")\n",
    "plt.title(\"Распределение клиентов по возрасту\")\n",
    "plt.xlabel(\"Возраст\")\n",
    "plt.ylabel(\"Кол-во клиентов\")"
   ]
  },
  {
   "cell_type": "markdown",
   "id": "2e727977",
   "metadata": {
    "cell_style": "split"
   },
   "source": [
    "**Анализ графика распределения по признаку \"Age\"**\n",
    "\n",
    "- Наибольшее количество клиентов находятся в возрастном диапазоне от 20 до 35 лет;\n",
    "- Распределение выражено распределением Пуассона и не имеет выраженных аномалий и выбросов. Удаление выбросов не целесообрасзно."
   ]
  },
  {
   "cell_type": "markdown",
   "id": "3d0e65ca",
   "metadata": {},
   "source": [
    "### Sex"
   ]
  },
  {
   "cell_type": "code",
   "execution_count": 12,
   "id": "f14fe80d",
   "metadata": {
    "cell_style": "split",
    "scrolled": true
   },
   "outputs": [
    {
     "data": {
      "text/plain": [
       "Text(0, 0.5, 'Кол-во клиентов')"
      ]
     },
     "execution_count": 12,
     "metadata": {},
     "output_type": "execute_result"
    },
    {
     "data": {
      "image/png": "[encoded data removed]",
      "text/plain": [
       "<Figure size 432x288 with 1 Axes>"
      ]
     },
     "metadata": {
      "needs_background": "light"
     },
     "output_type": "display_data"
    }
   ],
   "source": [
    "plt.hist(bank_data['Sex'], \n",
    "         bins=2,\n",
    "         color = 'powderblue',\n",
    "         edgecolor='darkslategray',\n",
    "         linewidth = 3,\n",
    ")\n",
    "plt.title(\"Распределение клиентов по гендеру\")\n",
    "plt.xlabel(\"Гендер\")\n",
    "plt.ylabel(\"Кол-во клиентов\")"
   ]
  },
  {
   "cell_type": "markdown",
   "id": "ae0c12c3",
   "metadata": {
    "cell_style": "split"
   },
   "source": [
    "**Анализ графика распределения по признаку \"Sex\"**\n",
    "\n",
    "- В датафрейме не наблюдается дисбаланс классов по параметру 'Sex';\n"
   ]
  },
  {
   "cell_type": "markdown",
   "id": "f1034ccf",
   "metadata": {},
   "source": [
    "## Вывод\n",
    " \n",
    "По итогу предобработки данных в датафрейме обнаружено и удалено 153 дубликата. Пропуски и неадекватные значения в датафрейме отсутствуют, а данные имеют ожидаемое статистическое распределение.\n",
    "Все признаки имеют правильные форматы данных и не коллинеарны друг-другу.\n"
   ]
  },
  {
   "cell_type": "markdown",
   "id": "ca60835a",
   "metadata": {},
   "source": [
    "# Умножение матриц"
   ]
  },
  {
   "cell_type": "markdown",
   "id": "0032c14d",
   "metadata": {},
   "source": [
    "Признаки умножают на обратимую матрицу. Необходимо проверить, изменится ли качество линейной регрессии и показать, как связаны параметры линейной регрессии в исходной задаче и в преобразованной. \n",
    "\n",
    "Качество линейной регресси определяется вектором предсказаний a. Задачу можно свести к анализу изменения вектора предсказания а. Возможно 2 варианта:\n",
    "\n",
    "    1) a изменится.\n",
    "    2) a не изменится."
   ]
  },
  {
   "cell_type": "markdown",
   "id": "5321b357",
   "metadata": {
    "cell_style": "split"
   },
   "source": [
    "**Дано:**\n",
    "\n",
    "Предсказания:\n",
    "\n",
    "$$\n",
    "a = Xw\n",
    "$$\n",
    "\n",
    "Задача обучения:\n",
    "\n",
    "$$\n",
    "w = \\arg\\min_w MSE(Xw, y)\n",
    "$$\n",
    "\n",
    "Формула обучения:\n",
    "\n",
    "$$\n",
    "w = (X^T X)^{-1} X^T y\n",
    "$$\n",
    "\n",
    "**Задача:**\n",
    "\n",
    "Ихменится ли a если \n",
    "$$\n",
    "Х_1=ХР\n",
    "$$"
   ]
  },
  {
   "cell_type": "markdown",
   "id": "9995d2c3",
   "metadata": {
    "cell_style": "split"
   },
   "source": [
    "**Обозначения:**\n",
    "\n",
    "- $X$ — матрица признаков (нулевой столбец состоит из единиц)\n",
    "\n",
    "- $y$ — вектор целевого признака\n",
    "\n",
    "- $P$ — матрица, на которую умножаются признаки\n",
    "\n",
    "- $w$ — вектор весов линейной регрессии (нулевой элемент равен сдвигу)"
   ]
  },
  {
   "cell_type": "markdown",
   "id": "6fb00e0f",
   "metadata": {},
   "source": [
    "**Решение:**"
   ]
  },
  {
   "cell_type": "markdown",
   "id": "ec91e44d",
   "metadata": {
    "cell_style": "split"
   },
   "source": [
    "**1)** Если матрицу признаков умножают на обратимую матрицу то:\n",
    "$$\n",
    "X_1 = XP\n",
    "$$\n",
    "Тогда:\n",
    "$$\n",
    "a_1 = X_1w\n",
    "$$\n",
    "$$\n",
    "a_1 = XPw\n",
    "$$"
   ]
  },
  {
   "cell_type": "markdown",
   "id": "4fb903bb",
   "metadata": {
    "cell_style": "split"
   },
   "source": [
    "**Свойства матриц:**\n",
    "\n",
    "1) $(AB)^{-1} = (B)^{-1}(A)^{-1}$\n",
    "\n",
    "2) $A(A)^{-1} = E$\n",
    "\n",
    "3) $(AB)^{T} = B^{T}A^{T}$\n",
    " "
   ]
  },
  {
   "cell_type": "markdown",
   "id": "eb3c4aa2",
   "metadata": {},
   "source": [
    "**2)** Выразим вектор предсказания через формулу обучения модели для Х и $X_1$"
   ]
  },
  {
   "cell_type": "markdown",
   "id": "d322566e",
   "metadata": {
    "cell_style": "split"
   },
   "source": [
    "Формула обучения для $X_1$:\n",
    "\n",
    "$$\n",
    "w = (X_1^T X_1)^{-1} X_1^T y\n",
    "$$\n",
    "\n",
    "Выполним подстановку $X_1 = XP$:\n",
    "\n",
    "$$\n",
    "w = ((XP)^T XP)^{-1} (XP)^T y\n",
    "$$\n",
    "\n",
    "$$\n",
    "a_1 = XP((XP)^T XP)^{-1} (XP)^T y\n",
    "$$\n",
    "\n",
    "$$\n",
    "a_1 = XP(P^{T}X^{T}XP)^{-1}  (XP)^T y\n",
    "$$\n",
    "\n",
    "$$\n",
    "a_1 = XPP^{-1}(X^{T}X)^{-1}(P^{T})^{-1}  P^TX^T y\n",
    "$$\n",
    "\n",
    "где: $PP^{-1}=E $ и $ (P^{T})^{-1}  P^T = E $\n",
    "\n",
    "$$\n",
    "a_1 = XE(X^{T}X)^{-1} EX^T y\n",
    "$$\n",
    "\n",
    "$$\n",
    "a_1 = X(X^{T}X)^{-1} X^T y\n",
    "$$\n",
    "\n",
    "$$\n",
    "a_1 = X(X^{T}X)^{-1} X^T X X^{-1} y\n",
    "$$\n",
    "\n",
    "$$\n",
    "a_1 = X(X^{T}X)^{-1} (X^T X) X^{-1} y\n",
    "$$\n",
    "\n",
    "где: $(X^{T}X)^{-1} (X^T X) = E $\n",
    "\n",
    "$$\n",
    "a_1 = XE X^{-1} y\n",
    "$$\n",
    "\n",
    "$$\n",
    "a_1 = EE y\n",
    "$$"
   ]
  },
  {
   "cell_type": "markdown",
   "id": "2614165f",
   "metadata": {
    "cell_style": "split"
   },
   "source": [
    "Формула обучения для $X$:\n",
    "\n",
    "$$\n",
    "w = (X^T X)^{-1} X^T y\n",
    "$$\n",
    "\n",
    "$$\n",
    "a = X((X)^T X)^{-1} (X)^T y\n",
    "$$\n",
    "\n",
    "$$\n",
    "a = X(X)^{-1}((X)^T)^{-1}  (X)^T y\n",
    "$$\n",
    "\n",
    "$$\n",
    "a = X(X^{T}X)^{-1} X^T X X^{-1} y\n",
    "$$\n",
    "\n",
    "$$\n",
    "a = X(X^{T}X)^{-1} (X^T X) X^{-1} y\n",
    "$$\n",
    "\n",
    "где: $(X^{T}X)^{-1} (X^T X) = E $\n",
    "\n",
    "$$\n",
    "a = XE X^{-1} y\n",
    "$$\n",
    "\n",
    "$$\n",
    "a = EE y\n",
    "$$\n",
    "\n",
    "$$\n",
    "a = EE y\n",
    "$$"
   ]
  },
  {
   "cell_type": "markdown",
   "id": "91053810",
   "metadata": {},
   "source": [
    "**3)** Из предыдущего пункта доказательства видно, что $a_1 = a$.\n"
   ]
  },
  {
   "cell_type": "markdown",
   "id": "3414c2fe",
   "metadata": {},
   "source": [
    "**Вывод:**\n",
    "Качество линейной регресси при умножении матрицы признаков на обратимую матрицу не изменяется."
   ]
  },
  {
   "cell_type": "markdown",
   "id": "b1594a58",
   "metadata": {},
   "source": [
    "# Алгоритм преобразования"
   ]
  },
  {
   "cell_type": "markdown",
   "id": "3d48f097",
   "metadata": {},
   "source": [
    "В предыдущем разделе доказано, что качество линейной регресси при умножении матрицы признаков на обратимую матрицу не изменяется. Применим это свойство при трансформации данных во время обучения модели. При этом алгоритм будет выглядеть следующим образом:\n",
    "\n",
    "    1) Разделение призанков на обучающие и целевой;\n",
    "    2) Создание класса, который будет выполнять преобразование данных внутри себя и на выходе выдавать зашифровванные признаки;\n",
    "    3) Выполнение преобразоаввния исходных данных для их зашифровки внутри класса, путем умножения матрицы признаков на рандомную обратимую матрицу размером 4х4 (4 обучающих признака);\n",
    "    4) Обучение модели и предсказание целевого признака на зашифрованных данных;\n",
    "    5) Определение качества модели через коэффициента детерминации R2 для зашифрованных данных;\n",
    "    6) Определение качества модели через коэффициента детерминации R2 для незашифрованных данных;\n",
    "    7) Сравнение коэффициента детерминации R2 для обоих случаев."
   ]
  },
  {
   "cell_type": "markdown",
   "id": "715df8cd",
   "metadata": {},
   "source": [
    "# Проверка алгоритма"
   ]
  },
  {
   "cell_type": "markdown",
   "id": "9e31aeac",
   "metadata": {},
   "source": [
    "**Разделение признаков на таргет и фичи**"
   ]
  },
  {
   "cell_type": "code",
   "execution_count": 16,
   "id": "df1473cd",
   "metadata": {},
   "outputs": [],
   "source": [
    "features = bank_data.drop('Insurance payments', axis =1)\n",
    "target = bank_data['Insurance payments']"
   ]
  },
  {
   "cell_type": "markdown",
   "id": "3cff507b",
   "metadata": {},
   "source": [
    "## Алгоритм трансформации данных"
   ]
  },
  {
   "cell_type": "markdown",
   "id": "2248cb35",
   "metadata": {},
   "source": [
    "**Рандомная обратимая матрица**"
   ]
  },
  {
   "cell_type": "code",
   "execution_count": 73,
   "id": "bce6a76c",
   "metadata": {
    "scrolled": true
   },
   "outputs": [
    {
     "name": "stdout",
     "output_type": "stream",
     "text": [
      "Рандоманя обратимая матрица:\n",
      "[[92 11 95 73]\n",
      " [98 44  2 29]\n",
      " [33 62 16 86]\n",
      " [91  6 18 45]]\n",
      "Оматрица обратная рандомной:\n",
      "[[-0.00048746  0.00644299 -0.00510477  0.00639441]\n",
      " [ 0.00399635  0.01981039  0.00395543 -0.02680892]\n",
      " [ 0.01470857  0.00506505 -0.00439132 -0.01873241]\n",
      " [-0.00543052 -0.01769655  0.01155212  0.02035879]]\n"
     ]
    }
   ],
   "source": [
    "#create NumPy matrix of random integers\n",
    "P = np.random.randint (0, 100, (4, 4))\n",
    "print('Рандоманя обратимая матрица:')\n",
    "print(P)\n",
    "# Проверка на обратимость\n",
    "print('Матрица обратная рандомной:')\n",
    "print(np.linalg.inv(P))"
   ]
  },
  {
   "cell_type": "markdown",
   "id": "f524b31a",
   "metadata": {},
   "source": [
    "**Проверка на обратимость**"
   ]
  },
  {
   "cell_type": "code",
   "execution_count": 62,
   "id": "ba0c86e6",
   "metadata": {},
   "outputs": [
    {
     "name": "stdout",
     "output_type": "stream",
     "text": [
      "Оматрица обратная рандомной: [[-36  -2 -78 -26]\n",
      " [-62 -51 -54 -14]\n",
      " [-36 -42 -19 -64]\n",
      " [-62 -82 -65 -61]]\n"
     ]
    },
    {
     "data": {
      "text/plain": [
       "array([[35,  1, 77, 25],\n",
       "       [61, 50, 53, 13],\n",
       "       [35, 41, 18, 63],\n",
       "       [61, 81, 64, 60]])"
      ]
     },
     "execution_count": 62,
     "metadata": {},
     "output_type": "execute_result"
    }
   ],
   "source": [
    "print('Оматрица обратная рандомной:', P^(-1))\n",
    "P"
   ]
  },
  {
   "cell_type": "markdown",
   "id": "78a39b95",
   "metadata": {},
   "source": [
    "**Разработка класса для зашифровки данных**"
   ]
  },
  {
   "cell_type": "code",
   "execution_count": 52,
   "id": "20186d8d",
   "metadata": {},
   "outputs": [],
   "source": [
    "class data_encryption():\n",
    "    \n",
    "    def fit(self, features):\n",
    "        X = features\n",
    "        self.X= X.astype('int').values\n",
    "        return self\n",
    "\n",
    "    def encoding(self, matrix):\n",
    "        P = matrix\n",
    "        encoded_data = np.dot(self.X, P)\n",
    "        \n",
    "        #convert NumPy array to pandas DataFrame\n",
    "        encoded_data = pd.DataFrame(data=encoded_data)\n",
    "        return encoded_data\n"
   ]
  },
  {
   "cell_type": "code",
   "execution_count": 55,
   "id": "703e6203",
   "metadata": {
    "scrolled": true
   },
   "outputs": [
    {
     "data": {
      "text/html": [
       "<div>\n",
       "<style scoped>\n",
       "    .dataframe tbody tr th:only-of-type {\n",
       "        vertical-align: middle;\n",
       "    }\n",
       "\n",
       "    .dataframe tbody tr th {\n",
       "        vertical-align: top;\n",
       "    }\n",
       "\n",
       "    .dataframe thead th {\n",
       "        text-align: right;\n",
       "    }\n",
       "</style>\n",
       "<table border=\"1\" class=\"dataframe\">\n",
       "  <thead>\n",
       "    <tr style=\"text-align: right;\">\n",
       "      <th></th>\n",
       "      <th>0</th>\n",
       "      <th>1</th>\n",
       "      <th>2</th>\n",
       "      <th>3</th>\n",
       "    </tr>\n",
       "  </thead>\n",
       "  <tbody>\n",
       "    <tr>\n",
       "      <th>0</th>\n",
       "      <td>1738597</td>\n",
       "      <td>2035732</td>\n",
       "      <td>895114</td>\n",
       "      <td>3125418</td>\n",
       "    </tr>\n",
       "    <tr>\n",
       "      <th>1</th>\n",
       "      <td>1332867</td>\n",
       "      <td>1560381</td>\n",
       "      <td>686502</td>\n",
       "      <td>2394658</td>\n",
       "    </tr>\n",
       "    <tr>\n",
       "      <th>2</th>\n",
       "      <td>736769</td>\n",
       "      <td>862450</td>\n",
       "      <td>379537</td>\n",
       "      <td>1323377</td>\n",
       "    </tr>\n",
       "    <tr>\n",
       "      <th>3</th>\n",
       "      <td>1460903</td>\n",
       "      <td>1710912</td>\n",
       "      <td>751841</td>\n",
       "      <td>2627493</td>\n",
       "    </tr>\n",
       "    <tr>\n",
       "      <th>4</th>\n",
       "      <td>915243</td>\n",
       "      <td>1071501</td>\n",
       "      <td>471361</td>\n",
       "      <td>1644689</td>\n",
       "    </tr>\n",
       "  </tbody>\n",
       "</table>\n",
       "</div>"
      ],
      "text/plain": [
       "         0        1       2        3\n",
       "0  1738597  2035732  895114  3125418\n",
       "1  1332867  1560381  686502  2394658\n",
       "2   736769   862450  379537  1323377\n",
       "3  1460903  1710912  751841  2627493\n",
       "4   915243  1071501  471361  1644689"
      ]
     },
     "execution_count": 55,
     "metadata": {},
     "output_type": "execute_result"
    }
   ],
   "source": [
    "encription = data_encryption().fit(features)\n",
    "encripted_feat = encription.encoding(P)\n",
    "encripted_feat.head()\n"
   ]
  },
  {
   "cell_type": "markdown",
   "id": "e809552e",
   "metadata": {},
   "source": [
    "## Обучение модели"
   ]
  },
  {
   "cell_type": "markdown",
   "id": "2e635925",
   "metadata": {},
   "source": [
    "### C исходными признаками"
   ]
  },
  {
   "cell_type": "code",
   "execution_count": 60,
   "id": "da4482b9",
   "metadata": {},
   "outputs": [
    {
     "name": "stdout",
     "output_type": "stream",
     "text": [
      "Коэффициент детерминации для модели обученной на незашифрованных данных: 0.4302\n"
     ]
    }
   ],
   "source": [
    "lin_reg = LinearRegression()\n",
    "lin_reg.fit(features, target)\n",
    "predict = lin_reg.predict(features)\n",
    "r_2 = r2_score (target, predict).round(4)\n",
    "print(f'Коэффициент детерминации для модели обученной на незашифрованных данных: {r_2}')"
   ]
  },
  {
   "cell_type": "markdown",
   "id": "9ed2a302",
   "metadata": {},
   "source": [
    "### C трансформированными признаками"
   ]
  },
  {
   "cell_type": "code",
   "execution_count": 59,
   "id": "1f0b4d01",
   "metadata": {
    "scrolled": true
   },
   "outputs": [
    {
     "name": "stdout",
     "output_type": "stream",
     "text": [
      "Коэффициент детерминации для модели обученной на зашифрованных данных: 0.4302\n"
     ]
    }
   ],
   "source": [
    "lin_reg = LinearRegression()\n",
    "lin_reg.fit(encripted_feat, target)\n",
    "predict = lin_reg.predict(encripted_feat)\n",
    "r_2 = r2_score (target, predict).round(4)\n",
    "print(f'Коэффициент детерминации для модели обученной на зашифрованных данных: {r_2}')"
   ]
  },
  {
   "cell_type": "markdown",
   "id": "6dabb15a",
   "metadata": {},
   "source": [
    "## Вывод"
   ]
  },
  {
   "cell_type": "markdown",
   "id": "3a1cd957",
   "metadata": {},
   "source": [
    "**Коэффициенты детерминации для моделей обученных на зашифрованных и незашифрованных данных равны. Это доказывает правильность и работоспособность выбранного алгоритма.**"
   ]
  },
  {
   "cell_type": "markdown",
   "id": "b7a3f3cf",
   "metadata": {},
   "source": [
    "# Вывод"
   ]
  },
  {
   "cell_type": "markdown",
   "id": "9053fa12",
   "metadata": {},
   "source": [
    "В проекте была поставлена задача о разработке алгоритма по зашифровке персональных данных клиентов банка.\n",
    "\n",
    "В ходе ее решения были выполнены следующие шаги:\n",
    "- Изучены исходные данные. Проведен их анализ на качество, который показал, что данные адекватны, и могут быть использованы для работы. \n",
    "- Удалены дубликаты в исходном датасете.\n",
    "- Была доказана гипотеза о том, что если матрицу признаков умножить на рандомную обратимую матрицу, то предсказания качество работы модели линейной регрессии останется неизменным. \n",
    "- На основании этого свойства, был разработан алгоритм, зашифровывающий всю персональную информацию клиентов, который может быть использован при предсказании страховых выплат."
   ]
  }
 ],
 "metadata": {
  "hide_input": true,
  "kernelspec": {
   "display_name": "Python 3 (ipykernel)",
   "language": "python",
   "name": "python3"
  },
  "language_info": {
   "codemirror_mode": {
    "name": "ipython",
    "version": 3
   },
   "file_extension": ".py",
   "mimetype": "text/x-python",
   "name": "python",
   "nbconvert_exporter": "python",
   "pygments_lexer": "ipython3",
   "version": "3.9.12"
  },
  "toc": {
   "base_numbering": 1,
   "nav_menu": {},
   "number_sections": true,
   "sideBar": true,
   "skip_h1_title": false,
   "title_cell": "Table of Contents",
   "title_sidebar": "Contents",
   "toc_cell": false,
   "toc_position": {
    "height": "calc(100% - 180px)",
    "left": "10px",
    "top": "150px",
    "width": "361px"
   },
   "toc_section_display": true,
   "toc_window_display": false
  }
 },
 "nbformat": 4,
 "nbformat_minor": 5
}
